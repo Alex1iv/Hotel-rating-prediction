{
 "cells": [
  {
   "attachments": {},
   "cell_type": "markdown",
   "id": "16663183",
   "metadata": {},
   "source": [
    "# Hotel rating prediction"
   ]
  },
  {
   "cell_type": "code",
   "execution_count": 1,
   "id": "340f43dd",
   "metadata": {
    "_cell_guid": "b1076dfc-b9ad-4769-8c92-a6c4dae69d19",
    "_uuid": "8f2839f25d086af736a60e9eeb907d3b93b6e0e5",
    "execution": {
     "iopub.execute_input": "2022-12-17T10:54:44.618594Z",
     "iopub.status.busy": "2022-12-17T10:54:44.617226Z",
     "iopub.status.idle": "2022-12-17T10:54:46.224105Z",
     "shell.execute_reply": "2022-12-17T10:54:46.224636Z",
     "shell.execute_reply.started": "2022-12-17T10:45:42.110352Z"
    },
    "papermill": {
     "duration": 1.65776,
     "end_time": "2022-12-17T10:54:46.225008",
     "exception": false,
     "start_time": "2022-12-17T10:54:44.567248",
     "status": "completed"
    },
    "tags": []
   },
   "outputs": [
    {
     "name": "stdout",
     "output_type": "stream",
     "text": [
      "data/hotels.zip\n",
      "data/hotels_test.zip\n",
      "data/submission.zip\n"
     ]
    }
   ],
   "source": [
    "# This Python 3 environment comes with many helpful analytics libraries installed\n",
    "# It is defined by the kaggle/python Docker image: https://github.com/kaggle/docker-python\n",
    "# For example, here's several helpful packages to load\n",
    "\n",
    "import numpy as np # linear algebra\n",
    "import pandas as pd # data processing, CSV file I/O (e.g. pd.read_csv)\n",
    "\n",
    "# импортируем библиотеки для визуализации\n",
    "import matplotlib.pyplot as plt\n",
    "import seaborn as sns \n",
    "%matplotlib inline\n",
    "\n",
    "from sklearn import preprocessing\n",
    "# Загружаем специальный удобный инструмент для разделения датасета:\n",
    "from sklearn.model_selection import train_test_split\n",
    "\n",
    "# Input data files are available in the read-only \"../input/\" directory\n",
    "# For example, running this (by clicking run or pressing Shift+Enter) will list all files under the input directory\n",
    "\n",
    "import os, sys, re\n",
    "for dirname, _, filenames in os.walk('data/'):\n",
    "    for filename in filenames:\n",
    "        print(os.path.join(dirname, filename))\n",
    "        \n",
    "sys.path.insert(1, './data/')\n",
    "\n",
    "# You can write up to 20GB to the current directory (/kaggle/working/) that gets preserved as output when you create a version using \"Save & Run All\" \n",
    "# You can also write temporary files to /kaggle/temp/, but they won't be saved outside of the current session"
   ]
  },
  {
   "cell_type": "code",
   "execution_count": 2,
   "id": "2e9dabb9",
   "metadata": {
    "execution": {
     "iopub.execute_input": "2022-12-17T10:54:46.321707Z",
     "iopub.status.busy": "2022-12-17T10:54:46.321003Z",
     "iopub.status.idle": "2022-12-17T10:54:46.322876Z",
     "shell.execute_reply": "2022-12-17T10:54:46.323458Z",
     "shell.execute_reply.started": "2022-12-17T10:45:43.448375Z"
    },
    "papermill": {
     "duration": 0.053228,
     "end_time": "2022-12-17T10:54:46.323668",
     "exception": false,
     "start_time": "2022-12-17T10:54:46.270440",
     "status": "completed"
    },
    "tags": []
   },
   "outputs": [],
   "source": [
    "# всегда фиксируйте RANDOM_SEED, чтобы ваши эксперименты были воспроизводимы!\n",
    "RANDOM_SEED = 42"
   ]
  },
  {
   "cell_type": "code",
   "execution_count": 3,
   "id": "216a94b0",
   "metadata": {
    "execution": {
     "iopub.execute_input": "2022-12-17T10:54:46.417553Z",
     "iopub.status.busy": "2022-12-17T10:54:46.416802Z",
     "iopub.status.idle": "2022-12-17T10:54:51.975030Z",
     "shell.execute_reply": "2022-12-17T10:54:51.974436Z",
     "shell.execute_reply.started": "2022-12-17T10:45:43.454415Z"
    },
    "papermill": {
     "duration": 5.606413,
     "end_time": "2022-12-17T10:54:51.975194",
     "exception": false,
     "start_time": "2022-12-17T10:54:46.368781",
     "status": "completed"
    },
    "tags": []
   },
   "outputs": [],
   "source": [
    "# зафиксируем версию пакетов, чтобы эксперименты были воспроизводимы:\n",
    "!pip freeze > requirements.txt"
   ]
  },
  {
   "cell_type": "code",
   "execution_count": 4,
   "id": "c4a4d345",
   "metadata": {
    "execution": {
     "iopub.execute_input": "2022-12-17T10:54:52.072338Z",
     "iopub.status.busy": "2022-12-17T10:54:52.071496Z",
     "iopub.status.idle": "2022-12-17T10:54:58.542877Z",
     "shell.execute_reply": "2022-12-17T10:54:58.542106Z",
     "shell.execute_reply.started": "2022-12-17T10:45:48.284558Z"
    },
    "papermill": {
     "duration": 6.52284,
     "end_time": "2022-12-17T10:54:58.543055",
     "exception": false,
     "start_time": "2022-12-17T10:54:52.020215",
     "status": "completed"
    },
    "tags": []
   },
   "outputs": [],
   "source": [
    "# Подгрузим наши данные из соревнования\n",
    "DATA_DIR = './data/'\n",
    "\n",
    "df_train = pd.read_csv(DATA_DIR + 'hotels.zip') # датасет для обучения\n",
    "df_test = pd.read_csv(DATA_DIR+'hotels_test.zip') # датасет для предсказания\n",
    "sample_submission = pd.read_csv(DATA_DIR+'submission.zip') # самбмишн"
   ]
  },
  {
   "cell_type": "code",
   "execution_count": 5,
   "id": "b033338a",
   "metadata": {
    "execution": {
     "iopub.execute_input": "2022-12-17T10:54:58.644692Z",
     "iopub.status.busy": "2022-12-17T10:54:58.643991Z",
     "iopub.status.idle": "2022-12-17T10:54:58.834144Z",
     "shell.execute_reply": "2022-12-17T10:54:58.833080Z",
     "shell.execute_reply.started": "2022-12-17T10:45:54.777224Z"
    },
    "papermill": {
     "duration": 0.244785,
     "end_time": "2022-12-17T10:54:58.834601",
     "exception": false,
     "start_time": "2022-12-17T10:54:58.589816",
     "status": "completed"
    },
    "tags": []
   },
   "outputs": [
    {
     "name": "stdout",
     "output_type": "stream",
     "text": [
      "<class 'pandas.core.frame.DataFrame'>\n",
      "RangeIndex: 386803 entries, 0 to 386802\n",
      "Data columns (total 17 columns):\n",
      " #   Column                                      Non-Null Count   Dtype  \n",
      "---  ------                                      --------------   -----  \n",
      " 0   hotel_address                               386803 non-null  object \n",
      " 1   additional_number_of_scoring                386803 non-null  int64  \n",
      " 2   review_date                                 386803 non-null  object \n",
      " 3   average_score                               386803 non-null  float64\n",
      " 4   hotel_name                                  386803 non-null  object \n",
      " 5   reviewer_nationality                        386803 non-null  object \n",
      " 6   negative_review                             386803 non-null  object \n",
      " 7   review_total_negative_word_counts           386803 non-null  int64  \n",
      " 8   total_number_of_reviews                     386803 non-null  int64  \n",
      " 9   positive_review                             386803 non-null  object \n",
      " 10  review_total_positive_word_counts           386803 non-null  int64  \n",
      " 11  total_number_of_reviews_reviewer_has_given  386803 non-null  int64  \n",
      " 12  reviewer_score                              386803 non-null  float64\n",
      " 13  tags                                        386803 non-null  object \n",
      " 14  days_since_review                           386803 non-null  object \n",
      " 15  lat                                         384355 non-null  float64\n",
      " 16  lng                                         384355 non-null  float64\n",
      "dtypes: float64(4), int64(5), object(8)\n",
      "memory usage: 50.2+ MB\n"
     ]
    }
   ],
   "source": [
    "df_train.info()"
   ]
  },
  {
   "cell_type": "code",
   "execution_count": 6,
   "id": "ebf44de5",
   "metadata": {
    "execution": {
     "iopub.execute_input": "2022-12-17T10:54:58.938016Z",
     "iopub.status.busy": "2022-12-17T10:54:58.937193Z",
     "iopub.status.idle": "2022-12-17T10:54:58.960900Z",
     "shell.execute_reply": "2022-12-17T10:54:58.961466Z",
     "shell.execute_reply.started": "2022-12-17T10:45:54.968554Z"
    },
    "papermill": {
     "duration": 0.080218,
     "end_time": "2022-12-17T10:54:58.961660",
     "exception": false,
     "start_time": "2022-12-17T10:54:58.881442",
     "status": "completed"
    },
    "tags": []
   },
   "outputs": [
    {
     "data": {
      "text/html": [
       "<div>\n",
       "<style scoped>\n",
       "    .dataframe tbody tr th:only-of-type {\n",
       "        vertical-align: middle;\n",
       "    }\n",
       "\n",
       "    .dataframe tbody tr th {\n",
       "        vertical-align: top;\n",
       "    }\n",
       "\n",
       "    .dataframe thead th {\n",
       "        text-align: right;\n",
       "    }\n",
       "</style>\n",
       "<table border=\"1\" class=\"dataframe\">\n",
       "  <thead>\n",
       "    <tr style=\"text-align: right;\">\n",
       "      <th></th>\n",
       "      <th>hotel_address</th>\n",
       "      <th>additional_number_of_scoring</th>\n",
       "      <th>review_date</th>\n",
       "      <th>average_score</th>\n",
       "      <th>hotel_name</th>\n",
       "      <th>reviewer_nationality</th>\n",
       "      <th>negative_review</th>\n",
       "      <th>review_total_negative_word_counts</th>\n",
       "      <th>total_number_of_reviews</th>\n",
       "      <th>positive_review</th>\n",
       "      <th>review_total_positive_word_counts</th>\n",
       "      <th>total_number_of_reviews_reviewer_has_given</th>\n",
       "      <th>reviewer_score</th>\n",
       "      <th>tags</th>\n",
       "      <th>days_since_review</th>\n",
       "      <th>lat</th>\n",
       "      <th>lng</th>\n",
       "    </tr>\n",
       "  </thead>\n",
       "  <tbody>\n",
       "    <tr>\n",
       "      <th>0</th>\n",
       "      <td>Stratton Street Mayfair Westminster Borough Lo...</td>\n",
       "      <td>581</td>\n",
       "      <td>2/19/2016</td>\n",
       "      <td>8.4</td>\n",
       "      <td>The May Fair Hotel</td>\n",
       "      <td>United Kingdom</td>\n",
       "      <td>Leaving</td>\n",
       "      <td>3</td>\n",
       "      <td>1994</td>\n",
       "      <td>Staff were amazing</td>\n",
       "      <td>4</td>\n",
       "      <td>7</td>\n",
       "      <td>10.0</td>\n",
       "      <td>[' Leisure trip ', ' Couple ', ' Studio Suite ...</td>\n",
       "      <td>531 day</td>\n",
       "      <td>51.507894</td>\n",
       "      <td>-0.143671</td>\n",
       "    </tr>\n",
       "    <tr>\n",
       "      <th>1</th>\n",
       "      <td>130 134 Southampton Row Camden London WC1B 5AF...</td>\n",
       "      <td>299</td>\n",
       "      <td>1/12/2017</td>\n",
       "      <td>8.3</td>\n",
       "      <td>Mercure London Bloomsbury Hotel</td>\n",
       "      <td>United Kingdom</td>\n",
       "      <td>poor breakfast</td>\n",
       "      <td>3</td>\n",
       "      <td>1361</td>\n",
       "      <td>location</td>\n",
       "      <td>2</td>\n",
       "      <td>14</td>\n",
       "      <td>6.3</td>\n",
       "      <td>[' Business trip ', ' Couple ', ' Standard Dou...</td>\n",
       "      <td>203 day</td>\n",
       "      <td>51.521009</td>\n",
       "      <td>-0.123097</td>\n",
       "    </tr>\n",
       "  </tbody>\n",
       "</table>\n",
       "</div>"
      ],
      "text/plain": [
       "                                       hotel_address  \\\n",
       "0  Stratton Street Mayfair Westminster Borough Lo...   \n",
       "1  130 134 Southampton Row Camden London WC1B 5AF...   \n",
       "\n",
       "   additional_number_of_scoring review_date  average_score  \\\n",
       "0                           581   2/19/2016            8.4   \n",
       "1                           299   1/12/2017            8.3   \n",
       "\n",
       "                        hotel_name reviewer_nationality  negative_review  \\\n",
       "0               The May Fair Hotel      United Kingdom          Leaving    \n",
       "1  Mercure London Bloomsbury Hotel      United Kingdom    poor breakfast   \n",
       "\n",
       "   review_total_negative_word_counts  total_number_of_reviews  \\\n",
       "0                                  3                     1994   \n",
       "1                                  3                     1361   \n",
       "\n",
       "       positive_review  review_total_positive_word_counts  \\\n",
       "0   Staff were amazing                                  4   \n",
       "1             location                                  2   \n",
       "\n",
       "   total_number_of_reviews_reviewer_has_given  reviewer_score  \\\n",
       "0                                           7            10.0   \n",
       "1                                          14             6.3   \n",
       "\n",
       "                                                tags days_since_review  \\\n",
       "0  [' Leisure trip ', ' Couple ', ' Studio Suite ...           531 day   \n",
       "1  [' Business trip ', ' Couple ', ' Standard Dou...           203 day   \n",
       "\n",
       "         lat       lng  \n",
       "0  51.507894 -0.143671  \n",
       "1  51.521009 -0.123097  "
      ]
     },
     "execution_count": 6,
     "metadata": {},
     "output_type": "execute_result"
    }
   ],
   "source": [
    "df_train.head(2)"
   ]
  },
  {
   "cell_type": "code",
   "execution_count": 7,
   "id": "f6f2fd75",
   "metadata": {
    "execution": {
     "iopub.execute_input": "2022-12-17T10:54:59.060175Z",
     "iopub.status.busy": "2022-12-17T10:54:59.059172Z",
     "iopub.status.idle": "2022-12-17T10:54:59.125503Z",
     "shell.execute_reply": "2022-12-17T10:54:59.126067Z",
     "shell.execute_reply.started": "2022-12-17T10:45:54.998705Z"
    },
    "papermill": {
     "duration": 0.117652,
     "end_time": "2022-12-17T10:54:59.126267",
     "exception": false,
     "start_time": "2022-12-17T10:54:59.008615",
     "status": "completed"
    },
    "tags": []
   },
   "outputs": [
    {
     "name": "stdout",
     "output_type": "stream",
     "text": [
      "<class 'pandas.core.frame.DataFrame'>\n",
      "RangeIndex: 128935 entries, 0 to 128934\n",
      "Data columns (total 16 columns):\n",
      " #   Column                                      Non-Null Count   Dtype  \n",
      "---  ------                                      --------------   -----  \n",
      " 0   hotel_address                               128935 non-null  object \n",
      " 1   additional_number_of_scoring                128935 non-null  int64  \n",
      " 2   review_date                                 128935 non-null  object \n",
      " 3   average_score                               128935 non-null  float64\n",
      " 4   hotel_name                                  128935 non-null  object \n",
      " 5   reviewer_nationality                        128935 non-null  object \n",
      " 6   negative_review                             128935 non-null  object \n",
      " 7   review_total_negative_word_counts           128935 non-null  int64  \n",
      " 8   total_number_of_reviews                     128935 non-null  int64  \n",
      " 9   positive_review                             128935 non-null  object \n",
      " 10  review_total_positive_word_counts           128935 non-null  int64  \n",
      " 11  total_number_of_reviews_reviewer_has_given  128935 non-null  int64  \n",
      " 12  tags                                        128935 non-null  object \n",
      " 13  days_since_review                           128935 non-null  object \n",
      " 14  lat                                         128115 non-null  float64\n",
      " 15  lng                                         128115 non-null  float64\n",
      "dtypes: float64(3), int64(5), object(8)\n",
      "memory usage: 15.7+ MB\n"
     ]
    }
   ],
   "source": [
    "df_test.info()"
   ]
  },
  {
   "cell_type": "code",
   "execution_count": 8,
   "id": "6a6d0f1c",
   "metadata": {
    "execution": {
     "iopub.execute_input": "2022-12-17T10:54:59.235880Z",
     "iopub.status.busy": "2022-12-17T10:54:59.234878Z",
     "iopub.status.idle": "2022-12-17T10:54:59.240037Z",
     "shell.execute_reply": "2022-12-17T10:54:59.239336Z",
     "shell.execute_reply.started": "2022-12-17T10:45:55.071997Z"
    },
    "papermill": {
     "duration": 0.067497,
     "end_time": "2022-12-17T10:54:59.240192",
     "exception": false,
     "start_time": "2022-12-17T10:54:59.172695",
     "status": "completed"
    },
    "tags": []
   },
   "outputs": [
    {
     "data": {
      "text/html": [
       "<div>\n",
       "<style scoped>\n",
       "    .dataframe tbody tr th:only-of-type {\n",
       "        vertical-align: middle;\n",
       "    }\n",
       "\n",
       "    .dataframe tbody tr th {\n",
       "        vertical-align: top;\n",
       "    }\n",
       "\n",
       "    .dataframe thead th {\n",
       "        text-align: right;\n",
       "    }\n",
       "</style>\n",
       "<table border=\"1\" class=\"dataframe\">\n",
       "  <thead>\n",
       "    <tr style=\"text-align: right;\">\n",
       "      <th></th>\n",
       "      <th>hotel_address</th>\n",
       "      <th>additional_number_of_scoring</th>\n",
       "      <th>review_date</th>\n",
       "      <th>average_score</th>\n",
       "      <th>hotel_name</th>\n",
       "      <th>reviewer_nationality</th>\n",
       "      <th>negative_review</th>\n",
       "      <th>review_total_negative_word_counts</th>\n",
       "      <th>total_number_of_reviews</th>\n",
       "      <th>positive_review</th>\n",
       "      <th>review_total_positive_word_counts</th>\n",
       "      <th>total_number_of_reviews_reviewer_has_given</th>\n",
       "      <th>tags</th>\n",
       "      <th>days_since_review</th>\n",
       "      <th>lat</th>\n",
       "      <th>lng</th>\n",
       "    </tr>\n",
       "  </thead>\n",
       "  <tbody>\n",
       "    <tr>\n",
       "      <th>0</th>\n",
       "      <td>Via Senigallia 6 20161 Milan Italy</td>\n",
       "      <td>904</td>\n",
       "      <td>7/21/2017</td>\n",
       "      <td>8.1</td>\n",
       "      <td>Hotel Da Vinci</td>\n",
       "      <td>United Kingdom</td>\n",
       "      <td>Would have appreciated a shop in the hotel th...</td>\n",
       "      <td>52</td>\n",
       "      <td>16670</td>\n",
       "      <td>Hotel was great clean friendly staff free bre...</td>\n",
       "      <td>62</td>\n",
       "      <td>1</td>\n",
       "      <td>[' Leisure trip ', ' Couple ', ' Double Room '...</td>\n",
       "      <td>13 days</td>\n",
       "      <td>45.533137</td>\n",
       "      <td>9.171102</td>\n",
       "    </tr>\n",
       "    <tr>\n",
       "      <th>1</th>\n",
       "      <td>Arlandaweg 10 Westpoort 1043 EW Amsterdam Neth...</td>\n",
       "      <td>612</td>\n",
       "      <td>12/12/2016</td>\n",
       "      <td>8.6</td>\n",
       "      <td>Urban Lodge Hotel</td>\n",
       "      <td>Belgium</td>\n",
       "      <td>No tissue paper box was present at the room</td>\n",
       "      <td>10</td>\n",
       "      <td>5018</td>\n",
       "      <td>No Positive</td>\n",
       "      <td>0</td>\n",
       "      <td>7</td>\n",
       "      <td>[' Leisure trip ', ' Group ', ' Triple Room ',...</td>\n",
       "      <td>234 day</td>\n",
       "      <td>52.385649</td>\n",
       "      <td>4.834443</td>\n",
       "    </tr>\n",
       "  </tbody>\n",
       "</table>\n",
       "</div>"
      ],
      "text/plain": [
       "                                       hotel_address  \\\n",
       "0                 Via Senigallia 6 20161 Milan Italy   \n",
       "1  Arlandaweg 10 Westpoort 1043 EW Amsterdam Neth...   \n",
       "\n",
       "   additional_number_of_scoring review_date  average_score         hotel_name  \\\n",
       "0                           904   7/21/2017            8.1     Hotel Da Vinci   \n",
       "1                           612  12/12/2016            8.6  Urban Lodge Hotel   \n",
       "\n",
       "  reviewer_nationality                                    negative_review  \\\n",
       "0      United Kingdom    Would have appreciated a shop in the hotel th...   \n",
       "1             Belgium         No tissue paper box was present at the room   \n",
       "\n",
       "   review_total_negative_word_counts  total_number_of_reviews  \\\n",
       "0                                 52                    16670   \n",
       "1                                 10                     5018   \n",
       "\n",
       "                                     positive_review  \\\n",
       "0   Hotel was great clean friendly staff free bre...   \n",
       "1                                        No Positive   \n",
       "\n",
       "   review_total_positive_word_counts  \\\n",
       "0                                 62   \n",
       "1                                  0   \n",
       "\n",
       "   total_number_of_reviews_reviewer_has_given  \\\n",
       "0                                           1   \n",
       "1                                           7   \n",
       "\n",
       "                                                tags days_since_review  \\\n",
       "0  [' Leisure trip ', ' Couple ', ' Double Room '...           13 days   \n",
       "1  [' Leisure trip ', ' Group ', ' Triple Room ',...           234 day   \n",
       "\n",
       "         lat       lng  \n",
       "0  45.533137  9.171102  \n",
       "1  52.385649  4.834443  "
      ]
     },
     "execution_count": 8,
     "metadata": {},
     "output_type": "execute_result"
    }
   ],
   "source": [
    "df_test.head(2)"
   ]
  },
  {
   "cell_type": "code",
   "execution_count": 9,
   "id": "6fa2bbfe",
   "metadata": {
    "execution": {
     "iopub.execute_input": "2022-12-17T10:54:59.341584Z",
     "iopub.status.busy": "2022-12-17T10:54:59.340610Z",
     "iopub.status.idle": "2022-12-17T10:54:59.344935Z",
     "shell.execute_reply": "2022-12-17T10:54:59.344327Z",
     "shell.execute_reply.started": "2022-12-17T10:45:55.093454Z"
    },
    "papermill": {
     "duration": 0.058474,
     "end_time": "2022-12-17T10:54:59.345096",
     "exception": false,
     "start_time": "2022-12-17T10:54:59.286622",
     "status": "completed"
    },
    "tags": []
   },
   "outputs": [
    {
     "data": {
      "text/html": [
       "<div>\n",
       "<style scoped>\n",
       "    .dataframe tbody tr th:only-of-type {\n",
       "        vertical-align: middle;\n",
       "    }\n",
       "\n",
       "    .dataframe tbody tr th {\n",
       "        vertical-align: top;\n",
       "    }\n",
       "\n",
       "    .dataframe thead th {\n",
       "        text-align: right;\n",
       "    }\n",
       "</style>\n",
       "<table border=\"1\" class=\"dataframe\">\n",
       "  <thead>\n",
       "    <tr style=\"text-align: right;\">\n",
       "      <th></th>\n",
       "      <th>reviewer_score</th>\n",
       "      <th>id</th>\n",
       "    </tr>\n",
       "  </thead>\n",
       "  <tbody>\n",
       "    <tr>\n",
       "      <th>0</th>\n",
       "      <td>1</td>\n",
       "      <td>488440</td>\n",
       "    </tr>\n",
       "    <tr>\n",
       "      <th>1</th>\n",
       "      <td>10</td>\n",
       "      <td>274649</td>\n",
       "    </tr>\n",
       "  </tbody>\n",
       "</table>\n",
       "</div>"
      ],
      "text/plain": [
       "   reviewer_score      id\n",
       "0               1  488440\n",
       "1              10  274649"
      ]
     },
     "execution_count": 9,
     "metadata": {},
     "output_type": "execute_result"
    }
   ],
   "source": [
    "sample_submission.head(2)"
   ]
  },
  {
   "cell_type": "code",
   "execution_count": 10,
   "id": "ff0237aa",
   "metadata": {
    "execution": {
     "iopub.execute_input": "2022-12-17T10:54:59.446990Z",
     "iopub.status.busy": "2022-12-17T10:54:59.446228Z",
     "iopub.status.idle": "2022-12-17T10:54:59.457035Z",
     "shell.execute_reply": "2022-12-17T10:54:59.457736Z",
     "shell.execute_reply.started": "2022-12-17T10:45:55.113170Z"
    },
    "papermill": {
     "duration": 0.064731,
     "end_time": "2022-12-17T10:54:59.458131",
     "exception": false,
     "start_time": "2022-12-17T10:54:59.393400",
     "status": "completed"
    },
    "tags": []
   },
   "outputs": [
    {
     "name": "stdout",
     "output_type": "stream",
     "text": [
      "<class 'pandas.core.frame.DataFrame'>\n",
      "RangeIndex: 128935 entries, 0 to 128934\n",
      "Data columns (total 2 columns):\n",
      " #   Column          Non-Null Count   Dtype\n",
      "---  ------          --------------   -----\n",
      " 0   reviewer_score  128935 non-null  int64\n",
      " 1   id              128935 non-null  int64\n",
      "dtypes: int64(2)\n",
      "memory usage: 2.0 MB\n"
     ]
    }
   ],
   "source": [
    "sample_submission.info()"
   ]
  },
  {
   "cell_type": "code",
   "execution_count": 11,
   "id": "58235fbd",
   "metadata": {
    "execution": {
     "iopub.execute_input": "2022-12-17T10:54:59.559891Z",
     "iopub.status.busy": "2022-12-17T10:54:59.558632Z",
     "iopub.status.idle": "2022-12-17T10:55:00.145095Z",
     "shell.execute_reply": "2022-12-17T10:55:00.144478Z",
     "shell.execute_reply.started": "2022-12-17T10:45:55.130202Z"
    },
    "papermill": {
     "duration": 0.63853,
     "end_time": "2022-12-17T10:55:00.145260",
     "exception": false,
     "start_time": "2022-12-17T10:54:59.506730",
     "status": "completed"
    },
    "tags": []
   },
   "outputs": [
    {
     "name": "stderr",
     "output_type": "stream",
     "text": [
      "C:\\Users\\Lena\\AppData\\Local\\Temp\\ipykernel_20980\\447817491.py:6: FutureWarning: The frame.append method is deprecated and will be removed from pandas in a future version. Use pandas.concat instead.\n",
      "  data = df_test.append(df_train, sort=False).reset_index(drop=True) # объединяем\n"
     ]
    }
   ],
   "source": [
    "# ВАЖНО! дря корректной обработки признаков объединяем трейн и тест в один датасет\n",
    "df_train['sample'] = 1 # помечаем где у нас трейн\n",
    "df_test['sample'] = 0 # помечаем где у нас тест\n",
    "df_test['reviewer_score'] = 0 # в тесте у нас нет значения reviewer_score, мы его должны предсказать, по этому пока просто заполняем нулями\n",
    "\n",
    "data = df_test.append(df_train, sort=False).reset_index(drop=True) # объединяем"
   ]
  },
  {
   "cell_type": "code",
   "execution_count": 12,
   "id": "079d6cb8",
   "metadata": {
    "execution": {
     "iopub.execute_input": "2022-12-17T10:55:00.249373Z",
     "iopub.status.busy": "2022-12-17T10:55:00.248125Z",
     "iopub.status.idle": "2022-12-17T10:55:00.470109Z",
     "shell.execute_reply": "2022-12-17T10:55:00.469373Z",
     "shell.execute_reply.started": "2022-12-17T10:45:55.716797Z"
    },
    "papermill": {
     "duration": 0.276908,
     "end_time": "2022-12-17T10:55:00.470275",
     "exception": false,
     "start_time": "2022-12-17T10:55:00.193367",
     "status": "completed"
    },
    "tags": []
   },
   "outputs": [
    {
     "name": "stdout",
     "output_type": "stream",
     "text": [
      "<class 'pandas.core.frame.DataFrame'>\n",
      "RangeIndex: 515738 entries, 0 to 515737\n",
      "Data columns (total 18 columns):\n",
      " #   Column                                      Non-Null Count   Dtype  \n",
      "---  ------                                      --------------   -----  \n",
      " 0   hotel_address                               515738 non-null  object \n",
      " 1   additional_number_of_scoring                515738 non-null  int64  \n",
      " 2   review_date                                 515738 non-null  object \n",
      " 3   average_score                               515738 non-null  float64\n",
      " 4   hotel_name                                  515738 non-null  object \n",
      " 5   reviewer_nationality                        515738 non-null  object \n",
      " 6   negative_review                             515738 non-null  object \n",
      " 7   review_total_negative_word_counts           515738 non-null  int64  \n",
      " 8   total_number_of_reviews                     515738 non-null  int64  \n",
      " 9   positive_review                             515738 non-null  object \n",
      " 10  review_total_positive_word_counts           515738 non-null  int64  \n",
      " 11  total_number_of_reviews_reviewer_has_given  515738 non-null  int64  \n",
      " 12  tags                                        515738 non-null  object \n",
      " 13  days_since_review                           515738 non-null  object \n",
      " 14  lat                                         512470 non-null  float64\n",
      " 15  lng                                         512470 non-null  float64\n",
      " 16  sample                                      515738 non-null  int64  \n",
      " 17  reviewer_score                              515738 non-null  float64\n",
      "dtypes: float64(4), int64(6), object(8)\n",
      "memory usage: 70.8+ MB\n"
     ]
    }
   ],
   "source": [
    "data.info()"
   ]
  },
  {
   "attachments": {},
   "cell_type": "markdown",
   "id": "09201e89",
   "metadata": {},
   "source": [
    "В признаках  'lat'  'lng' есть пропущенные значения."
   ]
  },
  {
   "cell_type": "code",
   "execution_count": 13,
   "id": "c407a140",
   "metadata": {},
   "outputs": [],
   "source": [
    "# В признаках  'lat' и 'lng' есть пропущенные значения.\n",
    "#data['lat'] = data['lat'].fillna(0, inplace=True)\n",
    "#data['lng'] = data['lng'].fillna(0, inplace=True)"
   ]
  },
  {
   "cell_type": "code",
   "execution_count": 14,
   "id": "6cb3a2fd",
   "metadata": {
    "execution": {
     "iopub.execute_input": "2022-12-17T10:55:00.726265Z",
     "iopub.status.busy": "2022-12-17T10:55:00.725500Z",
     "iopub.status.idle": "2022-12-17T10:55:01.655886Z",
     "shell.execute_reply": "2022-12-17T10:55:01.656493Z",
     "shell.execute_reply.started": "2022-12-17T10:45:55.965296Z"
    },
    "papermill": {
     "duration": 1.015723,
     "end_time": "2022-12-17T10:55:01.656704",
     "exception": false,
     "start_time": "2022-12-17T10:55:00.640981",
     "status": "completed"
    },
    "tags": []
   },
   "outputs": [
    {
     "data": {
      "text/plain": [
       "hotel_address                                   1493\n",
       "additional_number_of_scoring                     480\n",
       "review_date                                      731\n",
       "average_score                                     34\n",
       "hotel_name                                      1492\n",
       "reviewer_nationality                             227\n",
       "negative_review                               330011\n",
       "review_total_negative_word_counts                402\n",
       "total_number_of_reviews                         1142\n",
       "positive_review                               412601\n",
       "review_total_positive_word_counts                365\n",
       "total_number_of_reviews_reviewer_has_given       198\n",
       "tags                                           55242\n",
       "days_since_review                                731\n",
       "lat                                             1473\n",
       "lng                                             1473\n",
       "sample                                             2\n",
       "reviewer_score                                    38\n",
       "dtype: int64"
      ]
     },
     "execution_count": 14,
     "metadata": {},
     "output_type": "execute_result"
    }
   ],
   "source": [
    "# Кол-во уникальных значений\n",
    "data.nunique(dropna=False)"
   ]
  },
  {
   "cell_type": "markdown",
   "id": "9a8e54a5",
   "metadata": {
    "papermill": {
     "duration": 0.04999,
     "end_time": "2022-12-17T10:55:01.756085",
     "exception": false,
     "start_time": "2022-12-17T10:55:01.706095",
     "status": "completed"
    },
    "tags": []
   },
   "source": [
    "## Функции"
   ]
  },
  {
   "cell_type": "code",
   "execution_count": 15,
   "id": "d9404fcf",
   "metadata": {
    "execution": {
     "iopub.execute_input": "2022-12-17T10:55:01.859567Z",
     "iopub.status.busy": "2022-12-17T10:55:01.858694Z",
     "iopub.status.idle": "2022-12-17T10:55:01.887893Z",
     "shell.execute_reply": "2022-12-17T10:55:01.887216Z",
     "shell.execute_reply.started": "2022-12-17T10:45:56.903151Z"
    },
    "papermill": {
     "duration": 0.083596,
     "end_time": "2022-12-17T10:55:01.888048",
     "exception": false,
     "start_time": "2022-12-17T10:55:01.804452",
     "status": "completed"
    },
    "tags": []
   },
   "outputs": [],
   "source": [
    "def get_sort_features(data:pd.DataFrame):\n",
    "    \"\"\"Функция определения типа признаков в датафрейме\n",
    "    Args:\n",
    "    ------\n",
    "    data (pd.DataFrame): датафрейм в формате Pandas\n",
    "    \"\"\"    \n",
    "    categorical_columns_names = list() \n",
    "    numerical_columns_names = list() \n",
    "\n",
    "    for i in data.columns:\n",
    "        numeric_formats = [np.int16, np.int32, np.int64, np.float16, np.float32, np.float64]  # список числовых типов 'int64' или 'float64'\n",
    "        if data[i].dtypes in numeric_formats: \n",
    "            numerical_columns_names.append(i)\n",
    "        else:\n",
    "            categorical_columns_names.append(i)\n",
    "            \n",
    "    #print(f'There are {len(categorical_columns_names)} categorical features:')\n",
    "    \n",
    "    #for count, value in enumerate(categorical_columns_names, start=1): # list features from 1\n",
    "       # print(count, value)\n",
    "    return categorical_columns_names, numerical_columns_names\n",
    "\n",
    "        \n",
    "def get_negative_reasons(arg:str)->str:\n",
    "    \"\"\"Категорирование негативных отзывов\n",
    "\n",
    "    Args:\n",
    "        arg (str): строка датафрейма\n",
    "\n",
    "    Returns:\n",
    "        _type_: _description_\n",
    "    \"\"\"    \n",
    "    arg = arg.lower().replace(r'\\w .+', '').replace('the ', '').replace('was', 'is').replace('were', 'are').replace('too | a bit', '').replace('too', 'is').replace('a bit ', '').replace('a little ', '').replace('very ', '').replace('is is', 'is') \n",
    "\n",
    "    neutral = ['no negative', 'na', 'nothing at all', 'nil', 'n a', 'none', 'none ', 'no complaints', 'no complaints ',\\\n",
    "        'nothing to dislike', 'nothing really', 'nothing really ', 'can t think of anything', 'absolutely nothing', \\\n",
    "        'absolutely nothing ', 'nothing not to like','nothing to dislike', 'nothing at all', 'nothing at all ', \\\n",
    "        'nothing to complain about', 'no', 'non', 'not much', 'there is nothing i didn t like', 'nothing in particular', \\\n",
    "        'nothing comes to mind', 'not applicable', 'there is nothing to dislike', 'not a thing', 'nothing to report', \\\n",
    "        'weather', 'no thing', 'no negatives']\n",
    "    \n",
    "    unidentified = ['all', 'everything']\n",
    "    \n",
    "    positive = ['i liked everything', 'liked everything', 'nothing it is perfect', 'having to leave', 'leaving', 'all good', 'all is good', 'everything is perfect', ' lovely', 'everything is good', 'everything is great', 'everything is fine', 'nothing everything is perfect' , 'nothing all good', 'as above', 'see above' ]\n",
    "    \n",
    "    service = ['staff', 'service', ]\n",
    "    \n",
    "    room_price = ['price','expensive', 'pricey','cost']\n",
    "    \n",
    "    food_price = ['price of breakfast', 'expensive breakfast', 'breakfast expensive', 'breakfast is expensive', 'breakfast too expensive', 'breakfast not included', 'breakfast is poor' ]\n",
    "    \n",
    "    menu = ['breakfast', 'poor breakfast','breakfast could be better', ]\n",
    "    \n",
    "    room_properties = ['room', 'pillows', 'bathroom', 'size of room', 'room size', 'room is hot', 'room is cold']\n",
    "    \n",
    "    parking = ['no parking', 'parking']\n",
    "    \n",
    "    noise = ['noisy', 'noise', 'loud']\n",
    "    \n",
    "\n",
    "    if arg in positive or ('lovely' or 'no complaints') in arg or 'all good' in arg:         # count positive feedbacks if any\n",
    "        return 'positive'\n",
    "\n",
    "    elif ('everything' or 'all') and ('great' or 'good' or 'excellent' or 'perfect' or 'fine' or 'lovely') in arg:         # count positive feedbacks if any\n",
    "        return 'positive' \n",
    " \n",
    "           \n",
    "    elif arg in neutral or arg==' ' or arg=='nothing ' or arg=='nothing' or 'no complaints' in arg:    # count neutral feedbacks\n",
    "        return 'neutral' \n",
    "\n",
    "    elif arg in unidentified:\n",
    "        return 'negative' #'unidentified_bad'\n",
    "    \n",
    "    elif arg in room_properties or \\\n",
    "        ('bed' or 'bathroom' or 'sheets') in arg or \\\n",
    "        ('room' or 'rooms' or 'bed' or 'beds' or 'bathroom') in arg and ('small' or 'size' or 'big' or 'hot' or 'cold' or 'is tiny') in arg:\n",
    "        \n",
    "        return 'bad_room_properties'\n",
    "    \n",
    "    elif arg in service or 'stuff' in arg:\n",
    "        return 'poor_service'\n",
    "    \n",
    "    elif arg in menu or arg=='food':\n",
    "        return 'poor_menu'\n",
    "    \n",
    "    elif 'gym' in arg:\n",
    "        return 'no_gym'\n",
    "    \n",
    "    elif 'location' in arg:\n",
    "        return 'bad_location'\n",
    "    \n",
    "    elif ('wifi' or 'internet') in arg:\n",
    "        return 'internet_problems'\n",
    "    \n",
    "    elif arg in noise or ('noise' or 'noisy') in arg:\n",
    "        return 'noise'\n",
    "\n",
    "    elif arg in room_price:\n",
    "        return 'high_room_price'\n",
    "        \n",
    "    elif arg in food_price or 'breakfast' and ('price' or 'expensive' or 'not included' or 'poor') in arg :\n",
    "        return 'high_food_price'\n",
    "    \n",
    "    elif arg in parking or 'parking' in arg:\n",
    "        return 'poor_parking'\n",
    "       \n",
    "    else:\n",
    "        return 'negative' #'other_negative_reasons'   # the rest feedbacks are other\n",
    "    \n",
    "    \n",
    "def get_positive_reasons(arg):\n",
    "    arg = arg.lower().replace(r'\\w .+', '').replace('the ', '').replace('was', 'is').replace('were |are very ', 'are').replace('too | a bit', '').replace('is very|is too|is a bit|', 'is').replace(r'gerat|friendly|is excellent|comfy | comfy', 'good').replace('comfy', 'good').replace('is good|is excellent|is perfect', 'good')\n",
    "    \n",
    "    neutral = ['no positive', 'nothing', 'not much']\n",
    "    \n",
    "    location = ['great location', 'good location', 'location is great','excellent location', 'position']\n",
    "    \n",
    "    positive = ['everything', 'everything is perfect', 'all', 'everything is good', 'every thing', 'everything is excellent', 'all good', 'everything is great', 'excellent', 'prefect', 'perfect ','all of it']\n",
    "    \n",
    "    clean = ['clean','cleanliness', 'very clean','clean room' ]\n",
    "\n",
    "    room_properties = ['bed', 'nice room']\n",
    "    \n",
    "    if arg in neutral:    # count neutral feedbacks\n",
    "       return 'neutral' \n",
    "\n",
    "    elif arg in location or 'location' in arg:  # \n",
    "        return 'positive' #'location'\n",
    "    \n",
    "    elif 'staff' in arg:\n",
    "       return 'positive' #'staff'\n",
    "    \n",
    "    elif arg in room_properties or 'bed' in arg or 'room' in arg:\n",
    "       return 'positive' #'room_properties'\n",
    "   \n",
    "    elif 'service' or 'staff' in arg:\n",
    "       return 'positive' #'service'\n",
    "    \n",
    "    elif 'breakfast' in arg:\n",
    "       return 'positive' #'breakfast'\n",
    "  \n",
    "    elif arg in positive:\n",
    "        return 'positive' #'positive'\n",
    "    \n",
    "    elif arg in clean:\n",
    "        return 'positive' #'clean'\n",
    "    \n",
    "    else:\n",
    "        return arg   # the rest are negative feedbacks\n",
    "    \n",
    "    \n",
    "def get_address(arg):\n",
    "    \"\"\"Функция вычисления страны и города по адресу\n",
    "    Args:\n",
    "    -------\n",
    "    arg (str): строка с адресом\n",
    "\n",
    "    Returns:\n",
    "    -------\n",
    "    country, city: страна, город (str)\n",
    "    \"\"\"    \n",
    "    arg = arg.split()\n",
    "\n",
    "    def get_country():\n",
    "        if arg[-1]=='Kingdom':\n",
    "            country = arg[-2] + ' '+ arg[-1]\n",
    "            \n",
    "        else:\n",
    "            country = arg[-1]\n",
    "        return country\n",
    "    country = get_country()\n",
    "\n",
    "    def get_city():\n",
    "        if arg[-1]=='Kingdom':\n",
    "            city = arg[-5]     \n",
    "        else:\n",
    "            city = arg[-2]\n",
    "        return city\n",
    "    city = get_city()\n",
    "\n",
    "    return(country, city)"
   ]
  },
  {
   "attachments": {},
   "cell_type": "markdown",
   "id": "28d0aa22",
   "metadata": {
    "papermill": {
     "duration": 0.047016,
     "end_time": "2022-12-17T10:55:01.983117",
     "exception": false,
     "start_time": "2022-12-17T10:55:01.936101",
     "status": "completed"
    },
    "tags": []
   },
   "source": [
    "## Предобработка категориальных признаков"
   ]
  },
  {
   "cell_type": "code",
   "execution_count": 16,
   "id": "b3f8cae3",
   "metadata": {
    "execution": {
     "iopub.execute_input": "2022-12-17T10:55:02.084161Z",
     "iopub.status.busy": "2022-12-17T10:55:02.083401Z",
     "iopub.status.idle": "2022-12-17T10:55:02.091501Z",
     "shell.execute_reply": "2022-12-17T10:55:02.092127Z",
     "shell.execute_reply.started": "2022-12-17T10:45:56.936002Z"
    },
    "papermill": {
     "duration": 0.061482,
     "end_time": "2022-12-17T10:55:02.092306",
     "exception": false,
     "start_time": "2022-12-17T10:55:02.030824",
     "status": "completed"
    },
    "tags": []
   },
   "outputs": [
    {
     "data": {
      "text/plain": [
       "['hotel_address',\n",
       " 'review_date',\n",
       " 'hotel_name',\n",
       " 'reviewer_nationality',\n",
       " 'negative_review',\n",
       " 'positive_review',\n",
       " 'tags',\n",
       " 'days_since_review']"
      ]
     },
     "execution_count": 16,
     "metadata": {},
     "output_type": "execute_result"
    }
   ],
   "source": [
    "categorical_columns_names, numerical_columns_names = get_sort_features(data)\n",
    "categorical_columns_names"
   ]
  },
  {
   "cell_type": "markdown",
   "id": "b30013a6",
   "metadata": {
    "papermill": {
     "duration": 0.050106,
     "end_time": "2022-12-17T10:55:11.706170",
     "exception": false,
     "start_time": "2022-12-17T10:55:11.656064",
     "status": "completed"
    },
    "tags": []
   },
   "source": [
    "### Hotel address"
   ]
  },
  {
   "cell_type": "code",
   "execution_count": 17,
   "id": "fcf5b35d",
   "metadata": {
    "execution": {
     "iopub.execute_input": "2022-12-17T10:55:11.814303Z",
     "iopub.status.busy": "2022-12-17T10:55:11.813552Z",
     "iopub.status.idle": "2022-12-17T10:55:11.903239Z",
     "shell.execute_reply": "2022-12-17T10:55:11.901681Z",
     "shell.execute_reply.started": "2022-12-17T10:46:05.588152Z"
    },
    "papermill": {
     "duration": 0.14716,
     "end_time": "2022-12-17T10:55:11.903663",
     "exception": false,
     "start_time": "2022-12-17T10:55:11.756503",
     "status": "completed"
    },
    "tags": []
   },
   "outputs": [
    {
     "name": "stdout",
     "output_type": "stream",
     "text": [
      "163 Marsh Wall Docklands Tower Hamlets London E14 9SJ United Kingdom    4789\n",
      "Name: hotel_address, dtype: int64 13 Rue Fran ois Ory 92120 Paris France                     10\n",
      "Johann Staud Stra e 32 16 Ottakring 1160 Vienna Austria     8\n",
      "Name: hotel_address, dtype: int64\n"
     ]
    }
   ],
   "source": [
    "print(data['hotel_address'].value_counts().head(1), data['hotel_address'].value_counts().tail(2))"
   ]
  },
  {
   "cell_type": "code",
   "execution_count": 18,
   "id": "1d01c0f1",
   "metadata": {
    "execution": {
     "iopub.execute_input": "2022-12-17T10:55:12.012721Z",
     "iopub.status.busy": "2022-12-17T10:55:12.011946Z",
     "iopub.status.idle": "2022-12-17T10:55:14.174108Z",
     "shell.execute_reply": "2022-12-17T10:55:14.173424Z",
     "shell.execute_reply.started": "2022-12-17T10:46:05.676854Z"
    },
    "papermill": {
     "duration": 2.216729,
     "end_time": "2022-12-17T10:55:14.174295",
     "exception": false,
     "start_time": "2022-12-17T10:55:11.957566",
     "status": "completed"
    },
    "tags": []
   },
   "outputs": [
    {
     "name": "stdout",
     "output_type": "stream",
     "text": [
      "United Kingdom    262301\n",
      "Spain              60149\n",
      "France             59928\n",
      "Netherlands        57214\n",
      "Austria            38939\n",
      "Italy              37207\n",
      "Name: country, dtype: int64   London       262301\n",
      "Barcelona     60149\n",
      "Paris         59928\n",
      "Amsterdam     57214\n",
      "Vienna        38939\n",
      "Milan         37207\n",
      "Name: city, dtype: int64\n"
     ]
    }
   ],
   "source": [
    "data['country'] = data['hotel_address'].apply(lambda x: \\\n",
    "    (x.split()[-2] + ' '+ x.split()[-1]) if x.split()[-1]=='Kingdom' else  x.split()[-1])\n",
    "\n",
    "data['city'] = data['hotel_address'].apply(lambda x: x.split()[-5] if x.split()[-1]=='Kingdom' else  x.split()[-2]) \n",
    "    \n",
    "print(data['country'].value_counts(),' ', data['city'].value_counts())\n",
    "data.drop(['hotel_address'], axis=1, inplace=True)"
   ]
  },
  {
   "cell_type": "markdown",
   "id": "1606973c",
   "metadata": {
    "papermill": {
     "duration": 0.047662,
     "end_time": "2022-12-17T10:55:02.188255",
     "exception": false,
     "start_time": "2022-12-17T10:55:02.140593",
     "status": "completed"
    },
    "tags": []
   },
   "source": [
    "### Positive reviews"
   ]
  },
  {
   "cell_type": "code",
   "execution_count": 19,
   "id": "334fc13d",
   "metadata": {
    "execution": {
     "iopub.execute_input": "2022-12-17T10:55:02.759033Z",
     "iopub.status.busy": "2022-12-17T10:55:02.757546Z",
     "iopub.status.idle": "2022-12-17T10:55:02.798431Z",
     "shell.execute_reply": "2022-12-17T10:55:02.797758Z",
     "shell.execute_reply.started": "2022-12-17T10:45:56.958521Z"
    },
    "papermill": {
     "duration": 0.561314,
     "end_time": "2022-12-17T10:55:02.798586",
     "exception": false,
     "start_time": "2022-12-17T10:55:02.237272",
     "status": "completed"
    },
    "tags": []
   },
   "outputs": [
    {
     "data": {
      "text/plain": [
       "No Positive    35946\n",
       " Location       9222\n",
       " Everything     2284\n",
       " location       1677\n",
       " Nothing        1243\n",
       "Name: positive_review, dtype: int64"
      ]
     },
     "execution_count": 19,
     "metadata": {},
     "output_type": "execute_result"
    }
   ],
   "source": [
    "data['positive_review'].value_counts().head()"
   ]
  },
  {
   "cell_type": "code",
   "execution_count": 20,
   "id": "97c7181c",
   "metadata": {
    "execution": {
     "iopub.execute_input": "2022-12-17T10:55:02.903803Z",
     "iopub.status.busy": "2022-12-17T10:55:02.903069Z",
     "iopub.status.idle": "2022-12-17T10:55:03.978732Z",
     "shell.execute_reply": "2022-12-17T10:55:03.977973Z",
     "shell.execute_reply.started": "2022-12-17T10:45:57.427141Z"
    },
    "papermill": {
     "duration": 1.130204,
     "end_time": "2022-12-17T10:55:03.978911",
     "exception": false,
     "start_time": "2022-12-17T10:55:02.848707",
     "status": "completed"
    },
    "tags": []
   },
   "outputs": [
    {
     "data": {
      "text/plain": [
       "no positive           35946\n",
       "location              11945\n",
       "everything             3314\n",
       "nothing                1731\n",
       "great location         1687\n",
       "the location           1606\n",
       "good location          1496\n",
       "breakfast               795\n",
       "friendly staff          733\n",
       "excellent location      639\n",
       "Name: positive_review, dtype: int64"
      ]
     },
     "execution_count": 20,
     "metadata": {},
     "output_type": "execute_result"
    }
   ],
   "source": [
    "data['positive_review'] = data['positive_review'].apply(lambda x: x.lower() if x=='No Positive' else x.lower()[1:])\n",
    "data['positive_review'] = data['positive_review'].str.strip()\n",
    "#data['positive_review_encoding'] = data['positive_review'].apply(get_find_reasons)\n",
    "data['positive_review'].value_counts().head(10)"
   ]
  },
  {
   "cell_type": "code",
   "execution_count": 21,
   "id": "24426758",
   "metadata": {
    "execution": {
     "iopub.execute_input": "2022-12-17T10:55:04.092457Z",
     "iopub.status.busy": "2022-12-17T10:55:04.091695Z",
     "iopub.status.idle": "2022-12-17T10:55:06.054936Z",
     "shell.execute_reply": "2022-12-17T10:55:06.055493Z",
     "shell.execute_reply.started": "2022-12-17T10:45:58.482433Z"
    },
    "papermill": {
     "duration": 2.026894,
     "end_time": "2022-12-17T10:55:06.055678",
     "exception": false,
     "start_time": "2022-12-17T10:55:04.028784",
     "status": "completed"
    },
    "tags": []
   },
   "outputs": [
    {
     "data": {
      "text/plain": [
       "positive    477916\n",
       "neutral      37822\n",
       "Name: positive_review, dtype: int64"
      ]
     },
     "execution_count": 21,
     "metadata": {},
     "output_type": "execute_result"
    }
   ],
   "source": [
    "data['positive_review'] = data['positive_review'].apply(get_positive_reasons)\n",
    "data['positive_review'].value_counts().head(10)"
   ]
  },
  {
   "cell_type": "markdown",
   "id": "d9e9bfa3",
   "metadata": {
    "papermill": {
     "duration": 0.058109,
     "end_time": "2022-12-17T10:55:06.168555",
     "exception": false,
     "start_time": "2022-12-17T10:55:06.110446",
     "status": "completed"
    },
    "tags": []
   },
   "source": [
    "### Negative reviews"
   ]
  },
  {
   "cell_type": "code",
   "execution_count": 22,
   "id": "d09cb2cb",
   "metadata": {
    "execution": {
     "iopub.execute_input": "2022-12-17T10:55:06.275987Z",
     "iopub.status.busy": "2022-12-17T10:55:06.275211Z",
     "iopub.status.idle": "2022-12-17T10:55:06.726453Z",
     "shell.execute_reply": "2022-12-17T10:55:06.727524Z",
     "shell.execute_reply.started": "2022-12-17T10:46:00.456624Z"
    },
    "papermill": {
     "duration": 0.508935,
     "end_time": "2022-12-17T10:55:06.727717",
     "exception": false,
     "start_time": "2022-12-17T10:55:06.218782",
     "status": "completed"
    },
    "tags": []
   },
   "outputs": [
    {
     "data": {
      "text/plain": [
       "No Negative    127890\n",
       " Nothing        14295\n",
       " Nothing         4236\n",
       " nothing         2225\n",
       " N A             1037\n",
       "Name: negative_review, dtype: int64"
      ]
     },
     "execution_count": 22,
     "metadata": {},
     "output_type": "execute_result"
    }
   ],
   "source": [
    "# change feature type\n",
    "data['negative_review'] = data['negative_review'].astype('object')\n",
    "data['negative_review'].value_counts().head()"
   ]
  },
  {
   "cell_type": "code",
   "execution_count": 23,
   "id": "629ecbc0",
   "metadata": {
    "execution": {
     "iopub.execute_input": "2022-12-17T10:55:06.834891Z",
     "iopub.status.busy": "2022-12-17T10:55:06.833825Z",
     "iopub.status.idle": "2022-12-17T10:55:11.604272Z",
     "shell.execute_reply": "2022-12-17T10:55:11.604777Z",
     "shell.execute_reply.started": "2022-12-17T10:46:00.813638Z"
    },
    "papermill": {
     "duration": 4.825179,
     "end_time": "2022-12-17T10:55:11.605006",
     "exception": false,
     "start_time": "2022-12-17T10:55:06.779827",
     "status": "completed"
    },
    "tags": []
   },
   "outputs": [
    {
     "data": {
      "text/plain": [
       "negative               219921\n",
       "neutral                158061\n",
       "bad_room_properties     69227\n",
       "high_food_price         15495\n",
       "positive                15251\n",
       "internet_problems        9315\n",
       "noise                    8689\n",
       "bad_location             8162\n",
       "poor_parking             5429\n",
       "no_gym                   2262\n",
       "poor_service             1957\n",
       "high_room_price          1044\n",
       "poor_menu                 925\n",
       "Name: negative_review, dtype: int64"
      ]
     },
     "execution_count": 23,
     "metadata": {},
     "output_type": "execute_result"
    }
   ],
   "source": [
    "data['negative_review'] = data['negative_review'].apply(lambda x: x.lower() if x=='No Negative' else x.lower()[1:])\n",
    "data['negative_review'] = data['negative_review'].str.strip()\n",
    "data['negative_review'] = data['negative_review'].apply(get_negative_reasons)\n",
    "data['negative_review'].value_counts()"
   ]
  },
  {
   "cell_type": "markdown",
   "id": "4baa4d8c",
   "metadata": {
    "papermill": {
     "duration": 0.054325,
     "end_time": "2022-12-17T10:55:14.488688",
     "exception": false,
     "start_time": "2022-12-17T10:55:14.434363",
     "status": "completed"
    },
    "tags": []
   },
   "source": [
    "### Reviewer nationality"
   ]
  },
  {
   "cell_type": "code",
   "execution_count": 24,
   "id": "af5ac80a",
   "metadata": {
    "execution": {
     "iopub.execute_input": "2022-12-17T10:55:14.631957Z",
     "iopub.status.busy": "2022-12-17T10:55:14.631168Z",
     "iopub.status.idle": "2022-12-17T10:55:14.643875Z",
     "shell.execute_reply": "2022-12-17T10:55:14.643235Z",
     "shell.execute_reply.started": "2022-12-17T10:46:07.759152Z"
    },
    "papermill": {
     "duration": 0.104464,
     "end_time": "2022-12-17T10:55:14.644048",
     "exception": false,
     "start_time": "2022-12-17T10:55:14.539584",
     "status": "completed"
    },
    "tags": []
   },
   "outputs": [
    {
     "data": {
      "text/plain": [
       "Index([' United Kingdom ', ' United States of America ', ' Australia ',\n",
       "       ' Ireland ', ' United Arab Emirates ', ' Saudi Arabia ',\n",
       "       ' Netherlands ', ' Switzerland ', ' Germany ', ' Canada '],\n",
       "      dtype='object')"
      ]
     },
     "metadata": {},
     "output_type": "display_data"
    },
    {
     "data": {
      "text/plain": [
       "' United Kingdom '"
      ]
     },
     "metadata": {},
     "output_type": "display_data"
    }
   ],
   "source": [
    "display(data['reviewer_nationality'].value_counts().nlargest(10).index)\n",
    "display(data['reviewer_nationality'].iloc[0])"
   ]
  },
  {
   "cell_type": "code",
   "execution_count": 25,
   "id": "d9db51c0",
   "metadata": {
    "execution": {
     "iopub.execute_input": "2022-12-17T10:55:14.760621Z",
     "iopub.status.busy": "2022-12-17T10:55:14.759678Z",
     "iopub.status.idle": "2022-12-17T10:55:23.215187Z",
     "shell.execute_reply": "2022-12-17T10:55:23.215740Z",
     "shell.execute_reply.started": "2022-12-17T10:46:07.811722Z"
    },
    "papermill": {
     "duration": 8.520467,
     "end_time": "2022-12-17T10:55:23.215960",
     "exception": false,
     "start_time": "2022-12-17T10:55:14.695493",
     "status": "completed"
    },
    "tags": []
   },
   "outputs": [
    {
     "data": {
      "text/plain": [
       "United Kingdom              245246\n",
       "other                       120020\n",
       "United States of America     35437\n",
       "Australia                    21686\n",
       "Ireland                      14827\n",
       "Name: reviewer_nationality, dtype: int64"
      ]
     },
     "execution_count": 25,
     "metadata": {},
     "output_type": "execute_result"
    }
   ],
   "source": [
    "#Удалим лишние пробелы вначале и вконце строки.\n",
    "data['reviewer_nationality'] = data['reviewer_nationality'].apply(lambda x: x[1:-1:1])\n",
    "\n",
    "#Создадим признак *same nationality*. \n",
    "data['nationality_same_as_country'] = data.apply(lambda x: 1 if x['reviewer_nationality'] == x['country'] else 0, axis=1).astype('int16')\n",
    "data['nationality_same_as_country'].value_counts()\n",
    "\n",
    "# Оставим 14 наиболее частых национальностей, а остальным присвоим значение 'other'.\n",
    "most_frequent_nationalities = data['reviewer_nationality'].value_counts().nlargest(14).index.to_list()\n",
    "data['reviewer_nationality'] = data['reviewer_nationality'].apply(lambda x: x if x in most_frequent_nationalities else 'other')\n",
    "data['reviewer_nationality'].value_counts().head()"
   ]
  },
  {
   "cell_type": "markdown",
   "id": "d8f3d570",
   "metadata": {
    "papermill": {
     "duration": 0.051522,
     "end_time": "2022-12-17T10:55:24.030146",
     "exception": false,
     "start_time": "2022-12-17T10:55:23.978624",
     "status": "completed"
    },
    "tags": []
   },
   "source": [
    "### Tags"
   ]
  },
  {
   "cell_type": "code",
   "execution_count": 26,
   "id": "06d4a30e",
   "metadata": {
    "papermill": {
     "duration": 0.053588,
     "end_time": "2022-12-17T10:55:24.137598",
     "exception": false,
     "start_time": "2022-12-17T10:55:24.084010",
     "status": "completed"
    },
    "tags": []
   },
   "outputs": [
    {
     "data": {
      "text/plain": [
       "[' Leisure trip ', ' Couple ', ' Double Room ', ' Stayed 1 night ', ' Submitted from a mobile device ']              5101\n",
       "[' Leisure trip ', ' Couple ', ' Standard Double Room ', ' Stayed 1 night ', ' Submitted from a mobile device ']     4931\n",
       "[' Leisure trip ', ' Couple ', ' Superior Double Room ', ' Stayed 1 night ', ' Submitted from a mobile device ']     4366\n",
       "[' Leisure trip ', ' Couple ', ' Deluxe Double Room ', ' Stayed 1 night ', ' Submitted from a mobile device ']       3991\n",
       "[' Leisure trip ', ' Couple ', ' Double Room ', ' Stayed 2 nights ', ' Submitted from a mobile device ']             3291\n",
       "[' Leisure trip ', ' Couple ', ' Superior Double Room ', ' Stayed 2 nights ', ' Submitted from a mobile device ']    3102\n",
       "[' Leisure trip ', ' Couple ', ' Standard Double Room ', ' Stayed 2 nights ', ' Submitted from a mobile device ']    2947\n",
       "[' Leisure trip ', ' Couple ', ' Double Room ', ' Stayed 1 night ']                                                  2906\n",
       "[' Leisure trip ', ' Couple ', ' Standard Double Room ', ' Stayed 1 night ']                                         2620\n",
       "[' Leisure trip ', ' Couple ', ' Deluxe Double Room ', ' Stayed 2 nights ', ' Submitted from a mobile device ']      2362\n",
       "Name: tags, dtype: int64"
      ]
     },
     "execution_count": 26,
     "metadata": {},
     "output_type": "execute_result"
    }
   ],
   "source": [
    "data['tags'].explode().value_counts().nlargest(10)"
   ]
  },
  {
   "attachments": {},
   "cell_type": "markdown",
   "id": "d29566ad",
   "metadata": {},
   "source": [
    "#### Тип путешественника"
   ]
  },
  {
   "cell_type": "code",
   "execution_count": 27,
   "id": "7f947f9c",
   "metadata": {},
   "outputs": [
    {
     "data": {
      "text/plain": [
       " Couple                        245754\n",
       " Solo traveler                 104060\n",
       " Group                          63649\n",
       " Family with young children     58573\n",
       " Family with older children     25326\n",
       "Name: traveller_type, dtype: int64"
      ]
     },
     "execution_count": 27,
     "metadata": {},
     "output_type": "execute_result"
    }
   ],
   "source": [
    "def def_traveller(tag:str)->str:\n",
    "    \"\"\"Функция извлечения типа путешественника из строки с тегом\n",
    "    \n",
    "    \"\"\"\n",
    "    try:\n",
    "        tag_list = tag.split(',')\n",
    "        traveller_type = tag_list[1]\n",
    "        traveller_type = re.sub(r'[\\']', '', traveller_type)\n",
    "        traveller_type = re.sub(r'^\\s|\\s$', '', traveller_type)\n",
    "        return traveller_type\n",
    "    \n",
    "    except IndexError:\n",
    "        return None\n",
    "\n",
    "data['traveller_type'] = data['tags'].apply(def_traveller)\n",
    "data['traveller_type'].value_counts().head()"
   ]
  },
  {
   "cell_type": "code",
   "execution_count": 28,
   "id": "e7d29f96",
   "metadata": {},
   "outputs": [
    {
     "name": "stdout",
     "output_type": "stream",
     "text": [
      "Index([' Couple', ' Solo traveler', ' Group', ' Family with young children',\n",
      "       ' Family with older children', ' Travelers with friends'],\n",
      "      dtype='object')\n"
     ]
    },
    {
     "data": {
      "text/plain": [
       " Couple                        245754\n",
       " Solo traveler                 104060\n",
       " Group                          63649\n",
       " Family with young children     58573\n",
       " Family with older children     25326\n",
       "Name: traveller_type, dtype: int64"
      ]
     },
     "execution_count": 28,
     "metadata": {},
     "output_type": "execute_result"
    }
   ],
   "source": [
    "# Оставим 6 самых частых типа, а остальные объединим в 'Other'\n",
    "popular_travellers_types = data['traveller_type'].value_counts().nlargest(6).index\n",
    "print(popular_travellers_types)\n",
    "\n",
    "data['traveller_type'] = data['traveller_type'].apply(lambda x: x if x in popular_travellers_types else ' Other')\n",
    "data['traveller_type'].value_counts().head()"
   ]
  },
  {
   "attachments": {},
   "cell_type": "markdown",
   "id": "1908612d",
   "metadata": {},
   "source": [
    "#### Тип путешествия"
   ]
  },
  {
   "cell_type": "code",
   "execution_count": 29,
   "id": "46319cb3",
   "metadata": {},
   "outputs": [
    {
     "data": {
      "text/plain": [
       "Leisure trip     416672\n",
       "Business trip     82748\n",
       "Couple             5808\n",
       "Solo traveler      4291\n",
       "Family             3158\n",
       "Name: trip_type, dtype: int64"
      ]
     },
     "execution_count": 29,
     "metadata": {},
     "output_type": "execute_result"
    }
   ],
   "source": [
    "def def_trip_type(tag:str)->str:\n",
    "    \"\"\"Функция извлечения типа путешествия из строки с тегом\n",
    "    \"\"\"\n",
    "    tag_list = tag.split(', ')\n",
    "    trip_type = tag_list[0]\n",
    "    \n",
    "    if 'Leisure trip' in trip_type:\n",
    "        return 'Leisure trip'\n",
    "    elif 'Business trip' in trip_type:\n",
    "        return 'Business trip'\n",
    "    elif 'Couple' in trip_type:\n",
    "        return 'Couple'\n",
    "    elif 'Solo' in trip_type:\n",
    "        return 'Solo traveler'\n",
    "    elif 'Family' in trip_type:\n",
    "        return 'Family'\n",
    "    elif 'Group' in trip_type:\n",
    "        return 'Group'\n",
    "    elif 'pet' in trip_type:\n",
    "        return 'With a pet'\n",
    "    elif 'friends' in trip_type:\n",
    "        return 'Group'\n",
    "    else:\n",
    "        return ' Other'\n",
    "\n",
    "data['trip_type'] = data['tags'].apply(def_trip_type)\n",
    "data['trip_type'].value_counts().head()"
   ]
  },
  {
   "attachments": {},
   "cell_type": "markdown",
   "id": "70220317",
   "metadata": {},
   "source": [
    "#### Длительность отдыха"
   ]
  },
  {
   "cell_type": "code",
   "execution_count": 30,
   "id": "c3a15667",
   "metadata": {},
   "outputs": [
    {
     "data": {
      "text/plain": [
       "1    193645\n",
       "2    133937\n",
       "3     95821\n",
       "4     47817\n",
       "5     20845\n",
       "Name: stay_length, dtype: int64"
      ]
     },
     "execution_count": 30,
     "metadata": {},
     "output_type": "execute_result"
    }
   ],
   "source": [
    "def get_stay_length(arg:str)->int:\n",
    "    \"\"\"Функция определения длительности путешествия\n",
    "    \"\"\"\n",
    "    \n",
    "    # Ищем числа по шаблону 'Stayed D'\n",
    "    length = re.findall(r'(?<=Stayed )\\d+', arg)\n",
    "    \n",
    "    # Проверяем сколько цифр в найденном\n",
    "    if len(length) == 1:\n",
    "        return int(length[0])\n",
    "    else:\n",
    "        return 0 # если цифр нет, то возвращаем 0\n",
    "\n",
    "data['stay_length'] = data['tags'].apply(get_stay_length)\n",
    "data['stay_length'].value_counts().head()"
   ]
  },
  {
   "cell_type": "code",
   "execution_count": 31,
   "id": "680fd1d2",
   "metadata": {},
   "outputs": [
    {
     "data": {
      "text/plain": [
       "Text(0.5, -0.2, 'Рис.3 - Распределение длительности отдыха')"
      ]
     },
     "execution_count": 31,
     "metadata": {},
     "output_type": "execute_result"
    },
    {
     "data": {
      "image/png": "[encoded data removed]",
      "text/plain": [
       "<Figure size 1000x500 with 1 Axes>"
      ]
     },
     "metadata": {},
     "output_type": "display_data"
    }
   ],
   "source": [
    "# Отобразим диаграмму распределения длительности отдыха\n",
    "fig = plt.figure(figsize=(10, 5))\n",
    "\n",
    "hist = sns.histplot(\n",
    "    data=data,\n",
    "    x='stay_length', \n",
    "    bins=15,\n",
    "    #kde=True,\n",
    ");\n",
    "hist.set(xlabel='Длительность отдыха, дни', ylabel='Количество посетителей, чел')\n",
    "hist.set_title('Рис.3 - Распределение длительности отдыха', y=-0.2, fontsize=14)"
   ]
  },
  {
   "cell_type": "code",
   "execution_count": 32,
   "id": "28c12904",
   "metadata": {},
   "outputs": [],
   "source": [
    "# Сократим количество уникальных значений до 10\n",
    "data['stay_length'] = data['stay_length'].apply(lambda x: 10 if x > 9 else x)"
   ]
  },
  {
   "attachments": {},
   "cell_type": "markdown",
   "id": "61dbc6b2",
   "metadata": {},
   "source": [
    "#### Тип комнаты"
   ]
  },
  {
   "cell_type": "code",
   "execution_count": 33,
   "id": "a512661d",
   "metadata": {},
   "outputs": [
    {
     "data": {
      "text/plain": [
       " Double Room                     34027\n",
       " Standard Double Room            31242\n",
       " Superior Double Room            30460\n",
       " Deluxe Double Room              24001\n",
       " Double or Twin Room             21732\n",
       " Standard Double or Twin Room    16978\n",
       " Classic Double Room             16553\n",
       " Superior Double or Twin Room    13245\n",
       " 2 rooms                         12054\n",
       " Standard Twin Room               9346\n",
       " Single Room                      9239\n",
       " Twin Room                        7950\n",
       " Executive Double Room            6229\n",
       " Classic Double or Twin Room      5985\n",
       " Deluxe Double or Twin Room       5838\n",
       "Name: room_type, dtype: int64"
      ]
     },
     "execution_count": 33,
     "metadata": {},
     "output_type": "execute_result"
    }
   ],
   "source": [
    "def room_type(tag:str)->str:\n",
    "    \"\"\"Функция определения типа комнаты \n",
    "    \"\"\"\n",
    "    try:\n",
    "        tag_list = tag.split(',')\n",
    "        trip_type = tag_list[2]\n",
    "        trip_type = re.sub(r'[\\']', '', trip_type)\n",
    "        trip_type = re.sub(r'^\\s|\\s$', '', trip_type)\n",
    "        return trip_type\n",
    "    except IndexError:\n",
    "        return None\n",
    "\n",
    "data['room_type'] = data['tags'].apply(room_type)\n",
    "data['room_type'].value_counts().nlargest(15)"
   ]
  },
  {
   "cell_type": "code",
   "execution_count": 34,
   "id": "bac14307",
   "metadata": {},
   "outputs": [
    {
     "data": {
      "text/plain": [
       "Double Room    292793\n",
       "Family Room    172656\n",
       "Single Room     24304\n",
       "Suite           16729\n",
       "Triple Room      9256\n",
       "Name: room_type, dtype: int64"
      ]
     },
     "execution_count": 34,
     "metadata": {},
     "output_type": "execute_result"
    }
   ],
   "source": [
    "def get_room_type(description:str)->str:\n",
    "    \"\"\"Функция унификации типов комнат\n",
    "    \"\"\"\n",
    "    description_list = description.split(' ')\n",
    "    if 'Suite' in description_list:\n",
    "        return 'Suite'\n",
    "    elif 'Double' in description_list:\n",
    "        return 'Double Room'\n",
    "    elif 'Single' in description_list:\n",
    "        return 'Single Room'\n",
    "    elif 'Triple' in description_list:\n",
    "        return 'Triple Room'\n",
    "    elif 'Family' or 'children' in description_list:\n",
    "        return 'Family Room'\n",
    "    elif 'King' or 'Queen' in description_list:\n",
    "        return 'King Room'\n",
    "    elif 'Twin' in description_list:\n",
    "        return 'Twin Room'\n",
    "    elif 'Apartment' in description_list:\n",
    "        return 'Apartment'\n",
    "    elif 'Standard' in description_list:\n",
    "        return 'Standard Room'\n",
    "    elif 'Deluxe' in description_list:\n",
    "        return 'Deluxe Room'\n",
    "    elif 'Rooms' or 'rooms' in description_list:\n",
    "        return 'Several Rooms'\n",
    "    elif 'Stayed' in description_list:\n",
    "        return 'Other'\n",
    "    else:\n",
    "        return description\n",
    "\n",
    "room_types = data['room_type'].astype('str').apply(get_room_type)\n",
    "room_types.value_counts().nlargest(15)"
   ]
  },
  {
   "cell_type": "code",
   "execution_count": 35,
   "id": "47fefe39",
   "metadata": {},
   "outputs": [
    {
     "name": "stdout",
     "output_type": "stream",
     "text": [
      "Index(['Double Room', 'Family Room', 'Single Room', 'Suite', 'Triple Room'], dtype='object')\n"
     ]
    }
   ],
   "source": [
    "# Оставим 12 самых частых типов комнат, а остальные назовем 'Others'\n",
    "popular_room_types = room_types.value_counts().nlargest(11).index\n",
    "print(popular_room_types)\n",
    "\n",
    "data['room_type'] = room_types.apply(lambda x: x if x in popular_room_types else 'other')\n",
    "\n",
    "# Удаляем оригинальный признак 'tags'\n",
    "data.drop(['tags'], axis=1, inplace=True)"
   ]
  },
  {
   "cell_type": "markdown",
   "id": "f1080f2d",
   "metadata": {
    "papermill": {
     "duration": 0.051635,
     "end_time": "2022-12-17T10:55:14.278880",
     "exception": false,
     "start_time": "2022-12-17T10:55:14.227245",
     "status": "completed"
    },
    "tags": []
   },
   "source": [
    "### review_date"
   ]
  },
  {
   "cell_type": "code",
   "execution_count": 36,
   "id": "fc8cf7eb",
   "metadata": {},
   "outputs": [],
   "source": [
    "# Добавляем признак давности размещения отзыва и месяца\n",
    "data['review_date'] = pd.to_datetime(data['review_date'], errors='coerce', format='%m/%d/%Y')\n",
    "\n",
    "# Считаем давность отзыва\n",
    "data['days_since_review'] = ((data['review_date'].max() - data['review_date'])/np.timedelta64(1,'D')).astype(int)\n",
    "data['review_month'] = data['review_date'].dt.month.astype(int)\n",
    "data['review_day'] = data['review_date'].dt.day.astype(int)\n",
    "data['review_weekday'] = data['review_date'].dt.dayofweek.astype(int)\n",
    "\n",
    "# Удаляем оригинальный признак\n",
    "#data.drop(['review_date'], axis=1, inplace=True)"
   ]
  },
  {
   "cell_type": "markdown",
   "id": "fd68f07a",
   "metadata": {
    "papermill": {
     "duration": 0.052193,
     "end_time": "2022-12-17T10:55:23.816371",
     "exception": false,
     "start_time": "2022-12-17T10:55:23.764178",
     "status": "completed"
    },
    "tags": []
   },
   "source": [
    "### days_since_review"
   ]
  },
  {
   "cell_type": "code",
   "execution_count": 37,
   "id": "cacdffd5",
   "metadata": {
    "papermill": {
     "duration": 0.05237,
     "end_time": "2022-12-17T10:55:23.923578",
     "exception": false,
     "start_time": "2022-12-17T10:55:23.871208",
     "status": "completed"
    },
    "tags": []
   },
   "outputs": [],
   "source": [
    "# Добавляем признак давности размещения отзыва и месяца\n",
    "data['review_date'] = pd.to_datetime(data['review_date'], errors='coerce', format='%m/%d/%Y')\n",
    "\n",
    "# Считаем давность отзыва\n",
    "data['days_since_review'] = ((data['review_date'].max() - data['review_date'])/np.timedelta64(1,'D')).astype(int)\n",
    "data['review_month'] = data['review_date'].dt.month.astype(int)\n",
    "data['review_day'] = data['review_date'].dt.day.astype(int)\n",
    "data['review_weekday'] = data['review_date'].dt.dayofweek.astype(int)\n",
    "\n",
    "# Удаляем оригинальный признак\n",
    "data.drop(['review_date'], axis=1, inplace=True)"
   ]
  },
  {
   "attachments": {},
   "cell_type": "markdown",
   "id": "b12b9306",
   "metadata": {},
   "source": [
    "## Обработка числовых признаков"
   ]
  },
  {
   "attachments": {},
   "cell_type": "markdown",
   "id": "ac50d215",
   "metadata": {},
   "source": [
    "### Координаты 'lat' и 'lng'"
   ]
  },
  {
   "cell_type": "code",
   "execution_count": 38,
   "id": "77a71fb6",
   "metadata": {
    "papermill": {
     "duration": 0.053529,
     "end_time": "2022-12-17T10:55:24.243057",
     "exception": false,
     "start_time": "2022-12-17T10:55:24.189528",
     "status": "completed"
    },
    "tags": []
   },
   "outputs": [
    {
     "name": "stdout",
     "output_type": "stream",
     "text": [
      "Признаки с пропусками, %: \n",
      "lat    0.63\n",
      "lng    0.63\n",
      "dtype: float64\n"
     ]
    }
   ],
   "source": [
    "# Вычислим процент пропусков в среднем по столбцам\n",
    "cols_null_percent = round(data.isnull().mean() * 100, 2)\n",
    "cols_with_null = cols_null_percent[cols_null_percent > 0].sort_values(ascending=False)\n",
    "print(f\"Признаки с пропусками, %: \\n{cols_with_null}\")"
   ]
  },
  {
   "cell_type": "code",
   "execution_count": 39,
   "id": "ccfa41e3",
   "metadata": {},
   "outputs": [
    {
     "data": {
      "image/png": "[encoded data removed]",
      "text/plain": [
       "<Figure size 800x900 with 3 Axes>"
      ]
     },
     "metadata": {},
     "output_type": "display_data"
    }
   ],
   "source": [
    "#распространённый способ визуализации пропусков — тепловая карта. \n",
    "colors = ['blue', 'yellow'] \n",
    "fig, ax = plt.subplots(2, 1, figsize=(8, 9))\n",
    "fig.subplots_adjust(left=0.1,\n",
    "                    bottom=0.1,\n",
    "                    right=0.9,\n",
    "                    top=0.9,\n",
    "                    wspace=0.5,\n",
    "                    hspace=0.4)\n",
    "\n",
    "cols = cols_with_null.index\n",
    "fig_1 = sns.heatmap(\n",
    "    data[cols].isnull(),\n",
    "    cmap=sns.color_palette(colors), ax=ax[0]\n",
    ")\n",
    "fig_1.set_title('Рис. 1 - Распределение пропусков датасета', y=-0.25, fontsize=14);\n",
    "\n",
    "\n",
    "# Построим график, на котором отложим координаты \n",
    "fig_2 = sns.scatterplot(data=data, x='lat', y='lng', ax=ax[1])\n",
    "fig_2.set_title('Рис. 2 - Распределение координат отелей датасета', y=-0.25, fontsize=14);"
   ]
  },
  {
   "cell_type": "code",
   "execution_count": 40,
   "id": "2f6092de",
   "metadata": {},
   "outputs": [
    {
     "data": {
      "text/plain": [
       "'Количество строк с названиями городов, в которых обнаружены пропуски: 3'"
      ]
     },
     "metadata": {},
     "output_type": "display_data"
    },
    {
     "data": {
      "text/plain": [
       "\"Количество уникальных названий городов: 3. Это: ['Paris', 'Vienna', 'Barcelona']\""
      ]
     },
     "metadata": {},
     "output_type": "display_data"
    }
   ],
   "source": [
    "# Определение записей содержаших пропуски\n",
    "null_addresses = list(set(data[data['lat'].isnull()]['city']))\n",
    "\n",
    "null_cities = list()\n",
    "for x in null_addresses:\n",
    "    null_cities.append(x) \n",
    "    \n",
    "# Список уникальных городов\n",
    "distinct_cities=list(set(null_cities))\n",
    "\n",
    "display(f'Количество строк с названиями городов, в которых обнаружены пропуски: {len(null_cities)}')\n",
    "display(f'Количество уникальных названий городов: {len(set(null_cities))}. Это: {distinct_cities}')"
   ]
  },
  {
   "attachments": {},
   "cell_type": "markdown",
   "id": "8edb91ba",
   "metadata": {},
   "source": [
    "Пропусков мало и их можно устранить, взяв координаты цетров одноименных городов из результатов поиска гуглом."
   ]
  },
  {
   "cell_type": "code",
   "execution_count": 41,
   "id": "4d263e8f",
   "metadata": {},
   "outputs": [
    {
     "data": {
      "text/plain": [
       "additional_number_of_scoring    0.0\n",
       "average_score                   0.0\n",
       "hotel_name                      0.0\n",
       "reviewer_nationality            0.0\n",
       "negative_review                 0.0\n",
       "dtype: float64"
      ]
     },
     "metadata": {},
     "output_type": "display_data"
    }
   ],
   "source": [
    "# Координаты центров городов\n",
    "city_center_coordinates = {\n",
    "    'Vienna': [48.210033, 16.363449],\n",
    "    'Barcelona': [41.390205, 2.154007],\n",
    "    'Paris': [48.864716, 2.349014]\n",
    "}\n",
    "\n",
    "lat_mask = data['lat'].isnull()\n",
    "lng_mask = data['lng'].isnull()\n",
    "\n",
    "for city, coordinates in city_center_coordinates.items():\n",
    "    data.loc[(lat_mask & (data['city'] == city)), 'lat'] = coordinates[0]\n",
    "    data.loc[(lng_mask & (data['city'] == city)), 'lng'] = coordinates[1]\n",
    "    \n",
    "#Проверка отсутствия пропущенных значений (доля пропусков)\n",
    "display(data.isnull().mean().head())"
   ]
  },
  {
   "attachments": {},
   "cell_type": "markdown",
   "id": "0411195a",
   "metadata": {},
   "source": [
    "## Нормализация числовых признаков, кроме: 'sample', 'lng', 'lat'"
   ]
  },
  {
   "cell_type": "code",
   "execution_count": 42,
   "id": "9246773c",
   "metadata": {},
   "outputs": [
    {
     "data": {
      "text/plain": [
       "['additional_number_of_scoring',\n",
       " 'average_score',\n",
       " 'review_total_negative_word_counts',\n",
       " 'total_number_of_reviews',\n",
       " 'review_total_positive_word_counts',\n",
       " 'total_number_of_reviews_reviewer_has_given',\n",
       " 'days_since_review',\n",
       " 'stay_length']"
      ]
     },
     "execution_count": 42,
     "metadata": {},
     "output_type": "execute_result"
    }
   ],
   "source": [
    "categorical_columns_names, numerical_columns_names = get_sort_features(data)\n",
    "#numerical_columns_names\n",
    "\n",
    "for i in ['lat', 'lng','sample', 'reviewer_score', 'review_month', 'review_day', 'review_weekday', 'nationality_same_as_country']:\n",
    "    numerical_columns_names.remove(i)\n",
    "numerical_columns_names"
   ]
  },
  {
   "cell_type": "code",
   "execution_count": 43,
   "id": "798575e8",
   "metadata": {},
   "outputs": [
    {
     "data": {
      "image/png": "[encoded data removed]",
      "text/plain": [
       "<Figure size 800x500 with 1 Axes>"
      ]
     },
     "metadata": {},
     "output_type": "display_data"
    }
   ],
   "source": [
    "fig = plt.figure(figsize=(8, 5))\n",
    "\n",
    "boxplot = sns.boxplot(data=data[numerical_columns_names], orient='h')\n",
    "boxplot.set_title('Рис.3 - Распределение числовых признаков', y=-0.2, fontsize=12)\n",
    "boxplot.set_xlabel('Разброс')\n",
    "boxplot.set_ylabel('Признак')\n",
    "boxplot.grid();"
   ]
  },
  {
   "cell_type": "code",
   "execution_count": 44,
   "id": "23b23311",
   "metadata": {},
   "outputs": [
    {
     "data": {
      "text/html": [
       "<div>\n",
       "<style scoped>\n",
       "    .dataframe tbody tr th:only-of-type {\n",
       "        vertical-align: middle;\n",
       "    }\n",
       "\n",
       "    .dataframe tbody tr th {\n",
       "        vertical-align: top;\n",
       "    }\n",
       "\n",
       "    .dataframe thead th {\n",
       "        text-align: right;\n",
       "    }\n",
       "</style>\n",
       "<table border=\"1\" class=\"dataframe\">\n",
       "  <thead>\n",
       "    <tr style=\"text-align: right;\">\n",
       "      <th></th>\n",
       "      <th>min</th>\n",
       "      <th>mean</th>\n",
       "      <th>max</th>\n",
       "    </tr>\n",
       "  </thead>\n",
       "  <tbody>\n",
       "    <tr>\n",
       "      <th>additional_number_of_scoring</th>\n",
       "      <td>1.0</td>\n",
       "      <td>498.08</td>\n",
       "      <td>2682.0</td>\n",
       "    </tr>\n",
       "    <tr>\n",
       "      <th>average_score</th>\n",
       "      <td>5.2</td>\n",
       "      <td>8.40</td>\n",
       "      <td>9.8</td>\n",
       "    </tr>\n",
       "    <tr>\n",
       "      <th>review_total_negative_word_counts</th>\n",
       "      <td>0.0</td>\n",
       "      <td>18.54</td>\n",
       "      <td>408.0</td>\n",
       "    </tr>\n",
       "    <tr>\n",
       "      <th>total_number_of_reviews</th>\n",
       "      <td>43.0</td>\n",
       "      <td>2743.74</td>\n",
       "      <td>16670.0</td>\n",
       "    </tr>\n",
       "    <tr>\n",
       "      <th>review_total_positive_word_counts</th>\n",
       "      <td>0.0</td>\n",
       "      <td>17.78</td>\n",
       "      <td>395.0</td>\n",
       "    </tr>\n",
       "    <tr>\n",
       "      <th>total_number_of_reviews_reviewer_has_given</th>\n",
       "      <td>1.0</td>\n",
       "      <td>7.17</td>\n",
       "      <td>355.0</td>\n",
       "    </tr>\n",
       "    <tr>\n",
       "      <th>days_since_review</th>\n",
       "      <td>0.0</td>\n",
       "      <td>354.44</td>\n",
       "      <td>730.0</td>\n",
       "    </tr>\n",
       "    <tr>\n",
       "      <th>stay_length</th>\n",
       "      <td>0.0</td>\n",
       "      <td>2.35</td>\n",
       "      <td>10.0</td>\n",
       "    </tr>\n",
       "  </tbody>\n",
       "</table>\n",
       "</div>"
      ],
      "text/plain": [
       "                                             min     mean      max\n",
       "additional_number_of_scoring                 1.0   498.08   2682.0\n",
       "average_score                                5.2     8.40      9.8\n",
       "review_total_negative_word_counts            0.0    18.54    408.0\n",
       "total_number_of_reviews                     43.0  2743.74  16670.0\n",
       "review_total_positive_word_counts            0.0    17.78    395.0\n",
       "total_number_of_reviews_reviewer_has_given   1.0     7.17    355.0\n",
       "days_since_review                            0.0   354.44    730.0\n",
       "stay_length                                  0.0     2.35     10.0"
      ]
     },
     "execution_count": 44,
     "metadata": {},
     "output_type": "execute_result"
    }
   ],
   "source": [
    "data[numerical_columns_names].agg(['min','mean', 'max']).round(2).T"
   ]
  },
  {
   "attachments": {},
   "cell_type": "markdown",
   "id": "28b36b9f",
   "metadata": {},
   "source": [
    "Обработка в 2 этапа.\n",
    "\n",
    "1 этап"
   ]
  },
  {
   "cell_type": "code",
   "execution_count": 45,
   "id": "f344b535",
   "metadata": {},
   "outputs": [
    {
     "name": "stdout",
     "output_type": "stream",
     "text": [
      "Признаки и кол-во уникальных значений:\n",
      "additional_number_of_scoring: 480\n",
      "average_score: 34\n",
      "review_total_negative_word_counts: 402\n",
      "total_number_of_reviews: 1142\n",
      "review_total_positive_word_counts: 365\n",
      "total_number_of_reviews_reviewer_has_given: 198\n",
      "days_since_review: 731\n",
      "stay_length: 11\n"
     ]
    }
   ],
   "source": [
    "# Проанализируем количество уникальных значений\n",
    "print('Признаки и кол-во уникальных значений:')\n",
    "for col in data[numerical_columns_names].columns.tolist()[:24]:\n",
    "    print(f'{col}: {data[col].nunique()}')"
   ]
  },
  {
   "cell_type": "code",
   "execution_count": 46,
   "id": "8e2ca063",
   "metadata": {},
   "outputs": [
    {
     "data": {
      "image/png": "[encoded data removed]",
      "text/plain": [
       "<Figure size 1000x600 with 1 Axes>"
      ]
     },
     "metadata": {},
     "output_type": "display_data"
    }
   ],
   "source": [
    "# инициализируем нормализатор RobustScaler\n",
    "r_scaler = preprocessing.RobustScaler()\n",
    "\n",
    "# копируем датасет\n",
    "data_norm = data[numerical_columns_names].copy()\n",
    "\n",
    "# преобразуем\n",
    "data_norm_rs = r_scaler.fit_transform(data_norm)\n",
    "\n",
    "# создаем датафрейм\n",
    "data_norm_rs = pd.DataFrame(data_norm_rs, columns=numerical_columns_names)\n",
    "\n",
    "# Визуализация\n",
    "fig, ax = plt.subplots(ncols=1, figsize=(10, 6))\n",
    "\n",
    "for col in numerical_columns_names:\n",
    "    sns.kdeplot(data_norm_rs[col], ax=ax)\n",
    "    \n",
    "ax.set_title('Рис.4 - Признаки после нормализации RobustScaler', y=-0.2, fontsize=12)\n",
    "ax.legend(numerical_columns_names)\n",
    "ax.set_xlabel('Признак')\n",
    "ax.set_ylabel('Значение');"
   ]
  },
  {
   "cell_type": "code",
   "execution_count": 47,
   "id": "88dbb331",
   "metadata": {},
   "outputs": [],
   "source": [
    "#\n",
    "#\n",
    "# нормализованные признаки не присоединены к датафрейму !! Нужно исправить\n",
    "#\n",
    "# \n",
    "# heart = heart.join(df_mm)\n",
    "# heart = heart.drop(['age', 'trestbps',  'thalach'], axis=1)"
   ]
  },
  {
   "cell_type": "code",
   "execution_count": 48,
   "id": "0b0fad40",
   "metadata": {},
   "outputs": [
    {
     "data": {
      "image/png": "[encoded data removed]",
      "text/plain": [
       "<Figure size 800x500 with 1 Axes>"
      ]
     },
     "metadata": {},
     "output_type": "display_data"
    }
   ],
   "source": [
    "categorical_columns_names, numerical_columns_names = get_sort_features(data)\n",
    "\n",
    "fig = plt.figure(figsize=(8, 5))\n",
    "\n",
    "boxplot = sns.boxplot(data=data[numerical_columns_names], orient='h')\n",
    "boxplot.set_title('Рис.5 - Распределение числовых признаков после нормализации', y=-0.2, fontsize=12)\n",
    "boxplot.set_xlabel('Разброс')\n",
    "boxplot.set_ylabel('Признак')\n",
    "boxplot.grid();"
   ]
  },
  {
   "cell_type": "markdown",
   "id": "31ba3df9",
   "metadata": {
    "papermill": {
     "duration": 0.052142,
     "end_time": "2022-12-17T10:55:24.348279",
     "exception": false,
     "start_time": "2022-12-17T10:55:24.296137",
     "status": "completed"
    },
    "tags": []
   },
   "source": [
    "## Кодировка категориальных признаков "
   ]
  },
  {
   "cell_type": "code",
   "execution_count": 49,
   "id": "19e481a4",
   "metadata": {
    "execution": {
     "iopub.execute_input": "2022-12-17T10:55:24.653231Z",
     "iopub.status.busy": "2022-12-17T10:55:24.652428Z",
     "iopub.status.idle": "2022-12-17T10:55:24.685625Z",
     "shell.execute_reply": "2022-12-17T10:55:24.684621Z",
     "shell.execute_reply.started": "2022-12-17T10:46:16.572726Z"
    },
    "papermill": {
     "duration": 0.285134,
     "end_time": "2022-12-17T10:55:24.685867",
     "exception": false,
     "start_time": "2022-12-17T10:55:24.400733",
     "status": "completed"
    },
    "tags": []
   },
   "outputs": [
    {
     "name": "stdout",
     "output_type": "stream",
     "text": [
      "<class 'pandas.core.frame.DataFrame'>\n",
      "RangeIndex: 515738 entries, 0 to 515737\n",
      "Data columns (total 25 columns):\n",
      " #   Column                                      Non-Null Count   Dtype  \n",
      "---  ------                                      --------------   -----  \n",
      " 0   additional_number_of_scoring                515738 non-null  int64  \n",
      " 1   average_score                               515738 non-null  float64\n",
      " 2   hotel_name                                  515738 non-null  object \n",
      " 3   reviewer_nationality                        515738 non-null  object \n",
      " 4   negative_review                             515738 non-null  object \n",
      " 5   review_total_negative_word_counts           515738 non-null  int64  \n",
      " 6   total_number_of_reviews                     515738 non-null  int64  \n",
      " 7   positive_review                             515738 non-null  object \n",
      " 8   review_total_positive_word_counts           515738 non-null  int64  \n",
      " 9   total_number_of_reviews_reviewer_has_given  515738 non-null  int64  \n",
      " 10  days_since_review                           515738 non-null  int32  \n",
      " 11  lat                                         515738 non-null  float64\n",
      " 12  lng                                         515738 non-null  float64\n",
      " 13  sample                                      515738 non-null  int64  \n",
      " 14  reviewer_score                              515738 non-null  float64\n",
      " 15  country                                     515738 non-null  object \n",
      " 16  city                                        515738 non-null  object \n",
      " 17  nationality_same_as_country                 515738 non-null  int16  \n",
      " 18  traveller_type                              515738 non-null  object \n",
      " 19  trip_type                                   515738 non-null  object \n",
      " 20  stay_length                                 515738 non-null  int64  \n",
      " 21  room_type                                   515738 non-null  object \n",
      " 22  review_month                                515738 non-null  int32  \n",
      " 23  review_day                                  515738 non-null  int32  \n",
      " 24  review_weekday                              515738 non-null  int32  \n",
      "dtypes: float64(4), int16(1), int32(4), int64(7), object(9)\n",
      "memory usage: 87.5+ MB\n"
     ]
    }
   ],
   "source": [
    "data.info()"
   ]
  },
  {
   "cell_type": "code",
   "execution_count": 50,
   "id": "96986cea",
   "metadata": {
    "execution": {
     "iopub.execute_input": "2022-12-17T10:55:24.826348Z",
     "iopub.status.busy": "2022-12-17T10:55:24.825309Z",
     "iopub.status.idle": "2022-12-17T10:55:24.899097Z",
     "shell.execute_reply": "2022-12-17T10:55:24.898500Z",
     "shell.execute_reply.started": "2022-12-17T10:46:16.802415Z"
    },
    "papermill": {
     "duration": 0.140587,
     "end_time": "2022-12-17T10:55:24.899269",
     "exception": false,
     "start_time": "2022-12-17T10:55:24.758682",
     "status": "completed"
    },
    "tags": []
   },
   "outputs": [],
   "source": [
    "# Удаляем признаки, которые не будем использовать\n",
    "data.drop(['hotel_name'], axis=1, inplace=True)"
   ]
  },
  {
   "cell_type": "code",
   "execution_count": 51,
   "id": "57ef041f",
   "metadata": {
    "execution": {
     "iopub.execute_input": "2022-12-17T10:55:25.013859Z",
     "iopub.status.busy": "2022-12-17T10:55:25.012815Z",
     "iopub.status.idle": "2022-12-17T10:55:25.016327Z",
     "shell.execute_reply": "2022-12-17T10:55:25.016881Z",
     "shell.execute_reply.started": "2022-12-17T10:46:16.873733Z"
    },
    "papermill": {
     "duration": 0.06278,
     "end_time": "2022-12-17T10:55:25.017069",
     "exception": false,
     "start_time": "2022-12-17T10:55:24.954289",
     "status": "completed"
    },
    "tags": []
   },
   "outputs": [
    {
     "data": {
      "text/plain": [
       "['reviewer_nationality',\n",
       " 'negative_review',\n",
       " 'positive_review',\n",
       " 'country',\n",
       " 'city',\n",
       " 'traveller_type',\n",
       " 'trip_type',\n",
       " 'room_type']"
      ]
     },
     "execution_count": 51,
     "metadata": {},
     "output_type": "execute_result"
    }
   ],
   "source": [
    "categorical_columns_names, numerical_columns_names = get_sort_features(data)\n",
    "categorical_columns_names "
   ]
  },
  {
   "cell_type": "code",
   "execution_count": 52,
   "id": "8e4b3b55",
   "metadata": {
    "execution": {
     "iopub.execute_input": "2022-12-17T10:55:25.132450Z",
     "iopub.status.busy": "2022-12-17T10:55:25.130807Z",
     "iopub.status.idle": "2022-12-17T10:55:25.598152Z",
     "shell.execute_reply": "2022-12-17T10:55:25.598688Z",
     "shell.execute_reply.started": "2022-12-17T10:46:16.881863Z"
    },
    "papermill": {
     "duration": 0.527705,
     "end_time": "2022-12-17T10:55:25.598897",
     "exception": false,
     "start_time": "2022-12-17T10:55:25.071192",
     "status": "completed"
    },
    "tags": []
   },
   "outputs": [
    {
     "data": {
      "text/plain": [
       "Index(['additional_number_of_scoring', 'average_score',\n",
       "       'review_total_negative_word_counts', 'total_number_of_reviews',\n",
       "       'review_total_positive_word_counts',\n",
       "       'total_number_of_reviews_reviewer_has_given', 'days_since_review',\n",
       "       'lat', 'lng', 'sample', 'reviewer_score', 'nationality_same_as_country',\n",
       "       'stay_length', 'review_month', 'review_day', 'review_weekday',\n",
       "       'reviewer_nationality_Australia', 'reviewer_nationality_Belgium',\n",
       "       'reviewer_nationality_Canada', 'reviewer_nationality_France',\n",
       "       'reviewer_nationality_Germany', 'reviewer_nationality_Ireland',\n",
       "       'reviewer_nationality_Israel', 'reviewer_nationality_Italy',\n",
       "       'reviewer_nationality_Netherlands', 'reviewer_nationality_Saudi Arabia',\n",
       "       'reviewer_nationality_Switzerland',\n",
       "       'reviewer_nationality_United Arab Emirates',\n",
       "       'reviewer_nationality_United Kingdom',\n",
       "       'reviewer_nationality_United States of America',\n",
       "       'reviewer_nationality_other', 'negative_review_bad_location',\n",
       "       'negative_review_bad_room_properties',\n",
       "       'negative_review_high_food_price', 'negative_review_high_room_price',\n",
       "       'negative_review_internet_problems', 'negative_review_negative',\n",
       "       'negative_review_neutral', 'negative_review_no_gym',\n",
       "       'negative_review_noise', 'negative_review_poor_menu',\n",
       "       'negative_review_poor_parking', 'negative_review_poor_service',\n",
       "       'negative_review_positive', 'positive_review_neutral',\n",
       "       'positive_review_positive', 'country_Austria', 'country_France',\n",
       "       'country_Italy', 'country_Netherlands', 'country_Spain',\n",
       "       'country_United Kingdom', 'city_Amsterdam', 'city_Barcelona',\n",
       "       'city_London', 'city_Milan', 'city_Paris', 'city_Vienna',\n",
       "       'traveller_type_ Couple', 'traveller_type_ Family with older children',\n",
       "       'traveller_type_ Family with young children', 'traveller_type_ Group',\n",
       "       'traveller_type_ Other', 'traveller_type_ Solo traveler',\n",
       "       'traveller_type_ Travelers with friends', 'trip_type_Business trip',\n",
       "       'trip_type_Couple', 'trip_type_Family', 'trip_type_Group',\n",
       "       'trip_type_Leisure trip', 'trip_type_Solo traveler',\n",
       "       'trip_type_With a pet', 'room_type_Double Room',\n",
       "       'room_type_Family Room', 'room_type_Single Room', 'room_type_Suite',\n",
       "       'room_type_Triple Room'],\n",
       "      dtype='object')"
      ]
     },
     "execution_count": 52,
     "metadata": {},
     "output_type": "execute_result"
    }
   ],
   "source": [
    "data = pd.get_dummies(data, columns=categorical_columns_names)\n",
    "data.columns"
   ]
  },
  {
   "attachments": {},
   "cell_type": "markdown",
   "id": "8fb9009d",
   "metadata": {},
   "source": [
    "## Проверка на мультиколлинеарность"
   ]
  },
  {
   "cell_type": "code",
   "execution_count": 53,
   "id": "458e60e4",
   "metadata": {},
   "outputs": [
    {
     "name": "stdout",
     "output_type": "stream",
     "text": [
      "Признаки с подозрением на мультиколлинеарность\n",
      "1 additional_number_of_scoring\n",
      "2 total_number_of_reviews\n",
      "3 lat\n",
      "4 lng\n",
      "5 nationality_same_as_country\n",
      "6 reviewer_nationality_United Kingdom\n",
      "7 positive_review_neutral\n",
      "8 positive_review_positive\n",
      "9 country_Austria\n",
      "10 country_Spain\n",
      "11 city_Barcelona\n",
      "12 city_Vienna\n",
      "13 trip_type_Business trip\n",
      "14 trip_type_Leisure trip\n",
      "15 room_type_Double Room\n",
      "16 room_type_Family Room\n"
     ]
    }
   ],
   "source": [
    "# чтобы исключить мультиколлениарность удалим признаки, сильно коррелирующий с другим признаком\n",
    "# Отберем признаки, корреляция между которыми превышает 0,7\n",
    "pivot = data.corr()\n",
    "pivot = pivot.drop('sample', axis=0)\n",
    "pivot = pivot.drop('sample', axis=1)\n",
    "\n",
    "for col in pivot:\n",
    "    pivot[col] = pivot[col].apply(lambda x: np.nan if (abs(x) < 0.7 or x == 1) else x)\n",
    "    \n",
    "for col in pivot:\n",
    "    pivot = pivot.dropna(how='all')\n",
    "    pivot = pivot.dropna(how='all', axis='columns')\n",
    "\n",
    "high_correlation_features = list(pivot.columns) # список признаков c высокой корреляцией\n",
    "pivot \n",
    "\n",
    "print('Признаки с подозрением на мультиколлинеарность')\n",
    "for count, value in enumerate(high_correlation_features, start=1): # list features from 1\n",
    "    print(count, value)"
   ]
  },
  {
   "cell_type": "code",
   "execution_count": 57,
   "id": "3cc3d302",
   "metadata": {},
   "outputs": [
    {
     "data": {
      "image/png": "[encoded data removed]",
      "text/plain": [
       "<Figure size 1200x500 with 2 Axes>"
      ]
     },
     "metadata": {},
     "output_type": "display_data"
    }
   ],
   "source": [
    "fig, ax = plt.subplots(ncols=1, figsize=(12, 5))\n",
    "\n",
    "matrix = np.triu(pivot)  \n",
    "fig = sns.heatmap(round(abs(pivot),2), annot=True,  cmap= 'coolwarm', mask=matrix) #, vmin=-1, vmax=1, center= 0, fmt='.02g',\n",
    "ax.set_title('Рис. 6 - Тепловая карта корреляции переменных', y=-0.8, fontsize=12)\n",
    "ax.tick_params(axis='x', rotation=90);"
   ]
  },
  {
   "cell_type": "code",
   "execution_count": 70,
   "id": "c14ae9f0",
   "metadata": {},
   "outputs": [
    {
     "name": "stdout",
     "output_type": "stream",
     "text": [
      "Deleted 0 columns\n"
     ]
    }
   ],
   "source": [
    "# Удаляем признаки с максимальной корреляцией\n",
    "counter = 0\n",
    "for lower_bound in np.linspace(0.98, 0.7, num=14):\n",
    "    for col in pivot:\n",
    "        if pivot[col].max() > lower_bound or pivot[col].min() < -lower_bound:\n",
    "            #pivot = pivot.drop(col, axis=0)\n",
    "            pivot = pivot.drop(col, axis=1)\n",
    "            #data = data.drop(col, axis=1)\n",
    "            counter += 1\n",
    "            \n",
    "print('Deleted', counter, 'columns')"
   ]
  },
  {
   "cell_type": "code",
   "execution_count": null,
   "id": "cd1c875b",
   "metadata": {},
   "outputs": [],
   "source": [
    "# fig, ax = plt.subplots(ncols=1, figsize=(30, 25))\n",
    "\n",
    "# matrix = np.triu(data.corr())  \n",
    "# fig = sns.heatmap(round(abs(data.corr()),2), annot=True,  cmap= 'coolwarm', mask=matrix) #, vmin=-1, vmax=1, center= 0, fmt='.02g',\n",
    "# ax.set_title('Рис. 6 - Тепловая карта корреляции переменных', y=-0.15, fontsize=12);"
   ]
  },
  {
   "attachments": {},
   "cell_type": "markdown",
   "id": "22928e0d",
   "metadata": {
    "papermill": {
     "duration": 0.052673,
     "end_time": "2022-12-17T10:55:25.704723",
     "exception": false,
     "start_time": "2022-12-17T10:55:25.652050",
     "status": "completed"
    },
    "tags": []
   },
   "source": [
    "## Модель"
   ]
  },
  {
   "attachments": {},
   "cell_type": "markdown",
   "id": "e239d5b9",
   "metadata": {
    "papermill": {
     "duration": 0.053696,
     "end_time": "2022-12-17T10:55:26.032697",
     "exception": false,
     "start_time": "2022-12-17T10:55:25.979001",
     "status": "completed"
    },
    "tags": []
   },
   "source": [
    "#### Проверяем остались ли признаки типа object"
   ]
  },
  {
   "cell_type": "code",
   "execution_count": 72,
   "id": "f0cd70cc",
   "metadata": {},
   "outputs": [
    {
     "data": {
      "text/plain": [
       "uint8      59\n",
       "int64       7\n",
       "float64     4\n",
       "int32       4\n",
       "int16       1\n",
       "dtype: int64"
      ]
     },
     "execution_count": 72,
     "metadata": {},
     "output_type": "execute_result"
    }
   ],
   "source": [
    "data.dtypes.value_counts()\n",
    "\n",
    "# Если остались признаки с dtypes \"object\", то модель обучаться не будет. Их нужно удалить\n",
    "#object_columns = [s for s in data.columns if data[s].dtypes == 'object']\n",
    "#data.drop(object_columns, axis = 1, inplace=True)"
   ]
  },
  {
   "cell_type": "code",
   "execution_count": 74,
   "id": "d3b88e73",
   "metadata": {
    "execution": {
     "iopub.execute_input": "2022-12-17T10:55:26.476240Z",
     "iopub.status.busy": "2022-12-17T10:55:26.475477Z",
     "iopub.status.idle": "2022-12-17T10:55:26.673853Z",
     "shell.execute_reply": "2022-12-17T10:55:26.673191Z",
     "shell.execute_reply.started": "2022-12-17T10:46:17.498003Z"
    },
    "papermill": {
     "duration": 0.25886,
     "end_time": "2022-12-17T10:55:26.674019",
     "exception": false,
     "start_time": "2022-12-17T10:55:26.415159",
     "status": "completed"
    },
    "tags": []
   },
   "outputs": [],
   "source": [
    "# Теперь выделим тестовую часть\n",
    "train_data = data.query('sample == 1').drop(['sample'], axis=1)\n",
    "test_data = data.query('sample == 0').drop(['sample'], axis=1)\n",
    "\n",
    "\n",
    "X = train_data.drop(['reviewer_score'], axis=1)\n",
    "y = train_data['reviewer_score'].values            # наш таргет"
   ]
  },
  {
   "cell_type": "code",
   "execution_count": 82,
   "id": "1813c0b6",
   "metadata": {},
   "outputs": [
    {
     "data": {
      "image/png": "[encoded data removed]",
      "text/plain": [
       "<Figure size 1000x300 with 1 Axes>"
      ]
     },
     "metadata": {},
     "output_type": "display_data"
    }
   ],
   "source": [
    "#display(train_data['reviewer_score'].value_counts(normalize=True))\n",
    "\n",
    "fig, ax = plt.subplots(figsize = (10, 3))\n",
    "ax = sns.histplot(data=train_data, x='reviewer_score')\n",
    "#Задаем название графику\n",
    "ax.set_title('Баланс классов признака reviewer_score');"
   ]
  },
  {
   "cell_type": "code",
   "execution_count": 86,
   "id": "6884e95a",
   "metadata": {
    "execution": {
     "iopub.execute_input": "2022-12-17T10:55:26.794393Z",
     "iopub.status.busy": "2022-12-17T10:55:26.793599Z",
     "iopub.status.idle": "2022-12-17T10:55:26.946946Z",
     "shell.execute_reply": "2022-12-17T10:55:26.947463Z",
     "shell.execute_reply.started": "2022-12-17T10:46:17.693686Z"
    },
    "papermill": {
     "duration": 0.214752,
     "end_time": "2022-12-17T10:55:26.947653",
     "exception": false,
     "start_time": "2022-12-17T10:55:26.732901",
     "status": "completed"
    },
    "tags": []
   },
   "outputs": [],
   "source": [
    "# Воспользуемся специальной функцие train_test_split для разбивки тестовых данных\n",
    "# выделим 20% данных на валидацию (параметр test_size)\n",
    "X_train, X_valid, y_train, y_valid = train_test_split(X, y, stratify=y, test_size=0.2, random_state=RANDOM_SEED)\n",
    "#разбиваем валидационную выборку на валидационную и тестовую в соотношении 50/50\n",
    "X_test, X_valid, y_test, y_valid  = train_test_split(X_valid, y_valid, test_size=0.5, random_state=RANDOM_SEED)"
   ]
  },
  {
   "cell_type": "code",
   "execution_count": 88,
   "id": "0bddc146",
   "metadata": {
    "execution": {
     "iopub.execute_input": "2022-12-17T10:55:27.060961Z",
     "iopub.status.busy": "2022-12-17T10:55:27.059932Z",
     "iopub.status.idle": "2022-12-17T10:55:27.067566Z",
     "shell.execute_reply": "2022-12-17T10:55:27.066731Z",
     "shell.execute_reply.started": "2022-12-17T10:46:17.853712Z"
    },
    "papermill": {
     "duration": 0.064729,
     "end_time": "2022-12-17T10:55:27.067718",
     "exception": false,
     "start_time": "2022-12-17T10:55:27.002989",
     "status": "completed"
    },
    "tags": []
   },
   "outputs": [
    {
     "name": "stdout",
     "output_type": "stream",
     "text": [
      "Train shape: (309442, 73)\n",
      "Valid shape: (38681, 73)\n",
      "Test shape:  (38680, 73)\n"
     ]
    }
   ],
   "source": [
    "# проверяем\n",
    "print('Train shape: {}'.format(X_train.shape))\n",
    "print('Valid shape: {}'.format(X_valid.shape))\n",
    "print('Test shape:  {}'.format(X_test.shape))"
   ]
  },
  {
   "cell_type": "code",
   "execution_count": 89,
   "id": "59cea0dc",
   "metadata": {
    "execution": {
     "iopub.execute_input": "2022-12-17T10:55:27.184549Z",
     "iopub.status.busy": "2022-12-17T10:55:27.183554Z",
     "iopub.status.idle": "2022-12-17T10:55:27.431161Z",
     "shell.execute_reply": "2022-12-17T10:55:27.430548Z",
     "shell.execute_reply.started": "2022-12-17T10:46:17.862005Z"
    },
    "papermill": {
     "duration": 0.307638,
     "end_time": "2022-12-17T10:55:27.431330",
     "exception": false,
     "start_time": "2022-12-17T10:55:27.123692",
     "status": "completed"
    },
    "tags": []
   },
   "outputs": [],
   "source": [
    "# Импортируем необходимые библиотеки:\n",
    "from sklearn.ensemble import RandomForestRegressor # инструмент для создания и обучения модели\n",
    "from sklearn import metrics # инструменты для оценки точности модели"
   ]
  },
  {
   "attachments": {},
   "cell_type": "markdown",
   "id": "5f8186a0",
   "metadata": {},
   "source": [
    "### Model Random forest"
   ]
  },
  {
   "cell_type": "code",
   "execution_count": 90,
   "id": "a6983b92",
   "metadata": {
    "execution": {
     "iopub.execute_input": "2022-12-17T10:55:27.550756Z",
     "iopub.status.busy": "2022-12-17T10:55:27.549990Z",
     "iopub.status.idle": "2022-12-17T10:55:27.553051Z",
     "shell.execute_reply": "2022-12-17T10:55:27.552401Z",
     "shell.execute_reply.started": "2022-12-17T10:46:18.081680Z"
    },
    "papermill": {
     "duration": 0.064719,
     "end_time": "2022-12-17T10:55:27.553197",
     "exception": false,
     "start_time": "2022-12-17T10:55:27.488478",
     "status": "completed"
    },
    "tags": []
   },
   "outputs": [],
   "source": [
    "# Создаём модель (НАСТРОЙКИ НЕ ТРОГАЕМ)\n",
    "model = RandomForestRegressor(n_estimators=100, verbose=1, n_jobs=-1, random_state=RANDOM_SEED)"
   ]
  },
  {
   "cell_type": "code",
   "execution_count": 91,
   "id": "f89bc01a",
   "metadata": {
    "execution": {
     "iopub.execute_input": "2022-12-17T10:55:27.687223Z",
     "iopub.status.busy": "2022-12-17T10:55:27.686387Z",
     "iopub.status.idle": "2022-12-17T10:57:18.030935Z",
     "shell.execute_reply": "2022-12-17T10:57:18.030207Z",
     "shell.execute_reply.started": "2022-12-17T10:46:18.090067Z"
    },
    "papermill": {
     "duration": 110.417037,
     "end_time": "2022-12-17T10:57:18.031101",
     "exception": false,
     "start_time": "2022-12-17T10:55:27.614064",
     "status": "completed"
    },
    "tags": []
   },
   "outputs": [
    {
     "name": "stderr",
     "output_type": "stream",
     "text": [
      "[Parallel(n_jobs=-1)]: Using backend ThreadingBackend with 16 concurrent workers.\n",
      "[Parallel(n_jobs=-1)]: Done  18 tasks      | elapsed:   28.4s\n",
      "[Parallel(n_jobs=-1)]: Done 100 out of 100 | elapsed:  1.6min finished\n",
      "[Parallel(n_jobs=16)]: Using backend ThreadingBackend with 16 concurrent workers.\n",
      "[Parallel(n_jobs=16)]: Done  18 tasks      | elapsed:    0.0s\n",
      "[Parallel(n_jobs=16)]: Done 100 out of 100 | elapsed:    0.2s finished\n"
     ]
    }
   ],
   "source": [
    "# Обучаем модель на тестовом наборе данных\n",
    "model.fit(X_train, y_train)\n",
    "\n",
    "# Используем обученную модель для предсказания рейтинга ресторанов в тестовой выборке.\n",
    "# Предсказанные значения записываем в переменную y_pred\n",
    "y_pred = model.predict(X_test)"
   ]
  },
  {
   "attachments": {},
   "cell_type": "markdown",
   "id": "05298e6e",
   "metadata": {},
   "source": [
    "# Метрика"
   ]
  },
  {
   "cell_type": "code",
   "execution_count": 114,
   "id": "adc594eb",
   "metadata": {
    "execution": {
     "iopub.execute_input": "2022-12-17T10:57:18.148444Z",
     "iopub.status.busy": "2022-12-17T10:57:18.147738Z",
     "iopub.status.idle": "2022-12-17T10:57:18.151676Z",
     "shell.execute_reply": "2022-12-17T10:57:18.152310Z",
     "shell.execute_reply.started": "2022-12-17T10:48:03.205152Z"
    },
    "papermill": {
     "duration": 0.065798,
     "end_time": "2022-12-17T10:57:18.152499",
     "exception": false,
     "start_time": "2022-12-17T10:57:18.086701",
     "status": "completed"
    },
    "tags": []
   },
   "outputs": [
    {
     "name": "stdout",
     "output_type": "stream",
     "text": [
      " MAE: 0.92\n",
      "MAPE: 13.32 %\n"
     ]
    }
   ],
   "source": [
    "# Сравниваем предсказанные значения (y_pred) с реальными (y_test), и смотрим насколько они в среднем отличаются\n",
    "# Метрика Mean Absolute Error (MAE) и показывает среднее отклонение предсказанных значений от фактических.\n",
    "print(' MAE: {:.2}'.format(metrics.mean_absolute_error(y_test, y_pred)))\n",
    "print(f\"MAPE: {round(metrics.mean_absolute_percentage_error(y_test, y_pred)*100, 2)} %\")"
   ]
  },
  {
   "cell_type": "code",
   "execution_count": 93,
   "id": "ca9a9142",
   "metadata": {
    "execution": {
     "iopub.execute_input": "2022-12-17T10:57:18.272587Z",
     "iopub.status.busy": "2022-12-17T10:57:18.271891Z",
     "iopub.status.idle": "2022-12-17T10:57:18.893773Z",
     "shell.execute_reply": "2022-12-17T10:57:18.894327Z",
     "shell.execute_reply.started": "2022-12-17T10:48:03.214524Z"
    },
    "papermill": {
     "duration": 0.685887,
     "end_time": "2022-12-17T10:57:18.894510",
     "exception": false,
     "start_time": "2022-12-17T10:57:18.208623",
     "status": "completed"
    },
    "tags": []
   },
   "outputs": [
    {
     "data": {
      "text/plain": [
       "<AxesSubplot: >"
      ]
     },
     "execution_count": 93,
     "metadata": {},
     "output_type": "execute_result"
    },
    {
     "data": {
      "image/png": "[encoded data removed]",
      "text/plain": [
       "<Figure size 600x600 with 1 Axes>"
      ]
     },
     "metadata": {},
     "output_type": "display_data"
    }
   ],
   "source": [
    "# в RandomForestRegressor есть возможность вывести самые важные признаки для модели\n",
    "plt.rcParams['figure.figsize'] = (6,6)\n",
    "feat_importances = pd.Series(model.feature_importances_, index=X.columns)\n",
    "feat_importances.nlargest(15).plot(kind='barh')"
   ]
  },
  {
   "cell_type": "code",
   "execution_count": 94,
   "id": "caa17f58",
   "metadata": {
    "execution": {
     "iopub.execute_input": "2022-12-17T10:57:19.013175Z",
     "iopub.status.busy": "2022-12-17T10:57:19.011725Z",
     "iopub.status.idle": "2022-12-17T10:57:19.040872Z",
     "shell.execute_reply": "2022-12-17T10:57:19.040213Z",
     "shell.execute_reply.started": "2022-12-17T10:48:03.822256Z"
    },
    "papermill": {
     "duration": 0.089603,
     "end_time": "2022-12-17T10:57:19.041025",
     "exception": false,
     "start_time": "2022-12-17T10:57:18.951422",
     "status": "completed"
    },
    "tags": []
   },
   "outputs": [
    {
     "data": {
      "text/html": [
       "<div>\n",
       "<style scoped>\n",
       "    .dataframe tbody tr th:only-of-type {\n",
       "        vertical-align: middle;\n",
       "    }\n",
       "\n",
       "    .dataframe tbody tr th {\n",
       "        vertical-align: top;\n",
       "    }\n",
       "\n",
       "    .dataframe thead th {\n",
       "        text-align: right;\n",
       "    }\n",
       "</style>\n",
       "<table border=\"1\" class=\"dataframe\">\n",
       "  <thead>\n",
       "    <tr style=\"text-align: right;\">\n",
       "      <th></th>\n",
       "      <th>additional_number_of_scoring</th>\n",
       "      <th>average_score</th>\n",
       "      <th>review_total_negative_word_counts</th>\n",
       "      <th>total_number_of_reviews</th>\n",
       "      <th>review_total_positive_word_counts</th>\n",
       "      <th>total_number_of_reviews_reviewer_has_given</th>\n",
       "      <th>days_since_review</th>\n",
       "      <th>lat</th>\n",
       "      <th>lng</th>\n",
       "      <th>reviewer_score</th>\n",
       "      <th>...</th>\n",
       "      <th>trip_type_Family</th>\n",
       "      <th>trip_type_Group</th>\n",
       "      <th>trip_type_Leisure trip</th>\n",
       "      <th>trip_type_Solo traveler</th>\n",
       "      <th>trip_type_With a pet</th>\n",
       "      <th>room_type_Double Room</th>\n",
       "      <th>room_type_Family Room</th>\n",
       "      <th>room_type_Single Room</th>\n",
       "      <th>room_type_Suite</th>\n",
       "      <th>room_type_Triple Room</th>\n",
       "    </tr>\n",
       "  </thead>\n",
       "  <tbody>\n",
       "    <tr>\n",
       "      <th>61613</th>\n",
       "      <td>69</td>\n",
       "      <td>8.7</td>\n",
       "      <td>61</td>\n",
       "      <td>933</td>\n",
       "      <td>30</td>\n",
       "      <td>2</td>\n",
       "      <td>3</td>\n",
       "      <td>45.500025</td>\n",
       "      <td>9.142872</td>\n",
       "      <td>0.0</td>\n",
       "      <td>...</td>\n",
       "      <td>0</td>\n",
       "      <td>0</td>\n",
       "      <td>1</td>\n",
       "      <td>0</td>\n",
       "      <td>0</td>\n",
       "      <td>0</td>\n",
       "      <td>0</td>\n",
       "      <td>0</td>\n",
       "      <td>1</td>\n",
       "      <td>0</td>\n",
       "    </tr>\n",
       "    <tr>\n",
       "      <th>39134</th>\n",
       "      <td>167</td>\n",
       "      <td>8.8</td>\n",
       "      <td>0</td>\n",
       "      <td>1696</td>\n",
       "      <td>7</td>\n",
       "      <td>5</td>\n",
       "      <td>136</td>\n",
       "      <td>41.383164</td>\n",
       "      <td>2.160474</td>\n",
       "      <td>0.0</td>\n",
       "      <td>...</td>\n",
       "      <td>0</td>\n",
       "      <td>0</td>\n",
       "      <td>0</td>\n",
       "      <td>0</td>\n",
       "      <td>0</td>\n",
       "      <td>0</td>\n",
       "      <td>1</td>\n",
       "      <td>0</td>\n",
       "      <td>0</td>\n",
       "      <td>0</td>\n",
       "    </tr>\n",
       "    <tr>\n",
       "      <th>84611</th>\n",
       "      <td>757</td>\n",
       "      <td>8.7</td>\n",
       "      <td>0</td>\n",
       "      <td>5236</td>\n",
       "      <td>5</td>\n",
       "      <td>1</td>\n",
       "      <td>293</td>\n",
       "      <td>52.357655</td>\n",
       "      <td>4.844576</td>\n",
       "      <td>0.0</td>\n",
       "      <td>...</td>\n",
       "      <td>0</td>\n",
       "      <td>0</td>\n",
       "      <td>1</td>\n",
       "      <td>0</td>\n",
       "      <td>0</td>\n",
       "      <td>1</td>\n",
       "      <td>0</td>\n",
       "      <td>0</td>\n",
       "      <td>0</td>\n",
       "      <td>0</td>\n",
       "    </tr>\n",
       "    <tr>\n",
       "      <th>111298</th>\n",
       "      <td>234</td>\n",
       "      <td>9.3</td>\n",
       "      <td>5</td>\n",
       "      <td>1075</td>\n",
       "      <td>30</td>\n",
       "      <td>1</td>\n",
       "      <td>541</td>\n",
       "      <td>52.371867</td>\n",
       "      <td>4.887379</td>\n",
       "      <td>0.0</td>\n",
       "      <td>...</td>\n",
       "      <td>0</td>\n",
       "      <td>0</td>\n",
       "      <td>1</td>\n",
       "      <td>0</td>\n",
       "      <td>0</td>\n",
       "      <td>1</td>\n",
       "      <td>0</td>\n",
       "      <td>0</td>\n",
       "      <td>0</td>\n",
       "      <td>0</td>\n",
       "    </tr>\n",
       "    <tr>\n",
       "      <th>78882</th>\n",
       "      <td>2288</td>\n",
       "      <td>8.1</td>\n",
       "      <td>8</td>\n",
       "      <td>9568</td>\n",
       "      <td>2</td>\n",
       "      <td>4</td>\n",
       "      <td>222</td>\n",
       "      <td>51.511099</td>\n",
       "      <td>-0.120867</td>\n",
       "      <td>0.0</td>\n",
       "      <td>...</td>\n",
       "      <td>0</td>\n",
       "      <td>0</td>\n",
       "      <td>1</td>\n",
       "      <td>0</td>\n",
       "      <td>0</td>\n",
       "      <td>1</td>\n",
       "      <td>0</td>\n",
       "      <td>0</td>\n",
       "      <td>0</td>\n",
       "      <td>0</td>\n",
       "    </tr>\n",
       "    <tr>\n",
       "      <th>59344</th>\n",
       "      <td>512</td>\n",
       "      <td>8.0</td>\n",
       "      <td>17</td>\n",
       "      <td>2491</td>\n",
       "      <td>6</td>\n",
       "      <td>10</td>\n",
       "      <td>417</td>\n",
       "      <td>51.556155</td>\n",
       "      <td>-0.214182</td>\n",
       "      <td>0.0</td>\n",
       "      <td>...</td>\n",
       "      <td>0</td>\n",
       "      <td>0</td>\n",
       "      <td>1</td>\n",
       "      <td>0</td>\n",
       "      <td>0</td>\n",
       "      <td>1</td>\n",
       "      <td>0</td>\n",
       "      <td>0</td>\n",
       "      <td>0</td>\n",
       "      <td>0</td>\n",
       "    </tr>\n",
       "    <tr>\n",
       "      <th>57235</th>\n",
       "      <td>353</td>\n",
       "      <td>8.5</td>\n",
       "      <td>68</td>\n",
       "      <td>3583</td>\n",
       "      <td>93</td>\n",
       "      <td>1</td>\n",
       "      <td>639</td>\n",
       "      <td>48.845379</td>\n",
       "      <td>2.375304</td>\n",
       "      <td>0.0</td>\n",
       "      <td>...</td>\n",
       "      <td>0</td>\n",
       "      <td>0</td>\n",
       "      <td>1</td>\n",
       "      <td>0</td>\n",
       "      <td>0</td>\n",
       "      <td>0</td>\n",
       "      <td>1</td>\n",
       "      <td>0</td>\n",
       "      <td>0</td>\n",
       "      <td>0</td>\n",
       "    </tr>\n",
       "    <tr>\n",
       "      <th>119841</th>\n",
       "      <td>235</td>\n",
       "      <td>9.3</td>\n",
       "      <td>2</td>\n",
       "      <td>769</td>\n",
       "      <td>7</td>\n",
       "      <td>3</td>\n",
       "      <td>194</td>\n",
       "      <td>51.518918</td>\n",
       "      <td>-0.086601</td>\n",
       "      <td>0.0</td>\n",
       "      <td>...</td>\n",
       "      <td>0</td>\n",
       "      <td>0</td>\n",
       "      <td>0</td>\n",
       "      <td>0</td>\n",
       "      <td>0</td>\n",
       "      <td>1</td>\n",
       "      <td>0</td>\n",
       "      <td>0</td>\n",
       "      <td>0</td>\n",
       "      <td>0</td>\n",
       "    </tr>\n",
       "    <tr>\n",
       "      <th>68738</th>\n",
       "      <td>2623</td>\n",
       "      <td>8.7</td>\n",
       "      <td>0</td>\n",
       "      <td>12158</td>\n",
       "      <td>10</td>\n",
       "      <td>3</td>\n",
       "      <td>290</td>\n",
       "      <td>51.500961</td>\n",
       "      <td>-0.116591</td>\n",
       "      <td>0.0</td>\n",
       "      <td>...</td>\n",
       "      <td>0</td>\n",
       "      <td>0</td>\n",
       "      <td>1</td>\n",
       "      <td>0</td>\n",
       "      <td>0</td>\n",
       "      <td>0</td>\n",
       "      <td>1</td>\n",
       "      <td>0</td>\n",
       "      <td>0</td>\n",
       "      <td>0</td>\n",
       "    </tr>\n",
       "    <tr>\n",
       "      <th>96328</th>\n",
       "      <td>681</td>\n",
       "      <td>8.9</td>\n",
       "      <td>0</td>\n",
       "      <td>2692</td>\n",
       "      <td>24</td>\n",
       "      <td>15</td>\n",
       "      <td>583</td>\n",
       "      <td>51.516099</td>\n",
       "      <td>-0.118175</td>\n",
       "      <td>0.0</td>\n",
       "      <td>...</td>\n",
       "      <td>0</td>\n",
       "      <td>0</td>\n",
       "      <td>1</td>\n",
       "      <td>0</td>\n",
       "      <td>0</td>\n",
       "      <td>0</td>\n",
       "      <td>1</td>\n",
       "      <td>0</td>\n",
       "      <td>0</td>\n",
       "      <td>0</td>\n",
       "    </tr>\n",
       "  </tbody>\n",
       "</table>\n",
       "<p>10 rows × 74 columns</p>\n",
       "</div>"
      ],
      "text/plain": [
       "        additional_number_of_scoring  average_score  \\\n",
       "61613                             69            8.7   \n",
       "39134                            167            8.8   \n",
       "84611                            757            8.7   \n",
       "111298                           234            9.3   \n",
       "78882                           2288            8.1   \n",
       "59344                            512            8.0   \n",
       "57235                            353            8.5   \n",
       "119841                           235            9.3   \n",
       "68738                           2623            8.7   \n",
       "96328                            681            8.9   \n",
       "\n",
       "        review_total_negative_word_counts  total_number_of_reviews  \\\n",
       "61613                                  61                      933   \n",
       "39134                                   0                     1696   \n",
       "84611                                   0                     5236   \n",
       "111298                                  5                     1075   \n",
       "78882                                   8                     9568   \n",
       "59344                                  17                     2491   \n",
       "57235                                  68                     3583   \n",
       "119841                                  2                      769   \n",
       "68738                                   0                    12158   \n",
       "96328                                   0                     2692   \n",
       "\n",
       "        review_total_positive_word_counts  \\\n",
       "61613                                  30   \n",
       "39134                                   7   \n",
       "84611                                   5   \n",
       "111298                                 30   \n",
       "78882                                   2   \n",
       "59344                                   6   \n",
       "57235                                  93   \n",
       "119841                                  7   \n",
       "68738                                  10   \n",
       "96328                                  24   \n",
       "\n",
       "        total_number_of_reviews_reviewer_has_given  days_since_review  \\\n",
       "61613                                            2                  3   \n",
       "39134                                            5                136   \n",
       "84611                                            1                293   \n",
       "111298                                           1                541   \n",
       "78882                                            4                222   \n",
       "59344                                           10                417   \n",
       "57235                                            1                639   \n",
       "119841                                           3                194   \n",
       "68738                                            3                290   \n",
       "96328                                           15                583   \n",
       "\n",
       "              lat       lng  reviewer_score  ...  trip_type_Family  \\\n",
       "61613   45.500025  9.142872             0.0  ...                 0   \n",
       "39134   41.383164  2.160474             0.0  ...                 0   \n",
       "84611   52.357655  4.844576             0.0  ...                 0   \n",
       "111298  52.371867  4.887379             0.0  ...                 0   \n",
       "78882   51.511099 -0.120867             0.0  ...                 0   \n",
       "59344   51.556155 -0.214182             0.0  ...                 0   \n",
       "57235   48.845379  2.375304             0.0  ...                 0   \n",
       "119841  51.518918 -0.086601             0.0  ...                 0   \n",
       "68738   51.500961 -0.116591             0.0  ...                 0   \n",
       "96328   51.516099 -0.118175             0.0  ...                 0   \n",
       "\n",
       "        trip_type_Group  trip_type_Leisure trip  trip_type_Solo traveler  \\\n",
       "61613                 0                       1                        0   \n",
       "39134                 0                       0                        0   \n",
       "84611                 0                       1                        0   \n",
       "111298                0                       1                        0   \n",
       "78882                 0                       1                        0   \n",
       "59344                 0                       1                        0   \n",
       "57235                 0                       1                        0   \n",
       "119841                0                       0                        0   \n",
       "68738                 0                       1                        0   \n",
       "96328                 0                       1                        0   \n",
       "\n",
       "        trip_type_With a pet  room_type_Double Room  room_type_Family Room  \\\n",
       "61613                      0                      0                      0   \n",
       "39134                      0                      0                      1   \n",
       "84611                      0                      1                      0   \n",
       "111298                     0                      1                      0   \n",
       "78882                      0                      1                      0   \n",
       "59344                      0                      1                      0   \n",
       "57235                      0                      0                      1   \n",
       "119841                     0                      1                      0   \n",
       "68738                      0                      0                      1   \n",
       "96328                      0                      0                      1   \n",
       "\n",
       "        room_type_Single Room  room_type_Suite  room_type_Triple Room  \n",
       "61613                       0                1                      0  \n",
       "39134                       0                0                      0  \n",
       "84611                       0                0                      0  \n",
       "111298                      0                0                      0  \n",
       "78882                       0                0                      0  \n",
       "59344                       0                0                      0  \n",
       "57235                       0                0                      0  \n",
       "119841                      0                0                      0  \n",
       "68738                       0                0                      0  \n",
       "96328                       0                0                      0  \n",
       "\n",
       "[10 rows x 74 columns]"
      ]
     },
     "execution_count": 94,
     "metadata": {},
     "output_type": "execute_result"
    }
   ],
   "source": [
    "test_data.sample(10)"
   ]
  },
  {
   "cell_type": "code",
   "execution_count": 95,
   "id": "3843b1f4",
   "metadata": {
    "execution": {
     "iopub.execute_input": "2022-12-17T10:57:19.166944Z",
     "iopub.status.busy": "2022-12-17T10:57:19.166118Z",
     "iopub.status.idle": "2022-12-17T10:57:19.173972Z",
     "shell.execute_reply": "2022-12-17T10:57:19.173359Z",
     "shell.execute_reply.started": "2022-12-17T10:48:03.858762Z"
    },
    "papermill": {
     "duration": 0.074935,
     "end_time": "2022-12-17T10:57:19.174127",
     "exception": false,
     "start_time": "2022-12-17T10:57:19.099192",
     "status": "completed"
    },
    "tags": []
   },
   "outputs": [],
   "source": [
    "test_data = test_data.drop(['reviewer_score'], axis=1)"
   ]
  },
  {
   "cell_type": "code",
   "execution_count": 96,
   "id": "786e0036",
   "metadata": {
    "execution": {
     "iopub.execute_input": "2022-12-17T10:57:19.302890Z",
     "iopub.status.busy": "2022-12-17T10:57:19.301953Z",
     "iopub.status.idle": "2022-12-17T10:57:19.306092Z",
     "shell.execute_reply": "2022-12-17T10:57:19.305512Z",
     "shell.execute_reply.started": "2022-12-17T10:48:03.872842Z"
    },
    "papermill": {
     "duration": 0.073649,
     "end_time": "2022-12-17T10:57:19.306247",
     "exception": false,
     "start_time": "2022-12-17T10:57:19.232598",
     "status": "completed"
    },
    "tags": []
   },
   "outputs": [
    {
     "data": {
      "text/html": [
       "<div>\n",
       "<style scoped>\n",
       "    .dataframe tbody tr th:only-of-type {\n",
       "        vertical-align: middle;\n",
       "    }\n",
       "\n",
       "    .dataframe tbody tr th {\n",
       "        vertical-align: top;\n",
       "    }\n",
       "\n",
       "    .dataframe thead th {\n",
       "        text-align: right;\n",
       "    }\n",
       "</style>\n",
       "<table border=\"1\" class=\"dataframe\">\n",
       "  <thead>\n",
       "    <tr style=\"text-align: right;\">\n",
       "      <th></th>\n",
       "      <th>reviewer_score</th>\n",
       "      <th>id</th>\n",
       "    </tr>\n",
       "  </thead>\n",
       "  <tbody>\n",
       "    <tr>\n",
       "      <th>0</th>\n",
       "      <td>1</td>\n",
       "      <td>488440</td>\n",
       "    </tr>\n",
       "    <tr>\n",
       "      <th>1</th>\n",
       "      <td>10</td>\n",
       "      <td>274649</td>\n",
       "    </tr>\n",
       "    <tr>\n",
       "      <th>2</th>\n",
       "      <td>3</td>\n",
       "      <td>374688</td>\n",
       "    </tr>\n",
       "    <tr>\n",
       "      <th>3</th>\n",
       "      <td>10</td>\n",
       "      <td>404352</td>\n",
       "    </tr>\n",
       "    <tr>\n",
       "      <th>4</th>\n",
       "      <td>9</td>\n",
       "      <td>451596</td>\n",
       "    </tr>\n",
       "    <tr>\n",
       "      <th>...</th>\n",
       "      <td>...</td>\n",
       "      <td>...</td>\n",
       "    </tr>\n",
       "    <tr>\n",
       "      <th>128930</th>\n",
       "      <td>7</td>\n",
       "      <td>495812</td>\n",
       "    </tr>\n",
       "    <tr>\n",
       "      <th>128931</th>\n",
       "      <td>1</td>\n",
       "      <td>315577</td>\n",
       "    </tr>\n",
       "    <tr>\n",
       "      <th>128932</th>\n",
       "      <td>3</td>\n",
       "      <td>511968</td>\n",
       "    </tr>\n",
       "    <tr>\n",
       "      <th>128933</th>\n",
       "      <td>6</td>\n",
       "      <td>303386</td>\n",
       "    </tr>\n",
       "    <tr>\n",
       "      <th>128934</th>\n",
       "      <td>5</td>\n",
       "      <td>103157</td>\n",
       "    </tr>\n",
       "  </tbody>\n",
       "</table>\n",
       "<p>128935 rows × 2 columns</p>\n",
       "</div>"
      ],
      "text/plain": [
       "        reviewer_score      id\n",
       "0                    1  488440\n",
       "1                   10  274649\n",
       "2                    3  374688\n",
       "3                   10  404352\n",
       "4                    9  451596\n",
       "...                ...     ...\n",
       "128930               7  495812\n",
       "128931               1  315577\n",
       "128932               3  511968\n",
       "128933               6  303386\n",
       "128934               5  103157\n",
       "\n",
       "[128935 rows x 2 columns]"
      ]
     },
     "execution_count": 96,
     "metadata": {},
     "output_type": "execute_result"
    }
   ],
   "source": [
    "sample_submission"
   ]
  },
  {
   "cell_type": "code",
   "execution_count": 97,
   "id": "0994b26e",
   "metadata": {
    "execution": {
     "iopub.execute_input": "2022-12-17T10:57:19.435920Z",
     "iopub.status.busy": "2022-12-17T10:57:19.434441Z",
     "iopub.status.idle": "2022-12-17T10:57:22.274467Z",
     "shell.execute_reply": "2022-12-17T10:57:22.273532Z",
     "shell.execute_reply.started": "2022-12-17T10:48:03.889925Z"
    },
    "papermill": {
     "duration": 2.908803,
     "end_time": "2022-12-17T10:57:22.274678",
     "exception": false,
     "start_time": "2022-12-17T10:57:19.365875",
     "status": "completed"
    },
    "tags": []
   },
   "outputs": [
    {
     "name": "stderr",
     "output_type": "stream",
     "text": [
      "[Parallel(n_jobs=16)]: Using backend ThreadingBackend with 16 concurrent workers.\n",
      "[Parallel(n_jobs=16)]: Done  18 tasks      | elapsed:    0.2s\n",
      "[Parallel(n_jobs=16)]: Done 100 out of 100 | elapsed:    1.0s finished\n"
     ]
    }
   ],
   "source": [
    "predict_submission = model.predict(test_data)"
   ]
  },
  {
   "cell_type": "code",
   "execution_count": 98,
   "id": "7eb16e2c",
   "metadata": {
    "execution": {
     "iopub.execute_input": "2022-12-17T10:57:22.402510Z",
     "iopub.status.busy": "2022-12-17T10:57:22.401687Z",
     "iopub.status.idle": "2022-12-17T10:57:22.405345Z",
     "shell.execute_reply": "2022-12-17T10:57:22.404776Z",
     "shell.execute_reply.started": "2022-12-17T10:48:06.641528Z"
    },
    "papermill": {
     "duration": 0.069315,
     "end_time": "2022-12-17T10:57:22.405508",
     "exception": false,
     "start_time": "2022-12-17T10:57:22.336193",
     "status": "completed"
    },
    "tags": []
   },
   "outputs": [
    {
     "data": {
      "text/plain": [
       "array([8.716, 7.2  , 8.072, ..., 7.293, 9.534, 6.972])"
      ]
     },
     "execution_count": 98,
     "metadata": {},
     "output_type": "execute_result"
    }
   ],
   "source": [
    "predict_submission"
   ]
  },
  {
   "cell_type": "code",
   "execution_count": 99,
   "id": "6ad6cc2f",
   "metadata": {
    "execution": {
     "iopub.execute_input": "2022-12-17T10:57:22.532682Z",
     "iopub.status.busy": "2022-12-17T10:57:22.531737Z",
     "iopub.status.idle": "2022-12-17T10:57:22.535160Z",
     "shell.execute_reply": "2022-12-17T10:57:22.535670Z",
     "shell.execute_reply.started": "2022-12-17T10:48:06.650546Z"
    },
    "papermill": {
     "duration": 0.069648,
     "end_time": "2022-12-17T10:57:22.535867",
     "exception": false,
     "start_time": "2022-12-17T10:57:22.466219",
     "status": "completed"
    },
    "tags": []
   },
   "outputs": [
    {
     "data": {
      "text/plain": [
       "['reviewer_score', 'id']"
      ]
     },
     "execution_count": 99,
     "metadata": {},
     "output_type": "execute_result"
    }
   ],
   "source": [
    "list(sample_submission)"
   ]
  },
  {
   "cell_type": "code",
   "execution_count": 100,
   "id": "dfd1f104",
   "metadata": {
    "execution": {
     "iopub.execute_input": "2022-12-17T10:57:22.662187Z",
     "iopub.status.busy": "2022-12-17T10:57:22.660949Z",
     "iopub.status.idle": "2022-12-17T10:57:22.950664Z",
     "shell.execute_reply": "2022-12-17T10:57:22.951243Z",
     "shell.execute_reply.started": "2022-12-17T10:48:06.664084Z"
    },
    "papermill": {
     "duration": 0.354252,
     "end_time": "2022-12-17T10:57:22.951470",
     "exception": false,
     "start_time": "2022-12-17T10:57:22.597218",
     "status": "completed"
    },
    "tags": []
   },
   "outputs": [
    {
     "data": {
      "text/html": [
       "<div>\n",
       "<style scoped>\n",
       "    .dataframe tbody tr th:only-of-type {\n",
       "        vertical-align: middle;\n",
       "    }\n",
       "\n",
       "    .dataframe tbody tr th {\n",
       "        vertical-align: top;\n",
       "    }\n",
       "\n",
       "    .dataframe thead th {\n",
       "        text-align: right;\n",
       "    }\n",
       "</style>\n",
       "<table border=\"1\" class=\"dataframe\">\n",
       "  <thead>\n",
       "    <tr style=\"text-align: right;\">\n",
       "      <th></th>\n",
       "      <th>reviewer_score</th>\n",
       "      <th>id</th>\n",
       "    </tr>\n",
       "  </thead>\n",
       "  <tbody>\n",
       "    <tr>\n",
       "      <th>0</th>\n",
       "      <td>8.716</td>\n",
       "      <td>488440</td>\n",
       "    </tr>\n",
       "    <tr>\n",
       "      <th>1</th>\n",
       "      <td>7.200</td>\n",
       "      <td>274649</td>\n",
       "    </tr>\n",
       "  </tbody>\n",
       "</table>\n",
       "</div>"
      ],
      "text/plain": [
       "   reviewer_score      id\n",
       "0           8.716  488440\n",
       "1           7.200  274649"
      ]
     },
     "execution_count": 100,
     "metadata": {},
     "output_type": "execute_result"
    }
   ],
   "source": [
    "sample_submission['reviewer_score'] = predict_submission\n",
    "sample_submission.to_csv('submission_alex_1.csv', index=False)\n",
    "sample_submission.head(2)"
   ]
  },
  {
   "attachments": {},
   "cell_type": "markdown",
   "id": "f3e92f5a",
   "metadata": {},
   "source": [
    "## K-fold method (cross validation)"
   ]
  },
  {
   "cell_type": "code",
   "execution_count": 101,
   "id": "061de8b2",
   "metadata": {},
   "outputs": [],
   "source": [
    "from sklearn.model_selection import KFold, cross_validate #методы разделения и валидации"
   ]
  },
  {
   "cell_type": "code",
   "execution_count": 109,
   "id": "8f9ec6ea",
   "metadata": {},
   "outputs": [
    {
     "ename": "ValueError",
     "evalue": "'mean_absolute_error' is not a valid scoring value. Use sklearn.metrics.get_scorer_names() to get valid options.",
     "output_type": "error",
     "traceback": [
      "\u001b[1;31m---------------------------------------------------------------------------\u001b[0m",
      "\u001b[1;31mKeyError\u001b[0m                                  Traceback (most recent call last)",
      "File \u001b[1;32m~\\AppData\\Roaming\\Python\\Python310\\site-packages\\sklearn\\metrics\\_scorer.py:430\u001b[0m, in \u001b[0;36mget_scorer\u001b[1;34m(scoring)\u001b[0m\n\u001b[0;32m    429\u001b[0m \u001b[39mtry\u001b[39;00m:\n\u001b[1;32m--> 430\u001b[0m     scorer \u001b[39m=\u001b[39m copy\u001b[39m.\u001b[39mdeepcopy(_SCORERS[scoring])\n\u001b[0;32m    431\u001b[0m \u001b[39mexcept\u001b[39;00m \u001b[39mKeyError\u001b[39;00m:\n",
      "\u001b[1;31mKeyError\u001b[0m: 'mean_absolute_error'",
      "\nDuring handling of the above exception, another exception occurred:\n",
      "\u001b[1;31mValueError\u001b[0m                                Traceback (most recent call last)",
      "Cell \u001b[1;32mIn[109], line 8\u001b[0m\n\u001b[0;32m      5\u001b[0m kf \u001b[39m=\u001b[39m KFold(n_splits\u001b[39m=\u001b[39m\u001b[39m5\u001b[39m)\n\u001b[0;32m      7\u001b[0m \u001b[39m#Считаем метрики на кросс-валидации k-fold\u001b[39;00m\n\u001b[1;32m----> 8\u001b[0m cv_metrics \u001b[39m=\u001b[39m cross_validate(\n\u001b[0;32m      9\u001b[0m     estimator\u001b[39m=\u001b[39;49mmodel, \u001b[39m#модель\u001b[39;49;00m\n\u001b[0;32m     10\u001b[0m     X\u001b[39m=\u001b[39;49mX, \u001b[39m#матрица наблюдений X\u001b[39;49;00m\n\u001b[0;32m     11\u001b[0m     y\u001b[39m=\u001b[39;49my, \u001b[39m#вектор ответов y\u001b[39;49;00m\n\u001b[0;32m     12\u001b[0m     cv\u001b[39m=\u001b[39;49mkf, \u001b[39m#кросс-валидатор\u001b[39;49;00m\n\u001b[0;32m     13\u001b[0m     scoring\u001b[39m=\u001b[39;49m(\u001b[39m'\u001b[39;49m\u001b[39mmean_absolute_error\u001b[39;49m\u001b[39m'\u001b[39;49m,\u001b[39m'\u001b[39;49m\u001b[39mmean_absolute_percentage_error\u001b[39;49m\u001b[39m'\u001b[39;49m), \u001b[39m#метрика\u001b[39;49;00m\n\u001b[0;32m     14\u001b[0m     return_train_score\u001b[39m=\u001b[39;49m\u001b[39mTrue\u001b[39;49;00m \u001b[39m#подсчёт метрики на тренировочных фолдах\u001b[39;49;00m\n\u001b[0;32m     15\u001b[0m )\n\u001b[0;32m     16\u001b[0m display(cv_metrics)\n",
      "File \u001b[1;32m~\\AppData\\Roaming\\Python\\Python310\\site-packages\\sklearn\\model_selection\\_validation.py:261\u001b[0m, in \u001b[0;36mcross_validate\u001b[1;34m(estimator, X, y, groups, scoring, cv, n_jobs, verbose, fit_params, pre_dispatch, return_train_score, return_estimator, error_score)\u001b[0m\n\u001b[0;32m    259\u001b[0m     scorers \u001b[39m=\u001b[39m check_scoring(estimator, scoring)\n\u001b[0;32m    260\u001b[0m \u001b[39melse\u001b[39;00m:\n\u001b[1;32m--> 261\u001b[0m     scorers \u001b[39m=\u001b[39m _check_multimetric_scoring(estimator, scoring)\n\u001b[0;32m    263\u001b[0m \u001b[39m# We clone the estimator to make sure that all the folds are\u001b[39;00m\n\u001b[0;32m    264\u001b[0m \u001b[39m# independent, and that it is pickle-able.\u001b[39;00m\n\u001b[0;32m    265\u001b[0m parallel \u001b[39m=\u001b[39m Parallel(n_jobs\u001b[39m=\u001b[39mn_jobs, verbose\u001b[39m=\u001b[39mverbose, pre_dispatch\u001b[39m=\u001b[39mpre_dispatch)\n",
      "File \u001b[1;32m~\\AppData\\Roaming\\Python\\Python310\\site-packages\\sklearn\\metrics\\_scorer.py:580\u001b[0m, in \u001b[0;36m_check_multimetric_scoring\u001b[1;34m(estimator, scoring)\u001b[0m\n\u001b[0;32m    575\u001b[0m         \u001b[39melse\u001b[39;00m:\n\u001b[0;32m    576\u001b[0m             \u001b[39mraise\u001b[39;00m \u001b[39mValueError\u001b[39;00m(\n\u001b[0;32m    577\u001b[0m                 \u001b[39mf\u001b[39m\u001b[39m\"\u001b[39m\u001b[39m{\u001b[39;00merr_msg\u001b[39m}\u001b[39;00m\u001b[39m Non-string types were found \u001b[39m\u001b[39m\"\u001b[39m\n\u001b[0;32m    578\u001b[0m                 \u001b[39mf\u001b[39m\u001b[39m\"\u001b[39m\u001b[39min the given list. Got \u001b[39m\u001b[39m{\u001b[39;00mscoring\u001b[39m!r}\u001b[39;00m\u001b[39m\"\u001b[39m\n\u001b[0;32m    579\u001b[0m             )\n\u001b[1;32m--> 580\u001b[0m     scorers \u001b[39m=\u001b[39m {\n\u001b[0;32m    581\u001b[0m         scorer: check_scoring(estimator, scoring\u001b[39m=\u001b[39mscorer) \u001b[39mfor\u001b[39;00m scorer \u001b[39min\u001b[39;00m scoring\n\u001b[0;32m    582\u001b[0m     }\n\u001b[0;32m    583\u001b[0m \u001b[39melse\u001b[39;00m:\n\u001b[0;32m    584\u001b[0m     \u001b[39mraise\u001b[39;00m \u001b[39mValueError\u001b[39;00m(\u001b[39mf\u001b[39m\u001b[39m\"\u001b[39m\u001b[39m{\u001b[39;00merr_msg\u001b[39m}\u001b[39;00m\u001b[39m Empty list was given. \u001b[39m\u001b[39m{\u001b[39;00mscoring\u001b[39m!r}\u001b[39;00m\u001b[39m\"\u001b[39m)\n",
      "File \u001b[1;32m~\\AppData\\Roaming\\Python\\Python310\\site-packages\\sklearn\\metrics\\_scorer.py:581\u001b[0m, in \u001b[0;36m<dictcomp>\u001b[1;34m(.0)\u001b[0m\n\u001b[0;32m    575\u001b[0m         \u001b[39melse\u001b[39;00m:\n\u001b[0;32m    576\u001b[0m             \u001b[39mraise\u001b[39;00m \u001b[39mValueError\u001b[39;00m(\n\u001b[0;32m    577\u001b[0m                 \u001b[39mf\u001b[39m\u001b[39m\"\u001b[39m\u001b[39m{\u001b[39;00merr_msg\u001b[39m}\u001b[39;00m\u001b[39m Non-string types were found \u001b[39m\u001b[39m\"\u001b[39m\n\u001b[0;32m    578\u001b[0m                 \u001b[39mf\u001b[39m\u001b[39m\"\u001b[39m\u001b[39min the given list. Got \u001b[39m\u001b[39m{\u001b[39;00mscoring\u001b[39m!r}\u001b[39;00m\u001b[39m\"\u001b[39m\n\u001b[0;32m    579\u001b[0m             )\n\u001b[0;32m    580\u001b[0m     scorers \u001b[39m=\u001b[39m {\n\u001b[1;32m--> 581\u001b[0m         scorer: check_scoring(estimator, scoring\u001b[39m=\u001b[39;49mscorer) \u001b[39mfor\u001b[39;00m scorer \u001b[39min\u001b[39;00m scoring\n\u001b[0;32m    582\u001b[0m     }\n\u001b[0;32m    583\u001b[0m \u001b[39melse\u001b[39;00m:\n\u001b[0;32m    584\u001b[0m     \u001b[39mraise\u001b[39;00m \u001b[39mValueError\u001b[39;00m(\u001b[39mf\u001b[39m\u001b[39m\"\u001b[39m\u001b[39m{\u001b[39;00merr_msg\u001b[39m}\u001b[39;00m\u001b[39m Empty list was given. \u001b[39m\u001b[39m{\u001b[39;00mscoring\u001b[39m!r}\u001b[39;00m\u001b[39m\"\u001b[39m)\n",
      "File \u001b[1;32m~\\AppData\\Roaming\\Python\\Python310\\site-packages\\sklearn\\metrics\\_scorer.py:479\u001b[0m, in \u001b[0;36mcheck_scoring\u001b[1;34m(estimator, scoring, allow_none)\u001b[0m\n\u001b[0;32m    474\u001b[0m     \u001b[39mraise\u001b[39;00m \u001b[39mTypeError\u001b[39;00m(\n\u001b[0;32m    475\u001b[0m         \u001b[39m\"\u001b[39m\u001b[39mestimator should be an estimator implementing \u001b[39m\u001b[39m'\u001b[39m\u001b[39mfit\u001b[39m\u001b[39m'\u001b[39m\u001b[39m method, \u001b[39m\u001b[39m%r\u001b[39;00m\u001b[39m was passed\u001b[39m\u001b[39m\"\u001b[39m\n\u001b[0;32m    476\u001b[0m         \u001b[39m%\u001b[39m estimator\n\u001b[0;32m    477\u001b[0m     )\n\u001b[0;32m    478\u001b[0m \u001b[39mif\u001b[39;00m \u001b[39misinstance\u001b[39m(scoring, \u001b[39mstr\u001b[39m):\n\u001b[1;32m--> 479\u001b[0m     \u001b[39mreturn\u001b[39;00m get_scorer(scoring)\n\u001b[0;32m    480\u001b[0m \u001b[39melif\u001b[39;00m callable(scoring):\n\u001b[0;32m    481\u001b[0m     \u001b[39m# Heuristic to ensure user has not passed a metric\u001b[39;00m\n\u001b[0;32m    482\u001b[0m     module \u001b[39m=\u001b[39m \u001b[39mgetattr\u001b[39m(scoring, \u001b[39m\"\u001b[39m\u001b[39m__module__\u001b[39m\u001b[39m\"\u001b[39m, \u001b[39mNone\u001b[39;00m)\n",
      "File \u001b[1;32m~\\AppData\\Roaming\\Python\\Python310\\site-packages\\sklearn\\metrics\\_scorer.py:432\u001b[0m, in \u001b[0;36mget_scorer\u001b[1;34m(scoring)\u001b[0m\n\u001b[0;32m    430\u001b[0m         scorer \u001b[39m=\u001b[39m copy\u001b[39m.\u001b[39mdeepcopy(_SCORERS[scoring])\n\u001b[0;32m    431\u001b[0m     \u001b[39mexcept\u001b[39;00m \u001b[39mKeyError\u001b[39;00m:\n\u001b[1;32m--> 432\u001b[0m         \u001b[39mraise\u001b[39;00m \u001b[39mValueError\u001b[39;00m(\n\u001b[0;32m    433\u001b[0m             \u001b[39m\"\u001b[39m\u001b[39m%r\u001b[39;00m\u001b[39m is not a valid scoring value. \u001b[39m\u001b[39m\"\u001b[39m\n\u001b[0;32m    434\u001b[0m             \u001b[39m\"\u001b[39m\u001b[39mUse sklearn.metrics.get_scorer_names() \u001b[39m\u001b[39m\"\u001b[39m\n\u001b[0;32m    435\u001b[0m             \u001b[39m\"\u001b[39m\u001b[39mto get valid options.\u001b[39m\u001b[39m\"\u001b[39m \u001b[39m%\u001b[39m scoring\n\u001b[0;32m    436\u001b[0m         )\n\u001b[0;32m    437\u001b[0m \u001b[39melse\u001b[39;00m:\n\u001b[0;32m    438\u001b[0m     scorer \u001b[39m=\u001b[39m scoring\n",
      "\u001b[1;31mValueError\u001b[0m: 'mean_absolute_error' is not a valid scoring value. Use sklearn.metrics.get_scorer_names() to get valid options."
     ]
    }
   ],
   "source": [
    "#Создаём модель\n",
    "model = RandomForestRegressor(n_estimators=100, verbose=1, n_jobs=-1, random_state=RANDOM_SEED)\n",
    " \n",
    "#Создаём объект кросс-валидатора KFold\n",
    "kf = KFold(n_splits=5)\n",
    " \n",
    "#Считаем метрики на кросс-валидации k-fold\n",
    "cv_metrics = cross_validate(\n",
    "    estimator=model, #модель\n",
    "    X=X, #матрица наблюдений X\n",
    "    y=y, #вектор ответов y\n",
    "    cv=kf, #кросс-валидатор\n",
    "    scoring=('neg_mean_absolute_error','neg_mean_absolute_percentage_error'), #метрика\n",
    "    return_train_score=True #подсчёт метрики на тренировочных фолдах\n",
    ")\n",
    "display(cv_metrics)"
   ]
  },
  {
   "cell_type": "code",
   "execution_count": 106,
   "id": "fe570523",
   "metadata": {},
   "outputs": [
    {
     "data": {
      "text/plain": [
       "dict_keys(['fit_time', 'score_time', 'test_neg_mean_absolute_error', 'train_neg_mean_absolute_error', 'test_neg_mean_absolute_percentage_error', 'train_neg_mean_absolute_percentage_error'])"
      ]
     },
     "execution_count": 106,
     "metadata": {},
     "output_type": "execute_result"
    }
   ],
   "source": [
    "cv_metrics.keys()"
   ]
  },
  {
   "cell_type": "code",
   "execution_count": 110,
   "id": "f3215d3e",
   "metadata": {},
   "outputs": [
    {
     "name": "stdout",
     "output_type": "stream",
     "text": [
      "Train k-fold MAE: -0.34  MAPE: -0.0491\n",
      "Test k-fold MAE: -0.91  MAPE: -0.1325\n"
     ]
    }
   ],
   "source": [
    "# Lets study metrics\n",
    "\n",
    "print('Train k-fold MAE: {:.2f}  MAPE: {:.4f}'.format(\n",
    "    np.mean(cv_metrics['train_neg_mean_absolute_error']), \n",
    "    np.mean(cv_metrics['train_neg_mean_absolute_percentage_error'])))\n",
    "print('Test k-fold MAE: {:.2f}  MAPE: {:.4f}'.format(\n",
    "    np.mean(cv_metrics['test_neg_mean_absolute_error']), \n",
    "    np.mean(cv_metrics['test_neg_mean_absolute_percentage_error'])))"
   ]
  },
  {
   "cell_type": "code",
   "execution_count": null,
   "id": "f89bc01a",
   "metadata": {
    "execution": {
     "iopub.execute_input": "2022-12-17T10:55:27.687223Z",
     "iopub.status.busy": "2022-12-17T10:55:27.686387Z",
     "iopub.status.idle": "2022-12-17T10:57:18.030935Z",
     "shell.execute_reply": "2022-12-17T10:57:18.030207Z",
     "shell.execute_reply.started": "2022-12-17T10:46:18.090067Z"
    },
    "papermill": {
     "duration": 110.417037,
     "end_time": "2022-12-17T10:57:18.031101",
     "exception": false,
     "start_time": "2022-12-17T10:55:27.614064",
     "status": "completed"
    },
    "tags": []
   },
   "outputs": [
    {
     "name": "stderr",
     "output_type": "stream",
     "text": [
      "[Parallel(n_jobs=-1)]: Using backend ThreadingBackend with 16 concurrent workers.\n",
      "[Parallel(n_jobs=-1)]: Done  18 tasks      | elapsed:   28.4s\n",
      "[Parallel(n_jobs=-1)]: Done 100 out of 100 | elapsed:  1.6min finished\n",
      "[Parallel(n_jobs=16)]: Using backend ThreadingBackend with 16 concurrent workers.\n",
      "[Parallel(n_jobs=16)]: Done  18 tasks      | elapsed:    0.0s\n",
      "[Parallel(n_jobs=16)]: Done 100 out of 100 | elapsed:    0.2s finished\n"
     ]
    }
   ],
   "source": [
    "# Обучаем модель на тестовом наборе данных\n",
    "model.fit(X_train, y_train)\n",
    "\n",
    "# Используем обученную модель для предсказания рейтинга ресторанов в тестовой выборке.\n",
    "# Предсказанные значения записываем в переменную y_pred\n",
    "y_pred = model.predict(X_test)"
   ]
  }
 ],
 "metadata": {
  "kernelspec": {
   "display_name": "Python 3.10.7 64-bit",
   "language": "python",
   "name": "python3"
  },
  "language_info": {
   "codemirror_mode": {
    "name": "ipython",
    "version": 3
   },
   "file_extension": ".py",
   "mimetype": "text/x-python",
   "name": "python",
   "nbconvert_exporter": "python",
   "pygments_lexer": "ipython3",
   "version": "3.10.7"
  },
  "papermill": {
   "default_parameters": {},
   "duration": 171.211998,
   "end_time": "2022-12-17T10:57:24.125535",
   "environment_variables": {},
   "exception": null,
   "input_path": "__notebook__.ipynb",
   "output_path": "__notebook__.ipynb",
   "parameters": {},
   "start_time": "2022-12-17T10:54:32.913537",
   "version": "2.3.3"
  },
  "vscode": {
   "interpreter": {
    "hash": "26de051ba29f2982a8de78e945f0abaf191376122a1563185a90213a26c5da77"
   }
  }
 },
 "nbformat": 4,
 "nbformat_minor": 5
}
