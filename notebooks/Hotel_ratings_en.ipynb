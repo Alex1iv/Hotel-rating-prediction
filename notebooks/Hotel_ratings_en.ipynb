{
 "cells": [
  {
   "attachments": {},
   "cell_type": "markdown",
   "id": "16663183",
   "metadata": {},
   "source": [
    "# Hotel rating prediction"
   ]
  },
  {
   "cell_type": "code",
   "execution_count": 93,
   "id": "340f43dd",
   "metadata": {
    "_cell_guid": "b1076dfc-b9ad-4769-8c92-a6c4dae69d19",
    "_uuid": "8f2839f25d086af736a60e9eeb907d3b93b6e0e5",
    "execution": {
     "iopub.execute_input": "2022-12-17T10:54:44.618594Z",
     "iopub.status.busy": "2022-12-17T10:54:44.617226Z",
     "iopub.status.idle": "2022-12-17T10:54:46.224105Z",
     "shell.execute_reply": "2022-12-17T10:54:46.224636Z",
     "shell.execute_reply.started": "2022-12-17T10:45:42.110352Z"
    },
    "papermill": {
     "duration": 1.65776,
     "end_time": "2022-12-17T10:54:46.225008",
     "exception": false,
     "start_time": "2022-12-17T10:54:44.567248",
     "status": "completed"
    },
    "tags": []
   },
   "outputs": [],
   "source": [
    "# import main librariees\n",
    "import numpy as np \n",
    "import pandas as pd \n",
    "from IPython.display import clear_output\n",
    "import os, sys, time, json, re\n",
    "\n",
    "# Graphical libraries\n",
    "import matplotlib.pyplot as plt\n",
    "import seaborn as sns \n",
    "import plotly.express as px\n",
    "#%matplotlib inline\n",
    "\n",
    "# nlp processing\n",
    "#import nltk \n",
    "from nltk.sentiment.vader import SentimentIntensityAnalyzer\n",
    "from textblob import Blobber\n",
    "from textblob.sentiments import NaiveBayesAnalyzer\n",
    "\n",
    "# ML libraries\n",
    "from sklearn import ensemble\n",
    "from sklearn.ensemble import RandomForestRegressor,StackingRegressor,  GradientBoostingRegressor\n",
    "\n",
    "from sklearn.metrics import mean_absolute_error, mean_absolute_percentage_error\n",
    "\n",
    "from sklearn import preprocessing\n",
    "from sklearn.model_selection import train_test_split, KFold, cross_validate, cross_val_predict, RandomizedSearchCV, StratifiedKFold\n",
    "import pickle\n",
    "#import joblib\n",
    "from joblib import dump, load\n",
    "\n",
    "import optuna\n",
    "from sklearn.metrics import PredictionErrorDisplay\n",
    "\n",
    "from sklearn.linear_model import RidgeCV, LinearRegression\n",
    "from sklearn.tree import DecisionTreeRegressor\n",
    "\n",
    "!pip freeze > requirements.txt"
   ]
  },
  {
   "cell_type": "code",
   "execution_count": 2,
   "id": "c4a4d345",
   "metadata": {
    "execution": {
     "iopub.execute_input": "2022-12-17T10:54:52.072338Z",
     "iopub.status.busy": "2022-12-17T10:54:52.071496Z",
     "iopub.status.idle": "2022-12-17T10:54:58.542877Z",
     "shell.execute_reply": "2022-12-17T10:54:58.542106Z",
     "shell.execute_reply.started": "2022-12-17T10:45:48.284558Z"
    },
    "papermill": {
     "duration": 6.52284,
     "end_time": "2022-12-17T10:54:58.543055",
     "exception": false,
     "start_time": "2022-12-17T10:54:52.020215",
     "status": "completed"
    },
    "tags": []
   },
   "outputs": [],
   "source": [
    "#set path\n",
    "sys.path.insert(1, '../')\n",
    "\n",
    "from utils.config_reader import config_reader\n",
    "\n",
    "# custom functions\n",
    "from utils.functions import get_address, get_neutral_from_negative, \\\n",
    "    get_traveller, get_trip_type, get_stay_length, get_room_type_prep, get_room_type\n",
    "\n",
    "# Import parameters\n",
    "config = config_reader('../config/config.json')\n",
    "\n",
    "# set data folder path\n",
    "data_dir = config.data_dir\n",
    "model_path = config.model_path\n",
    "\n",
    "# set random seed\n",
    "random_seed = config.random_seed\n",
    "\n",
    "# Display fixed length of a dataframe\n",
    "pd.set_option(\"display.max_rows\", 9, \"display.max_columns\", None)\n",
    "\n",
    "if not sys.warnoptions:\n",
    "    import warnings\n",
    "    warnings.simplefilter(\"ignore\")\n",
    "    \n",
    "df_train = pd.read_csv(data_dir + 'hotels.zip') # train\n",
    "df_test = pd.read_csv(data_dir+'hotels_test.zip') # test\n",
    "sample_submission = pd.read_csv(data_dir+'submission.zip') # submission"
   ]
  },
  {
   "cell_type": "code",
   "execution_count": 3,
   "id": "b033338a",
   "metadata": {
    "execution": {
     "iopub.execute_input": "2022-12-17T10:54:58.644692Z",
     "iopub.status.busy": "2022-12-17T10:54:58.643991Z",
     "iopub.status.idle": "2022-12-17T10:54:58.834144Z",
     "shell.execute_reply": "2022-12-17T10:54:58.833080Z",
     "shell.execute_reply.started": "2022-12-17T10:45:54.777224Z"
    },
    "papermill": {
     "duration": 0.244785,
     "end_time": "2022-12-17T10:54:58.834601",
     "exception": false,
     "start_time": "2022-12-17T10:54:58.589816",
     "status": "completed"
    },
    "tags": []
   },
   "outputs": [
    {
     "name": "stdout",
     "output_type": "stream",
     "text": [
      "<class 'pandas.core.frame.DataFrame'>\n",
      "RangeIndex: 386803 entries, 0 to 386802\n",
      "Data columns (total 17 columns):\n",
      " #   Column                                      Non-Null Count   Dtype  \n",
      "---  ------                                      --------------   -----  \n",
      " 0   hotel_address                               386803 non-null  object \n",
      " 1   additional_number_of_scoring                386803 non-null  int64  \n",
      " 2   review_date                                 386803 non-null  object \n",
      " 3   average_score                               386803 non-null  float64\n",
      " 4   hotel_name                                  386803 non-null  object \n",
      " 5   reviewer_nationality                        386803 non-null  object \n",
      " 6   negative_review                             386803 non-null  object \n",
      " 7   review_total_negative_word_counts           386803 non-null  int64  \n",
      " 8   total_number_of_reviews                     386803 non-null  int64  \n",
      " 9   positive_review                             386803 non-null  object \n",
      " 10  review_total_positive_word_counts           386803 non-null  int64  \n",
      " 11  total_number_of_reviews_reviewer_has_given  386803 non-null  int64  \n",
      " 12  reviewer_score                              386803 non-null  float64\n",
      " 13  tags                                        386803 non-null  object \n",
      " 14  days_since_review                           386803 non-null  object \n",
      " 15  lat                                         384355 non-null  float64\n",
      " 16  lng                                         384355 non-null  float64\n",
      "dtypes: float64(4), int64(5), object(8)\n",
      "memory usage: 50.2+ MB\n"
     ]
    }
   ],
   "source": [
    "df_train.info()"
   ]
  },
  {
   "cell_type": "code",
   "execution_count": 4,
   "id": "ebf44de5",
   "metadata": {
    "execution": {
     "iopub.execute_input": "2022-12-17T10:54:58.938016Z",
     "iopub.status.busy": "2022-12-17T10:54:58.937193Z",
     "iopub.status.idle": "2022-12-17T10:54:58.960900Z",
     "shell.execute_reply": "2022-12-17T10:54:58.961466Z",
     "shell.execute_reply.started": "2022-12-17T10:45:54.968554Z"
    },
    "papermill": {
     "duration": 0.080218,
     "end_time": "2022-12-17T10:54:58.961660",
     "exception": false,
     "start_time": "2022-12-17T10:54:58.881442",
     "status": "completed"
    },
    "tags": []
   },
   "outputs": [
    {
     "data": {
      "text/html": [
       "<div>\n",
       "<style scoped>\n",
       "    .dataframe tbody tr th:only-of-type {\n",
       "        vertical-align: middle;\n",
       "    }\n",
       "\n",
       "    .dataframe tbody tr th {\n",
       "        vertical-align: top;\n",
       "    }\n",
       "\n",
       "    .dataframe thead th {\n",
       "        text-align: right;\n",
       "    }\n",
       "</style>\n",
       "<table border=\"1\" class=\"dataframe\">\n",
       "  <thead>\n",
       "    <tr style=\"text-align: right;\">\n",
       "      <th></th>\n",
       "      <th>hotel_address</th>\n",
       "      <th>additional_number_of_scoring</th>\n",
       "      <th>review_date</th>\n",
       "      <th>average_score</th>\n",
       "      <th>hotel_name</th>\n",
       "      <th>reviewer_nationality</th>\n",
       "      <th>negative_review</th>\n",
       "      <th>review_total_negative_word_counts</th>\n",
       "      <th>total_number_of_reviews</th>\n",
       "      <th>positive_review</th>\n",
       "      <th>review_total_positive_word_counts</th>\n",
       "      <th>total_number_of_reviews_reviewer_has_given</th>\n",
       "      <th>reviewer_score</th>\n",
       "      <th>tags</th>\n",
       "      <th>days_since_review</th>\n",
       "      <th>lat</th>\n",
       "      <th>lng</th>\n",
       "    </tr>\n",
       "  </thead>\n",
       "  <tbody>\n",
       "    <tr>\n",
       "      <th>0</th>\n",
       "      <td>Stratton Street Mayfair Westminster Borough Lo...</td>\n",
       "      <td>581</td>\n",
       "      <td>2/19/2016</td>\n",
       "      <td>8.4</td>\n",
       "      <td>The May Fair Hotel</td>\n",
       "      <td>United Kingdom</td>\n",
       "      <td>Leaving</td>\n",
       "      <td>3</td>\n",
       "      <td>1994</td>\n",
       "      <td>Staff were amazing</td>\n",
       "      <td>4</td>\n",
       "      <td>7</td>\n",
       "      <td>10.0</td>\n",
       "      <td>[' Leisure trip ', ' Couple ', ' Studio Suite ...</td>\n",
       "      <td>531 day</td>\n",
       "      <td>51.507894</td>\n",
       "      <td>-0.143671</td>\n",
       "    </tr>\n",
       "    <tr>\n",
       "      <th>1</th>\n",
       "      <td>130 134 Southampton Row Camden London WC1B 5AF...</td>\n",
       "      <td>299</td>\n",
       "      <td>1/12/2017</td>\n",
       "      <td>8.3</td>\n",
       "      <td>Mercure London Bloomsbury Hotel</td>\n",
       "      <td>United Kingdom</td>\n",
       "      <td>poor breakfast</td>\n",
       "      <td>3</td>\n",
       "      <td>1361</td>\n",
       "      <td>location</td>\n",
       "      <td>2</td>\n",
       "      <td>14</td>\n",
       "      <td>6.3</td>\n",
       "      <td>[' Business trip ', ' Couple ', ' Standard Dou...</td>\n",
       "      <td>203 day</td>\n",
       "      <td>51.521009</td>\n",
       "      <td>-0.123097</td>\n",
       "    </tr>\n",
       "  </tbody>\n",
       "</table>\n",
       "</div>"
      ],
      "text/plain": [
       "                                       hotel_address  \\\n",
       "0  Stratton Street Mayfair Westminster Borough Lo...   \n",
       "1  130 134 Southampton Row Camden London WC1B 5AF...   \n",
       "\n",
       "   additional_number_of_scoring review_date  average_score  \\\n",
       "0                           581   2/19/2016            8.4   \n",
       "1                           299   1/12/2017            8.3   \n",
       "\n",
       "                        hotel_name reviewer_nationality  negative_review  \\\n",
       "0               The May Fair Hotel      United Kingdom          Leaving    \n",
       "1  Mercure London Bloomsbury Hotel      United Kingdom    poor breakfast   \n",
       "\n",
       "   review_total_negative_word_counts  total_number_of_reviews  \\\n",
       "0                                  3                     1994   \n",
       "1                                  3                     1361   \n",
       "\n",
       "       positive_review  review_total_positive_word_counts  \\\n",
       "0   Staff were amazing                                  4   \n",
       "1             location                                  2   \n",
       "\n",
       "   total_number_of_reviews_reviewer_has_given  reviewer_score  \\\n",
       "0                                           7            10.0   \n",
       "1                                          14             6.3   \n",
       "\n",
       "                                                tags days_since_review  \\\n",
       "0  [' Leisure trip ', ' Couple ', ' Studio Suite ...           531 day   \n",
       "1  [' Business trip ', ' Couple ', ' Standard Dou...           203 day   \n",
       "\n",
       "         lat       lng  \n",
       "0  51.507894 -0.143671  \n",
       "1  51.521009 -0.123097  "
      ]
     },
     "execution_count": 4,
     "metadata": {},
     "output_type": "execute_result"
    }
   ],
   "source": [
    "df_train.head(2)"
   ]
  },
  {
   "cell_type": "code",
   "execution_count": 5,
   "id": "f6f2fd75",
   "metadata": {
    "execution": {
     "iopub.execute_input": "2022-12-17T10:54:59.060175Z",
     "iopub.status.busy": "2022-12-17T10:54:59.059172Z",
     "iopub.status.idle": "2022-12-17T10:54:59.125503Z",
     "shell.execute_reply": "2022-12-17T10:54:59.126067Z",
     "shell.execute_reply.started": "2022-12-17T10:45:54.998705Z"
    },
    "papermill": {
     "duration": 0.117652,
     "end_time": "2022-12-17T10:54:59.126267",
     "exception": false,
     "start_time": "2022-12-17T10:54:59.008615",
     "status": "completed"
    },
    "tags": []
   },
   "outputs": [
    {
     "name": "stdout",
     "output_type": "stream",
     "text": [
      "<class 'pandas.core.frame.DataFrame'>\n",
      "RangeIndex: 128935 entries, 0 to 128934\n",
      "Data columns (total 16 columns):\n",
      " #   Column                                      Non-Null Count   Dtype  \n",
      "---  ------                                      --------------   -----  \n",
      " 0   hotel_address                               128935 non-null  object \n",
      " 1   additional_number_of_scoring                128935 non-null  int64  \n",
      " 2   review_date                                 128935 non-null  object \n",
      " 3   average_score                               128935 non-null  float64\n",
      " 4   hotel_name                                  128935 non-null  object \n",
      " 5   reviewer_nationality                        128935 non-null  object \n",
      " 6   negative_review                             128935 non-null  object \n",
      " 7   review_total_negative_word_counts           128935 non-null  int64  \n",
      " 8   total_number_of_reviews                     128935 non-null  int64  \n",
      " 9   positive_review                             128935 non-null  object \n",
      " 10  review_total_positive_word_counts           128935 non-null  int64  \n",
      " 11  total_number_of_reviews_reviewer_has_given  128935 non-null  int64  \n",
      " 12  tags                                        128935 non-null  object \n",
      " 13  days_since_review                           128935 non-null  object \n",
      " 14  lat                                         128115 non-null  float64\n",
      " 15  lng                                         128115 non-null  float64\n",
      "dtypes: float64(3), int64(5), object(8)\n",
      "memory usage: 15.7+ MB\n"
     ]
    }
   ],
   "source": [
    "df_test.info()"
   ]
  },
  {
   "cell_type": "code",
   "execution_count": 6,
   "id": "6a6d0f1c",
   "metadata": {
    "execution": {
     "iopub.execute_input": "2022-12-17T10:54:59.235880Z",
     "iopub.status.busy": "2022-12-17T10:54:59.234878Z",
     "iopub.status.idle": "2022-12-17T10:54:59.240037Z",
     "shell.execute_reply": "2022-12-17T10:54:59.239336Z",
     "shell.execute_reply.started": "2022-12-17T10:45:55.071997Z"
    },
    "papermill": {
     "duration": 0.067497,
     "end_time": "2022-12-17T10:54:59.240192",
     "exception": false,
     "start_time": "2022-12-17T10:54:59.172695",
     "status": "completed"
    },
    "tags": []
   },
   "outputs": [
    {
     "data": {
      "text/html": [
       "<div>\n",
       "<style scoped>\n",
       "    .dataframe tbody tr th:only-of-type {\n",
       "        vertical-align: middle;\n",
       "    }\n",
       "\n",
       "    .dataframe tbody tr th {\n",
       "        vertical-align: top;\n",
       "    }\n",
       "\n",
       "    .dataframe thead th {\n",
       "        text-align: right;\n",
       "    }\n",
       "</style>\n",
       "<table border=\"1\" class=\"dataframe\">\n",
       "  <thead>\n",
       "    <tr style=\"text-align: right;\">\n",
       "      <th></th>\n",
       "      <th>hotel_address</th>\n",
       "      <th>additional_number_of_scoring</th>\n",
       "      <th>review_date</th>\n",
       "      <th>average_score</th>\n",
       "      <th>hotel_name</th>\n",
       "      <th>reviewer_nationality</th>\n",
       "      <th>negative_review</th>\n",
       "      <th>review_total_negative_word_counts</th>\n",
       "      <th>total_number_of_reviews</th>\n",
       "      <th>positive_review</th>\n",
       "      <th>review_total_positive_word_counts</th>\n",
       "      <th>total_number_of_reviews_reviewer_has_given</th>\n",
       "      <th>tags</th>\n",
       "      <th>days_since_review</th>\n",
       "      <th>lat</th>\n",
       "      <th>lng</th>\n",
       "    </tr>\n",
       "  </thead>\n",
       "  <tbody>\n",
       "    <tr>\n",
       "      <th>0</th>\n",
       "      <td>Via Senigallia 6 20161 Milan Italy</td>\n",
       "      <td>904</td>\n",
       "      <td>7/21/2017</td>\n",
       "      <td>8.1</td>\n",
       "      <td>Hotel Da Vinci</td>\n",
       "      <td>United Kingdom</td>\n",
       "      <td>Would have appreciated a shop in the hotel th...</td>\n",
       "      <td>52</td>\n",
       "      <td>16670</td>\n",
       "      <td>Hotel was great clean friendly staff free bre...</td>\n",
       "      <td>62</td>\n",
       "      <td>1</td>\n",
       "      <td>[' Leisure trip ', ' Couple ', ' Double Room '...</td>\n",
       "      <td>13 days</td>\n",
       "      <td>45.533137</td>\n",
       "      <td>9.171102</td>\n",
       "    </tr>\n",
       "    <tr>\n",
       "      <th>1</th>\n",
       "      <td>Arlandaweg 10 Westpoort 1043 EW Amsterdam Neth...</td>\n",
       "      <td>612</td>\n",
       "      <td>12/12/2016</td>\n",
       "      <td>8.6</td>\n",
       "      <td>Urban Lodge Hotel</td>\n",
       "      <td>Belgium</td>\n",
       "      <td>No tissue paper box was present at the room</td>\n",
       "      <td>10</td>\n",
       "      <td>5018</td>\n",
       "      <td>No Positive</td>\n",
       "      <td>0</td>\n",
       "      <td>7</td>\n",
       "      <td>[' Leisure trip ', ' Group ', ' Triple Room ',...</td>\n",
       "      <td>234 day</td>\n",
       "      <td>52.385649</td>\n",
       "      <td>4.834443</td>\n",
       "    </tr>\n",
       "  </tbody>\n",
       "</table>\n",
       "</div>"
      ],
      "text/plain": [
       "                                       hotel_address  \\\n",
       "0                 Via Senigallia 6 20161 Milan Italy   \n",
       "1  Arlandaweg 10 Westpoort 1043 EW Amsterdam Neth...   \n",
       "\n",
       "   additional_number_of_scoring review_date  average_score         hotel_name  \\\n",
       "0                           904   7/21/2017            8.1     Hotel Da Vinci   \n",
       "1                           612  12/12/2016            8.6  Urban Lodge Hotel   \n",
       "\n",
       "  reviewer_nationality                                    negative_review  \\\n",
       "0      United Kingdom    Would have appreciated a shop in the hotel th...   \n",
       "1             Belgium         No tissue paper box was present at the room   \n",
       "\n",
       "   review_total_negative_word_counts  total_number_of_reviews  \\\n",
       "0                                 52                    16670   \n",
       "1                                 10                     5018   \n",
       "\n",
       "                                     positive_review  \\\n",
       "0   Hotel was great clean friendly staff free bre...   \n",
       "1                                        No Positive   \n",
       "\n",
       "   review_total_positive_word_counts  \\\n",
       "0                                 62   \n",
       "1                                  0   \n",
       "\n",
       "   total_number_of_reviews_reviewer_has_given  \\\n",
       "0                                           1   \n",
       "1                                           7   \n",
       "\n",
       "                                                tags days_since_review  \\\n",
       "0  [' Leisure trip ', ' Couple ', ' Double Room '...           13 days   \n",
       "1  [' Leisure trip ', ' Group ', ' Triple Room ',...           234 day   \n",
       "\n",
       "         lat       lng  \n",
       "0  45.533137  9.171102  \n",
       "1  52.385649  4.834443  "
      ]
     },
     "execution_count": 6,
     "metadata": {},
     "output_type": "execute_result"
    }
   ],
   "source": [
    "df_test.head(2)"
   ]
  },
  {
   "cell_type": "code",
   "execution_count": 7,
   "id": "6fa2bbfe",
   "metadata": {
    "execution": {
     "iopub.execute_input": "2022-12-17T10:54:59.341584Z",
     "iopub.status.busy": "2022-12-17T10:54:59.340610Z",
     "iopub.status.idle": "2022-12-17T10:54:59.344935Z",
     "shell.execute_reply": "2022-12-17T10:54:59.344327Z",
     "shell.execute_reply.started": "2022-12-17T10:45:55.093454Z"
    },
    "papermill": {
     "duration": 0.058474,
     "end_time": "2022-12-17T10:54:59.345096",
     "exception": false,
     "start_time": "2022-12-17T10:54:59.286622",
     "status": "completed"
    },
    "tags": []
   },
   "outputs": [
    {
     "data": {
      "text/html": [
       "<div>\n",
       "<style scoped>\n",
       "    .dataframe tbody tr th:only-of-type {\n",
       "        vertical-align: middle;\n",
       "    }\n",
       "\n",
       "    .dataframe tbody tr th {\n",
       "        vertical-align: top;\n",
       "    }\n",
       "\n",
       "    .dataframe thead th {\n",
       "        text-align: right;\n",
       "    }\n",
       "</style>\n",
       "<table border=\"1\" class=\"dataframe\">\n",
       "  <thead>\n",
       "    <tr style=\"text-align: right;\">\n",
       "      <th></th>\n",
       "      <th>reviewer_score</th>\n",
       "      <th>id</th>\n",
       "    </tr>\n",
       "  </thead>\n",
       "  <tbody>\n",
       "    <tr>\n",
       "      <th>0</th>\n",
       "      <td>1</td>\n",
       "      <td>488440</td>\n",
       "    </tr>\n",
       "    <tr>\n",
       "      <th>1</th>\n",
       "      <td>10</td>\n",
       "      <td>274649</td>\n",
       "    </tr>\n",
       "    <tr>\n",
       "      <th>2</th>\n",
       "      <td>3</td>\n",
       "      <td>374688</td>\n",
       "    </tr>\n",
       "    <tr>\n",
       "      <th>3</th>\n",
       "      <td>10</td>\n",
       "      <td>404352</td>\n",
       "    </tr>\n",
       "    <tr>\n",
       "      <th>4</th>\n",
       "      <td>9</td>\n",
       "      <td>451596</td>\n",
       "    </tr>\n",
       "  </tbody>\n",
       "</table>\n",
       "</div>"
      ],
      "text/plain": [
       "   reviewer_score      id\n",
       "0               1  488440\n",
       "1              10  274649\n",
       "2               3  374688\n",
       "3              10  404352\n",
       "4               9  451596"
      ]
     },
     "execution_count": 7,
     "metadata": {},
     "output_type": "execute_result"
    }
   ],
   "source": [
    "sample_submission.head()"
   ]
  },
  {
   "cell_type": "code",
   "execution_count": 8,
   "id": "c8c1b2ef",
   "metadata": {},
   "outputs": [
    {
     "data": {
      "text/plain": [
       "5     13079\n",
       "10    13021\n",
       "2     12955\n",
       "6     12940\n",
       "      ...  \n",
       "9     12829\n",
       "3     12825\n",
       "7     12820\n",
       "4     12729\n",
       "Name: reviewer_score, Length: 10, dtype: int64"
      ]
     },
     "execution_count": 8,
     "metadata": {},
     "output_type": "execute_result"
    }
   ],
   "source": [
    "sample_submission['reviewer_score'].value_counts()"
   ]
  },
  {
   "cell_type": "code",
   "execution_count": 9,
   "id": "ff0237aa",
   "metadata": {
    "execution": {
     "iopub.execute_input": "2022-12-17T10:54:59.446990Z",
     "iopub.status.busy": "2022-12-17T10:54:59.446228Z",
     "iopub.status.idle": "2022-12-17T10:54:59.457035Z",
     "shell.execute_reply": "2022-12-17T10:54:59.457736Z",
     "shell.execute_reply.started": "2022-12-17T10:45:55.113170Z"
    },
    "papermill": {
     "duration": 0.064731,
     "end_time": "2022-12-17T10:54:59.458131",
     "exception": false,
     "start_time": "2022-12-17T10:54:59.393400",
     "status": "completed"
    },
    "tags": []
   },
   "outputs": [
    {
     "name": "stdout",
     "output_type": "stream",
     "text": [
      "<class 'pandas.core.frame.DataFrame'>\n",
      "RangeIndex: 128935 entries, 0 to 128934\n",
      "Data columns (total 2 columns):\n",
      " #   Column          Non-Null Count   Dtype\n",
      "---  ------          --------------   -----\n",
      " 0   reviewer_score  128935 non-null  int64\n",
      " 1   id              128935 non-null  int64\n",
      "dtypes: int64(2)\n",
      "memory usage: 2.0 MB\n"
     ]
    }
   ],
   "source": [
    "sample_submission.info()"
   ]
  },
  {
   "cell_type": "code",
   "execution_count": 10,
   "id": "9c85fb78",
   "metadata": {},
   "outputs": [],
   "source": [
    "# Lets mark train and test data\n",
    "df_train['sample'] = 1 # train  \n",
    "df_test['sample'] = 0  # test\n",
    "\n",
    "# let us create target feature in test data\n",
    "df_test['reviewer_score'] = 0 # fill with zeros\n",
    "\n",
    "# join train and test data for prediction\n",
    "data = df_test.append(df_train, sort=False).reset_index(drop=True) \n",
    "\n",
    "# Drop useless feature\n",
    "data.drop(['hotel_name'], axis=1, inplace=True)"
   ]
  },
  {
   "cell_type": "code",
   "execution_count": 11,
   "id": "079d6cb8",
   "metadata": {
    "execution": {
     "iopub.execute_input": "2022-12-17T10:55:00.249373Z",
     "iopub.status.busy": "2022-12-17T10:55:00.248125Z",
     "iopub.status.idle": "2022-12-17T10:55:00.470109Z",
     "shell.execute_reply": "2022-12-17T10:55:00.469373Z",
     "shell.execute_reply.started": "2022-12-17T10:45:55.716797Z"
    },
    "papermill": {
     "duration": 0.276908,
     "end_time": "2022-12-17T10:55:00.470275",
     "exception": false,
     "start_time": "2022-12-17T10:55:00.193367",
     "status": "completed"
    },
    "tags": []
   },
   "outputs": [
    {
     "name": "stdout",
     "output_type": "stream",
     "text": [
      "<class 'pandas.core.frame.DataFrame'>\n",
      "RangeIndex: 515738 entries, 0 to 515737\n",
      "Data columns (total 17 columns):\n",
      " #   Column                                      Non-Null Count   Dtype  \n",
      "---  ------                                      --------------   -----  \n",
      " 0   hotel_address                               515738 non-null  object \n",
      " 1   additional_number_of_scoring                515738 non-null  int64  \n",
      " 2   review_date                                 515738 non-null  object \n",
      " 3   average_score                               515738 non-null  float64\n",
      " 4   reviewer_nationality                        515738 non-null  object \n",
      " 5   negative_review                             515738 non-null  object \n",
      " 6   review_total_negative_word_counts           515738 non-null  int64  \n",
      " 7   total_number_of_reviews                     515738 non-null  int64  \n",
      " 8   positive_review                             515738 non-null  object \n",
      " 9   review_total_positive_word_counts           515738 non-null  int64  \n",
      " 10  total_number_of_reviews_reviewer_has_given  515738 non-null  int64  \n",
      " 11  tags                                        515738 non-null  object \n",
      " 12  days_since_review                           515738 non-null  object \n",
      " 13  lat                                         512470 non-null  float64\n",
      " 14  lng                                         512470 non-null  float64\n",
      " 15  sample                                      515738 non-null  int64  \n",
      " 16  reviewer_score                              515738 non-null  float64\n",
      "dtypes: float64(4), int64(6), object(7)\n",
      "memory usage: 66.9+ MB\n"
     ]
    }
   ],
   "source": [
    "data.info()"
   ]
  },
  {
   "attachments": {},
   "cell_type": "markdown",
   "id": "28d0aa22",
   "metadata": {
    "papermill": {
     "duration": 0.047016,
     "end_time": "2022-12-17T10:55:01.983117",
     "exception": false,
     "start_time": "2022-12-17T10:55:01.936101",
     "status": "completed"
    },
    "tags": []
   },
   "source": [
    "## Categorical features"
   ]
  },
  {
   "cell_type": "code",
   "execution_count": 12,
   "id": "b3f8cae3",
   "metadata": {
    "execution": {
     "iopub.execute_input": "2022-12-17T10:55:02.084161Z",
     "iopub.status.busy": "2022-12-17T10:55:02.083401Z",
     "iopub.status.idle": "2022-12-17T10:55:02.091501Z",
     "shell.execute_reply": "2022-12-17T10:55:02.092127Z",
     "shell.execute_reply.started": "2022-12-17T10:45:56.936002Z"
    },
    "papermill": {
     "duration": 0.061482,
     "end_time": "2022-12-17T10:55:02.092306",
     "exception": false,
     "start_time": "2022-12-17T10:55:02.030824",
     "status": "completed"
    },
    "tags": []
   },
   "outputs": [
    {
     "data": {
      "text/plain": [
       "['hotel_address',\n",
       " 'review_date',\n",
       " 'reviewer_nationality',\n",
       " 'negative_review',\n",
       " 'positive_review',\n",
       " 'tags',\n",
       " 'days_since_review']"
      ]
     },
     "execution_count": 12,
     "metadata": {},
     "output_type": "execute_result"
    }
   ],
   "source": [
    "categorical_columns_names = [s for s in data.columns if data[s].dtypes == 'object'] \n",
    "numerical_columns_names =   [s for s in data.columns if data[s].dtypes != 'object']\n",
    "categorical_columns_names"
   ]
  },
  {
   "cell_type": "markdown",
   "id": "b30013a6",
   "metadata": {
    "papermill": {
     "duration": 0.050106,
     "end_time": "2022-12-17T10:55:11.706170",
     "exception": false,
     "start_time": "2022-12-17T10:55:11.656064",
     "status": "completed"
    },
    "tags": []
   },
   "source": [
    "### Hotel address"
   ]
  },
  {
   "cell_type": "code",
   "execution_count": 13,
   "id": "fcf5b35d",
   "metadata": {
    "execution": {
     "iopub.execute_input": "2022-12-17T10:55:11.814303Z",
     "iopub.status.busy": "2022-12-17T10:55:11.813552Z",
     "iopub.status.idle": "2022-12-17T10:55:11.903239Z",
     "shell.execute_reply": "2022-12-17T10:55:11.901681Z",
     "shell.execute_reply.started": "2022-12-17T10:46:05.588152Z"
    },
    "papermill": {
     "duration": 0.14716,
     "end_time": "2022-12-17T10:55:11.903663",
     "exception": false,
     "start_time": "2022-12-17T10:55:11.756503",
     "status": "completed"
    },
    "tags": []
   },
   "outputs": [
    {
     "name": "stdout",
     "output_type": "stream",
     "text": [
      "163 Marsh Wall Docklands Tower Hamlets London E14 9SJ United Kingdom    4789\n",
      "Name: hotel_address, dtype: int64 13 Rue Fran ois Ory 92120 Paris France                     10\n",
      "Johann Staud Stra e 32 16 Ottakring 1160 Vienna Austria     8\n",
      "Name: hotel_address, dtype: int64\n"
     ]
    }
   ],
   "source": [
    "print(data['hotel_address'].value_counts().head(1), data['hotel_address'].value_counts().tail(2))"
   ]
  },
  {
   "cell_type": "code",
   "execution_count": 14,
   "id": "1d01c0f1",
   "metadata": {
    "execution": {
     "iopub.execute_input": "2022-12-17T10:55:12.012721Z",
     "iopub.status.busy": "2022-12-17T10:55:12.011946Z",
     "iopub.status.idle": "2022-12-17T10:55:14.174108Z",
     "shell.execute_reply": "2022-12-17T10:55:14.173424Z",
     "shell.execute_reply.started": "2022-12-17T10:46:05.676854Z"
    },
    "papermill": {
     "duration": 2.216729,
     "end_time": "2022-12-17T10:55:14.174295",
     "exception": false,
     "start_time": "2022-12-17T10:55:11.957566",
     "status": "completed"
    },
    "tags": []
   },
   "outputs": [
    {
     "name": "stdout",
     "output_type": "stream",
     "text": [
      " \n",
      "United Kingdom    262301\n",
      "Spain              60149\n",
      "France             59928\n",
      "Netherlands        57214\n",
      "Austria            38939\n",
      "Italy              37207\n",
      "Name: country, dtype: int64   London       262301\n",
      "Barcelona     60149\n",
      "Paris         59928\n",
      "Amsterdam     57214\n",
      "Vienna        38939\n",
      "Milan         37207\n",
      "Name: city, dtype: int64\n"
     ]
    }
   ],
   "source": [
    "data['country'] = data['hotel_address'].apply(lambda x: \\\n",
    "    (x.split()[-2] + ' '+ x.split()[-1]) if x.split()[-1]=='Kingdom' else  x.split()[-1])\n",
    "\n",
    "data['city'] = data['hotel_address'].apply(lambda x: x.split()[-5] if x.split()[-1]=='Kingdom' else  x.split()[-2]) \n",
    "\n",
    "print(' ')    \n",
    "print(data['country'].value_counts(),' ', data['city'].value_counts())\n",
    "data.drop(['hotel_address'], axis=1, inplace=True)"
   ]
  },
  {
   "cell_type": "markdown",
   "id": "d9e9bfa3",
   "metadata": {
    "papermill": {
     "duration": 0.058109,
     "end_time": "2022-12-17T10:55:06.168555",
     "exception": false,
     "start_time": "2022-12-17T10:55:06.110446",
     "status": "completed"
    },
    "tags": []
   },
   "source": [
    "### Negative reviews"
   ]
  },
  {
   "cell_type": "code",
   "execution_count": 15,
   "id": "d09cb2cb",
   "metadata": {
    "execution": {
     "iopub.execute_input": "2022-12-17T10:55:06.275987Z",
     "iopub.status.busy": "2022-12-17T10:55:06.275211Z",
     "iopub.status.idle": "2022-12-17T10:55:06.726453Z",
     "shell.execute_reply": "2022-12-17T10:55:06.727524Z",
     "shell.execute_reply.started": "2022-12-17T10:46:00.456624Z"
    },
    "papermill": {
     "duration": 0.508935,
     "end_time": "2022-12-17T10:55:06.727717",
     "exception": false,
     "start_time": "2022-12-17T10:55:06.218782",
     "status": "completed"
    },
    "tags": []
   },
   "outputs": [
    {
     "data": {
      "text/plain": [
       "No Negative    127890\n",
       " Nothing        14295\n",
       " Nothing         4236\n",
       " nothing         2225\n",
       " N A             1037\n",
       "Name: negative_review, dtype: int64"
      ]
     },
     "execution_count": 15,
     "metadata": {},
     "output_type": "execute_result"
    }
   ],
   "source": [
    "# change feature type\n",
    "data['negative_review'] = data['negative_review'].astype('object')\n",
    "data['negative_review'].value_counts().head()"
   ]
  },
  {
   "cell_type": "code",
   "execution_count": 16,
   "id": "629ecbc0",
   "metadata": {
    "execution": {
     "iopub.execute_input": "2022-12-17T10:55:06.834891Z",
     "iopub.status.busy": "2022-12-17T10:55:06.833825Z",
     "iopub.status.idle": "2022-12-17T10:55:11.604272Z",
     "shell.execute_reply": "2022-12-17T10:55:11.604777Z",
     "shell.execute_reply.started": "2022-12-17T10:46:00.813638Z"
    },
    "papermill": {
     "duration": 4.825179,
     "end_time": "2022-12-17T10:55:11.605006",
     "exception": false,
     "start_time": "2022-12-17T10:55:06.779827",
     "status": "completed"
    },
    "tags": []
   },
   "outputs": [],
   "source": [
    "# Delete space and lower case\n",
    "data['negative_review'] = data['negative_review'].apply(lambda x: x.lower() if x=='No Negative' else x.lower()[1:])\n",
    "data['negative_review'] = data['negative_review'].str.strip()\n",
    "#data['negative_review'] = data['negative_review'].apply(get_negative_reasons)\n",
    "#data['negative_review'].value_counts()"
   ]
  },
  {
   "attachments": {},
   "cell_type": "markdown",
   "id": "566d91f8",
   "metadata": {},
   "source": [
    "#### Separate neutral feedbacks"
   ]
  },
  {
   "cell_type": "code",
   "execution_count": 17,
   "id": "12e68c19",
   "metadata": {},
   "outputs": [],
   "source": [
    "# data['clas_neutral_review'] = data['negative_review'].apply(get_neutral_from_negative)\n",
    "# data['clas_neutral_review'].value_counts().head()"
   ]
  },
  {
   "cell_type": "code",
   "execution_count": 18,
   "id": "940b09c4",
   "metadata": {},
   "outputs": [],
   "source": [
    "blobber = Blobber(analyzer=NaiveBayesAnalyzer())\n",
    "\n",
    "# We categirize reviews with the NaiveBayesAnalyzer into 2 categories: negative and positive \n",
    "data['clas_neg_review'] = data['negative_review'].apply(lambda x: blobber(x).sentiment.classification)\n",
    "\n",
    "# drop original feature 'negative_review'\n",
    "data.drop(['negative_review'], axis=1, inplace=True)"
   ]
  },
  {
   "cell_type": "markdown",
   "id": "1606973c",
   "metadata": {
    "papermill": {
     "duration": 0.047662,
     "end_time": "2022-12-17T10:55:02.188255",
     "exception": false,
     "start_time": "2022-12-17T10:55:02.140593",
     "status": "completed"
    },
    "tags": []
   },
   "source": [
    "### Positive reviews"
   ]
  },
  {
   "cell_type": "code",
   "execution_count": 19,
   "id": "334fc13d",
   "metadata": {
    "execution": {
     "iopub.execute_input": "2022-12-17T10:55:02.759033Z",
     "iopub.status.busy": "2022-12-17T10:55:02.757546Z",
     "iopub.status.idle": "2022-12-17T10:55:02.798431Z",
     "shell.execute_reply": "2022-12-17T10:55:02.797758Z",
     "shell.execute_reply.started": "2022-12-17T10:45:56.958521Z"
    },
    "papermill": {
     "duration": 0.561314,
     "end_time": "2022-12-17T10:55:02.798586",
     "exception": false,
     "start_time": "2022-12-17T10:55:02.237272",
     "status": "completed"
    },
    "tags": []
   },
   "outputs": [
    {
     "data": {
      "text/plain": [
       "No Positive    35946\n",
       " Location       9222\n",
       " Everything     2284\n",
       " location       1677\n",
       " Nothing        1243\n",
       "Name: positive_review, dtype: int64"
      ]
     },
     "execution_count": 19,
     "metadata": {},
     "output_type": "execute_result"
    }
   ],
   "source": [
    "data['positive_review'].value_counts().head()"
   ]
  },
  {
   "attachments": {},
   "cell_type": "markdown",
   "id": "3ba7e093",
   "metadata": {},
   "source": [
    "As it can be seen, some rows contain spaces prior to first word. Let us delete it"
   ]
  },
  {
   "cell_type": "code",
   "execution_count": 20,
   "id": "97c7181c",
   "metadata": {
    "execution": {
     "iopub.execute_input": "2022-12-17T10:55:02.903803Z",
     "iopub.status.busy": "2022-12-17T10:55:02.903069Z",
     "iopub.status.idle": "2022-12-17T10:55:03.978732Z",
     "shell.execute_reply": "2022-12-17T10:55:03.977973Z",
     "shell.execute_reply.started": "2022-12-17T10:45:57.427141Z"
    },
    "papermill": {
     "duration": 1.130204,
     "end_time": "2022-12-17T10:55:03.978911",
     "exception": false,
     "start_time": "2022-12-17T10:55:02.848707",
     "status": "completed"
    },
    "tags": []
   },
   "outputs": [
    {
     "data": {
      "text/plain": [
       "no positive           35946\n",
       "location              11945\n",
       "everything             3314\n",
       "nothing                1731\n",
       "                      ...  \n",
       "good location          1496\n",
       "breakfast               795\n",
       "friendly staff          733\n",
       "excellent location      639\n",
       "Name: positive_review, Length: 10, dtype: int64"
      ]
     },
     "execution_count": 20,
     "metadata": {},
     "output_type": "execute_result"
    }
   ],
   "source": [
    "# Delete space and lower case\n",
    "data['positive_review'] = data['positive_review'].apply(lambda x: x.lower() if x=='No Positive' else x.lower()[1:])\n",
    "\n",
    "data['positive_review'] = data['positive_review'].str.strip()\n",
    "#data['positive_review_encoding'] = data['positive_review'].apply(get_find_reasons)\n",
    "data['positive_review'].value_counts().head(10)"
   ]
  },
  {
   "cell_type": "code",
   "execution_count": 21,
   "id": "24426758",
   "metadata": {
    "execution": {
     "iopub.execute_input": "2022-12-17T10:55:04.092457Z",
     "iopub.status.busy": "2022-12-17T10:55:04.091695Z",
     "iopub.status.idle": "2022-12-17T10:55:06.054936Z",
     "shell.execute_reply": "2022-12-17T10:55:06.055493Z",
     "shell.execute_reply.started": "2022-12-17T10:45:58.482433Z"
    },
    "papermill": {
     "duration": 2.026894,
     "end_time": "2022-12-17T10:55:06.055678",
     "exception": false,
     "start_time": "2022-12-17T10:55:04.028784",
     "status": "completed"
    },
    "tags": []
   },
   "outputs": [],
   "source": [
    "#data['positive_review'] = data['positive_review'].apply(get_positive_reasons)\n",
    "#data['positive_review'].value_counts().head(10)\n",
    "data['clas_pos_review'] = data['positive_review'].apply(lambda x: blobber(x).sentiment.classification)\n",
    "\n",
    "# drop original feature 'positive_review'\n",
    "data.drop(['positive_review'], axis=1, inplace=True)"
   ]
  },
  {
   "cell_type": "code",
   "execution_count": 22,
   "id": "7b3691bc",
   "metadata": {},
   "outputs": [
    {
     "data": {
      "text/plain": [
       "pos    352195\n",
       "neg    163543\n",
       "Name: clas_neg_review, dtype: int64"
      ]
     },
     "metadata": {},
     "output_type": "display_data"
    },
    {
     "name": "stdout",
     "output_type": "stream",
     "text": [
      "\n"
     ]
    },
    {
     "data": {
      "text/plain": [
       "pos    387969\n",
       "neg    127769\n",
       "Name: clas_pos_review, dtype: int64"
      ]
     },
     "metadata": {},
     "output_type": "display_data"
    }
   ],
   "source": [
    "display(data['clas_neg_review'].value_counts())\n",
    "print('')\n",
    "display(data['clas_pos_review'].value_counts())"
   ]
  },
  {
   "cell_type": "markdown",
   "id": "4baa4d8c",
   "metadata": {
    "papermill": {
     "duration": 0.054325,
     "end_time": "2022-12-17T10:55:14.488688",
     "exception": false,
     "start_time": "2022-12-17T10:55:14.434363",
     "status": "completed"
    },
    "tags": []
   },
   "source": [
    "### Reviewer nationality"
   ]
  },
  {
   "cell_type": "code",
   "execution_count": 23,
   "id": "af5ac80a",
   "metadata": {
    "execution": {
     "iopub.execute_input": "2022-12-17T10:55:14.631957Z",
     "iopub.status.busy": "2022-12-17T10:55:14.631168Z",
     "iopub.status.idle": "2022-12-17T10:55:14.643875Z",
     "shell.execute_reply": "2022-12-17T10:55:14.643235Z",
     "shell.execute_reply.started": "2022-12-17T10:46:07.759152Z"
    },
    "papermill": {
     "duration": 0.104464,
     "end_time": "2022-12-17T10:55:14.644048",
     "exception": false,
     "start_time": "2022-12-17T10:55:14.539584",
     "status": "completed"
    },
    "tags": []
   },
   "outputs": [
    {
     "data": {
      "text/plain": [
       "Index([' United Kingdom ', ' United States of America ', ' Australia ',\n",
       "       ' Ireland ', ' United Arab Emirates ', ' Saudi Arabia ',\n",
       "       ' Netherlands ', ' Switzerland ', ' Germany ', ' Canada '],\n",
       "      dtype='object')"
      ]
     },
     "metadata": {},
     "output_type": "display_data"
    },
    {
     "data": {
      "text/plain": [
       "' United Kingdom '"
      ]
     },
     "metadata": {},
     "output_type": "display_data"
    }
   ],
   "source": [
    "display(data['reviewer_nationality'].value_counts().nlargest(10).index)\n",
    "display(data['reviewer_nationality'].iloc[0])"
   ]
  },
  {
   "cell_type": "code",
   "execution_count": 24,
   "id": "d9db51c0",
   "metadata": {
    "execution": {
     "iopub.execute_input": "2022-12-17T10:55:14.760621Z",
     "iopub.status.busy": "2022-12-17T10:55:14.759678Z",
     "iopub.status.idle": "2022-12-17T10:55:23.215187Z",
     "shell.execute_reply": "2022-12-17T10:55:23.215740Z",
     "shell.execute_reply.started": "2022-12-17T10:46:07.811722Z"
    },
    "papermill": {
     "duration": 8.520467,
     "end_time": "2022-12-17T10:55:23.215960",
     "exception": false,
     "start_time": "2022-12-17T10:55:14.695493",
     "status": "completed"
    },
    "tags": []
   },
   "outputs": [
    {
     "data": {
      "text/plain": [
       "United Kingdom              245246\n",
       "other                       120020\n",
       "United States of America     35437\n",
       "Australia                    21686\n",
       "Ireland                      14827\n",
       "Name: reviewer_nationality, dtype: int64"
      ]
     },
     "execution_count": 24,
     "metadata": {},
     "output_type": "execute_result"
    }
   ],
   "source": [
    "# Del spaces at the end of each row if any\n",
    "data['reviewer_nationality'] = data['reviewer_nationality'].apply(lambda x: x[1:-1:1])\n",
    "\n",
    "# Creation of a new feature *same nationality*. \n",
    "data['nationality_same_as_country'] = data.apply(lambda x: 1 if x['reviewer_nationality'] == x['country'] else 0, axis=1).astype('int16')\n",
    "data['nationality_same_as_country'].value_counts()\n",
    "\n",
    "# Feature reduction to 14 most frequent nationalities. The rest are named as 'other'.\n",
    "most_frequent_nationalities = data['reviewer_nationality'].value_counts().nlargest(14).index.to_list()\n",
    "data['reviewer_nationality'] = data['reviewer_nationality'].apply(lambda x: x if x in most_frequent_nationalities else 'other')\n",
    "data['reviewer_nationality'].value_counts().head()"
   ]
  },
  {
   "cell_type": "markdown",
   "id": "d8f3d570",
   "metadata": {
    "papermill": {
     "duration": 0.051522,
     "end_time": "2022-12-17T10:55:24.030146",
     "exception": false,
     "start_time": "2022-12-17T10:55:23.978624",
     "status": "completed"
    },
    "tags": []
   },
   "source": [
    "### Tags"
   ]
  },
  {
   "cell_type": "code",
   "execution_count": 25,
   "id": "06d4a30e",
   "metadata": {
    "papermill": {
     "duration": 0.053588,
     "end_time": "2022-12-17T10:55:24.137598",
     "exception": false,
     "start_time": "2022-12-17T10:55:24.084010",
     "status": "completed"
    },
    "tags": []
   },
   "outputs": [
    {
     "data": {
      "text/plain": [
       "[' Leisure trip ', ' Couple ', ' Double Room ', ' Stayed 1 night ', ' Submitted from a mobile device ']              5101\n",
       "[' Leisure trip ', ' Couple ', ' Standard Double Room ', ' Stayed 1 night ', ' Submitted from a mobile device ']     4931\n",
       "[' Leisure trip ', ' Couple ', ' Superior Double Room ', ' Stayed 1 night ', ' Submitted from a mobile device ']     4366\n",
       "[' Leisure trip ', ' Couple ', ' Deluxe Double Room ', ' Stayed 1 night ', ' Submitted from a mobile device ']       3991\n",
       "                                                                                                                     ... \n",
       "[' Leisure trip ', ' Couple ', ' Standard Double Room ', ' Stayed 2 nights ', ' Submitted from a mobile device ']    2947\n",
       "[' Leisure trip ', ' Couple ', ' Double Room ', ' Stayed 1 night ']                                                  2906\n",
       "[' Leisure trip ', ' Couple ', ' Standard Double Room ', ' Stayed 1 night ']                                         2620\n",
       "[' Leisure trip ', ' Couple ', ' Deluxe Double Room ', ' Stayed 2 nights ', ' Submitted from a mobile device ']      2362\n",
       "Name: tags, Length: 10, dtype: int64"
      ]
     },
     "execution_count": 25,
     "metadata": {},
     "output_type": "execute_result"
    }
   ],
   "source": [
    "data['tags'].explode().value_counts().nlargest(10)"
   ]
  },
  {
   "attachments": {},
   "cell_type": "markdown",
   "id": "d29566ad",
   "metadata": {},
   "source": [
    "#### Traveller type"
   ]
  },
  {
   "cell_type": "code",
   "execution_count": 26,
   "id": "7f947f9c",
   "metadata": {},
   "outputs": [
    {
     "data": {
      "text/plain": [
       " Couple                        245754\n",
       " Solo traveler                 104060\n",
       " Group                          63649\n",
       " Family with young children     58573\n",
       " Family with older children     25326\n",
       "Name: traveller_type, dtype: int64"
      ]
     },
     "execution_count": 26,
     "metadata": {},
     "output_type": "execute_result"
    }
   ],
   "source": [
    "data['traveller_type'] = data['tags'].apply(get_traveller)\n",
    "data['traveller_type'].value_counts().head()"
   ]
  },
  {
   "cell_type": "code",
   "execution_count": 27,
   "id": "e7d29f96",
   "metadata": {},
   "outputs": [
    {
     "name": "stdout",
     "output_type": "stream",
     "text": [
      "Index([' Couple', ' Solo traveler', ' Group', ' Family with young children',\n",
      "       ' Family with older children', ' Travelers with friends'],\n",
      "      dtype='object')\n"
     ]
    },
    {
     "data": {
      "text/plain": [
       " Couple                        245754\n",
       " Solo traveler                 104060\n",
       " Group                          63649\n",
       " Family with young children     58573\n",
       " Family with older children     25326\n",
       "Name: traveller_type, dtype: int64"
      ]
     },
     "execution_count": 27,
     "metadata": {},
     "output_type": "execute_result"
    }
   ],
   "source": [
    "# Feature reduction to 6 most frequent types\n",
    "popular_travellers_types = data['traveller_type'].value_counts().nlargest(6).index\n",
    "print(popular_travellers_types)\n",
    "\n",
    "data['traveller_type'] = data['traveller_type'].apply(lambda x: x if x in popular_travellers_types else ' Other')\n",
    "data['traveller_type'].value_counts().head()"
   ]
  },
  {
   "attachments": {},
   "cell_type": "markdown",
   "id": "1908612d",
   "metadata": {},
   "source": [
    "#### Trip types"
   ]
  },
  {
   "cell_type": "code",
   "execution_count": 28,
   "id": "46319cb3",
   "metadata": {},
   "outputs": [
    {
     "data": {
      "text/plain": [
       "Leisure trip     416672\n",
       "Business trip     82748\n",
       "Couple             5808\n",
       "Solo traveler      4291\n",
       "Family             3158\n",
       "Name: trip_type, dtype: int64"
      ]
     },
     "execution_count": 28,
     "metadata": {},
     "output_type": "execute_result"
    }
   ],
   "source": [
    "data['trip_type'] = data['tags'].apply(get_trip_type)\n",
    "data['trip_type'].value_counts().head()"
   ]
  },
  {
   "cell_type": "code",
   "execution_count": 29,
   "id": "98c88db2",
   "metadata": {},
   "outputs": [],
   "source": [
    "fig = px.pie(\n",
    "    data,\n",
    "    names='trip_type',\n",
    "    width=400,\n",
    "    height=400,\n",
    ")\n",
    "\n",
    "fig.update_layout(\n",
    "    title=dict(text='Fig.1 - Trip types', x=.5, y=0.1, xanchor='center'),\n",
    ")\n",
    "fig.update_traces(textposition='inside', textinfo='percent+label')\n",
    "#fig.show()\n",
    "\n",
    "fig.write_image('../figures/fig_1.png');"
   ]
  },
  {
   "attachments": {},
   "cell_type": "markdown",
   "id": "2a7b2bf3",
   "metadata": {},
   "source": [
    "<center> <img src = \"../figures/fig_1.png\">"
   ]
  },
  {
   "attachments": {},
   "cell_type": "markdown",
   "id": "70220317",
   "metadata": {},
   "source": [
    "#### Stay duration"
   ]
  },
  {
   "cell_type": "code",
   "execution_count": 30,
   "id": "c3a15667",
   "metadata": {},
   "outputs": [
    {
     "data": {
      "text/plain": [
       "1    193645\n",
       "2    133937\n",
       "3     95821\n",
       "4     47817\n",
       "5     20845\n",
       "Name: stay_length, dtype: int64"
      ]
     },
     "execution_count": 30,
     "metadata": {},
     "output_type": "execute_result"
    }
   ],
   "source": [
    "data['stay_length'] = data['tags'].apply(get_stay_length)\n",
    "#data['stay_length'].value_counts().head()\n",
    "data['stay_length'].value_counts().head()"
   ]
  },
  {
   "cell_type": "code",
   "execution_count": 31,
   "id": "7a8be7fa",
   "metadata": {},
   "outputs": [
    {
     "data": {
      "text/plain": [
       "26    7\n",
       "28    7\n",
       "24    6\n",
       "29    5\n",
       "31    1\n",
       "Name: stay_length, dtype: int64"
      ]
     },
     "execution_count": 31,
     "metadata": {},
     "output_type": "execute_result"
    }
   ],
   "source": [
    "data['stay_length'].value_counts().tail()"
   ]
  },
  {
   "cell_type": "code",
   "execution_count": 32,
   "id": "28c12904",
   "metadata": {},
   "outputs": [],
   "source": [
    "# Feature reduction 10 categories\n",
    "data['stay_length'] = data['stay_length'].apply(lambda x: 10 if x > 9 else x)"
   ]
  },
  {
   "cell_type": "code",
   "execution_count": 33,
   "id": "e4133de7",
   "metadata": {},
   "outputs": [
    {
     "data": {
      "image/png": "[encoded data removed]",
      "text/plain": [
       "<Figure size 600x400 with 1 Axes>"
      ]
     },
     "metadata": {},
     "output_type": "display_data"
    }
   ],
   "source": [
    "fig = plt.figure(figsize=(6, 4))\n",
    "\n",
    "hist = sns.histplot(\n",
    "    data=data,\n",
    "    x='stay_length', \n",
    "    bins=15,\n",
    "    #kde=True,\n",
    ");\n",
    "hist.set(xlabel='Duration, days', ylabel='Nuber of clients')\n",
    "hist.set_title('Fig.2 - Lesure duratiion distribution', y=-0.3, fontsize=14)\n",
    "plt.tight_layout();\n",
    "\n",
    "plt.savefig(f'../figures/fig_2.png')"
   ]
  },
  {
   "attachments": {},
   "cell_type": "markdown",
   "id": "61dbc6b2",
   "metadata": {},
   "source": [
    "#### Room types"
   ]
  },
  {
   "cell_type": "code",
   "execution_count": 34,
   "id": "a512661d",
   "metadata": {},
   "outputs": [
    {
     "data": {
      "text/plain": [
       " Double Room                    34027\n",
       " Standard Double Room           31242\n",
       " Superior Double Room           30460\n",
       " Deluxe Double Room             24001\n",
       "                                ...  \n",
       " Twin Room                       7950\n",
       " Executive Double Room           6229\n",
       " Classic Double or Twin Room     5985\n",
       " Deluxe Double or Twin Room      5838\n",
       "Name: room_type, Length: 15, dtype: int64"
      ]
     },
     "execution_count": 34,
     "metadata": {},
     "output_type": "execute_result"
    }
   ],
   "source": [
    "data['room_type'] = data['tags'].apply(get_room_type_prep)\n",
    "data['room_type'].value_counts().nlargest(15)"
   ]
  },
  {
   "cell_type": "code",
   "execution_count": 35,
   "id": "bac14307",
   "metadata": {},
   "outputs": [
    {
     "data": {
      "text/plain": [
       "Double Room    293654\n",
       "Family Room    188507\n",
       "Single Room     24305\n",
       "Triple Room      9272\n",
       "Name: room_type, dtype: int64"
      ]
     },
     "execution_count": 35,
     "metadata": {},
     "output_type": "execute_result"
    }
   ],
   "source": [
    "room_types = data['room_type'].astype('str').apply(get_room_type)\n",
    "room_types.value_counts().nlargest(15)"
   ]
  },
  {
   "cell_type": "code",
   "execution_count": 36,
   "id": "47fefe39",
   "metadata": {},
   "outputs": [
    {
     "name": "stdout",
     "output_type": "stream",
     "text": [
      "Index(['Double Room', 'Family Room', 'Single Room', 'Triple Room'], dtype='object')\n"
     ]
    }
   ],
   "source": [
    "# Reduction of types\n",
    "popular_room_types = room_types.value_counts().nlargest(6).index\n",
    "print(popular_room_types)\n",
    "\n",
    "data['room_type'] = room_types.apply(lambda x: x if x in popular_room_types else 'other')\n",
    "\n",
    "# Del original feature 'room_type'\n",
    "data.drop(['room_type'], axis=1, inplace=True)"
   ]
  },
  {
   "cell_type": "code",
   "execution_count": 37,
   "id": "00361e24",
   "metadata": {},
   "outputs": [],
   "source": [
    "# drop original feature\n",
    "data.drop(['tags'], axis=1, inplace=True)"
   ]
  },
  {
   "cell_type": "markdown",
   "id": "f1080f2d",
   "metadata": {
    "papermill": {
     "duration": 0.051635,
     "end_time": "2022-12-17T10:55:14.278880",
     "exception": false,
     "start_time": "2022-12-17T10:55:14.227245",
     "status": "completed"
    },
    "tags": []
   },
   "source": [
    "### review_date"
   ]
  },
  {
   "cell_type": "code",
   "execution_count": 38,
   "id": "fc8cf7eb",
   "metadata": {},
   "outputs": [],
   "source": [
    "# Creation of a new feature\n",
    "data['review_date'] = pd.to_datetime(data['review_date'], errors='coerce', format='%m/%d/%Y')\n",
    "\n",
    "# Get review date\n",
    "data['days_since_review'] = ((data['review_date'].max() - data['review_date'])/np.timedelta64(1,'D')).astype(int)\n",
    "data['review_month'] = data['review_date'].dt.month.astype(int)\n",
    "data['review_day'] = data['review_date'].dt.day.astype(int)\n",
    "data['review_weekday'] = data['review_date'].dt.dayofweek.astype(int)\n",
    "\n",
    "# drop original feature\n",
    "data.drop(['review_date'], axis=1, inplace=True)"
   ]
  },
  {
   "attachments": {},
   "cell_type": "markdown",
   "id": "b12b9306",
   "metadata": {},
   "source": [
    "## Numerical features"
   ]
  },
  {
   "attachments": {},
   "cell_type": "markdown",
   "id": "ac50d215",
   "metadata": {},
   "source": [
    "### Hotels coordinates: 'lat' and 'lng'"
   ]
  },
  {
   "cell_type": "code",
   "execution_count": 39,
   "id": "77a71fb6",
   "metadata": {
    "papermill": {
     "duration": 0.053529,
     "end_time": "2022-12-17T10:55:24.243057",
     "exception": false,
     "start_time": "2022-12-17T10:55:24.189528",
     "status": "completed"
    },
    "tags": []
   },
   "outputs": [
    {
     "name": "stdout",
     "output_type": "stream",
     "text": [
      "Features with missing values, %: \n",
      "lat    0.63\n",
      "lng    0.63\n",
      "dtype: float64\n"
     ]
    }
   ],
   "source": [
    "# Missing values identification\n",
    "cols_null_percent = round(data.isnull().mean() * 100, 2)\n",
    "cols_with_null = cols_null_percent[cols_null_percent > 0].sort_values(ascending=False)\n",
    "print(f\"Features with missing values, %: \\n{cols_with_null}\")"
   ]
  },
  {
   "cell_type": "code",
   "execution_count": 40,
   "id": "ccfa41e3",
   "metadata": {},
   "outputs": [
    {
     "data": {
      "image/png": "[encoded data removed]",
      "text/plain": [
       "<Figure size 500x300 with 2 Axes>"
      ]
     },
     "metadata": {},
     "output_type": "display_data"
    }
   ],
   "source": [
    "colors = ['blue', 'yellow'] \n",
    "fig, ax = plt.subplots(figsize=(5,3))\n",
    "fig.subplots_adjust(left=0.1,\n",
    "                    bottom=0.1,\n",
    "                    right=0.9,\n",
    "                    top=0.9,\n",
    "                    wspace=0.5,\n",
    "                    hspace=0.4)\n",
    "\n",
    "cols = cols_with_null.index\n",
    "fig= sns.heatmap(\n",
    "    data[cols].isnull(),\n",
    "    cmap=sns.color_palette(colors), ax=ax\n",
    ")\n",
    "fig.set_title('Fig.3 - Missing entries', y=-0.25);\n",
    "#ax.set_yticks(range(0, 500000, 100000));"
   ]
  },
  {
   "cell_type": "code",
   "execution_count": 41,
   "id": "2f6092de",
   "metadata": {},
   "outputs": [
    {
     "data": {
      "text/plain": [
       "\"There are: 3 distinct cities: ['Vienna', 'Barcelona', 'Paris']\""
      ]
     },
     "metadata": {},
     "output_type": "display_data"
    }
   ],
   "source": [
    "# addresses with missing entries\n",
    "null_addresses = list(set(data[data['lat'].isnull()]['city']))\n",
    "\n",
    "null_cities = list()\n",
    "for x in null_addresses:\n",
    "    null_cities.append(x) \n",
    "    \n",
    "# set of unique cities\n",
    "distinct_cities=list(set(null_cities))\n",
    "\n",
    "#display(f'Number of missing entries: {len(null_cities)}')\n",
    "display(f'There are: {len(set(null_cities))} distinct cities: {distinct_cities}')"
   ]
  },
  {
   "attachments": {},
   "cell_type": "markdown",
   "id": "8edb91ba",
   "metadata": {},
   "source": [
    "Get city centers by coordinates from Google maps."
   ]
  },
  {
   "cell_type": "code",
   "execution_count": 42,
   "id": "4d263e8f",
   "metadata": {},
   "outputs": [
    {
     "data": {
      "text/plain": [
       "additional_number_of_scoring         0.0\n",
       "average_score                        0.0\n",
       "reviewer_nationality                 0.0\n",
       "review_total_negative_word_counts    0.0\n",
       "total_number_of_reviews              0.0\n",
       "dtype: float64"
      ]
     },
     "metadata": {},
     "output_type": "display_data"
    }
   ],
   "source": [
    "# City center coordinates\n",
    "city_center_coordinates = {\n",
    "    'Vienna': [48.210033, 16.363449],\n",
    "    'Barcelona': [41.390205, 2.154007],\n",
    "    'Paris': [48.864716, 2.349014]\n",
    "}\n",
    "\n",
    "lat_mask = data['lat'].isnull()\n",
    "lng_mask = data['lng'].isnull()\n",
    "\n",
    "for city, coordinates in city_center_coordinates.items():\n",
    "    data.loc[(lat_mask & (data['city'] == city)), 'lat'] = coordinates[0]\n",
    "    data.loc[(lng_mask & (data['city'] == city)), 'lng'] = coordinates[1]\n",
    "    \n",
    "# Get missing entries share by feature\n",
    "display(data.isnull().mean().head())"
   ]
  },
  {
   "attachments": {},
   "cell_type": "markdown",
   "id": "0411195a",
   "metadata": {},
   "source": [
    "## Normalization of humerical features"
   ]
  },
  {
   "cell_type": "code",
   "execution_count": 43,
   "id": "9246773c",
   "metadata": {},
   "outputs": [
    {
     "data": {
      "text/plain": [
       "['additional_number_of_scoring',\n",
       " 'average_score',\n",
       " 'review_total_negative_word_counts',\n",
       " 'total_number_of_reviews',\n",
       " 'review_total_positive_word_counts',\n",
       " 'total_number_of_reviews_reviewer_has_given',\n",
       " 'days_since_review',\n",
       " 'stay_length',\n",
       " 'review_month',\n",
       " 'review_day',\n",
       " 'review_weekday']"
      ]
     },
     "execution_count": 43,
     "metadata": {},
     "output_type": "execute_result"
    }
   ],
   "source": [
    "# Let us exclude following features\n",
    "exclusion = ['lat', 'lng', 'sample', 'nationality_same_as_country', 'reviewer_score']\n",
    "\n",
    "num_features = [s for s in data.columns if data[s].dtypes != 'object' and s not in exclusion]\n",
    "num_features"
   ]
  },
  {
   "cell_type": "code",
   "execution_count": 44,
   "id": "798575e8",
   "metadata": {},
   "outputs": [
    {
     "data": {
      "image/png": "[encoded data removed]",
      "text/plain": [
       "<Figure size 800x500 with 1 Axes>"
      ]
     },
     "metadata": {},
     "output_type": "display_data"
    }
   ],
   "source": [
    "fig = plt.figure(figsize=(8, 5))\n",
    "\n",
    "boxplot = sns.boxplot(data=data[num_features], orient='h')\n",
    "boxplot.set_title('Fig.4 - numerical features distribution', y=-0.2, fontsize=12)\n",
    "boxplot.set_xlabel('Range')\n",
    "boxplot.set_ylabel('Feature')\n",
    "boxplot.grid();"
   ]
  },
  {
   "cell_type": "code",
   "execution_count": 45,
   "id": "23b23311",
   "metadata": {},
   "outputs": [
    {
     "data": {
      "text/html": [
       "<div>\n",
       "<style scoped>\n",
       "    .dataframe tbody tr th:only-of-type {\n",
       "        vertical-align: middle;\n",
       "    }\n",
       "\n",
       "    .dataframe tbody tr th {\n",
       "        vertical-align: top;\n",
       "    }\n",
       "\n",
       "    .dataframe thead th {\n",
       "        text-align: right;\n",
       "    }\n",
       "</style>\n",
       "<table border=\"1\" class=\"dataframe\">\n",
       "  <thead>\n",
       "    <tr style=\"text-align: right;\">\n",
       "      <th></th>\n",
       "      <th>min</th>\n",
       "      <th>mean</th>\n",
       "      <th>max</th>\n",
       "    </tr>\n",
       "  </thead>\n",
       "  <tbody>\n",
       "    <tr>\n",
       "      <th>additional_number_of_scoring</th>\n",
       "      <td>1.0</td>\n",
       "      <td>498.08</td>\n",
       "      <td>2682.0</td>\n",
       "    </tr>\n",
       "    <tr>\n",
       "      <th>average_score</th>\n",
       "      <td>5.2</td>\n",
       "      <td>8.40</td>\n",
       "      <td>9.8</td>\n",
       "    </tr>\n",
       "    <tr>\n",
       "      <th>review_total_negative_word_counts</th>\n",
       "      <td>0.0</td>\n",
       "      <td>18.54</td>\n",
       "      <td>408.0</td>\n",
       "    </tr>\n",
       "    <tr>\n",
       "      <th>total_number_of_reviews</th>\n",
       "      <td>43.0</td>\n",
       "      <td>2743.74</td>\n",
       "      <td>16670.0</td>\n",
       "    </tr>\n",
       "    <tr>\n",
       "      <th>...</th>\n",
       "      <td>...</td>\n",
       "      <td>...</td>\n",
       "      <td>...</td>\n",
       "    </tr>\n",
       "    <tr>\n",
       "      <th>stay_length</th>\n",
       "      <td>0.0</td>\n",
       "      <td>2.35</td>\n",
       "      <td>10.0</td>\n",
       "    </tr>\n",
       "    <tr>\n",
       "      <th>review_month</th>\n",
       "      <td>1.0</td>\n",
       "      <td>6.49</td>\n",
       "      <td>12.0</td>\n",
       "    </tr>\n",
       "    <tr>\n",
       "      <th>review_day</th>\n",
       "      <td>1.0</td>\n",
       "      <td>15.68</td>\n",
       "      <td>31.0</td>\n",
       "    </tr>\n",
       "    <tr>\n",
       "      <th>review_weekday</th>\n",
       "      <td>0.0</td>\n",
       "      <td>2.72</td>\n",
       "      <td>6.0</td>\n",
       "    </tr>\n",
       "  </tbody>\n",
       "</table>\n",
       "<p>11 rows × 3 columns</p>\n",
       "</div>"
      ],
      "text/plain": [
       "                                    min     mean      max\n",
       "additional_number_of_scoring        1.0   498.08   2682.0\n",
       "average_score                       5.2     8.40      9.8\n",
       "review_total_negative_word_counts   0.0    18.54    408.0\n",
       "total_number_of_reviews            43.0  2743.74  16670.0\n",
       "...                                 ...      ...      ...\n",
       "stay_length                         0.0     2.35     10.0\n",
       "review_month                        1.0     6.49     12.0\n",
       "review_day                          1.0    15.68     31.0\n",
       "review_weekday                      0.0     2.72      6.0\n",
       "\n",
       "[11 rows x 3 columns]"
      ]
     },
     "execution_count": 45,
     "metadata": {},
     "output_type": "execute_result"
    }
   ],
   "source": [
    "data[num_features].agg(['min','mean', 'max']).round(2).T"
   ]
  },
  {
   "attachments": {},
   "cell_type": "markdown",
   "id": "28b36b9f",
   "metadata": {},
   "source": [
    "1 stage"
   ]
  },
  {
   "cell_type": "code",
   "execution_count": 46,
   "id": "f344b535",
   "metadata": {},
   "outputs": [
    {
     "name": "stdout",
     "output_type": "stream",
     "text": [
      "Unique values in features:\n",
      "additional_number_of_scoring: 480\n",
      "average_score: 34\n",
      "review_total_negative_word_counts: 402\n",
      "total_number_of_reviews: 1142\n",
      "review_total_positive_word_counts: 365\n",
      "total_number_of_reviews_reviewer_has_given: 198\n",
      "days_since_review: 731\n",
      "stay_length: 11\n",
      "review_month: 12\n",
      "review_day: 31\n",
      "review_weekday: 7\n"
     ]
    }
   ],
   "source": [
    "# How many unique values contain features\n",
    "print('Unique values in features:')\n",
    "for col in data[num_features].columns.tolist()[:24]:\n",
    "    print(f'{col}: {data[col].nunique()}')"
   ]
  },
  {
   "cell_type": "code",
   "execution_count": 47,
   "id": "8e2ca063",
   "metadata": {},
   "outputs": [],
   "source": [
    "# Initialization of the RobustScaler\n",
    "r_scaler = preprocessing.RobustScaler()\n",
    "\n",
    "# copu dataset\n",
    "data_norm = data[num_features].copy() #\n",
    "\n",
    "# transform and join\n",
    "data_norm_rs = r_scaler.fit_transform(data_norm)\n",
    "data_norm_rs = pd.DataFrame(data_norm_rs, columns=num_features)"
   ]
  },
  {
   "cell_type": "code",
   "execution_count": 48,
   "id": "0b0fad40",
   "metadata": {},
   "outputs": [
    {
     "data": {
      "image/png": "[encoded data removed]",
      "text/plain": [
       "<Figure size 800x500 with 1 Axes>"
      ]
     },
     "metadata": {},
     "output_type": "display_data"
    }
   ],
   "source": [
    "fig = plt.figure(figsize=(8, 5))\n",
    "\n",
    "boxplot = sns.boxplot(data=data_norm_rs, orient='h')\n",
    "boxplot.set_title('Fig.5 - Numerical features distribution', y=-0.2, fontsize=12)\n",
    "boxplot.set_xlabel('Range')\n",
    "boxplot.set_ylabel('Feature')\n",
    "boxplot.grid();"
   ]
  },
  {
   "attachments": {},
   "cell_type": "markdown",
   "id": "e1a6e198",
   "metadata": {},
   "source": [
    "Join transformed features to the dataFrame"
   ]
  },
  {
   "cell_type": "code",
   "execution_count": 49,
   "id": "d5371c37",
   "metadata": {},
   "outputs": [
    {
     "data": {
      "text/html": [
       "<div>\n",
       "<style scoped>\n",
       "    .dataframe tbody tr th:only-of-type {\n",
       "        vertical-align: middle;\n",
       "    }\n",
       "\n",
       "    .dataframe tbody tr th {\n",
       "        vertical-align: top;\n",
       "    }\n",
       "\n",
       "    .dataframe thead th {\n",
       "        text-align: right;\n",
       "    }\n",
       "</style>\n",
       "<table border=\"1\" class=\"dataframe\">\n",
       "  <thead>\n",
       "    <tr style=\"text-align: right;\">\n",
       "      <th></th>\n",
       "      <th>reviewer_nationality</th>\n",
       "      <th>lat</th>\n",
       "      <th>lng</th>\n",
       "      <th>sample</th>\n",
       "      <th>reviewer_score</th>\n",
       "      <th>country</th>\n",
       "      <th>city</th>\n",
       "      <th>clas_neg_review</th>\n",
       "      <th>clas_pos_review</th>\n",
       "      <th>nationality_same_as_country</th>\n",
       "      <th>traveller_type</th>\n",
       "      <th>trip_type</th>\n",
       "      <th>additional_number_of_scoring</th>\n",
       "      <th>average_score</th>\n",
       "      <th>review_total_negative_word_counts</th>\n",
       "      <th>total_number_of_reviews</th>\n",
       "      <th>review_total_positive_word_counts</th>\n",
       "      <th>total_number_of_reviews_reviewer_has_given</th>\n",
       "      <th>days_since_review</th>\n",
       "      <th>stay_length</th>\n",
       "      <th>review_month</th>\n",
       "      <th>review_day</th>\n",
       "      <th>review_weekday</th>\n",
       "    </tr>\n",
       "  </thead>\n",
       "  <tbody>\n",
       "    <tr>\n",
       "      <th>0</th>\n",
       "      <td>United Kingdom</td>\n",
       "      <td>45.533137</td>\n",
       "      <td>9.171102</td>\n",
       "      <td>0</td>\n",
       "      <td>0.0</td>\n",
       "      <td>Italy</td>\n",
       "      <td>Milan</td>\n",
       "      <td>pos</td>\n",
       "      <td>pos</td>\n",
       "      <td>0</td>\n",
       "      <td>Couple</td>\n",
       "      <td>Leisure trip</td>\n",
       "      <td>1.146640</td>\n",
       "      <td>-0.428571</td>\n",
       "      <td>2.047619</td>\n",
       "      <td>5.928222</td>\n",
       "      <td>3.000000</td>\n",
       "      <td>-0.285714</td>\n",
       "      <td>-0.965909</td>\n",
       "      <td>0.0</td>\n",
       "      <td>0.0</td>\n",
       "      <td>0.333333</td>\n",
       "      <td>0.5</td>\n",
       "    </tr>\n",
       "    <tr>\n",
       "      <th>1</th>\n",
       "      <td>Belgium</td>\n",
       "      <td>52.385649</td>\n",
       "      <td>4.834443</td>\n",
       "      <td>0</td>\n",
       "      <td>0.0</td>\n",
       "      <td>Netherlands</td>\n",
       "      <td>Amsterdam</td>\n",
       "      <td>neg</td>\n",
       "      <td>neg</td>\n",
       "      <td>0</td>\n",
       "      <td>Group</td>\n",
       "      <td>Leisure trip</td>\n",
       "      <td>0.551935</td>\n",
       "      <td>0.285714</td>\n",
       "      <td>0.047619</td>\n",
       "      <td>1.176183</td>\n",
       "      <td>-0.647059</td>\n",
       "      <td>0.571429</td>\n",
       "      <td>-0.338068</td>\n",
       "      <td>-0.5</td>\n",
       "      <td>1.0</td>\n",
       "      <td>-0.266667</td>\n",
       "      <td>-0.5</td>\n",
       "    </tr>\n",
       "  </tbody>\n",
       "</table>\n",
       "</div>"
      ],
      "text/plain": [
       "  reviewer_nationality        lat       lng  sample  reviewer_score  \\\n",
       "0       United Kingdom  45.533137  9.171102       0             0.0   \n",
       "1              Belgium  52.385649  4.834443       0             0.0   \n",
       "\n",
       "       country       city clas_neg_review clas_pos_review  \\\n",
       "0        Italy      Milan             pos             pos   \n",
       "1  Netherlands  Amsterdam             neg             neg   \n",
       "\n",
       "   nationality_same_as_country traveller_type     trip_type  \\\n",
       "0                            0         Couple  Leisure trip   \n",
       "1                            0          Group  Leisure trip   \n",
       "\n",
       "   additional_number_of_scoring  average_score  \\\n",
       "0                      1.146640      -0.428571   \n",
       "1                      0.551935       0.285714   \n",
       "\n",
       "   review_total_negative_word_counts  total_number_of_reviews  \\\n",
       "0                           2.047619                 5.928222   \n",
       "1                           0.047619                 1.176183   \n",
       "\n",
       "   review_total_positive_word_counts  \\\n",
       "0                           3.000000   \n",
       "1                          -0.647059   \n",
       "\n",
       "   total_number_of_reviews_reviewer_has_given  days_since_review  stay_length  \\\n",
       "0                                   -0.285714          -0.965909          0.0   \n",
       "1                                    0.571429          -0.338068         -0.5   \n",
       "\n",
       "   review_month  review_day  review_weekday  \n",
       "0           0.0    0.333333             0.5  \n",
       "1           1.0   -0.266667            -0.5  "
      ]
     },
     "execution_count": 49,
     "metadata": {},
     "output_type": "execute_result"
    }
   ],
   "source": [
    "data.drop(num_features, axis=1, inplace=True)\n",
    "data = data.join(data_norm_rs)\n",
    "data.head(2)"
   ]
  },
  {
   "attachments": {},
   "cell_type": "markdown",
   "id": "31ba3df9",
   "metadata": {
    "papermill": {
     "duration": 0.052142,
     "end_time": "2022-12-17T10:55:24.348279",
     "exception": false,
     "start_time": "2022-12-17T10:55:24.296137",
     "status": "completed"
    },
    "tags": []
   },
   "source": [
    "## Categorical features encoding"
   ]
  },
  {
   "cell_type": "code",
   "execution_count": 50,
   "id": "19e481a4",
   "metadata": {
    "execution": {
     "iopub.execute_input": "2022-12-17T10:55:24.653231Z",
     "iopub.status.busy": "2022-12-17T10:55:24.652428Z",
     "iopub.status.idle": "2022-12-17T10:55:24.685625Z",
     "shell.execute_reply": "2022-12-17T10:55:24.684621Z",
     "shell.execute_reply.started": "2022-12-17T10:46:16.572726Z"
    },
    "papermill": {
     "duration": 0.285134,
     "end_time": "2022-12-17T10:55:24.685867",
     "exception": false,
     "start_time": "2022-12-17T10:55:24.400733",
     "status": "completed"
    },
    "tags": []
   },
   "outputs": [
    {
     "data": {
      "text/plain": [
       "7"
      ]
     },
     "execution_count": 50,
     "metadata": {},
     "output_type": "execute_result"
    }
   ],
   "source": [
    "cat_features = [s for s in data.columns if data[s].dtypes == 'object']\n",
    "len(cat_features)"
   ]
  },
  {
   "cell_type": "code",
   "execution_count": 51,
   "id": "8e4b3b55",
   "metadata": {
    "execution": {
     "iopub.execute_input": "2022-12-17T10:55:25.132450Z",
     "iopub.status.busy": "2022-12-17T10:55:25.130807Z",
     "iopub.status.idle": "2022-12-17T10:55:25.598152Z",
     "shell.execute_reply": "2022-12-17T10:55:25.598688Z",
     "shell.execute_reply.started": "2022-12-17T10:46:16.881863Z"
    },
    "papermill": {
     "duration": 0.527705,
     "end_time": "2022-12-17T10:55:25.598897",
     "exception": false,
     "start_time": "2022-12-17T10:55:25.071192",
     "status": "completed"
    },
    "tags": []
   },
   "outputs": [
    {
     "data": {
      "text/plain": [
       "Index(['lat', 'lng', 'sample', 'reviewer_score', 'nationality_same_as_country',\n",
       "       'additional_number_of_scoring', 'average_score',\n",
       "       'review_total_negative_word_counts', 'total_number_of_reviews',\n",
       "       'review_total_positive_word_counts',\n",
       "       'total_number_of_reviews_reviewer_has_given', 'days_since_review',\n",
       "       'stay_length', 'review_month', 'review_day', 'review_weekday',\n",
       "       'reviewer_nationality_Australia', 'reviewer_nationality_Belgium',\n",
       "       'reviewer_nationality_Canada', 'reviewer_nationality_France',\n",
       "       'reviewer_nationality_Germany', 'reviewer_nationality_Ireland',\n",
       "       'reviewer_nationality_Israel', 'reviewer_nationality_Italy',\n",
       "       'reviewer_nationality_Netherlands', 'reviewer_nationality_Saudi Arabia',\n",
       "       'reviewer_nationality_Switzerland',\n",
       "       'reviewer_nationality_United Arab Emirates',\n",
       "       'reviewer_nationality_United Kingdom',\n",
       "       'reviewer_nationality_United States of America',\n",
       "       'reviewer_nationality_other', 'country_Austria', 'country_France',\n",
       "       'country_Italy', 'country_Netherlands', 'country_Spain',\n",
       "       'country_United Kingdom', 'city_Amsterdam', 'city_Barcelona',\n",
       "       'city_London', 'city_Milan', 'city_Paris', 'city_Vienna',\n",
       "       'clas_neg_review_neg', 'clas_neg_review_pos', 'clas_pos_review_neg',\n",
       "       'clas_pos_review_pos', 'traveller_type_ Couple',\n",
       "       'traveller_type_ Family with older children',\n",
       "       'traveller_type_ Family with young children', 'traveller_type_ Group',\n",
       "       'traveller_type_ Other', 'traveller_type_ Solo traveler',\n",
       "       'traveller_type_ Travelers with friends', 'trip_type_Business trip',\n",
       "       'trip_type_Couple', 'trip_type_Family', 'trip_type_Group',\n",
       "       'trip_type_Leisure trip', 'trip_type_Solo traveler',\n",
       "       'trip_type_With a pet'],\n",
       "      dtype='object')"
      ]
     },
     "execution_count": 51,
     "metadata": {},
     "output_type": "execute_result"
    }
   ],
   "source": [
    "data = pd.get_dummies(data) #, columns=categorical_columns_names\n",
    "data.columns"
   ]
  },
  {
   "attachments": {},
   "cell_type": "markdown",
   "id": "8fb9009d",
   "metadata": {},
   "source": [
    "## Multicollinearity study"
   ]
  },
  {
   "cell_type": "code",
   "execution_count": 52,
   "id": "458e60e4",
   "metadata": {},
   "outputs": [
    {
     "name": "stdout",
     "output_type": "stream",
     "text": [
      "Features with high correlation coeff:\n",
      "1 lat\n",
      "2 lng\n",
      "3 nationality_same_as_country\n",
      "4 additional_number_of_scoring\n",
      "5 total_number_of_reviews\n",
      "6 reviewer_nationality_United Kingdom\n",
      "7 country_Austria\n",
      "8 country_Spain\n",
      "9 city_Barcelona\n",
      "10 city_Vienna\n",
      "11 clas_neg_review_neg\n",
      "12 clas_neg_review_pos\n",
      "13 clas_pos_review_neg\n",
      "14 clas_pos_review_pos\n",
      "15 trip_type_Business trip\n",
      "16 trip_type_Leisure trip\n"
     ]
    }
   ],
   "source": [
    "# Find features with high correlation power\n",
    "pivot = data.corr()\n",
    "pivot = pivot.drop('sample', axis=0)\n",
    "pivot = pivot.drop('sample', axis=1)\n",
    "\n",
    "for col in pivot:\n",
    "    pivot[col] = pivot[col].apply(lambda x: np.nan if (abs(x) < 0.7 or x == 1) else x)\n",
    "    \n",
    "for col in pivot:\n",
    "    pivot = pivot.dropna(how='all')\n",
    "    pivot = pivot.dropna(how='all', axis='columns')\n",
    "\n",
    "high_correlation_features = list(pivot.columns) # список признаков c высокой корреляцией\n",
    "pivot \n",
    "\n",
    "print('Features with high correlation coeff:')\n",
    "for count, value in enumerate(high_correlation_features, start=1): # list features from 1\n",
    "    print(count, value)"
   ]
  },
  {
   "cell_type": "code",
   "execution_count": 53,
   "id": "3cc3d302",
   "metadata": {},
   "outputs": [
    {
     "data": {
      "image/png": "[encoded data removed]",
      "text/plain": [
       "<Figure size 1200x500 with 2 Axes>"
      ]
     },
     "metadata": {},
     "output_type": "display_data"
    }
   ],
   "source": [
    "fig, ax = plt.subplots(ncols=1, figsize=(12, 5))\n",
    "\n",
    "matrix = np.triu(pivot)  \n",
    "fig = sns.heatmap(round(pivot,2), annot=True,  cmap= 'coolwarm', mask=matrix) #, vmin=-1, vmax=1, center= 0, fmt='.02g',\n",
    "ax.set_title('Fig. 6 - Feature correlation heatmap', y=-0.8, fontsize=12)\n",
    "ax.tick_params(axis='x', rotation=90);"
   ]
  },
  {
   "cell_type": "code",
   "execution_count": 54,
   "id": "c14ae9f0",
   "metadata": {},
   "outputs": [
    {
     "name": "stdout",
     "output_type": "stream",
     "text": [
      "Deleted 16 columns\n"
     ]
    }
   ],
   "source": [
    "# Drop features with high multicorrelation power\n",
    "counter = 0\n",
    "for lower_bound in np.linspace(0.98, 0.7, num=14):\n",
    "    for col in pivot:\n",
    "        if pivot[col].max() > lower_bound or pivot[col].min() < -lower_bound:\n",
    "            #pivot = pivot.drop(col, axis=0)\n",
    "            pivot = pivot.drop(col, axis=1)\n",
    "            #data = data.drop(col, axis=1)\n",
    "            counter += 1\n",
    "            \n",
    "print('Deleted', counter, 'columns')"
   ]
  },
  {
   "cell_type": "code",
   "execution_count": 55,
   "id": "cd1c875b",
   "metadata": {},
   "outputs": [],
   "source": [
    "# fig, ax = plt.subplots(ncols=1, figsize=(30, 25))\n",
    "\n",
    "# matrix = np.triu(data.corr())  \n",
    "# fig = sns.heatmap(round(abs(data.corr()),2), annot=True,  cmap= 'coolwarm', mask=matrix) #, vmin=-1, vmax=1, center= 0, fmt='.02g',\n",
    "# ax.set_title('Рис. 6 - Тепловая карта корреляции переменных', y=-0.15, fontsize=12);"
   ]
  },
  {
   "cell_type": "code",
   "execution_count": 56,
   "id": "efdbaf56",
   "metadata": {},
   "outputs": [
    {
     "data": {
      "text/plain": [
       "1    386803\n",
       "0    128935\n",
       "Name: sample, dtype: int64"
      ]
     },
     "execution_count": 56,
     "metadata": {},
     "output_type": "execute_result"
    }
   ],
   "source": [
    "data['sample'].value_counts()"
   ]
  },
  {
   "cell_type": "code",
   "execution_count": 57,
   "id": "bdd91a03",
   "metadata": {},
   "outputs": [],
   "source": [
    "#data[['review_total_negative_word_counts', 'review_total_positive_word_counts','clas_neg_review_neg', 'clas_neg_review_pos', 'clas_pos_review_neg', 'clas_pos_review_pos']]"
   ]
  },
  {
   "attachments": {},
   "cell_type": "markdown",
   "id": "22928e0d",
   "metadata": {
    "papermill": {
     "duration": 0.052673,
     "end_time": "2022-12-17T10:55:25.704723",
     "exception": false,
     "start_time": "2022-12-17T10:55:25.652050",
     "status": "completed"
    },
    "tags": []
   },
   "source": [
    "## Modelling"
   ]
  },
  {
   "cell_type": "code",
   "execution_count": 58,
   "id": "f0cd70cc",
   "metadata": {},
   "outputs": [],
   "source": [
    "data.dtypes.value_counts()\n",
    "\n",
    "# drop object type features if any\n",
    "object_columns = [s for s in data.columns if data[s].dtypes == 'object']\n",
    "data.drop(object_columns, axis = 1, inplace=True)"
   ]
  },
  {
   "cell_type": "code",
   "execution_count": 59,
   "id": "d3b88e73",
   "metadata": {
    "execution": {
     "iopub.execute_input": "2022-12-17T10:55:26.476240Z",
     "iopub.status.busy": "2022-12-17T10:55:26.475477Z",
     "iopub.status.idle": "2022-12-17T10:55:26.673853Z",
     "shell.execute_reply": "2022-12-17T10:55:26.673191Z",
     "shell.execute_reply.started": "2022-12-17T10:46:17.498003Z"
    },
    "papermill": {
     "duration": 0.25886,
     "end_time": "2022-12-17T10:55:26.674019",
     "exception": false,
     "start_time": "2022-12-17T10:55:26.415159",
     "status": "completed"
    },
    "tags": []
   },
   "outputs": [],
   "source": [
    "# Select the test sample\n",
    "train_data = data.query('sample == 1').drop(['sample'], axis=1)\n",
    "test_data = data.query('sample == 0').drop(['sample'], axis=1)\n",
    "\n",
    "X, y  = train_data.drop(['reviewer_score'], axis=1), train_data['reviewer_score'].values  # target feature"
   ]
  },
  {
   "cell_type": "code",
   "execution_count": 60,
   "id": "1813c0b6",
   "metadata": {},
   "outputs": [
    {
     "data": {
      "image/png": "[encoded data removed]",
      "text/plain": [
       "<Figure size 600x400 with 1 Axes>"
      ]
     },
     "metadata": {},
     "output_type": "display_data"
    }
   ],
   "source": [
    "#display(train_data['reviewer_score'].value_counts(normalize=True))\n",
    "\n",
    "fig, ax = plt.subplots(figsize = (6, 4))\n",
    "ax = sns.histplot(data=train_data, x='reviewer_score')\n",
    "ax.set_title('Fig.7 - Score distribution', y=-0.3);\n",
    "plt.tight_layout()\n",
    "\n",
    "plt.savefig('../figures/fig_7.png');"
   ]
  },
  {
   "cell_type": "code",
   "execution_count": 62,
   "id": "6884e95a",
   "metadata": {
    "execution": {
     "iopub.execute_input": "2022-12-17T10:55:26.794393Z",
     "iopub.status.busy": "2022-12-17T10:55:26.793599Z",
     "iopub.status.idle": "2022-12-17T10:55:26.946946Z",
     "shell.execute_reply": "2022-12-17T10:55:26.947463Z",
     "shell.execute_reply.started": "2022-12-17T10:46:17.693686Z"
    },
    "papermill": {
     "duration": 0.214752,
     "end_time": "2022-12-17T10:55:26.947653",
     "exception": false,
     "start_time": "2022-12-17T10:55:26.732901",
     "status": "completed"
    },
    "tags": []
   },
   "outputs": [
    {
     "name": "stdout",
     "output_type": "stream",
     "text": [
      "Train shape: (309442, 59)\n",
      "Test shape:  (38680, 59)\n",
      "Valid shape: (38681, 59)\n"
     ]
    }
   ],
   "source": [
    "# Split data by 3 samples: train, test and valid\n",
    "X_train, X_test, y_train, y_test = train_test_split(X, y, stratify=y, test_size=0.2, random_state=random_seed)\n",
    "X_test, X_valid, y_test, y_valid  = train_test_split(X_test, y_test, test_size=0.5, random_state=random_seed)\n",
    "\n",
    "# Check samples shapes\n",
    "print('Train shape: {}'.format(X_train.shape))\n",
    "print('Test shape:  {}'.format(X_test.shape))\n",
    "print('Valid shape: {}'.format(X_valid.shape))"
   ]
  },
  {
   "attachments": {},
   "cell_type": "markdown",
   "id": "5f8186a0",
   "metadata": {},
   "source": [
    "### Random forest"
   ]
  },
  {
   "cell_type": "code",
   "execution_count": 63,
   "id": "a6983b92",
   "metadata": {
    "execution": {
     "iopub.execute_input": "2022-12-17T10:55:27.550756Z",
     "iopub.status.busy": "2022-12-17T10:55:27.549990Z",
     "iopub.status.idle": "2022-12-17T10:55:27.553051Z",
     "shell.execute_reply": "2022-12-17T10:55:27.552401Z",
     "shell.execute_reply.started": "2022-12-17T10:46:18.081680Z"
    },
    "papermill": {
     "duration": 0.064719,
     "end_time": "2022-12-17T10:55:27.553197",
     "exception": false,
     "start_time": "2022-12-17T10:55:27.488478",
     "status": "completed"
    },
    "tags": []
   },
   "outputs": [
    {
     "name": "stderr",
     "output_type": "stream",
     "text": [
      "[Parallel(n_jobs=-1)]: Using backend ThreadingBackend with 16 concurrent workers.\n",
      "[Parallel(n_jobs=-1)]: Done  18 tasks      | elapsed:   29.5s\n",
      "[Parallel(n_jobs=-1)]: Done 100 out of 100 | elapsed:  1.8min finished\n"
     ]
    },
    {
     "data": {
      "text/html": [
       "<style>#sk-container-id-1 {color: black;background-color: white;}#sk-container-id-1 pre{padding: 0;}#sk-container-id-1 div.sk-toggleable {background-color: white;}#sk-container-id-1 label.sk-toggleable__label {cursor: pointer;display: block;width: 100%;margin-bottom: 0;padding: 0.3em;box-sizing: border-box;text-align: center;}#sk-container-id-1 label.sk-toggleable__label-arrow:before {content: \"▸\";float: left;margin-right: 0.25em;color: #696969;}#sk-container-id-1 label.sk-toggleable__label-arrow:hover:before {color: black;}#sk-container-id-1 div.sk-estimator:hover label.sk-toggleable__label-arrow:before {color: black;}#sk-container-id-1 div.sk-toggleable__content {max-height: 0;max-width: 0;overflow: hidden;text-align: left;background-color: #f0f8ff;}#sk-container-id-1 div.sk-toggleable__content pre {margin: 0.2em;color: black;border-radius: 0.25em;background-color: #f0f8ff;}#sk-container-id-1 input.sk-toggleable__control:checked~div.sk-toggleable__content {max-height: 200px;max-width: 100%;overflow: auto;}#sk-container-id-1 input.sk-toggleable__control:checked~label.sk-toggleable__label-arrow:before {content: \"▾\";}#sk-container-id-1 div.sk-estimator input.sk-toggleable__control:checked~label.sk-toggleable__label {background-color: #d4ebff;}#sk-container-id-1 div.sk-label input.sk-toggleable__control:checked~label.sk-toggleable__label {background-color: #d4ebff;}#sk-container-id-1 input.sk-hidden--visually {border: 0;clip: rect(1px 1px 1px 1px);clip: rect(1px, 1px, 1px, 1px);height: 1px;margin: -1px;overflow: hidden;padding: 0;position: absolute;width: 1px;}#sk-container-id-1 div.sk-estimator {font-family: monospace;background-color: #f0f8ff;border: 1px dotted black;border-radius: 0.25em;box-sizing: border-box;margin-bottom: 0.5em;}#sk-container-id-1 div.sk-estimator:hover {background-color: #d4ebff;}#sk-container-id-1 div.sk-parallel-item::after {content: \"\";width: 100%;border-bottom: 1px solid gray;flex-grow: 1;}#sk-container-id-1 div.sk-label:hover label.sk-toggleable__label {background-color: #d4ebff;}#sk-container-id-1 div.sk-serial::before {content: \"\";position: absolute;border-left: 1px solid gray;box-sizing: border-box;top: 0;bottom: 0;left: 50%;z-index: 0;}#sk-container-id-1 div.sk-serial {display: flex;flex-direction: column;align-items: center;background-color: white;padding-right: 0.2em;padding-left: 0.2em;position: relative;}#sk-container-id-1 div.sk-item {position: relative;z-index: 1;}#sk-container-id-1 div.sk-parallel {display: flex;align-items: stretch;justify-content: center;background-color: white;position: relative;}#sk-container-id-1 div.sk-item::before, #sk-container-id-1 div.sk-parallel-item::before {content: \"\";position: absolute;border-left: 1px solid gray;box-sizing: border-box;top: 0;bottom: 0;left: 50%;z-index: -1;}#sk-container-id-1 div.sk-parallel-item {display: flex;flex-direction: column;z-index: 1;position: relative;background-color: white;}#sk-container-id-1 div.sk-parallel-item:first-child::after {align-self: flex-end;width: 50%;}#sk-container-id-1 div.sk-parallel-item:last-child::after {align-self: flex-start;width: 50%;}#sk-container-id-1 div.sk-parallel-item:only-child::after {width: 0;}#sk-container-id-1 div.sk-dashed-wrapped {border: 1px dashed gray;margin: 0 0.4em 0.5em 0.4em;box-sizing: border-box;padding-bottom: 0.4em;background-color: white;}#sk-container-id-1 div.sk-label label {font-family: monospace;font-weight: bold;display: inline-block;line-height: 1.2em;}#sk-container-id-1 div.sk-label-container {text-align: center;}#sk-container-id-1 div.sk-container {/* jupyter's `normalize.less` sets `[hidden] { display: none; }` but bootstrap.min.css set `[hidden] { display: none !important; }` so we also need the `!important` here to be able to override the default hidden behavior on the sphinx rendered scikit-learn.org. See: https://github.com/scikit-learn/scikit-learn/issues/21755 */display: inline-block !important;position: relative;}#sk-container-id-1 div.sk-text-repr-fallback {display: none;}</style><div id=\"sk-container-id-1\" class=\"sk-top-container\"><div class=\"sk-text-repr-fallback\"><pre>RandomForestRegressor(n_jobs=-1, random_state=42, verbose=1)</pre><b>In a Jupyter environment, please rerun this cell to show the HTML representation or trust the notebook. <br />On GitHub, the HTML representation is unable to render, please try loading this page with nbviewer.org.</b></div><div class=\"sk-container\" hidden><div class=\"sk-item\"><div class=\"sk-estimator sk-toggleable\"><input class=\"sk-toggleable__control sk-hidden--visually\" id=\"sk-estimator-id-1\" type=\"checkbox\" checked><label for=\"sk-estimator-id-1\" class=\"sk-toggleable__label sk-toggleable__label-arrow\">RandomForestRegressor</label><div class=\"sk-toggleable__content\"><pre>RandomForestRegressor(n_jobs=-1, random_state=42, verbose=1)</pre></div></div></div></div></div>"
      ],
      "text/plain": [
       "RandomForestRegressor(n_jobs=-1, random_state=42, verbose=1)"
      ]
     },
     "execution_count": 63,
     "metadata": {},
     "output_type": "execute_result"
    }
   ],
   "source": [
    "model_rf = RandomForestRegressor(n_estimators=100, \n",
    "                                 verbose=0, n_jobs=-1, \n",
    "                                 random_state=random_seed)\n",
    "\n",
    "#Train model\n",
    "model_rf.fit(X_train, y_train)"
   ]
  },
  {
   "cell_type": "code",
   "execution_count": 64,
   "id": "bd47fd40",
   "metadata": {},
   "outputs": [
    {
     "name": "stderr",
     "output_type": "stream",
     "text": [
      "[Parallel(n_jobs=16)]: Using backend ThreadingBackend with 16 concurrent workers.\n",
      "[Parallel(n_jobs=16)]: Done  18 tasks      | elapsed:    0.0s\n"
     ]
    },
    {
     "name": "stdout",
     "output_type": "stream",
     "text": [
      " MAE: 1.5\n",
      "MAPE: 22.29 %\n"
     ]
    },
    {
     "name": "stderr",
     "output_type": "stream",
     "text": [
      "[Parallel(n_jobs=16)]: Done 100 out of 100 | elapsed:    0.3s finished\n"
     ]
    }
   ],
   "source": [
    "y_pred_rf = model_rf.predict(X_valid[1:])\n",
    "\n",
    "print(' MAE: {:.2}'.format(mean_absolute_error(y_test, y_pred_rf)))\n",
    "print(f\"MAPE: {round(mean_absolute_percentage_error(y_test, y_pred_rf)*100, 2)} %\")"
   ]
  },
  {
   "attachments": {},
   "cell_type": "markdown",
   "id": "6f581dd1",
   "metadata": {},
   "source": [
    "### Model 2. Random forest + cross validation"
   ]
  },
  {
   "cell_type": "code",
   "execution_count": 67,
   "id": "b25a74c9",
   "metadata": {},
   "outputs": [],
   "source": [
    "# % time\n",
    "# param_distributions = {\n",
    "#     'n_estimators': list(range(400, 500, 100)),\n",
    "#     #'criterion': ['squared_error', 'absolute_error'],\n",
    "#     #'max_depth': list(np.linspace(5, 45, 15, dtype=int)),\n",
    "#     #'min_samples_leaf': list(range(3, 12, 3)),\n",
    "#     \"bootstrap\":[True]\n",
    "# }\n",
    "            \n",
    "# random_search_forest = RandomizedSearchCV(\n",
    "#     estimator=ensemble.RandomForestRegressor(random_state=random_seed), \n",
    "#     param_distributions=param_distributions, \n",
    "#     cv=5,\n",
    "#     n_iter = 5, \n",
    "#     n_jobs = -1\n",
    "# )  \n",
    "\n",
    "# random_search_forest.fit(X_train, y_train) \n",
    "\n",
    "# y_train_pred = random_search_forest.predict(X_train)\n",
    "# y_test_pred = random_search_forest.predict(X_test)\n",
    "# print('f1_score for validation sample: {:.2f}'.format(metrics.f1_score(y_test, y_test_pred)))\n",
    "# print(\"Best hyperparameters are: {}\".format(random_search_forest.best_params_))\n",
    "\n",
    "# # save best parameters to a new dict\n",
    "# best_params_rf = random_search_forest.best_params_"
   ]
  },
  {
   "cell_type": "code",
   "execution_count": 98,
   "id": "8f9ec6ea",
   "metadata": {},
   "outputs": [
    {
     "name": "stderr",
     "output_type": "stream",
     "text": [
      "[Parallel(n_jobs=-1)]: Using backend LokyBackend with 16 concurrent workers.\n",
      "[Parallel(n_jobs=-1)]: Done  18 tasks      | elapsed:   29.4s\n",
      "[Parallel(n_jobs=-1)]: Done 100 out of 100 | elapsed:  1.5min finished\n",
      "[Parallel(n_jobs=16)]: Using backend ThreadingBackend with 16 concurrent workers.\n",
      "[Parallel(n_jobs=16)]: Done  18 tasks      | elapsed:    0.1s\n",
      "[Parallel(n_jobs=16)]: Done 100 out of 100 | elapsed:    0.6s finished\n",
      "[Parallel(n_jobs=16)]: Using backend ThreadingBackend with 16 concurrent workers.\n",
      "[Parallel(n_jobs=16)]: Done  18 tasks      | elapsed:    0.7s\n",
      "[Parallel(n_jobs=16)]: Done 100 out of 100 | elapsed:    2.8s finished\n",
      "[Parallel(n_jobs=-1)]: Using backend LokyBackend with 16 concurrent workers.\n",
      "[Parallel(n_jobs=-1)]: Done  18 tasks      | elapsed:   25.6s\n",
      "[Parallel(n_jobs=-1)]: Done 100 out of 100 | elapsed:  1.4min finished\n",
      "[Parallel(n_jobs=16)]: Using backend ThreadingBackend with 16 concurrent workers.\n",
      "[Parallel(n_jobs=16)]: Done  18 tasks      | elapsed:    0.1s\n",
      "[Parallel(n_jobs=16)]: Done 100 out of 100 | elapsed:    0.6s finished\n",
      "[Parallel(n_jobs=16)]: Using backend ThreadingBackend with 16 concurrent workers.\n",
      "[Parallel(n_jobs=16)]: Done  18 tasks      | elapsed:    0.7s\n",
      "[Parallel(n_jobs=16)]: Done 100 out of 100 | elapsed:    2.7s finished\n",
      "[Parallel(n_jobs=-1)]: Using backend LokyBackend with 16 concurrent workers.\n",
      "[Parallel(n_jobs=-1)]: Done  18 tasks      | elapsed:   24.6s\n",
      "[Parallel(n_jobs=-1)]: Done 100 out of 100 | elapsed:  1.4min finished\n",
      "[Parallel(n_jobs=16)]: Using backend ThreadingBackend with 16 concurrent workers.\n",
      "[Parallel(n_jobs=16)]: Done  18 tasks      | elapsed:    0.2s\n",
      "[Parallel(n_jobs=16)]: Done 100 out of 100 | elapsed:    0.7s finished\n",
      "[Parallel(n_jobs=16)]: Using backend ThreadingBackend with 16 concurrent workers.\n",
      "[Parallel(n_jobs=16)]: Done  18 tasks      | elapsed:    0.7s\n",
      "[Parallel(n_jobs=16)]: Done 100 out of 100 | elapsed:    2.7s finished\n",
      "[Parallel(n_jobs=-1)]: Using backend LokyBackend with 16 concurrent workers.\n",
      "[Parallel(n_jobs=-1)]: Done  18 tasks      | elapsed:   23.6s\n",
      "[Parallel(n_jobs=-1)]: Done 100 out of 100 | elapsed:  1.4min finished\n",
      "[Parallel(n_jobs=16)]: Using backend ThreadingBackend with 16 concurrent workers.\n",
      "[Parallel(n_jobs=16)]: Done  18 tasks      | elapsed:    0.1s\n",
      "[Parallel(n_jobs=16)]: Done 100 out of 100 | elapsed:    0.6s finished\n",
      "[Parallel(n_jobs=16)]: Using backend ThreadingBackend with 16 concurrent workers.\n",
      "[Parallel(n_jobs=16)]: Done  18 tasks      | elapsed:    0.7s\n",
      "[Parallel(n_jobs=16)]: Done 100 out of 100 | elapsed:    2.7s finished\n",
      "[Parallel(n_jobs=-1)]: Using backend LokyBackend with 16 concurrent workers.\n",
      "[Parallel(n_jobs=-1)]: Done  18 tasks      | elapsed:   25.4s\n",
      "[Parallel(n_jobs=-1)]: Done 100 out of 100 | elapsed:  1.5min finished\n",
      "[Parallel(n_jobs=16)]: Using backend ThreadingBackend with 16 concurrent workers.\n",
      "[Parallel(n_jobs=16)]: Done  18 tasks      | elapsed:    0.1s\n",
      "[Parallel(n_jobs=16)]: Done 100 out of 100 | elapsed:    0.6s finished\n",
      "[Parallel(n_jobs=16)]: Using backend ThreadingBackend with 16 concurrent workers.\n",
      "[Parallel(n_jobs=16)]: Done  18 tasks      | elapsed:    0.7s\n",
      "[Parallel(n_jobs=16)]: Done 100 out of 100 | elapsed:    2.8s finished\n"
     ]
    },
    {
     "data": {
      "text/plain": [
       "{'fit_time': array([92.40695524, 85.85116911, 85.35914707, 85.2916708 , 87.49716759]),\n",
       " 'score_time': array([0.7706306 , 0.74311137, 0.85407972, 0.73806572, 0.75084043]),\n",
       " 'test_neg_mean_absolute_error': array([-0.91383814, -0.92204438, -0.92155621, -0.92001177, -0.9221638 ]),\n",
       " 'train_neg_mean_absolute_error': array([-0.34235003, -0.3408752 , -0.34152486, -0.34172378, -0.34081692]),\n",
       " 'test_neg_mean_absolute_percentage_error': array([-0.13169558, -0.13357012, -0.13330004, -0.13298192, -0.13310202]),\n",
       " 'train_neg_mean_absolute_percentage_error': array([-0.04945745, -0.04920456, -0.04930535, -0.049322  , -0.04922604])}"
      ]
     },
     "metadata": {},
     "output_type": "display_data"
    }
   ],
   "source": [
    "# model creation\n",
    "model_rf_cv = RandomForestRegressor(\n",
    "    n_estimators=100, verbose=0, n_jobs=-1, random_state=random_seed)\n",
    " \n",
    "# Cross-validator instance KFold\n",
    "kf = KFold(n_splits=5)\n",
    " \n",
    "# Display metrics for k-fold\n",
    "cv_metrics = cross_validate(\n",
    "    estimator=model_rf_cv, # model\n",
    "    X=X,  \n",
    "    y=y,  \n",
    "    cv=kf, # cross-validator\n",
    "    scoring=('neg_mean_absolute_error','neg_mean_absolute_percentage_error'), # metrics set\n",
    "    return_train_score=True # return metrics for training folds\n",
    ")\n",
    "display(cv_metrics)"
   ]
  },
  {
   "cell_type": "code",
   "execution_count": 99,
   "id": "fe570523",
   "metadata": {},
   "outputs": [
    {
     "data": {
      "text/plain": [
       "dict_keys(['fit_time', 'score_time', 'test_neg_mean_absolute_error', 'train_neg_mean_absolute_error', 'test_neg_mean_absolute_percentage_error', 'train_neg_mean_absolute_percentage_error'])"
      ]
     },
     "execution_count": 99,
     "metadata": {},
     "output_type": "execute_result"
    }
   ],
   "source": [
    "cv_metrics.keys()"
   ]
  },
  {
   "cell_type": "code",
   "execution_count": 100,
   "id": "f3215d3e",
   "metadata": {},
   "outputs": [
    {
     "name": "stdout",
     "output_type": "stream",
     "text": [
      "\n",
      "\n"
     ]
    }
   ],
   "source": [
    "# Lets study metrics\n",
    "print('Train k-fold MAE: {:.2f}  MAPE: {:.4f}'.format(\n",
    "    np.mean(cv_metrics['train_neg_mean_absolute_error']*-1), \n",
    "    np.mean(cv_metrics['train_neg_mean_absolute_percentage_error']))*-1)\n",
    "print('Test k-fold MAE: {:.2f}  MAPE: {:.4f}'.format(\n",
    "    np.mean(cv_metrics['test_neg_mean_absolute_error']*-1), \n",
    "    np.mean(cv_metrics['test_neg_mean_absolute_percentage_error']))*-1)"
   ]
  },
  {
   "cell_type": "code",
   "execution_count": 101,
   "id": "f89bc01a",
   "metadata": {
    "execution": {
     "iopub.execute_input": "2022-12-17T10:55:27.687223Z",
     "iopub.status.busy": "2022-12-17T10:55:27.686387Z",
     "iopub.status.idle": "2022-12-17T10:57:18.030935Z",
     "shell.execute_reply": "2022-12-17T10:57:18.030207Z",
     "shell.execute_reply.started": "2022-12-17T10:46:18.090067Z"
    },
    "papermill": {
     "duration": 110.417037,
     "end_time": "2022-12-17T10:57:18.031101",
     "exception": false,
     "start_time": "2022-12-17T10:55:27.614064",
     "status": "completed"
    },
    "tags": []
   },
   "outputs": [
    {
     "name": "stderr",
     "output_type": "stream",
     "text": [
      "[Parallel(n_jobs=-1)]: Using backend ThreadingBackend with 16 concurrent workers.\n",
      "[Parallel(n_jobs=-1)]: Done  18 tasks      | elapsed:   24.0s\n",
      "[Parallel(n_jobs=-1)]: Done 100 out of 100 | elapsed:  1.4min finished\n"
     ]
    },
    {
     "data": {
      "text/html": [
       "<style>#sk-container-id-3 {color: black;background-color: white;}#sk-container-id-3 pre{padding: 0;}#sk-container-id-3 div.sk-toggleable {background-color: white;}#sk-container-id-3 label.sk-toggleable__label {cursor: pointer;display: block;width: 100%;margin-bottom: 0;padding: 0.3em;box-sizing: border-box;text-align: center;}#sk-container-id-3 label.sk-toggleable__label-arrow:before {content: \"▸\";float: left;margin-right: 0.25em;color: #696969;}#sk-container-id-3 label.sk-toggleable__label-arrow:hover:before {color: black;}#sk-container-id-3 div.sk-estimator:hover label.sk-toggleable__label-arrow:before {color: black;}#sk-container-id-3 div.sk-toggleable__content {max-height: 0;max-width: 0;overflow: hidden;text-align: left;background-color: #f0f8ff;}#sk-container-id-3 div.sk-toggleable__content pre {margin: 0.2em;color: black;border-radius: 0.25em;background-color: #f0f8ff;}#sk-container-id-3 input.sk-toggleable__control:checked~div.sk-toggleable__content {max-height: 200px;max-width: 100%;overflow: auto;}#sk-container-id-3 input.sk-toggleable__control:checked~label.sk-toggleable__label-arrow:before {content: \"▾\";}#sk-container-id-3 div.sk-estimator input.sk-toggleable__control:checked~label.sk-toggleable__label {background-color: #d4ebff;}#sk-container-id-3 div.sk-label input.sk-toggleable__control:checked~label.sk-toggleable__label {background-color: #d4ebff;}#sk-container-id-3 input.sk-hidden--visually {border: 0;clip: rect(1px 1px 1px 1px);clip: rect(1px, 1px, 1px, 1px);height: 1px;margin: -1px;overflow: hidden;padding: 0;position: absolute;width: 1px;}#sk-container-id-3 div.sk-estimator {font-family: monospace;background-color: #f0f8ff;border: 1px dotted black;border-radius: 0.25em;box-sizing: border-box;margin-bottom: 0.5em;}#sk-container-id-3 div.sk-estimator:hover {background-color: #d4ebff;}#sk-container-id-3 div.sk-parallel-item::after {content: \"\";width: 100%;border-bottom: 1px solid gray;flex-grow: 1;}#sk-container-id-3 div.sk-label:hover label.sk-toggleable__label {background-color: #d4ebff;}#sk-container-id-3 div.sk-serial::before {content: \"\";position: absolute;border-left: 1px solid gray;box-sizing: border-box;top: 0;bottom: 0;left: 50%;z-index: 0;}#sk-container-id-3 div.sk-serial {display: flex;flex-direction: column;align-items: center;background-color: white;padding-right: 0.2em;padding-left: 0.2em;position: relative;}#sk-container-id-3 div.sk-item {position: relative;z-index: 1;}#sk-container-id-3 div.sk-parallel {display: flex;align-items: stretch;justify-content: center;background-color: white;position: relative;}#sk-container-id-3 div.sk-item::before, #sk-container-id-3 div.sk-parallel-item::before {content: \"\";position: absolute;border-left: 1px solid gray;box-sizing: border-box;top: 0;bottom: 0;left: 50%;z-index: -1;}#sk-container-id-3 div.sk-parallel-item {display: flex;flex-direction: column;z-index: 1;position: relative;background-color: white;}#sk-container-id-3 div.sk-parallel-item:first-child::after {align-self: flex-end;width: 50%;}#sk-container-id-3 div.sk-parallel-item:last-child::after {align-self: flex-start;width: 50%;}#sk-container-id-3 div.sk-parallel-item:only-child::after {width: 0;}#sk-container-id-3 div.sk-dashed-wrapped {border: 1px dashed gray;margin: 0 0.4em 0.5em 0.4em;box-sizing: border-box;padding-bottom: 0.4em;background-color: white;}#sk-container-id-3 div.sk-label label {font-family: monospace;font-weight: bold;display: inline-block;line-height: 1.2em;}#sk-container-id-3 div.sk-label-container {text-align: center;}#sk-container-id-3 div.sk-container {/* jupyter's `normalize.less` sets `[hidden] { display: none; }` but bootstrap.min.css set `[hidden] { display: none !important; }` so we also need the `!important` here to be able to override the default hidden behavior on the sphinx rendered scikit-learn.org. See: https://github.com/scikit-learn/scikit-learn/issues/21755 */display: inline-block !important;position: relative;}#sk-container-id-3 div.sk-text-repr-fallback {display: none;}</style><div id=\"sk-container-id-3\" class=\"sk-top-container\"><div class=\"sk-text-repr-fallback\"><pre>RandomForestRegressor(n_jobs=-1, random_state=42, verbose=1)</pre><b>In a Jupyter environment, please rerun this cell to show the HTML representation or trust the notebook. <br />On GitHub, the HTML representation is unable to render, please try loading this page with nbviewer.org.</b></div><div class=\"sk-container\" hidden><div class=\"sk-item\"><div class=\"sk-estimator sk-toggleable\"><input class=\"sk-toggleable__control sk-hidden--visually\" id=\"sk-estimator-id-6\" type=\"checkbox\" checked><label for=\"sk-estimator-id-6\" class=\"sk-toggleable__label sk-toggleable__label-arrow\">RandomForestRegressor</label><div class=\"sk-toggleable__content\"><pre>RandomForestRegressor(n_jobs=-1, random_state=42, verbose=1)</pre></div></div></div></div></div>"
      ],
      "text/plain": [
       "RandomForestRegressor(n_jobs=-1, random_state=42, verbose=1)"
      ]
     },
     "execution_count": 101,
     "metadata": {},
     "output_type": "execute_result"
    }
   ],
   "source": [
    "# Train model\n",
    "model_rf_cv.fit(X_train, y_train)"
   ]
  },
  {
   "cell_type": "code",
   "execution_count": 102,
   "id": "d61dba58",
   "metadata": {},
   "outputs": [
    {
     "name": "stderr",
     "output_type": "stream",
     "text": [
      "[Parallel(n_jobs=16)]: Using backend ThreadingBackend with 16 concurrent workers.\n",
      "[Parallel(n_jobs=16)]: Done  18 tasks      | elapsed:    0.0s\n"
     ]
    },
    {
     "name": "stdout",
     "output_type": "stream",
     "text": [
      " MAE: 1.5\n",
      "MAPE: 22.29 %\n"
     ]
    },
    {
     "name": "stderr",
     "output_type": "stream",
     "text": [
      "[Parallel(n_jobs=16)]: Done 100 out of 100 | elapsed:    0.3s finished\n"
     ]
    }
   ],
   "source": [
    "y_pred_rf_cv = model_rf_cv.predict(X_valid[1:])\n",
    "\n",
    "print(' MAE: {:.2}'.format(mean_absolute_error(y_test, y_pred_rf_cv)))\n",
    "print(f\"MAPE: {round(mean_absolute_percentage_error(y_test, y_pred_rf_cv)*100, 2)} %\")"
   ]
  },
  {
   "attachments": {},
   "cell_type": "markdown",
   "id": "e8ca9a15",
   "metadata": {},
   "source": [
    "### Model 3. Random forest + optuna"
   ]
  },
  {
   "cell_type": "code",
   "execution_count": 65,
   "id": "bdf6598e",
   "metadata": {},
   "outputs": [],
   "source": [
    "# def optuna_rf(trial):\n",
    "#     # hyperparameters range\n",
    "#     n_estimators = trial.suggest_int('n_estimators', 400, 500, 100)\n",
    "#     #max_depth = trial.suggest_int('max_depth', 30, 50, 10)\n",
    "#     #min_samples_leaf = trial.suggest_int('min_samples_leaf', 4, 12, 3)\n",
    "    \n",
    "#     # create the model\n",
    "#     model = ensemble.RandomForestRegressor(\n",
    "#         n_estimators=n_estimators,\n",
    "#         #max_depth=max_depth,\n",
    "#         #min_samples_leaf=min_samples_leaf,\n",
    "#         #criterion=criterion,\n",
    "#         random_state=random_seed\n",
    "#     )\n",
    "    \n",
    "#     # train model\n",
    "#     model.fit(X_train, y_train)\n",
    "#     score = mean_absolute_error(y_train, model.predict(X_train)).round(4)\n",
    "\n",
    "#     return score"
   ]
  },
  {
   "cell_type": "code",
   "execution_count": 69,
   "id": "9c8cc7d4",
   "metadata": {},
   "outputs": [],
   "source": [
    "# %%time\n",
    "\n",
    "# # Creation of an instance of optuna class\n",
    "# study = optuna.create_study(study_name=\"RandomForestRegressor\", direction=\"minimize\")\n",
    "\n",
    "# # tyr to find best hyperparameters n_trials times\n",
    "# study.optimize(optuna_rf, n_trials=2)\n",
    "\n",
    "# #clear_output(wait=False)\n",
    "\n",
    "# # Display optimized hyperparameters by optuna\n",
    "# print(\"Best hyperparameters {}\".format(study.best_params))\n",
    "# print(\"Best MAE: {:.2f}\".format(study.best_value))\n",
    "# best_params_opt = study.best_params"
   ]
  },
  {
   "cell_type": "code",
   "execution_count": 70,
   "id": "e8ffd689",
   "metadata": {},
   "outputs": [],
   "source": [
    "#optuna.visualization.plot_optimization_history(study, target_name=\"f1_score\")"
   ]
  },
  {
   "attachments": {},
   "cell_type": "markdown",
   "id": "8708bf87",
   "metadata": {},
   "source": [
    "### Model 4. Stacking: linear regression"
   ]
  },
  {
   "cell_type": "code",
   "execution_count": null,
   "id": "005fe63d",
   "metadata": {},
   "outputs": [],
   "source": [
    "# Initiate estimators\n",
    "estimators = [\n",
    "    ('linear', LinearRegression()),\n",
    "    ('dt',  RandomForestRegressor(n_estimators=100, verbose=0, n_jobs=-1, random_state=random_seed))\n",
    "]\n",
    "\n",
    "# Create an instance of the stacking class\n",
    "reg = StackingRegressor(\n",
    "    estimators=estimators,\n",
    "    final_estimator=RandomForestRegressor(\n",
    "        n_estimators=100,\n",
    "        random_state=random_seed)\n",
    ")\n",
    "# Training the model\n",
    "reg.fit(X_train, y_train)"
   ]
  },
  {
   "cell_type": "code",
   "execution_count": 72,
   "id": "3bb96528",
   "metadata": {},
   "outputs": [
    {
     "name": "stderr",
     "output_type": "stream",
     "text": [
      "[Parallel(n_jobs=16)]: Using backend ThreadingBackend with 16 concurrent workers.\n",
      "[Parallel(n_jobs=16)]: Done  18 tasks      | elapsed:    0.1s\n",
      "[Parallel(n_jobs=16)]: Done 100 out of 100 | elapsed:    0.4s finished\n"
     ]
    },
    {
     "name": "stdout",
     "output_type": "stream",
     "text": [
      " MAE: 1.6\n",
      "MAPE: 22.75 %\n"
     ]
    }
   ],
   "source": [
    "# get the prediction\n",
    "y_pred_st_lin = reg.predict(X_valid[1:]) #X_test\n",
    "\n",
    "print(' MAE: {:.2}'.format(mean_absolute_error(y_test, y_pred_st_lin)))\n",
    "print(f\"MAPE: {round(mean_absolute_percentage_error(y_test, y_pred_st_lin)*100, 2)} %\")"
   ]
  },
  {
   "attachments": {},
   "cell_type": "markdown",
   "id": "ba19e0fd",
   "metadata": {},
   "source": [
    "### Model 5. Stacking: Ridge CV"
   ]
  },
  {
   "cell_type": "code",
   "execution_count": 64,
   "id": "db8b7e64",
   "metadata": {},
   "outputs": [
    {
     "name": "stdout",
     "output_type": "stream",
     "text": [
      " MAE: 1.6\n",
      "MAPE: 23.02 %\n"
     ]
    }
   ],
   "source": [
    "estimators2 = [\n",
    "    ('lr', RidgeCV()),\n",
    "    ('dt',  DecisionTreeRegressor(random_state=random_seed))\n",
    "]\n",
    "\n",
    "# Create an instance of the stacking class\n",
    "model_stacking = StackingRegressor(\n",
    "    estimators=estimators2,\n",
    "    final_estimator=RandomForestRegressor(n_estimators=150,  verbose=0, n_jobs=-1, random_state=random_seed)\n",
    ")\n",
    "# Model training\n",
    "model_stacking.fit(X_train, y_train)\n",
    "y_pred_st_r = model_stacking.predict(X_valid[1:])\n",
    "\n",
    "print(' MAE: {:.2}'.format(mean_absolute_error(y_test, y_pred_st_r)))\n",
    "print(f\"MAPE: {round(mean_absolute_percentage_error(y_test, y_pred_st_r)*100, 2)} %\")"
   ]
  },
  {
   "attachments": {},
   "cell_type": "markdown",
   "id": "ced71786",
   "metadata": {},
   "source": [
    "### Model 6. Gradient boosting"
   ]
  },
  {
   "cell_type": "code",
   "execution_count": 68,
   "id": "2ed39da8",
   "metadata": {},
   "outputs": [
    {
     "name": "stdout",
     "output_type": "stream",
     "text": [
      " MAE: 0.9\n",
      "MAPE: 13.08 %\n"
     ]
    }
   ],
   "source": [
    "gb = GradientBoostingRegressor(\n",
    "    max_depth=5,\n",
    "    n_estimators=120,\n",
    "    random_state=random_seed \n",
    ")\n",
    "# Model training\n",
    "gb.fit(X_train, y_train)\n",
    "\n",
    "# Predict target values\n",
    "y_pred_gb = gb.predict(X_test)\n",
    "\n",
    "print(' MAE: {:.2}'.format(mean_absolute_error(y_test, y_pred_gb)))\n",
    "print(f\"MAPE: {round(mean_absolute_percentage_error(y_test, y_pred_gb)*100, 2)} %\")"
   ]
  },
  {
   "cell_type": "code",
   "execution_count": 94,
   "id": "4b661d11",
   "metadata": {},
   "outputs": [],
   "source": [
    "# Save model to the given path in the pkl format\n",
    "full_path = os.path.join(model_path, 'model.pkl')\n",
    "\n",
    "with open(full_path, 'wb') as f:\n",
    "    dump(gb, f, compress=5)"
   ]
  },
  {
   "cell_type": "code",
   "execution_count": 99,
   "id": "d3dc5f22",
   "metadata": {},
   "outputs": [
    {
     "data": {
      "image/png": "[encoded data removed]",
      "text/plain": [
       "<Figure size 600x400 with 1 Axes>"
      ]
     },
     "metadata": {},
     "output_type": "display_data"
    }
   ],
   "source": [
    "feature_significance = pd.Series(gb.feature_importances_, index=X.columns).sort_values(ascending=False).nlargest(7)\n",
    "fig, ax = plt.subplots(figsize = (6, 4))\n",
    "fig = feature_significance.plot(kind='barh')\n",
    "ax.xaxis.grid(linestyle=':')\n",
    "fig.set_title('Fig.8 - Feature significance', y=-0.3)\n",
    "\n",
    "plt.tight_layout()\n",
    "plt.savefig('../figures/fig_8.png');"
   ]
  },
  {
   "cell_type": "code",
   "execution_count": 71,
   "id": "8695743b",
   "metadata": {},
   "outputs": [
    {
     "data": {
      "image/png": "[encoded data removed]",
      "text/plain": [
       "<Figure size 800x400 with 2 Axes>"
      ]
     },
     "metadata": {},
     "output_type": "display_data"
    }
   ],
   "source": [
    "fig, ax = plt.subplots(ncols=2, figsize=(8, 4))\n",
    "PredictionErrorDisplay.from_predictions(\n",
    "    y_test,\n",
    "    y_pred=y_pred_gb,\n",
    "    kind=\"actual_vs_predicted\",\n",
    "    subsample=100,\n",
    "    ax=ax[0],\n",
    "    random_state=0,\n",
    ")\n",
    "ax[0].set_title(\"Actual vs. Predicted values\")\n",
    "\n",
    "PredictionErrorDisplay.from_predictions(\n",
    "    y_test,\n",
    "    y_pred=y_pred_gb,\n",
    "    kind=\"residual_vs_predicted\",\n",
    "    subsample=100,\n",
    "    ax=ax[1],\n",
    "    random_state=0,\n",
    ")\n",
    "ax[1].set_title(\"Residuals vs. Predicted Values\")\n",
    "fig.suptitle(\"Fig.9 - Gradient boosting model assessment\", y=-0.05)\n",
    "plt.tight_layout()\n",
    "\n",
    "plt.savefig('../figures/fig_9.png');"
   ]
  },
  {
   "attachments": {},
   "cell_type": "markdown",
   "id": "10de00f4",
   "metadata": {},
   "source": [
    "# Submission"
   ]
  },
  {
   "cell_type": "code",
   "execution_count": 76,
   "id": "caa17f58",
   "metadata": {
    "execution": {
     "iopub.execute_input": "2022-12-17T10:57:19.013175Z",
     "iopub.status.busy": "2022-12-17T10:57:19.011725Z",
     "iopub.status.idle": "2022-12-17T10:57:19.040872Z",
     "shell.execute_reply": "2022-12-17T10:57:19.040213Z",
     "shell.execute_reply.started": "2022-12-17T10:48:03.822256Z"
    },
    "papermill": {
     "duration": 0.089603,
     "end_time": "2022-12-17T10:57:19.041025",
     "exception": false,
     "start_time": "2022-12-17T10:57:18.951422",
     "status": "completed"
    },
    "tags": []
   },
   "outputs": [
    {
     "data": {
      "text/html": [
       "<div>\n",
       "<style scoped>\n",
       "    .dataframe tbody tr th:only-of-type {\n",
       "        vertical-align: middle;\n",
       "    }\n",
       "\n",
       "    .dataframe tbody tr th {\n",
       "        vertical-align: top;\n",
       "    }\n",
       "\n",
       "    .dataframe thead th {\n",
       "        text-align: right;\n",
       "    }\n",
       "</style>\n",
       "<table border=\"1\" class=\"dataframe\">\n",
       "  <thead>\n",
       "    <tr style=\"text-align: right;\">\n",
       "      <th></th>\n",
       "      <th>lat</th>\n",
       "      <th>lng</th>\n",
       "      <th>reviewer_score</th>\n",
       "      <th>nationality_same_as_country</th>\n",
       "      <th>additional_number_of_scoring</th>\n",
       "      <th>average_score</th>\n",
       "      <th>review_total_negative_word_counts</th>\n",
       "      <th>total_number_of_reviews</th>\n",
       "      <th>review_total_positive_word_counts</th>\n",
       "      <th>total_number_of_reviews_reviewer_has_given</th>\n",
       "      <th>days_since_review</th>\n",
       "      <th>stay_length</th>\n",
       "      <th>review_month</th>\n",
       "      <th>review_day</th>\n",
       "      <th>review_weekday</th>\n",
       "      <th>reviewer_nationality_Australia</th>\n",
       "      <th>reviewer_nationality_Belgium</th>\n",
       "      <th>reviewer_nationality_Canada</th>\n",
       "      <th>reviewer_nationality_France</th>\n",
       "      <th>reviewer_nationality_Germany</th>\n",
       "      <th>reviewer_nationality_Ireland</th>\n",
       "      <th>reviewer_nationality_Israel</th>\n",
       "      <th>reviewer_nationality_Italy</th>\n",
       "      <th>reviewer_nationality_Netherlands</th>\n",
       "      <th>reviewer_nationality_Saudi Arabia</th>\n",
       "      <th>reviewer_nationality_Switzerland</th>\n",
       "      <th>reviewer_nationality_United Arab Emirates</th>\n",
       "      <th>reviewer_nationality_United Kingdom</th>\n",
       "      <th>reviewer_nationality_United States of America</th>\n",
       "      <th>reviewer_nationality_other</th>\n",
       "      <th>country_Austria</th>\n",
       "      <th>country_France</th>\n",
       "      <th>country_Italy</th>\n",
       "      <th>country_Netherlands</th>\n",
       "      <th>country_Spain</th>\n",
       "      <th>country_United Kingdom</th>\n",
       "      <th>city_Amsterdam</th>\n",
       "      <th>city_Barcelona</th>\n",
       "      <th>city_London</th>\n",
       "      <th>city_Milan</th>\n",
       "      <th>city_Paris</th>\n",
       "      <th>city_Vienna</th>\n",
       "      <th>clas_neg_review_neg</th>\n",
       "      <th>clas_neg_review_pos</th>\n",
       "      <th>clas_pos_review_neg</th>\n",
       "      <th>clas_pos_review_pos</th>\n",
       "      <th>traveller_type_ Couple</th>\n",
       "      <th>traveller_type_ Family with older children</th>\n",
       "      <th>traveller_type_ Family with young children</th>\n",
       "      <th>traveller_type_ Group</th>\n",
       "      <th>traveller_type_ Other</th>\n",
       "      <th>traveller_type_ Solo traveler</th>\n",
       "      <th>traveller_type_ Travelers with friends</th>\n",
       "      <th>trip_type_Business trip</th>\n",
       "      <th>trip_type_Couple</th>\n",
       "      <th>trip_type_Family</th>\n",
       "      <th>trip_type_Group</th>\n",
       "      <th>trip_type_Leisure trip</th>\n",
       "      <th>trip_type_Solo traveler</th>\n",
       "      <th>trip_type_With a pet</th>\n",
       "    </tr>\n",
       "  </thead>\n",
       "  <tbody>\n",
       "    <tr>\n",
       "      <th>26407</th>\n",
       "      <td>52.358382</td>\n",
       "      <td>4.898878</td>\n",
       "      <td>0.0</td>\n",
       "      <td>0</td>\n",
       "      <td>0.128310</td>\n",
       "      <td>0.000000</td>\n",
       "      <td>0.142857</td>\n",
       "      <td>-0.019984</td>\n",
       "      <td>-0.294118</td>\n",
       "      <td>0.000000</td>\n",
       "      <td>-0.036932</td>\n",
       "      <td>1.0</td>\n",
       "      <td>0.2</td>\n",
       "      <td>0.800000</td>\n",
       "      <td>1.00</td>\n",
       "      <td>0</td>\n",
       "      <td>0</td>\n",
       "      <td>0</td>\n",
       "      <td>0</td>\n",
       "      <td>0</td>\n",
       "      <td>0</td>\n",
       "      <td>0</td>\n",
       "      <td>0</td>\n",
       "      <td>0</td>\n",
       "      <td>0</td>\n",
       "      <td>0</td>\n",
       "      <td>0</td>\n",
       "      <td>1</td>\n",
       "      <td>0</td>\n",
       "      <td>0</td>\n",
       "      <td>0</td>\n",
       "      <td>0</td>\n",
       "      <td>0</td>\n",
       "      <td>1</td>\n",
       "      <td>0</td>\n",
       "      <td>0</td>\n",
       "      <td>1</td>\n",
       "      <td>0</td>\n",
       "      <td>0</td>\n",
       "      <td>0</td>\n",
       "      <td>0</td>\n",
       "      <td>0</td>\n",
       "      <td>0</td>\n",
       "      <td>1</td>\n",
       "      <td>1</td>\n",
       "      <td>0</td>\n",
       "      <td>0</td>\n",
       "      <td>1</td>\n",
       "      <td>0</td>\n",
       "      <td>0</td>\n",
       "      <td>0</td>\n",
       "      <td>0</td>\n",
       "      <td>0</td>\n",
       "      <td>0</td>\n",
       "      <td>0</td>\n",
       "      <td>0</td>\n",
       "      <td>0</td>\n",
       "      <td>1</td>\n",
       "      <td>0</td>\n",
       "      <td>0</td>\n",
       "    </tr>\n",
       "    <tr>\n",
       "      <th>105699</th>\n",
       "      <td>48.197841</td>\n",
       "      <td>16.367087</td>\n",
       "      <td>0.0</td>\n",
       "      <td>0</td>\n",
       "      <td>-0.560081</td>\n",
       "      <td>0.857143</td>\n",
       "      <td>0.809524</td>\n",
       "      <td>-0.604812</td>\n",
       "      <td>0.235294</td>\n",
       "      <td>-0.285714</td>\n",
       "      <td>-0.619318</td>\n",
       "      <td>0.5</td>\n",
       "      <td>-0.8</td>\n",
       "      <td>0.333333</td>\n",
       "      <td>-0.25</td>\n",
       "      <td>0</td>\n",
       "      <td>0</td>\n",
       "      <td>0</td>\n",
       "      <td>0</td>\n",
       "      <td>0</td>\n",
       "      <td>0</td>\n",
       "      <td>0</td>\n",
       "      <td>0</td>\n",
       "      <td>0</td>\n",
       "      <td>0</td>\n",
       "      <td>0</td>\n",
       "      <td>0</td>\n",
       "      <td>0</td>\n",
       "      <td>1</td>\n",
       "      <td>0</td>\n",
       "      <td>1</td>\n",
       "      <td>0</td>\n",
       "      <td>0</td>\n",
       "      <td>0</td>\n",
       "      <td>0</td>\n",
       "      <td>0</td>\n",
       "      <td>0</td>\n",
       "      <td>0</td>\n",
       "      <td>0</td>\n",
       "      <td>0</td>\n",
       "      <td>0</td>\n",
       "      <td>1</td>\n",
       "      <td>0</td>\n",
       "      <td>1</td>\n",
       "      <td>0</td>\n",
       "      <td>1</td>\n",
       "      <td>1</td>\n",
       "      <td>0</td>\n",
       "      <td>0</td>\n",
       "      <td>0</td>\n",
       "      <td>0</td>\n",
       "      <td>0</td>\n",
       "      <td>0</td>\n",
       "      <td>0</td>\n",
       "      <td>0</td>\n",
       "      <td>0</td>\n",
       "      <td>0</td>\n",
       "      <td>1</td>\n",
       "      <td>0</td>\n",
       "      <td>0</td>\n",
       "    </tr>\n",
       "    <tr>\n",
       "      <th>48471</th>\n",
       "      <td>52.370545</td>\n",
       "      <td>4.888644</td>\n",
       "      <td>0.0</td>\n",
       "      <td>0</td>\n",
       "      <td>1.004073</td>\n",
       "      <td>1.000000</td>\n",
       "      <td>-0.142857</td>\n",
       "      <td>1.041191</td>\n",
       "      <td>0.411765</td>\n",
       "      <td>1.285714</td>\n",
       "      <td>0.460227</td>\n",
       "      <td>-0.5</td>\n",
       "      <td>-0.8</td>\n",
       "      <td>-0.666667</td>\n",
       "      <td>1.00</td>\n",
       "      <td>0</td>\n",
       "      <td>0</td>\n",
       "      <td>0</td>\n",
       "      <td>0</td>\n",
       "      <td>0</td>\n",
       "      <td>0</td>\n",
       "      <td>0</td>\n",
       "      <td>1</td>\n",
       "      <td>0</td>\n",
       "      <td>0</td>\n",
       "      <td>0</td>\n",
       "      <td>0</td>\n",
       "      <td>0</td>\n",
       "      <td>0</td>\n",
       "      <td>0</td>\n",
       "      <td>0</td>\n",
       "      <td>0</td>\n",
       "      <td>0</td>\n",
       "      <td>1</td>\n",
       "      <td>0</td>\n",
       "      <td>0</td>\n",
       "      <td>1</td>\n",
       "      <td>0</td>\n",
       "      <td>0</td>\n",
       "      <td>0</td>\n",
       "      <td>0</td>\n",
       "      <td>0</td>\n",
       "      <td>0</td>\n",
       "      <td>1</td>\n",
       "      <td>0</td>\n",
       "      <td>1</td>\n",
       "      <td>0</td>\n",
       "      <td>1</td>\n",
       "      <td>0</td>\n",
       "      <td>0</td>\n",
       "      <td>0</td>\n",
       "      <td>0</td>\n",
       "      <td>0</td>\n",
       "      <td>1</td>\n",
       "      <td>0</td>\n",
       "      <td>0</td>\n",
       "      <td>0</td>\n",
       "      <td>0</td>\n",
       "      <td>0</td>\n",
       "      <td>0</td>\n",
       "    </tr>\n",
       "    <tr>\n",
       "      <th>80236</th>\n",
       "      <td>51.522622</td>\n",
       "      <td>-0.125160</td>\n",
       "      <td>0.0</td>\n",
       "      <td>0</td>\n",
       "      <td>0.780041</td>\n",
       "      <td>-0.571429</td>\n",
       "      <td>-0.428571</td>\n",
       "      <td>0.414356</td>\n",
       "      <td>1.176471</td>\n",
       "      <td>-0.142857</td>\n",
       "      <td>1.000000</td>\n",
       "      <td>0.0</td>\n",
       "      <td>0.2</td>\n",
       "      <td>0.866667</td>\n",
       "      <td>0.75</td>\n",
       "      <td>0</td>\n",
       "      <td>0</td>\n",
       "      <td>0</td>\n",
       "      <td>0</td>\n",
       "      <td>0</td>\n",
       "      <td>0</td>\n",
       "      <td>0</td>\n",
       "      <td>0</td>\n",
       "      <td>0</td>\n",
       "      <td>0</td>\n",
       "      <td>0</td>\n",
       "      <td>0</td>\n",
       "      <td>0</td>\n",
       "      <td>0</td>\n",
       "      <td>1</td>\n",
       "      <td>0</td>\n",
       "      <td>0</td>\n",
       "      <td>0</td>\n",
       "      <td>0</td>\n",
       "      <td>0</td>\n",
       "      <td>1</td>\n",
       "      <td>0</td>\n",
       "      <td>0</td>\n",
       "      <td>1</td>\n",
       "      <td>0</td>\n",
       "      <td>0</td>\n",
       "      <td>0</td>\n",
       "      <td>0</td>\n",
       "      <td>1</td>\n",
       "      <td>0</td>\n",
       "      <td>1</td>\n",
       "      <td>0</td>\n",
       "      <td>0</td>\n",
       "      <td>0</td>\n",
       "      <td>0</td>\n",
       "      <td>0</td>\n",
       "      <td>1</td>\n",
       "      <td>0</td>\n",
       "      <td>1</td>\n",
       "      <td>0</td>\n",
       "      <td>0</td>\n",
       "      <td>0</td>\n",
       "      <td>0</td>\n",
       "      <td>0</td>\n",
       "      <td>0</td>\n",
       "    </tr>\n",
       "    <tr>\n",
       "      <th>46578</th>\n",
       "      <td>51.499046</td>\n",
       "      <td>-0.191707</td>\n",
       "      <td>0.0</td>\n",
       "      <td>1</td>\n",
       "      <td>3.034623</td>\n",
       "      <td>-0.428571</td>\n",
       "      <td>0.047619</td>\n",
       "      <td>2.027325</td>\n",
       "      <td>-0.117647</td>\n",
       "      <td>1.142857</td>\n",
       "      <td>-0.213068</td>\n",
       "      <td>-0.5</td>\n",
       "      <td>0.6</td>\n",
       "      <td>0.866667</td>\n",
       "      <td>0.75</td>\n",
       "      <td>0</td>\n",
       "      <td>0</td>\n",
       "      <td>0</td>\n",
       "      <td>0</td>\n",
       "      <td>0</td>\n",
       "      <td>0</td>\n",
       "      <td>0</td>\n",
       "      <td>0</td>\n",
       "      <td>0</td>\n",
       "      <td>0</td>\n",
       "      <td>0</td>\n",
       "      <td>0</td>\n",
       "      <td>1</td>\n",
       "      <td>0</td>\n",
       "      <td>0</td>\n",
       "      <td>0</td>\n",
       "      <td>0</td>\n",
       "      <td>0</td>\n",
       "      <td>0</td>\n",
       "      <td>0</td>\n",
       "      <td>1</td>\n",
       "      <td>0</td>\n",
       "      <td>0</td>\n",
       "      <td>1</td>\n",
       "      <td>0</td>\n",
       "      <td>0</td>\n",
       "      <td>0</td>\n",
       "      <td>1</td>\n",
       "      <td>0</td>\n",
       "      <td>0</td>\n",
       "      <td>1</td>\n",
       "      <td>1</td>\n",
       "      <td>0</td>\n",
       "      <td>0</td>\n",
       "      <td>0</td>\n",
       "      <td>0</td>\n",
       "      <td>0</td>\n",
       "      <td>0</td>\n",
       "      <td>0</td>\n",
       "      <td>0</td>\n",
       "      <td>0</td>\n",
       "      <td>0</td>\n",
       "      <td>1</td>\n",
       "      <td>0</td>\n",
       "      <td>0</td>\n",
       "    </tr>\n",
       "  </tbody>\n",
       "</table>\n",
       "</div>"
      ],
      "text/plain": [
       "              lat        lng  reviewer_score  nationality_same_as_country  \\\n",
       "26407   52.358382   4.898878             0.0                            0   \n",
       "105699  48.197841  16.367087             0.0                            0   \n",
       "48471   52.370545   4.888644             0.0                            0   \n",
       "80236   51.522622  -0.125160             0.0                            0   \n",
       "46578   51.499046  -0.191707             0.0                            1   \n",
       "\n",
       "        additional_number_of_scoring  average_score  \\\n",
       "26407                       0.128310       0.000000   \n",
       "105699                     -0.560081       0.857143   \n",
       "48471                       1.004073       1.000000   \n",
       "80236                       0.780041      -0.571429   \n",
       "46578                       3.034623      -0.428571   \n",
       "\n",
       "        review_total_negative_word_counts  total_number_of_reviews  \\\n",
       "26407                            0.142857                -0.019984   \n",
       "105699                           0.809524                -0.604812   \n",
       "48471                           -0.142857                 1.041191   \n",
       "80236                           -0.428571                 0.414356   \n",
       "46578                            0.047619                 2.027325   \n",
       "\n",
       "        review_total_positive_word_counts  \\\n",
       "26407                           -0.294118   \n",
       "105699                           0.235294   \n",
       "48471                            0.411765   \n",
       "80236                            1.176471   \n",
       "46578                           -0.117647   \n",
       "\n",
       "        total_number_of_reviews_reviewer_has_given  days_since_review  \\\n",
       "26407                                     0.000000          -0.036932   \n",
       "105699                                   -0.285714          -0.619318   \n",
       "48471                                     1.285714           0.460227   \n",
       "80236                                    -0.142857           1.000000   \n",
       "46578                                     1.142857          -0.213068   \n",
       "\n",
       "        stay_length  review_month  review_day  review_weekday  \\\n",
       "26407           1.0           0.2    0.800000            1.00   \n",
       "105699          0.5          -0.8    0.333333           -0.25   \n",
       "48471          -0.5          -0.8   -0.666667            1.00   \n",
       "80236           0.0           0.2    0.866667            0.75   \n",
       "46578          -0.5           0.6    0.866667            0.75   \n",
       "\n",
       "        reviewer_nationality_Australia  reviewer_nationality_Belgium  \\\n",
       "26407                                0                             0   \n",
       "105699                               0                             0   \n",
       "48471                                0                             0   \n",
       "80236                                0                             0   \n",
       "46578                                0                             0   \n",
       "\n",
       "        reviewer_nationality_Canada  reviewer_nationality_France  \\\n",
       "26407                             0                            0   \n",
       "105699                            0                            0   \n",
       "48471                             0                            0   \n",
       "80236                             0                            0   \n",
       "46578                             0                            0   \n",
       "\n",
       "        reviewer_nationality_Germany  reviewer_nationality_Ireland  \\\n",
       "26407                              0                             0   \n",
       "105699                             0                             0   \n",
       "48471                              0                             0   \n",
       "80236                              0                             0   \n",
       "46578                              0                             0   \n",
       "\n",
       "        reviewer_nationality_Israel  reviewer_nationality_Italy  \\\n",
       "26407                             0                           0   \n",
       "105699                            0                           0   \n",
       "48471                             0                           1   \n",
       "80236                             0                           0   \n",
       "46578                             0                           0   \n",
       "\n",
       "        reviewer_nationality_Netherlands  reviewer_nationality_Saudi Arabia  \\\n",
       "26407                                  0                                  0   \n",
       "105699                                 0                                  0   \n",
       "48471                                  0                                  0   \n",
       "80236                                  0                                  0   \n",
       "46578                                  0                                  0   \n",
       "\n",
       "        reviewer_nationality_Switzerland  \\\n",
       "26407                                  0   \n",
       "105699                                 0   \n",
       "48471                                  0   \n",
       "80236                                  0   \n",
       "46578                                  0   \n",
       "\n",
       "        reviewer_nationality_United Arab Emirates  \\\n",
       "26407                                           0   \n",
       "105699                                          0   \n",
       "48471                                           0   \n",
       "80236                                           0   \n",
       "46578                                           0   \n",
       "\n",
       "        reviewer_nationality_United Kingdom  \\\n",
       "26407                                     1   \n",
       "105699                                    0   \n",
       "48471                                     0   \n",
       "80236                                     0   \n",
       "46578                                     1   \n",
       "\n",
       "        reviewer_nationality_United States of America  \\\n",
       "26407                                               0   \n",
       "105699                                              1   \n",
       "48471                                               0   \n",
       "80236                                               0   \n",
       "46578                                               0   \n",
       "\n",
       "        reviewer_nationality_other  country_Austria  country_France  \\\n",
       "26407                            0                0               0   \n",
       "105699                           0                1               0   \n",
       "48471                            0                0               0   \n",
       "80236                            1                0               0   \n",
       "46578                            0                0               0   \n",
       "\n",
       "        country_Italy  country_Netherlands  country_Spain  \\\n",
       "26407               0                    1              0   \n",
       "105699              0                    0              0   \n",
       "48471               0                    1              0   \n",
       "80236               0                    0              0   \n",
       "46578               0                    0              0   \n",
       "\n",
       "        country_United Kingdom  city_Amsterdam  city_Barcelona  city_London  \\\n",
       "26407                        0               1               0            0   \n",
       "105699                       0               0               0            0   \n",
       "48471                        0               1               0            0   \n",
       "80236                        1               0               0            1   \n",
       "46578                        1               0               0            1   \n",
       "\n",
       "        city_Milan  city_Paris  city_Vienna  clas_neg_review_neg  \\\n",
       "26407            0           0            0                    0   \n",
       "105699           0           0            1                    0   \n",
       "48471            0           0            0                    0   \n",
       "80236            0           0            0                    0   \n",
       "46578            0           0            0                    1   \n",
       "\n",
       "        clas_neg_review_pos  clas_pos_review_neg  clas_pos_review_pos  \\\n",
       "26407                     1                    1                    0   \n",
       "105699                    1                    0                    1   \n",
       "48471                     1                    0                    1   \n",
       "80236                     1                    0                    1   \n",
       "46578                     0                    0                    1   \n",
       "\n",
       "        traveller_type_ Couple  traveller_type_ Family with older children  \\\n",
       "26407                        0                                           1   \n",
       "105699                       1                                           0   \n",
       "48471                        0                                           1   \n",
       "80236                        0                                           0   \n",
       "46578                        1                                           0   \n",
       "\n",
       "        traveller_type_ Family with young children  traveller_type_ Group  \\\n",
       "26407                                            0                      0   \n",
       "105699                                           0                      0   \n",
       "48471                                            0                      0   \n",
       "80236                                            0                      0   \n",
       "46578                                            0                      0   \n",
       "\n",
       "        traveller_type_ Other  traveller_type_ Solo traveler  \\\n",
       "26407                       0                              0   \n",
       "105699                      0                              0   \n",
       "48471                       0                              0   \n",
       "80236                       0                              1   \n",
       "46578                       0                              0   \n",
       "\n",
       "        traveller_type_ Travelers with friends  trip_type_Business trip  \\\n",
       "26407                                        0                        0   \n",
       "105699                                       0                        0   \n",
       "48471                                        0                        1   \n",
       "80236                                        0                        1   \n",
       "46578                                        0                        0   \n",
       "\n",
       "        trip_type_Couple  trip_type_Family  trip_type_Group  \\\n",
       "26407                  0                 0                0   \n",
       "105699                 0                 0                0   \n",
       "48471                  0                 0                0   \n",
       "80236                  0                 0                0   \n",
       "46578                  0                 0                0   \n",
       "\n",
       "        trip_type_Leisure trip  trip_type_Solo traveler  trip_type_With a pet  \n",
       "26407                        1                        0                     0  \n",
       "105699                       1                        0                     0  \n",
       "48471                        0                        0                     0  \n",
       "80236                        0                        0                     0  \n",
       "46578                        1                        0                     0  "
      ]
     },
     "execution_count": 76,
     "metadata": {},
     "output_type": "execute_result"
    }
   ],
   "source": [
    "test_data.sample(5) #.iloc[:,:3]"
   ]
  },
  {
   "cell_type": "code",
   "execution_count": 77,
   "id": "3843b1f4",
   "metadata": {
    "execution": {
     "iopub.execute_input": "2022-12-17T10:57:19.166944Z",
     "iopub.status.busy": "2022-12-17T10:57:19.166118Z",
     "iopub.status.idle": "2022-12-17T10:57:19.173972Z",
     "shell.execute_reply": "2022-12-17T10:57:19.173359Z",
     "shell.execute_reply.started": "2022-12-17T10:48:03.858762Z"
    },
    "papermill": {
     "duration": 0.074935,
     "end_time": "2022-12-17T10:57:19.174127",
     "exception": false,
     "start_time": "2022-12-17T10:57:19.099192",
     "status": "completed"
    },
    "tags": []
   },
   "outputs": [
    {
     "data": {
      "text/html": [
       "<div>\n",
       "<style scoped>\n",
       "    .dataframe tbody tr th:only-of-type {\n",
       "        vertical-align: middle;\n",
       "    }\n",
       "\n",
       "    .dataframe tbody tr th {\n",
       "        vertical-align: top;\n",
       "    }\n",
       "\n",
       "    .dataframe thead th {\n",
       "        text-align: right;\n",
       "    }\n",
       "</style>\n",
       "<table border=\"1\" class=\"dataframe\">\n",
       "  <thead>\n",
       "    <tr style=\"text-align: right;\">\n",
       "      <th></th>\n",
       "      <th>lat</th>\n",
       "      <th>lng</th>\n",
       "      <th>nationality_same_as_country</th>\n",
       "      <th>additional_number_of_scoring</th>\n",
       "      <th>average_score</th>\n",
       "      <th>review_total_negative_word_counts</th>\n",
       "      <th>total_number_of_reviews</th>\n",
       "      <th>review_total_positive_word_counts</th>\n",
       "      <th>total_number_of_reviews_reviewer_has_given</th>\n",
       "      <th>days_since_review</th>\n",
       "      <th>stay_length</th>\n",
       "      <th>review_month</th>\n",
       "      <th>review_day</th>\n",
       "      <th>review_weekday</th>\n",
       "      <th>reviewer_nationality_Australia</th>\n",
       "      <th>reviewer_nationality_Belgium</th>\n",
       "      <th>reviewer_nationality_Canada</th>\n",
       "      <th>reviewer_nationality_France</th>\n",
       "      <th>reviewer_nationality_Germany</th>\n",
       "      <th>reviewer_nationality_Ireland</th>\n",
       "      <th>reviewer_nationality_Israel</th>\n",
       "      <th>reviewer_nationality_Italy</th>\n",
       "      <th>reviewer_nationality_Netherlands</th>\n",
       "      <th>reviewer_nationality_Saudi Arabia</th>\n",
       "      <th>reviewer_nationality_Switzerland</th>\n",
       "      <th>reviewer_nationality_United Arab Emirates</th>\n",
       "      <th>reviewer_nationality_United Kingdom</th>\n",
       "      <th>reviewer_nationality_United States of America</th>\n",
       "      <th>reviewer_nationality_other</th>\n",
       "      <th>country_Austria</th>\n",
       "      <th>country_France</th>\n",
       "      <th>country_Italy</th>\n",
       "      <th>country_Netherlands</th>\n",
       "      <th>country_Spain</th>\n",
       "      <th>country_United Kingdom</th>\n",
       "      <th>city_Amsterdam</th>\n",
       "      <th>city_Barcelona</th>\n",
       "      <th>city_London</th>\n",
       "      <th>city_Milan</th>\n",
       "      <th>city_Paris</th>\n",
       "      <th>city_Vienna</th>\n",
       "      <th>clas_neg_review_neg</th>\n",
       "      <th>clas_neg_review_pos</th>\n",
       "      <th>clas_pos_review_neg</th>\n",
       "      <th>clas_pos_review_pos</th>\n",
       "      <th>traveller_type_ Couple</th>\n",
       "      <th>traveller_type_ Family with older children</th>\n",
       "      <th>traveller_type_ Family with young children</th>\n",
       "      <th>traveller_type_ Group</th>\n",
       "      <th>traveller_type_ Other</th>\n",
       "      <th>traveller_type_ Solo traveler</th>\n",
       "      <th>traveller_type_ Travelers with friends</th>\n",
       "      <th>trip_type_Business trip</th>\n",
       "      <th>trip_type_Couple</th>\n",
       "      <th>trip_type_Family</th>\n",
       "      <th>trip_type_Group</th>\n",
       "      <th>trip_type_Leisure trip</th>\n",
       "      <th>trip_type_Solo traveler</th>\n",
       "      <th>trip_type_With a pet</th>\n",
       "    </tr>\n",
       "  </thead>\n",
       "  <tbody>\n",
       "    <tr>\n",
       "      <th>0</th>\n",
       "      <td>45.533137</td>\n",
       "      <td>9.171102</td>\n",
       "      <td>0</td>\n",
       "      <td>1.146640</td>\n",
       "      <td>-0.428571</td>\n",
       "      <td>2.047619</td>\n",
       "      <td>5.928222</td>\n",
       "      <td>3.000000</td>\n",
       "      <td>-0.285714</td>\n",
       "      <td>-0.965909</td>\n",
       "      <td>0.0</td>\n",
       "      <td>0.0</td>\n",
       "      <td>0.333333</td>\n",
       "      <td>0.50</td>\n",
       "      <td>0</td>\n",
       "      <td>0</td>\n",
       "      <td>0</td>\n",
       "      <td>0</td>\n",
       "      <td>0</td>\n",
       "      <td>0</td>\n",
       "      <td>0</td>\n",
       "      <td>0</td>\n",
       "      <td>0</td>\n",
       "      <td>0</td>\n",
       "      <td>0</td>\n",
       "      <td>0</td>\n",
       "      <td>1</td>\n",
       "      <td>0</td>\n",
       "      <td>0</td>\n",
       "      <td>0</td>\n",
       "      <td>0</td>\n",
       "      <td>1</td>\n",
       "      <td>0</td>\n",
       "      <td>0</td>\n",
       "      <td>0</td>\n",
       "      <td>0</td>\n",
       "      <td>0</td>\n",
       "      <td>0</td>\n",
       "      <td>1</td>\n",
       "      <td>0</td>\n",
       "      <td>0</td>\n",
       "      <td>0</td>\n",
       "      <td>1</td>\n",
       "      <td>0</td>\n",
       "      <td>1</td>\n",
       "      <td>1</td>\n",
       "      <td>0</td>\n",
       "      <td>0</td>\n",
       "      <td>0</td>\n",
       "      <td>0</td>\n",
       "      <td>0</td>\n",
       "      <td>0</td>\n",
       "      <td>0</td>\n",
       "      <td>0</td>\n",
       "      <td>0</td>\n",
       "      <td>0</td>\n",
       "      <td>1</td>\n",
       "      <td>0</td>\n",
       "      <td>0</td>\n",
       "    </tr>\n",
       "    <tr>\n",
       "      <th>1</th>\n",
       "      <td>52.385649</td>\n",
       "      <td>4.834443</td>\n",
       "      <td>0</td>\n",
       "      <td>0.551935</td>\n",
       "      <td>0.285714</td>\n",
       "      <td>0.047619</td>\n",
       "      <td>1.176183</td>\n",
       "      <td>-0.647059</td>\n",
       "      <td>0.571429</td>\n",
       "      <td>-0.338068</td>\n",
       "      <td>-0.5</td>\n",
       "      <td>1.0</td>\n",
       "      <td>-0.266667</td>\n",
       "      <td>-0.50</td>\n",
       "      <td>0</td>\n",
       "      <td>1</td>\n",
       "      <td>0</td>\n",
       "      <td>0</td>\n",
       "      <td>0</td>\n",
       "      <td>0</td>\n",
       "      <td>0</td>\n",
       "      <td>0</td>\n",
       "      <td>0</td>\n",
       "      <td>0</td>\n",
       "      <td>0</td>\n",
       "      <td>0</td>\n",
       "      <td>0</td>\n",
       "      <td>0</td>\n",
       "      <td>0</td>\n",
       "      <td>0</td>\n",
       "      <td>0</td>\n",
       "      <td>0</td>\n",
       "      <td>1</td>\n",
       "      <td>0</td>\n",
       "      <td>0</td>\n",
       "      <td>1</td>\n",
       "      <td>0</td>\n",
       "      <td>0</td>\n",
       "      <td>0</td>\n",
       "      <td>0</td>\n",
       "      <td>0</td>\n",
       "      <td>1</td>\n",
       "      <td>0</td>\n",
       "      <td>1</td>\n",
       "      <td>0</td>\n",
       "      <td>0</td>\n",
       "      <td>0</td>\n",
       "      <td>0</td>\n",
       "      <td>1</td>\n",
       "      <td>0</td>\n",
       "      <td>0</td>\n",
       "      <td>0</td>\n",
       "      <td>0</td>\n",
       "      <td>0</td>\n",
       "      <td>0</td>\n",
       "      <td>0</td>\n",
       "      <td>1</td>\n",
       "      <td>0</td>\n",
       "      <td>0</td>\n",
       "    </tr>\n",
       "    <tr>\n",
       "      <th>2</th>\n",
       "      <td>41.393192</td>\n",
       "      <td>2.161520</td>\n",
       "      <td>0</td>\n",
       "      <td>-0.600815</td>\n",
       "      <td>-0.142857</td>\n",
       "      <td>-0.285714</td>\n",
       "      <td>-0.727162</td>\n",
       "      <td>-0.352941</td>\n",
       "      <td>1.714286</td>\n",
       "      <td>0.747159</td>\n",
       "      <td>-0.5</td>\n",
       "      <td>0.8</td>\n",
       "      <td>0.666667</td>\n",
       "      <td>0.25</td>\n",
       "      <td>0</td>\n",
       "      <td>0</td>\n",
       "      <td>0</td>\n",
       "      <td>0</td>\n",
       "      <td>0</td>\n",
       "      <td>0</td>\n",
       "      <td>0</td>\n",
       "      <td>0</td>\n",
       "      <td>0</td>\n",
       "      <td>0</td>\n",
       "      <td>0</td>\n",
       "      <td>0</td>\n",
       "      <td>0</td>\n",
       "      <td>0</td>\n",
       "      <td>1</td>\n",
       "      <td>0</td>\n",
       "      <td>0</td>\n",
       "      <td>0</td>\n",
       "      <td>0</td>\n",
       "      <td>1</td>\n",
       "      <td>0</td>\n",
       "      <td>0</td>\n",
       "      <td>1</td>\n",
       "      <td>0</td>\n",
       "      <td>0</td>\n",
       "      <td>0</td>\n",
       "      <td>0</td>\n",
       "      <td>0</td>\n",
       "      <td>1</td>\n",
       "      <td>1</td>\n",
       "      <td>0</td>\n",
       "      <td>0</td>\n",
       "      <td>0</td>\n",
       "      <td>0</td>\n",
       "      <td>0</td>\n",
       "      <td>0</td>\n",
       "      <td>1</td>\n",
       "      <td>0</td>\n",
       "      <td>1</td>\n",
       "      <td>0</td>\n",
       "      <td>0</td>\n",
       "      <td>0</td>\n",
       "      <td>0</td>\n",
       "      <td>0</td>\n",
       "      <td>0</td>\n",
       "    </tr>\n",
       "    <tr>\n",
       "      <th>3</th>\n",
       "      <td>45.479888</td>\n",
       "      <td>9.196298</td>\n",
       "      <td>0</td>\n",
       "      <td>-0.203666</td>\n",
       "      <td>1.000000</td>\n",
       "      <td>-0.428571</td>\n",
       "      <td>-0.241028</td>\n",
       "      <td>0.941176</td>\n",
       "      <td>0.857143</td>\n",
       "      <td>0.860795</td>\n",
       "      <td>-0.5</td>\n",
       "      <td>0.6</td>\n",
       "      <td>0.066667</td>\n",
       "      <td>0.75</td>\n",
       "      <td>0</td>\n",
       "      <td>0</td>\n",
       "      <td>0</td>\n",
       "      <td>0</td>\n",
       "      <td>0</td>\n",
       "      <td>0</td>\n",
       "      <td>0</td>\n",
       "      <td>0</td>\n",
       "      <td>0</td>\n",
       "      <td>0</td>\n",
       "      <td>0</td>\n",
       "      <td>0</td>\n",
       "      <td>0</td>\n",
       "      <td>1</td>\n",
       "      <td>0</td>\n",
       "      <td>0</td>\n",
       "      <td>0</td>\n",
       "      <td>1</td>\n",
       "      <td>0</td>\n",
       "      <td>0</td>\n",
       "      <td>0</td>\n",
       "      <td>0</td>\n",
       "      <td>0</td>\n",
       "      <td>0</td>\n",
       "      <td>1</td>\n",
       "      <td>0</td>\n",
       "      <td>0</td>\n",
       "      <td>0</td>\n",
       "      <td>1</td>\n",
       "      <td>0</td>\n",
       "      <td>1</td>\n",
       "      <td>1</td>\n",
       "      <td>0</td>\n",
       "      <td>0</td>\n",
       "      <td>0</td>\n",
       "      <td>0</td>\n",
       "      <td>0</td>\n",
       "      <td>0</td>\n",
       "      <td>0</td>\n",
       "      <td>0</td>\n",
       "      <td>0</td>\n",
       "      <td>0</td>\n",
       "      <td>1</td>\n",
       "      <td>0</td>\n",
       "      <td>0</td>\n",
       "    </tr>\n",
       "    <tr>\n",
       "      <th>4</th>\n",
       "      <td>52.370545</td>\n",
       "      <td>4.888644</td>\n",
       "      <td>0</td>\n",
       "      <td>1.004073</td>\n",
       "      <td>1.000000</td>\n",
       "      <td>-0.428571</td>\n",
       "      <td>1.041191</td>\n",
       "      <td>-0.235294</td>\n",
       "      <td>-0.142857</td>\n",
       "      <td>0.258523</td>\n",
       "      <td>0.0</td>\n",
       "      <td>-0.4</td>\n",
       "      <td>0.000000</td>\n",
       "      <td>-0.50</td>\n",
       "      <td>0</td>\n",
       "      <td>0</td>\n",
       "      <td>0</td>\n",
       "      <td>0</td>\n",
       "      <td>0</td>\n",
       "      <td>0</td>\n",
       "      <td>0</td>\n",
       "      <td>0</td>\n",
       "      <td>0</td>\n",
       "      <td>0</td>\n",
       "      <td>0</td>\n",
       "      <td>0</td>\n",
       "      <td>1</td>\n",
       "      <td>0</td>\n",
       "      <td>0</td>\n",
       "      <td>0</td>\n",
       "      <td>0</td>\n",
       "      <td>0</td>\n",
       "      <td>1</td>\n",
       "      <td>0</td>\n",
       "      <td>0</td>\n",
       "      <td>1</td>\n",
       "      <td>0</td>\n",
       "      <td>0</td>\n",
       "      <td>0</td>\n",
       "      <td>0</td>\n",
       "      <td>0</td>\n",
       "      <td>0</td>\n",
       "      <td>1</td>\n",
       "      <td>1</td>\n",
       "      <td>0</td>\n",
       "      <td>0</td>\n",
       "      <td>0</td>\n",
       "      <td>0</td>\n",
       "      <td>0</td>\n",
       "      <td>0</td>\n",
       "      <td>1</td>\n",
       "      <td>0</td>\n",
       "      <td>1</td>\n",
       "      <td>0</td>\n",
       "      <td>0</td>\n",
       "      <td>0</td>\n",
       "      <td>0</td>\n",
       "      <td>0</td>\n",
       "      <td>0</td>\n",
       "    </tr>\n",
       "  </tbody>\n",
       "</table>\n",
       "</div>"
      ],
      "text/plain": [
       "         lat       lng  nationality_same_as_country  \\\n",
       "0  45.533137  9.171102                            0   \n",
       "1  52.385649  4.834443                            0   \n",
       "2  41.393192  2.161520                            0   \n",
       "3  45.479888  9.196298                            0   \n",
       "4  52.370545  4.888644                            0   \n",
       "\n",
       "   additional_number_of_scoring  average_score  \\\n",
       "0                      1.146640      -0.428571   \n",
       "1                      0.551935       0.285714   \n",
       "2                     -0.600815      -0.142857   \n",
       "3                     -0.203666       1.000000   \n",
       "4                      1.004073       1.000000   \n",
       "\n",
       "   review_total_negative_word_counts  total_number_of_reviews  \\\n",
       "0                           2.047619                 5.928222   \n",
       "1                           0.047619                 1.176183   \n",
       "2                          -0.285714                -0.727162   \n",
       "3                          -0.428571                -0.241028   \n",
       "4                          -0.428571                 1.041191   \n",
       "\n",
       "   review_total_positive_word_counts  \\\n",
       "0                           3.000000   \n",
       "1                          -0.647059   \n",
       "2                          -0.352941   \n",
       "3                           0.941176   \n",
       "4                          -0.235294   \n",
       "\n",
       "   total_number_of_reviews_reviewer_has_given  days_since_review  stay_length  \\\n",
       "0                                   -0.285714          -0.965909          0.0   \n",
       "1                                    0.571429          -0.338068         -0.5   \n",
       "2                                    1.714286           0.747159         -0.5   \n",
       "3                                    0.857143           0.860795         -0.5   \n",
       "4                                   -0.142857           0.258523          0.0   \n",
       "\n",
       "   review_month  review_day  review_weekday  reviewer_nationality_Australia  \\\n",
       "0           0.0    0.333333            0.50                               0   \n",
       "1           1.0   -0.266667           -0.50                               0   \n",
       "2           0.8    0.666667            0.25                               0   \n",
       "3           0.6    0.066667            0.75                               0   \n",
       "4          -0.4    0.000000           -0.50                               0   \n",
       "\n",
       "   reviewer_nationality_Belgium  reviewer_nationality_Canada  \\\n",
       "0                             0                            0   \n",
       "1                             1                            0   \n",
       "2                             0                            0   \n",
       "3                             0                            0   \n",
       "4                             0                            0   \n",
       "\n",
       "   reviewer_nationality_France  reviewer_nationality_Germany  \\\n",
       "0                            0                             0   \n",
       "1                            0                             0   \n",
       "2                            0                             0   \n",
       "3                            0                             0   \n",
       "4                            0                             0   \n",
       "\n",
       "   reviewer_nationality_Ireland  reviewer_nationality_Israel  \\\n",
       "0                             0                            0   \n",
       "1                             0                            0   \n",
       "2                             0                            0   \n",
       "3                             0                            0   \n",
       "4                             0                            0   \n",
       "\n",
       "   reviewer_nationality_Italy  reviewer_nationality_Netherlands  \\\n",
       "0                           0                                 0   \n",
       "1                           0                                 0   \n",
       "2                           0                                 0   \n",
       "3                           0                                 0   \n",
       "4                           0                                 0   \n",
       "\n",
       "   reviewer_nationality_Saudi Arabia  reviewer_nationality_Switzerland  \\\n",
       "0                                  0                                 0   \n",
       "1                                  0                                 0   \n",
       "2                                  0                                 0   \n",
       "3                                  0                                 0   \n",
       "4                                  0                                 0   \n",
       "\n",
       "   reviewer_nationality_United Arab Emirates  \\\n",
       "0                                          0   \n",
       "1                                          0   \n",
       "2                                          0   \n",
       "3                                          0   \n",
       "4                                          0   \n",
       "\n",
       "   reviewer_nationality_United Kingdom  \\\n",
       "0                                    1   \n",
       "1                                    0   \n",
       "2                                    0   \n",
       "3                                    0   \n",
       "4                                    1   \n",
       "\n",
       "   reviewer_nationality_United States of America  reviewer_nationality_other  \\\n",
       "0                                              0                           0   \n",
       "1                                              0                           0   \n",
       "2                                              0                           1   \n",
       "3                                              1                           0   \n",
       "4                                              0                           0   \n",
       "\n",
       "   country_Austria  country_France  country_Italy  country_Netherlands  \\\n",
       "0                0               0              1                    0   \n",
       "1                0               0              0                    1   \n",
       "2                0               0              0                    0   \n",
       "3                0               0              1                    0   \n",
       "4                0               0              0                    1   \n",
       "\n",
       "   country_Spain  country_United Kingdom  city_Amsterdam  city_Barcelona  \\\n",
       "0              0                       0               0               0   \n",
       "1              0                       0               1               0   \n",
       "2              1                       0               0               1   \n",
       "3              0                       0               0               0   \n",
       "4              0                       0               1               0   \n",
       "\n",
       "   city_London  city_Milan  city_Paris  city_Vienna  clas_neg_review_neg  \\\n",
       "0            0           1           0            0                    0   \n",
       "1            0           0           0            0                    1   \n",
       "2            0           0           0            0                    0   \n",
       "3            0           1           0            0                    0   \n",
       "4            0           0           0            0                    0   \n",
       "\n",
       "   clas_neg_review_pos  clas_pos_review_neg  clas_pos_review_pos  \\\n",
       "0                    1                    0                    1   \n",
       "1                    0                    1                    0   \n",
       "2                    1                    1                    0   \n",
       "3                    1                    0                    1   \n",
       "4                    1                    1                    0   \n",
       "\n",
       "   traveller_type_ Couple  traveller_type_ Family with older children  \\\n",
       "0                       1                                           0   \n",
       "1                       0                                           0   \n",
       "2                       0                                           0   \n",
       "3                       1                                           0   \n",
       "4                       0                                           0   \n",
       "\n",
       "   traveller_type_ Family with young children  traveller_type_ Group  \\\n",
       "0                                           0                      0   \n",
       "1                                           0                      1   \n",
       "2                                           0                      0   \n",
       "3                                           0                      0   \n",
       "4                                           0                      0   \n",
       "\n",
       "   traveller_type_ Other  traveller_type_ Solo traveler  \\\n",
       "0                      0                              0   \n",
       "1                      0                              0   \n",
       "2                      0                              1   \n",
       "3                      0                              0   \n",
       "4                      0                              1   \n",
       "\n",
       "   traveller_type_ Travelers with friends  trip_type_Business trip  \\\n",
       "0                                       0                        0   \n",
       "1                                       0                        0   \n",
       "2                                       0                        1   \n",
       "3                                       0                        0   \n",
       "4                                       0                        1   \n",
       "\n",
       "   trip_type_Couple  trip_type_Family  trip_type_Group  \\\n",
       "0                 0                 0                0   \n",
       "1                 0                 0                0   \n",
       "2                 0                 0                0   \n",
       "3                 0                 0                0   \n",
       "4                 0                 0                0   \n",
       "\n",
       "   trip_type_Leisure trip  trip_type_Solo traveler  trip_type_With a pet  \n",
       "0                       1                        0                     0  \n",
       "1                       1                        0                     0  \n",
       "2                       0                        0                     0  \n",
       "3                       1                        0                     0  \n",
       "4                       0                        0                     0  "
      ]
     },
     "execution_count": 77,
     "metadata": {},
     "output_type": "execute_result"
    }
   ],
   "source": [
    "test_data = test_data.drop(['reviewer_score'], axis=1)\n",
    "test_data.head()"
   ]
  },
  {
   "cell_type": "code",
   "execution_count": 76,
   "id": "786e0036",
   "metadata": {
    "execution": {
     "iopub.execute_input": "2022-12-17T10:57:19.302890Z",
     "iopub.status.busy": "2022-12-17T10:57:19.301953Z",
     "iopub.status.idle": "2022-12-17T10:57:19.306092Z",
     "shell.execute_reply": "2022-12-17T10:57:19.305512Z",
     "shell.execute_reply.started": "2022-12-17T10:48:03.872842Z"
    },
    "papermill": {
     "duration": 0.073649,
     "end_time": "2022-12-17T10:57:19.306247",
     "exception": false,
     "start_time": "2022-12-17T10:57:19.232598",
     "status": "completed"
    },
    "tags": []
   },
   "outputs": [
    {
     "data": {
      "text/html": [
       "<div>\n",
       "<style scoped>\n",
       "    .dataframe tbody tr th:only-of-type {\n",
       "        vertical-align: middle;\n",
       "    }\n",
       "\n",
       "    .dataframe tbody tr th {\n",
       "        vertical-align: top;\n",
       "    }\n",
       "\n",
       "    .dataframe thead th {\n",
       "        text-align: right;\n",
       "    }\n",
       "</style>\n",
       "<table border=\"1\" class=\"dataframe\">\n",
       "  <thead>\n",
       "    <tr style=\"text-align: right;\">\n",
       "      <th></th>\n",
       "      <th>reviewer_score</th>\n",
       "      <th>id</th>\n",
       "    </tr>\n",
       "  </thead>\n",
       "  <tbody>\n",
       "    <tr>\n",
       "      <th>0</th>\n",
       "      <td>1</td>\n",
       "      <td>488440</td>\n",
       "    </tr>\n",
       "    <tr>\n",
       "      <th>1</th>\n",
       "      <td>10</td>\n",
       "      <td>274649</td>\n",
       "    </tr>\n",
       "    <tr>\n",
       "      <th>2</th>\n",
       "      <td>3</td>\n",
       "      <td>374688</td>\n",
       "    </tr>\n",
       "    <tr>\n",
       "      <th>3</th>\n",
       "      <td>10</td>\n",
       "      <td>404352</td>\n",
       "    </tr>\n",
       "    <tr>\n",
       "      <th>4</th>\n",
       "      <td>9</td>\n",
       "      <td>451596</td>\n",
       "    </tr>\n",
       "  </tbody>\n",
       "</table>\n",
       "</div>"
      ],
      "text/plain": [
       "   reviewer_score      id\n",
       "0               1  488440\n",
       "1              10  274649\n",
       "2               3  374688\n",
       "3              10  404352\n",
       "4               9  451596"
      ]
     },
     "execution_count": 76,
     "metadata": {},
     "output_type": "execute_result"
    }
   ],
   "source": [
    "# required submission format\n",
    "sample_submission.head()"
   ]
  },
  {
   "cell_type": "code",
   "execution_count": 82,
   "id": "0994b26e",
   "metadata": {
    "execution": {
     "iopub.execute_input": "2022-12-17T10:57:19.435920Z",
     "iopub.status.busy": "2022-12-17T10:57:19.434441Z",
     "iopub.status.idle": "2022-12-17T10:57:22.274467Z",
     "shell.execute_reply": "2022-12-17T10:57:22.273532Z",
     "shell.execute_reply.started": "2022-12-17T10:48:03.889925Z"
    },
    "papermill": {
     "duration": 2.908803,
     "end_time": "2022-12-17T10:57:22.274678",
     "exception": false,
     "start_time": "2022-12-17T10:57:19.365875",
     "status": "completed"
    },
    "tags": []
   },
   "outputs": [
    {
     "data": {
      "text/plain": [
       "array([ 9,  8,  8, ...,  8, 10,  7])"
      ]
     },
     "execution_count": 82,
     "metadata": {},
     "output_type": "execute_result"
    }
   ],
   "source": [
    "# Loading previously saved model\n",
    "gb_loaded = load(os.path.join(model_path, 'model.pkl'))\n",
    "\n",
    "predict_submission = gb_loaded.predict(test_data).round().astype('int')\n",
    "predict_submission"
   ]
  },
  {
   "cell_type": "code",
   "execution_count": 97,
   "id": "dfd1f104",
   "metadata": {
    "execution": {
     "iopub.execute_input": "2022-12-17T10:57:22.662187Z",
     "iopub.status.busy": "2022-12-17T10:57:22.660949Z",
     "iopub.status.idle": "2022-12-17T10:57:22.950664Z",
     "shell.execute_reply": "2022-12-17T10:57:22.951243Z",
     "shell.execute_reply.started": "2022-12-17T10:48:06.664084Z"
    },
    "papermill": {
     "duration": 0.354252,
     "end_time": "2022-12-17T10:57:22.951470",
     "exception": false,
     "start_time": "2022-12-17T10:57:22.597218",
     "status": "completed"
    },
    "tags": []
   },
   "outputs": [
    {
     "data": {
      "text/html": [
       "<div>\n",
       "<style scoped>\n",
       "    .dataframe tbody tr th:only-of-type {\n",
       "        vertical-align: middle;\n",
       "    }\n",
       "\n",
       "    .dataframe tbody tr th {\n",
       "        vertical-align: top;\n",
       "    }\n",
       "\n",
       "    .dataframe thead th {\n",
       "        text-align: right;\n",
       "    }\n",
       "</style>\n",
       "<table border=\"1\" class=\"dataframe\">\n",
       "  <thead>\n",
       "    <tr style=\"text-align: right;\">\n",
       "      <th></th>\n",
       "      <th>reviewer_score</th>\n",
       "      <th>id</th>\n",
       "    </tr>\n",
       "  </thead>\n",
       "  <tbody>\n",
       "    <tr>\n",
       "      <th>0</th>\n",
       "      <td>9</td>\n",
       "      <td>488440</td>\n",
       "    </tr>\n",
       "    <tr>\n",
       "      <th>1</th>\n",
       "      <td>8</td>\n",
       "      <td>274649</td>\n",
       "    </tr>\n",
       "  </tbody>\n",
       "</table>\n",
       "</div>"
      ],
      "text/plain": [
       "   reviewer_score      id\n",
       "0               9  488440\n",
       "1               8  274649"
      ]
     },
     "execution_count": 97,
     "metadata": {},
     "output_type": "execute_result"
    }
   ],
   "source": [
    "# save submission\n",
    "sample_submission['reviewer_score'] = predict_submission\n",
    "sample_submission.to_csv(data_dir + 'submission_alex_1.zip', index=False)\n",
    "sample_submission.head(2)"
   ]
  },
  {
   "attachments": {},
   "cell_type": "markdown",
   "id": "930920ef",
   "metadata": {},
   "source": [
    "# Results check manually"
   ]
  },
  {
   "cell_type": "code",
   "execution_count": 85,
   "id": "9becf626",
   "metadata": {},
   "outputs": [
    {
     "data": {
      "text/plain": [
       "20.03102378490176"
      ]
     },
     "execution_count": 85,
     "metadata": {},
     "output_type": "execute_result"
    }
   ],
   "source": [
    "num_count = len(y_pred_gb)\n",
    "true_count = np.sum(np.where(y_pred_gb.round(0)==y_valid[1:].round(0), 1, 0))\n",
    "res = true_count/num_count*100\n",
    "res"
   ]
  },
  {
   "cell_type": "code",
   "execution_count": 86,
   "id": "8bc55932",
   "metadata": {},
   "outputs": [
    {
     "data": {
      "text/html": [
       "<div>\n",
       "<style scoped>\n",
       "    .dataframe tbody tr th:only-of-type {\n",
       "        vertical-align: middle;\n",
       "    }\n",
       "\n",
       "    .dataframe tbody tr th {\n",
       "        vertical-align: top;\n",
       "    }\n",
       "\n",
       "    .dataframe thead th {\n",
       "        text-align: right;\n",
       "    }\n",
       "</style>\n",
       "<table border=\"1\" class=\"dataframe\">\n",
       "  <thead>\n",
       "    <tr style=\"text-align: right;\">\n",
       "      <th></th>\n",
       "      <th>y</th>\n",
       "      <th>y_pred</th>\n",
       "    </tr>\n",
       "  </thead>\n",
       "  <tbody>\n",
       "    <tr>\n",
       "      <th>0</th>\n",
       "      <td>10.0</td>\n",
       "      <td>10.0</td>\n",
       "    </tr>\n",
       "    <tr>\n",
       "      <th>1</th>\n",
       "      <td>5.0</td>\n",
       "      <td>9.0</td>\n",
       "    </tr>\n",
       "    <tr>\n",
       "      <th>2</th>\n",
       "      <td>10.0</td>\n",
       "      <td>9.0</td>\n",
       "    </tr>\n",
       "    <tr>\n",
       "      <th>3</th>\n",
       "      <td>5.0</td>\n",
       "      <td>7.0</td>\n",
       "    </tr>\n",
       "    <tr>\n",
       "      <th>...</th>\n",
       "      <td>...</td>\n",
       "      <td>...</td>\n",
       "    </tr>\n",
       "    <tr>\n",
       "      <th>38676</th>\n",
       "      <td>9.0</td>\n",
       "      <td>9.0</td>\n",
       "    </tr>\n",
       "    <tr>\n",
       "      <th>38677</th>\n",
       "      <td>8.0</td>\n",
       "      <td>9.0</td>\n",
       "    </tr>\n",
       "    <tr>\n",
       "      <th>38678</th>\n",
       "      <td>10.0</td>\n",
       "      <td>10.0</td>\n",
       "    </tr>\n",
       "    <tr>\n",
       "      <th>38679</th>\n",
       "      <td>8.0</td>\n",
       "      <td>10.0</td>\n",
       "    </tr>\n",
       "  </tbody>\n",
       "</table>\n",
       "<p>38680 rows × 2 columns</p>\n",
       "</div>"
      ],
      "text/plain": [
       "          y  y_pred\n",
       "0      10.0    10.0\n",
       "1       5.0     9.0\n",
       "2      10.0     9.0\n",
       "3       5.0     7.0\n",
       "...     ...     ...\n",
       "38676   9.0     9.0\n",
       "38677   8.0     9.0\n",
       "38678  10.0    10.0\n",
       "38679   8.0    10.0\n",
       "\n",
       "[38680 rows x 2 columns]"
      ]
     },
     "execution_count": 86,
     "metadata": {},
     "output_type": "execute_result"
    }
   ],
   "source": [
    "check_df = pd.DataFrame({'y':y_valid[1:].round(0), 'y_pred':y_pred_gb.round(0)}) #'hotel_index':X_valid.reset_index()['index'][1:], \n",
    "check_df"
   ]
  },
  {
   "cell_type": "code",
   "execution_count": null,
   "id": "77503852",
   "metadata": {},
   "outputs": [],
   "source": [
    "#check_df['comp'] = check_df.apply(lambda x: 'yes' if x['y']==x['y_pred'] else 'no')"
   ]
  },
  {
   "cell_type": "code",
   "execution_count": 87,
   "id": "dfb83826",
   "metadata": {},
   "outputs": [],
   "source": [
    "# from sklearn.model_selection import learning_curve, LearningCurveDisplay\n",
    "# LearningCurveDisplay.from_estimator(gb, X_train, y_train,  cv=5); #train_sizes=[100, 80, 1500]"
   ]
  }
 ],
 "metadata": {
  "kernelspec": {
   "display_name": "Python 3.10.7 64-bit",
   "language": "python",
   "name": "python3"
  },
  "language_info": {
   "codemirror_mode": {
    "name": "ipython",
    "version": 3
   },
   "file_extension": ".py",
   "mimetype": "text/x-python",
   "name": "python",
   "nbconvert_exporter": "python",
   "pygments_lexer": "ipython3",
   "version": "3.10.7"
  },
  "papermill": {
   "default_parameters": {},
   "duration": 171.211998,
   "end_time": "2022-12-17T10:57:24.125535",
   "environment_variables": {},
   "exception": null,
   "input_path": "__notebook__.ipynb",
   "output_path": "__notebook__.ipynb",
   "parameters": {},
   "start_time": "2022-12-17T10:54:32.913537",
   "version": "2.3.3"
  },
  "vscode": {
   "interpreter": {
    "hash": "26de051ba29f2982a8de78e945f0abaf191376122a1563185a90213a26c5da77"
   }
  }
 },
 "nbformat": 4,
 "nbformat_minor": 5
}
