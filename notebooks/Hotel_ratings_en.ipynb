{
 "cells": [
  {
   "attachments": {},
   "cell_type": "markdown",
   "id": "16663183",
   "metadata": {},
   "source": [
    "# Hotel rating prediction"
   ]
  },
  {
   "cell_type": "code",
   "execution_count": 124,
   "id": "340f43dd",
   "metadata": {
    "_cell_guid": "b1076dfc-b9ad-4769-8c92-a6c4dae69d19",
    "_uuid": "8f2839f25d086af736a60e9eeb907d3b93b6e0e5",
    "execution": {
     "iopub.execute_input": "2022-12-17T10:54:44.618594Z",
     "iopub.status.busy": "2022-12-17T10:54:44.617226Z",
     "iopub.status.idle": "2022-12-17T10:54:46.224105Z",
     "shell.execute_reply": "2022-12-17T10:54:46.224636Z",
     "shell.execute_reply.started": "2022-12-17T10:45:42.110352Z"
    },
    "papermill": {
     "duration": 1.65776,
     "end_time": "2022-12-17T10:54:46.225008",
     "exception": false,
     "start_time": "2022-12-17T10:54:44.567248",
     "status": "completed"
    },
    "tags": []
   },
   "outputs": [],
   "source": [
    "# import main librariees\n",
    "import numpy as np \n",
    "import pandas as pd \n",
    "from IPython.display import clear_output\n",
    "import os, sys, time, json, re\n",
    "\n",
    "# set random seed\n",
    "random_seed = 42\n",
    "\n",
    "# Graphical libraries\n",
    "import matplotlib.pyplot as plt\n",
    "import seaborn as sns \n",
    "import plotly.express as px\n",
    "%matplotlib inline\n",
    "\n",
    "# nlp processing\n",
    "import nltk \n",
    "from nltk.sentiment.vader import SentimentIntensityAnalyzer\n",
    "from textblob import Blobber\n",
    "from textblob.sentiments import NaiveBayesAnalyzer\n",
    "\n",
    "# ML libraries\n",
    "from sklearn import ensemble\n",
    "from sklearn.ensemble import RandomForestRegressor,StackingRegressor \n",
    "from sklearn import metrics # \n",
    "from sklearn import preprocessing\n",
    "from sklearn.model_selection import train_test_split, KFold, cross_validate, cross_val_predict, RandomizedSearchCV, StratifiedKFold\n",
    "import pickle\n",
    "import joblib\n",
    "import optuna\n",
    "\n",
    "from sklearn.linear_model import RidgeCV, LinearRegression\n",
    "from sklearn.tree import DecisionTreeRegressor\n",
    "\n",
    "!pip freeze > requirements.txt"
   ]
  },
  {
   "cell_type": "code",
   "execution_count": 125,
   "id": "c4a4d345",
   "metadata": {
    "execution": {
     "iopub.execute_input": "2022-12-17T10:54:52.072338Z",
     "iopub.status.busy": "2022-12-17T10:54:52.071496Z",
     "iopub.status.idle": "2022-12-17T10:54:58.542877Z",
     "shell.execute_reply": "2022-12-17T10:54:58.542106Z",
     "shell.execute_reply.started": "2022-12-17T10:45:48.284558Z"
    },
    "papermill": {
     "duration": 6.52284,
     "end_time": "2022-12-17T10:54:58.543055",
     "exception": false,
     "start_time": "2022-12-17T10:54:52.020215",
     "status": "completed"
    },
    "tags": []
   },
   "outputs": [],
   "source": [
    "#set path\n",
    "sys.path.insert(1, '../')\n",
    "\n",
    "from utils.config_reader import config_reader\n",
    "\n",
    "# custom functions\n",
    "from utils.functions import get_address, get_neutral_from_negative, \\\n",
    "    get_traveller, get_trip_type, get_stay_length, get_room_type_prep, get_room_type\n",
    "\n",
    "# Import parameters\n",
    "config = config_reader('../config/config.json')\n",
    "\n",
    "# set data folder path\n",
    "data_dir = config.data_dir\n",
    "\n",
    "if not sys.warnoptions:\n",
    "    import warnings\n",
    "    warnings.simplefilter(\"ignore\")\n",
    "    \n",
    "df_train = pd.read_csv(data_dir + 'hotels.zip') # train\n",
    "df_test = pd.read_csv(data_dir+'hotels_test.zip') # test\n",
    "sample_submission = pd.read_csv(data_dir+'submission.zip') # submission"
   ]
  },
  {
   "cell_type": "code",
   "execution_count": 126,
   "id": "b033338a",
   "metadata": {
    "execution": {
     "iopub.execute_input": "2022-12-17T10:54:58.644692Z",
     "iopub.status.busy": "2022-12-17T10:54:58.643991Z",
     "iopub.status.idle": "2022-12-17T10:54:58.834144Z",
     "shell.execute_reply": "2022-12-17T10:54:58.833080Z",
     "shell.execute_reply.started": "2022-12-17T10:45:54.777224Z"
    },
    "papermill": {
     "duration": 0.244785,
     "end_time": "2022-12-17T10:54:58.834601",
     "exception": false,
     "start_time": "2022-12-17T10:54:58.589816",
     "status": "completed"
    },
    "tags": []
   },
   "outputs": [
    {
     "name": "stdout",
     "output_type": "stream",
     "text": [
      "<class 'pandas.core.frame.DataFrame'>\n",
      "RangeIndex: 386803 entries, 0 to 386802\n",
      "Data columns (total 17 columns):\n",
      " #   Column                                      Non-Null Count   Dtype  \n",
      "---  ------                                      --------------   -----  \n",
      " 0   hotel_address                               386803 non-null  object \n",
      " 1   additional_number_of_scoring                386803 non-null  int64  \n",
      " 2   review_date                                 386803 non-null  object \n",
      " 3   average_score                               386803 non-null  float64\n",
      " 4   hotel_name                                  386803 non-null  object \n",
      " 5   reviewer_nationality                        386803 non-null  object \n",
      " 6   negative_review                             386803 non-null  object \n",
      " 7   review_total_negative_word_counts           386803 non-null  int64  \n",
      " 8   total_number_of_reviews                     386803 non-null  int64  \n",
      " 9   positive_review                             386803 non-null  object \n",
      " 10  review_total_positive_word_counts           386803 non-null  int64  \n",
      " 11  total_number_of_reviews_reviewer_has_given  386803 non-null  int64  \n",
      " 12  reviewer_score                              386803 non-null  float64\n",
      " 13  tags                                        386803 non-null  object \n",
      " 14  days_since_review                           386803 non-null  object \n",
      " 15  lat                                         384355 non-null  float64\n",
      " 16  lng                                         384355 non-null  float64\n",
      "dtypes: float64(4), int64(5), object(8)\n",
      "memory usage: 50.2+ MB\n"
     ]
    }
   ],
   "source": [
    "df_train.info()"
   ]
  },
  {
   "cell_type": "code",
   "execution_count": 127,
   "id": "ebf44de5",
   "metadata": {
    "execution": {
     "iopub.execute_input": "2022-12-17T10:54:58.938016Z",
     "iopub.status.busy": "2022-12-17T10:54:58.937193Z",
     "iopub.status.idle": "2022-12-17T10:54:58.960900Z",
     "shell.execute_reply": "2022-12-17T10:54:58.961466Z",
     "shell.execute_reply.started": "2022-12-17T10:45:54.968554Z"
    },
    "papermill": {
     "duration": 0.080218,
     "end_time": "2022-12-17T10:54:58.961660",
     "exception": false,
     "start_time": "2022-12-17T10:54:58.881442",
     "status": "completed"
    },
    "tags": []
   },
   "outputs": [
    {
     "data": {
      "text/html": [
       "<div>\n",
       "<style scoped>\n",
       "    .dataframe tbody tr th:only-of-type {\n",
       "        vertical-align: middle;\n",
       "    }\n",
       "\n",
       "    .dataframe tbody tr th {\n",
       "        vertical-align: top;\n",
       "    }\n",
       "\n",
       "    .dataframe thead th {\n",
       "        text-align: right;\n",
       "    }\n",
       "</style>\n",
       "<table border=\"1\" class=\"dataframe\">\n",
       "  <thead>\n",
       "    <tr style=\"text-align: right;\">\n",
       "      <th></th>\n",
       "      <th>hotel_address</th>\n",
       "      <th>additional_number_of_scoring</th>\n",
       "      <th>review_date</th>\n",
       "      <th>average_score</th>\n",
       "      <th>hotel_name</th>\n",
       "      <th>reviewer_nationality</th>\n",
       "      <th>negative_review</th>\n",
       "      <th>review_total_negative_word_counts</th>\n",
       "      <th>total_number_of_reviews</th>\n",
       "      <th>positive_review</th>\n",
       "      <th>review_total_positive_word_counts</th>\n",
       "      <th>total_number_of_reviews_reviewer_has_given</th>\n",
       "      <th>reviewer_score</th>\n",
       "      <th>tags</th>\n",
       "      <th>days_since_review</th>\n",
       "      <th>lat</th>\n",
       "      <th>lng</th>\n",
       "    </tr>\n",
       "  </thead>\n",
       "  <tbody>\n",
       "    <tr>\n",
       "      <th>0</th>\n",
       "      <td>Stratton Street Mayfair Westminster Borough Lo...</td>\n",
       "      <td>581</td>\n",
       "      <td>2/19/2016</td>\n",
       "      <td>8.4</td>\n",
       "      <td>The May Fair Hotel</td>\n",
       "      <td>United Kingdom</td>\n",
       "      <td>Leaving</td>\n",
       "      <td>3</td>\n",
       "      <td>1994</td>\n",
       "      <td>Staff were amazing</td>\n",
       "      <td>4</td>\n",
       "      <td>7</td>\n",
       "      <td>10.0</td>\n",
       "      <td>[' Leisure trip ', ' Couple ', ' Studio Suite ...</td>\n",
       "      <td>531 day</td>\n",
       "      <td>51.507894</td>\n",
       "      <td>-0.143671</td>\n",
       "    </tr>\n",
       "    <tr>\n",
       "      <th>1</th>\n",
       "      <td>130 134 Southampton Row Camden London WC1B 5AF...</td>\n",
       "      <td>299</td>\n",
       "      <td>1/12/2017</td>\n",
       "      <td>8.3</td>\n",
       "      <td>Mercure London Bloomsbury Hotel</td>\n",
       "      <td>United Kingdom</td>\n",
       "      <td>poor breakfast</td>\n",
       "      <td>3</td>\n",
       "      <td>1361</td>\n",
       "      <td>location</td>\n",
       "      <td>2</td>\n",
       "      <td>14</td>\n",
       "      <td>6.3</td>\n",
       "      <td>[' Business trip ', ' Couple ', ' Standard Dou...</td>\n",
       "      <td>203 day</td>\n",
       "      <td>51.521009</td>\n",
       "      <td>-0.123097</td>\n",
       "    </tr>\n",
       "  </tbody>\n",
       "</table>\n",
       "</div>"
      ],
      "text/plain": [
       "                                       hotel_address  \\\n",
       "0  Stratton Street Mayfair Westminster Borough Lo...   \n",
       "1  130 134 Southampton Row Camden London WC1B 5AF...   \n",
       "\n",
       "   additional_number_of_scoring review_date  average_score  \\\n",
       "0                           581   2/19/2016            8.4   \n",
       "1                           299   1/12/2017            8.3   \n",
       "\n",
       "                        hotel_name reviewer_nationality  negative_review  \\\n",
       "0               The May Fair Hotel      United Kingdom          Leaving    \n",
       "1  Mercure London Bloomsbury Hotel      United Kingdom    poor breakfast   \n",
       "\n",
       "   review_total_negative_word_counts  total_number_of_reviews  \\\n",
       "0                                  3                     1994   \n",
       "1                                  3                     1361   \n",
       "\n",
       "       positive_review  review_total_positive_word_counts  \\\n",
       "0   Staff were amazing                                  4   \n",
       "1             location                                  2   \n",
       "\n",
       "   total_number_of_reviews_reviewer_has_given  reviewer_score  \\\n",
       "0                                           7            10.0   \n",
       "1                                          14             6.3   \n",
       "\n",
       "                                                tags days_since_review  \\\n",
       "0  [' Leisure trip ', ' Couple ', ' Studio Suite ...           531 day   \n",
       "1  [' Business trip ', ' Couple ', ' Standard Dou...           203 day   \n",
       "\n",
       "         lat       lng  \n",
       "0  51.507894 -0.143671  \n",
       "1  51.521009 -0.123097  "
      ]
     },
     "execution_count": 127,
     "metadata": {},
     "output_type": "execute_result"
    }
   ],
   "source": [
    "df_train.head(2)"
   ]
  },
  {
   "cell_type": "code",
   "execution_count": 128,
   "id": "f6f2fd75",
   "metadata": {
    "execution": {
     "iopub.execute_input": "2022-12-17T10:54:59.060175Z",
     "iopub.status.busy": "2022-12-17T10:54:59.059172Z",
     "iopub.status.idle": "2022-12-17T10:54:59.125503Z",
     "shell.execute_reply": "2022-12-17T10:54:59.126067Z",
     "shell.execute_reply.started": "2022-12-17T10:45:54.998705Z"
    },
    "papermill": {
     "duration": 0.117652,
     "end_time": "2022-12-17T10:54:59.126267",
     "exception": false,
     "start_time": "2022-12-17T10:54:59.008615",
     "status": "completed"
    },
    "tags": []
   },
   "outputs": [
    {
     "name": "stdout",
     "output_type": "stream",
     "text": [
      "<class 'pandas.core.frame.DataFrame'>\n",
      "RangeIndex: 128935 entries, 0 to 128934\n",
      "Data columns (total 16 columns):\n",
      " #   Column                                      Non-Null Count   Dtype  \n",
      "---  ------                                      --------------   -----  \n",
      " 0   hotel_address                               128935 non-null  object \n",
      " 1   additional_number_of_scoring                128935 non-null  int64  \n",
      " 2   review_date                                 128935 non-null  object \n",
      " 3   average_score                               128935 non-null  float64\n",
      " 4   hotel_name                                  128935 non-null  object \n",
      " 5   reviewer_nationality                        128935 non-null  object \n",
      " 6   negative_review                             128935 non-null  object \n",
      " 7   review_total_negative_word_counts           128935 non-null  int64  \n",
      " 8   total_number_of_reviews                     128935 non-null  int64  \n",
      " 9   positive_review                             128935 non-null  object \n",
      " 10  review_total_positive_word_counts           128935 non-null  int64  \n",
      " 11  total_number_of_reviews_reviewer_has_given  128935 non-null  int64  \n",
      " 12  tags                                        128935 non-null  object \n",
      " 13  days_since_review                           128935 non-null  object \n",
      " 14  lat                                         128115 non-null  float64\n",
      " 15  lng                                         128115 non-null  float64\n",
      "dtypes: float64(3), int64(5), object(8)\n",
      "memory usage: 15.7+ MB\n"
     ]
    }
   ],
   "source": [
    "df_test.info()"
   ]
  },
  {
   "cell_type": "code",
   "execution_count": 129,
   "id": "6a6d0f1c",
   "metadata": {
    "execution": {
     "iopub.execute_input": "2022-12-17T10:54:59.235880Z",
     "iopub.status.busy": "2022-12-17T10:54:59.234878Z",
     "iopub.status.idle": "2022-12-17T10:54:59.240037Z",
     "shell.execute_reply": "2022-12-17T10:54:59.239336Z",
     "shell.execute_reply.started": "2022-12-17T10:45:55.071997Z"
    },
    "papermill": {
     "duration": 0.067497,
     "end_time": "2022-12-17T10:54:59.240192",
     "exception": false,
     "start_time": "2022-12-17T10:54:59.172695",
     "status": "completed"
    },
    "tags": []
   },
   "outputs": [
    {
     "data": {
      "text/html": [
       "<div>\n",
       "<style scoped>\n",
       "    .dataframe tbody tr th:only-of-type {\n",
       "        vertical-align: middle;\n",
       "    }\n",
       "\n",
       "    .dataframe tbody tr th {\n",
       "        vertical-align: top;\n",
       "    }\n",
       "\n",
       "    .dataframe thead th {\n",
       "        text-align: right;\n",
       "    }\n",
       "</style>\n",
       "<table border=\"1\" class=\"dataframe\">\n",
       "  <thead>\n",
       "    <tr style=\"text-align: right;\">\n",
       "      <th></th>\n",
       "      <th>hotel_address</th>\n",
       "      <th>additional_number_of_scoring</th>\n",
       "      <th>review_date</th>\n",
       "      <th>average_score</th>\n",
       "      <th>hotel_name</th>\n",
       "      <th>reviewer_nationality</th>\n",
       "      <th>negative_review</th>\n",
       "      <th>review_total_negative_word_counts</th>\n",
       "      <th>total_number_of_reviews</th>\n",
       "      <th>positive_review</th>\n",
       "      <th>review_total_positive_word_counts</th>\n",
       "      <th>total_number_of_reviews_reviewer_has_given</th>\n",
       "      <th>tags</th>\n",
       "      <th>days_since_review</th>\n",
       "      <th>lat</th>\n",
       "      <th>lng</th>\n",
       "    </tr>\n",
       "  </thead>\n",
       "  <tbody>\n",
       "    <tr>\n",
       "      <th>0</th>\n",
       "      <td>Via Senigallia 6 20161 Milan Italy</td>\n",
       "      <td>904</td>\n",
       "      <td>7/21/2017</td>\n",
       "      <td>8.1</td>\n",
       "      <td>Hotel Da Vinci</td>\n",
       "      <td>United Kingdom</td>\n",
       "      <td>Would have appreciated a shop in the hotel th...</td>\n",
       "      <td>52</td>\n",
       "      <td>16670</td>\n",
       "      <td>Hotel was great clean friendly staff free bre...</td>\n",
       "      <td>62</td>\n",
       "      <td>1</td>\n",
       "      <td>[' Leisure trip ', ' Couple ', ' Double Room '...</td>\n",
       "      <td>13 days</td>\n",
       "      <td>45.533137</td>\n",
       "      <td>9.171102</td>\n",
       "    </tr>\n",
       "    <tr>\n",
       "      <th>1</th>\n",
       "      <td>Arlandaweg 10 Westpoort 1043 EW Amsterdam Neth...</td>\n",
       "      <td>612</td>\n",
       "      <td>12/12/2016</td>\n",
       "      <td>8.6</td>\n",
       "      <td>Urban Lodge Hotel</td>\n",
       "      <td>Belgium</td>\n",
       "      <td>No tissue paper box was present at the room</td>\n",
       "      <td>10</td>\n",
       "      <td>5018</td>\n",
       "      <td>No Positive</td>\n",
       "      <td>0</td>\n",
       "      <td>7</td>\n",
       "      <td>[' Leisure trip ', ' Group ', ' Triple Room ',...</td>\n",
       "      <td>234 day</td>\n",
       "      <td>52.385649</td>\n",
       "      <td>4.834443</td>\n",
       "    </tr>\n",
       "  </tbody>\n",
       "</table>\n",
       "</div>"
      ],
      "text/plain": [
       "                                       hotel_address  \\\n",
       "0                 Via Senigallia 6 20161 Milan Italy   \n",
       "1  Arlandaweg 10 Westpoort 1043 EW Amsterdam Neth...   \n",
       "\n",
       "   additional_number_of_scoring review_date  average_score         hotel_name  \\\n",
       "0                           904   7/21/2017            8.1     Hotel Da Vinci   \n",
       "1                           612  12/12/2016            8.6  Urban Lodge Hotel   \n",
       "\n",
       "  reviewer_nationality                                    negative_review  \\\n",
       "0      United Kingdom    Would have appreciated a shop in the hotel th...   \n",
       "1             Belgium         No tissue paper box was present at the room   \n",
       "\n",
       "   review_total_negative_word_counts  total_number_of_reviews  \\\n",
       "0                                 52                    16670   \n",
       "1                                 10                     5018   \n",
       "\n",
       "                                     positive_review  \\\n",
       "0   Hotel was great clean friendly staff free bre...   \n",
       "1                                        No Positive   \n",
       "\n",
       "   review_total_positive_word_counts  \\\n",
       "0                                 62   \n",
       "1                                  0   \n",
       "\n",
       "   total_number_of_reviews_reviewer_has_given  \\\n",
       "0                                           1   \n",
       "1                                           7   \n",
       "\n",
       "                                                tags days_since_review  \\\n",
       "0  [' Leisure trip ', ' Couple ', ' Double Room '...           13 days   \n",
       "1  [' Leisure trip ', ' Group ', ' Triple Room ',...           234 day   \n",
       "\n",
       "         lat       lng  \n",
       "0  45.533137  9.171102  \n",
       "1  52.385649  4.834443  "
      ]
     },
     "execution_count": 129,
     "metadata": {},
     "output_type": "execute_result"
    }
   ],
   "source": [
    "df_test.head(2)"
   ]
  },
  {
   "cell_type": "code",
   "execution_count": 130,
   "id": "6fa2bbfe",
   "metadata": {
    "execution": {
     "iopub.execute_input": "2022-12-17T10:54:59.341584Z",
     "iopub.status.busy": "2022-12-17T10:54:59.340610Z",
     "iopub.status.idle": "2022-12-17T10:54:59.344935Z",
     "shell.execute_reply": "2022-12-17T10:54:59.344327Z",
     "shell.execute_reply.started": "2022-12-17T10:45:55.093454Z"
    },
    "papermill": {
     "duration": 0.058474,
     "end_time": "2022-12-17T10:54:59.345096",
     "exception": false,
     "start_time": "2022-12-17T10:54:59.286622",
     "status": "completed"
    },
    "tags": []
   },
   "outputs": [
    {
     "data": {
      "text/html": [
       "<div>\n",
       "<style scoped>\n",
       "    .dataframe tbody tr th:only-of-type {\n",
       "        vertical-align: middle;\n",
       "    }\n",
       "\n",
       "    .dataframe tbody tr th {\n",
       "        vertical-align: top;\n",
       "    }\n",
       "\n",
       "    .dataframe thead th {\n",
       "        text-align: right;\n",
       "    }\n",
       "</style>\n",
       "<table border=\"1\" class=\"dataframe\">\n",
       "  <thead>\n",
       "    <tr style=\"text-align: right;\">\n",
       "      <th></th>\n",
       "      <th>reviewer_score</th>\n",
       "      <th>id</th>\n",
       "    </tr>\n",
       "  </thead>\n",
       "  <tbody>\n",
       "    <tr>\n",
       "      <th>0</th>\n",
       "      <td>1</td>\n",
       "      <td>488440</td>\n",
       "    </tr>\n",
       "    <tr>\n",
       "      <th>1</th>\n",
       "      <td>10</td>\n",
       "      <td>274649</td>\n",
       "    </tr>\n",
       "    <tr>\n",
       "      <th>2</th>\n",
       "      <td>3</td>\n",
       "      <td>374688</td>\n",
       "    </tr>\n",
       "    <tr>\n",
       "      <th>3</th>\n",
       "      <td>10</td>\n",
       "      <td>404352</td>\n",
       "    </tr>\n",
       "    <tr>\n",
       "      <th>4</th>\n",
       "      <td>9</td>\n",
       "      <td>451596</td>\n",
       "    </tr>\n",
       "  </tbody>\n",
       "</table>\n",
       "</div>"
      ],
      "text/plain": [
       "   reviewer_score      id\n",
       "0               1  488440\n",
       "1              10  274649\n",
       "2               3  374688\n",
       "3              10  404352\n",
       "4               9  451596"
      ]
     },
     "execution_count": 130,
     "metadata": {},
     "output_type": "execute_result"
    }
   ],
   "source": [
    "sample_submission.head()"
   ]
  },
  {
   "cell_type": "code",
   "execution_count": 131,
   "id": "c8c1b2ef",
   "metadata": {},
   "outputs": [
    {
     "data": {
      "text/plain": [
       "5     13079\n",
       "10    13021\n",
       "2     12955\n",
       "6     12940\n",
       "8     12887\n",
       "1     12850\n",
       "9     12829\n",
       "3     12825\n",
       "7     12820\n",
       "4     12729\n",
       "Name: reviewer_score, dtype: int64"
      ]
     },
     "execution_count": 131,
     "metadata": {},
     "output_type": "execute_result"
    }
   ],
   "source": [
    "sample_submission['reviewer_score'].value_counts()"
   ]
  },
  {
   "cell_type": "code",
   "execution_count": 132,
   "id": "ff0237aa",
   "metadata": {
    "execution": {
     "iopub.execute_input": "2022-12-17T10:54:59.446990Z",
     "iopub.status.busy": "2022-12-17T10:54:59.446228Z",
     "iopub.status.idle": "2022-12-17T10:54:59.457035Z",
     "shell.execute_reply": "2022-12-17T10:54:59.457736Z",
     "shell.execute_reply.started": "2022-12-17T10:45:55.113170Z"
    },
    "papermill": {
     "duration": 0.064731,
     "end_time": "2022-12-17T10:54:59.458131",
     "exception": false,
     "start_time": "2022-12-17T10:54:59.393400",
     "status": "completed"
    },
    "tags": []
   },
   "outputs": [
    {
     "name": "stdout",
     "output_type": "stream",
     "text": [
      "<class 'pandas.core.frame.DataFrame'>\n",
      "RangeIndex: 128935 entries, 0 to 128934\n",
      "Data columns (total 2 columns):\n",
      " #   Column          Non-Null Count   Dtype\n",
      "---  ------          --------------   -----\n",
      " 0   reviewer_score  128935 non-null  int64\n",
      " 1   id              128935 non-null  int64\n",
      "dtypes: int64(2)\n",
      "memory usage: 2.0 MB\n"
     ]
    }
   ],
   "source": [
    "sample_submission.info()"
   ]
  },
  {
   "cell_type": "code",
   "execution_count": 133,
   "id": "9c85fb78",
   "metadata": {},
   "outputs": [],
   "source": [
    "# Lets mark train and test data\n",
    "df_train['sample'] = 1 # train  \n",
    "df_test['sample'] = 0  # test\n",
    "\n",
    "# let us create target feature in test data\n",
    "df_test['reviewer_score'] = 0 # fill with zeros\n",
    "\n",
    "# join train and test data for prediction\n",
    "data = df_test.append(df_train, sort=False).reset_index(drop=True) \n",
    "\n",
    "# Drop useless feature\n",
    "data.drop(['hotel_name'], axis=1, inplace=True)"
   ]
  },
  {
   "cell_type": "code",
   "execution_count": 134,
   "id": "079d6cb8",
   "metadata": {
    "execution": {
     "iopub.execute_input": "2022-12-17T10:55:00.249373Z",
     "iopub.status.busy": "2022-12-17T10:55:00.248125Z",
     "iopub.status.idle": "2022-12-17T10:55:00.470109Z",
     "shell.execute_reply": "2022-12-17T10:55:00.469373Z",
     "shell.execute_reply.started": "2022-12-17T10:45:55.716797Z"
    },
    "papermill": {
     "duration": 0.276908,
     "end_time": "2022-12-17T10:55:00.470275",
     "exception": false,
     "start_time": "2022-12-17T10:55:00.193367",
     "status": "completed"
    },
    "tags": []
   },
   "outputs": [
    {
     "name": "stdout",
     "output_type": "stream",
     "text": [
      "<class 'pandas.core.frame.DataFrame'>\n",
      "RangeIndex: 515738 entries, 0 to 515737\n",
      "Data columns (total 17 columns):\n",
      " #   Column                                      Non-Null Count   Dtype  \n",
      "---  ------                                      --------------   -----  \n",
      " 0   hotel_address                               515738 non-null  object \n",
      " 1   additional_number_of_scoring                515738 non-null  int64  \n",
      " 2   review_date                                 515738 non-null  object \n",
      " 3   average_score                               515738 non-null  float64\n",
      " 4   reviewer_nationality                        515738 non-null  object \n",
      " 5   negative_review                             515738 non-null  object \n",
      " 6   review_total_negative_word_counts           515738 non-null  int64  \n",
      " 7   total_number_of_reviews                     515738 non-null  int64  \n",
      " 8   positive_review                             515738 non-null  object \n",
      " 9   review_total_positive_word_counts           515738 non-null  int64  \n",
      " 10  total_number_of_reviews_reviewer_has_given  515738 non-null  int64  \n",
      " 11  tags                                        515738 non-null  object \n",
      " 12  days_since_review                           515738 non-null  object \n",
      " 13  lat                                         512470 non-null  float64\n",
      " 14  lng                                         512470 non-null  float64\n",
      " 15  sample                                      515738 non-null  int64  \n",
      " 16  reviewer_score                              515738 non-null  float64\n",
      "dtypes: float64(4), int64(6), object(7)\n",
      "memory usage: 66.9+ MB\n"
     ]
    }
   ],
   "source": [
    "data.info()"
   ]
  },
  {
   "attachments": {},
   "cell_type": "markdown",
   "id": "28d0aa22",
   "metadata": {
    "papermill": {
     "duration": 0.047016,
     "end_time": "2022-12-17T10:55:01.983117",
     "exception": false,
     "start_time": "2022-12-17T10:55:01.936101",
     "status": "completed"
    },
    "tags": []
   },
   "source": [
    "## Categorical features"
   ]
  },
  {
   "cell_type": "code",
   "execution_count": 135,
   "id": "b3f8cae3",
   "metadata": {
    "execution": {
     "iopub.execute_input": "2022-12-17T10:55:02.084161Z",
     "iopub.status.busy": "2022-12-17T10:55:02.083401Z",
     "iopub.status.idle": "2022-12-17T10:55:02.091501Z",
     "shell.execute_reply": "2022-12-17T10:55:02.092127Z",
     "shell.execute_reply.started": "2022-12-17T10:45:56.936002Z"
    },
    "papermill": {
     "duration": 0.061482,
     "end_time": "2022-12-17T10:55:02.092306",
     "exception": false,
     "start_time": "2022-12-17T10:55:02.030824",
     "status": "completed"
    },
    "tags": []
   },
   "outputs": [
    {
     "data": {
      "text/plain": [
       "['hotel_address',\n",
       " 'review_date',\n",
       " 'reviewer_nationality',\n",
       " 'negative_review',\n",
       " 'positive_review',\n",
       " 'tags',\n",
       " 'days_since_review']"
      ]
     },
     "execution_count": 135,
     "metadata": {},
     "output_type": "execute_result"
    }
   ],
   "source": [
    "categorical_columns_names = [s for s in data.columns if data[s].dtypes == 'object'] \n",
    "numerical_columns_names =   [s for s in data.columns if data[s].dtypes != 'object']\n",
    "categorical_columns_names"
   ]
  },
  {
   "cell_type": "markdown",
   "id": "b30013a6",
   "metadata": {
    "papermill": {
     "duration": 0.050106,
     "end_time": "2022-12-17T10:55:11.706170",
     "exception": false,
     "start_time": "2022-12-17T10:55:11.656064",
     "status": "completed"
    },
    "tags": []
   },
   "source": [
    "### Hotel address"
   ]
  },
  {
   "cell_type": "code",
   "execution_count": 136,
   "id": "fcf5b35d",
   "metadata": {
    "execution": {
     "iopub.execute_input": "2022-12-17T10:55:11.814303Z",
     "iopub.status.busy": "2022-12-17T10:55:11.813552Z",
     "iopub.status.idle": "2022-12-17T10:55:11.903239Z",
     "shell.execute_reply": "2022-12-17T10:55:11.901681Z",
     "shell.execute_reply.started": "2022-12-17T10:46:05.588152Z"
    },
    "papermill": {
     "duration": 0.14716,
     "end_time": "2022-12-17T10:55:11.903663",
     "exception": false,
     "start_time": "2022-12-17T10:55:11.756503",
     "status": "completed"
    },
    "tags": []
   },
   "outputs": [
    {
     "name": "stdout",
     "output_type": "stream",
     "text": [
      "163 Marsh Wall Docklands Tower Hamlets London E14 9SJ United Kingdom    4789\n",
      "Name: hotel_address, dtype: int64 13 Rue Fran ois Ory 92120 Paris France                     10\n",
      "Johann Staud Stra e 32 16 Ottakring 1160 Vienna Austria     8\n",
      "Name: hotel_address, dtype: int64\n"
     ]
    }
   ],
   "source": [
    "print(data['hotel_address'].value_counts().head(1), data['hotel_address'].value_counts().tail(2))"
   ]
  },
  {
   "cell_type": "code",
   "execution_count": 137,
   "id": "1d01c0f1",
   "metadata": {
    "execution": {
     "iopub.execute_input": "2022-12-17T10:55:12.012721Z",
     "iopub.status.busy": "2022-12-17T10:55:12.011946Z",
     "iopub.status.idle": "2022-12-17T10:55:14.174108Z",
     "shell.execute_reply": "2022-12-17T10:55:14.173424Z",
     "shell.execute_reply.started": "2022-12-17T10:46:05.676854Z"
    },
    "papermill": {
     "duration": 2.216729,
     "end_time": "2022-12-17T10:55:14.174295",
     "exception": false,
     "start_time": "2022-12-17T10:55:11.957566",
     "status": "completed"
    },
    "tags": []
   },
   "outputs": [
    {
     "name": "stdout",
     "output_type": "stream",
     "text": [
      " \n",
      "United Kingdom    262301\n",
      "Spain              60149\n",
      "France             59928\n",
      "Netherlands        57214\n",
      "Austria            38939\n",
      "Italy              37207\n",
      "Name: country, dtype: int64   London       262301\n",
      "Barcelona     60149\n",
      "Paris         59928\n",
      "Amsterdam     57214\n",
      "Vienna        38939\n",
      "Milan         37207\n",
      "Name: city, dtype: int64\n"
     ]
    }
   ],
   "source": [
    "data['country'] = data['hotel_address'].apply(lambda x: \\\n",
    "    (x.split()[-2] + ' '+ x.split()[-1]) if x.split()[-1]=='Kingdom' else  x.split()[-1])\n",
    "\n",
    "data['city'] = data['hotel_address'].apply(lambda x: x.split()[-5] if x.split()[-1]=='Kingdom' else  x.split()[-2]) \n",
    "\n",
    "print(' ')    \n",
    "print(data['country'].value_counts(),' ', data['city'].value_counts())\n",
    "data.drop(['hotel_address'], axis=1, inplace=True)"
   ]
  },
  {
   "cell_type": "markdown",
   "id": "d9e9bfa3",
   "metadata": {
    "papermill": {
     "duration": 0.058109,
     "end_time": "2022-12-17T10:55:06.168555",
     "exception": false,
     "start_time": "2022-12-17T10:55:06.110446",
     "status": "completed"
    },
    "tags": []
   },
   "source": [
    "### Negative reviews"
   ]
  },
  {
   "cell_type": "code",
   "execution_count": 138,
   "id": "d09cb2cb",
   "metadata": {
    "execution": {
     "iopub.execute_input": "2022-12-17T10:55:06.275987Z",
     "iopub.status.busy": "2022-12-17T10:55:06.275211Z",
     "iopub.status.idle": "2022-12-17T10:55:06.726453Z",
     "shell.execute_reply": "2022-12-17T10:55:06.727524Z",
     "shell.execute_reply.started": "2022-12-17T10:46:00.456624Z"
    },
    "papermill": {
     "duration": 0.508935,
     "end_time": "2022-12-17T10:55:06.727717",
     "exception": false,
     "start_time": "2022-12-17T10:55:06.218782",
     "status": "completed"
    },
    "tags": []
   },
   "outputs": [
    {
     "data": {
      "text/plain": [
       "No Negative    127890\n",
       " Nothing        14295\n",
       " Nothing         4236\n",
       " nothing         2225\n",
       " N A             1037\n",
       "Name: negative_review, dtype: int64"
      ]
     },
     "execution_count": 138,
     "metadata": {},
     "output_type": "execute_result"
    }
   ],
   "source": [
    "# change feature type\n",
    "data['negative_review'] = data['negative_review'].astype('object')\n",
    "data['negative_review'].value_counts().head()"
   ]
  },
  {
   "cell_type": "code",
   "execution_count": 139,
   "id": "629ecbc0",
   "metadata": {
    "execution": {
     "iopub.execute_input": "2022-12-17T10:55:06.834891Z",
     "iopub.status.busy": "2022-12-17T10:55:06.833825Z",
     "iopub.status.idle": "2022-12-17T10:55:11.604272Z",
     "shell.execute_reply": "2022-12-17T10:55:11.604777Z",
     "shell.execute_reply.started": "2022-12-17T10:46:00.813638Z"
    },
    "papermill": {
     "duration": 4.825179,
     "end_time": "2022-12-17T10:55:11.605006",
     "exception": false,
     "start_time": "2022-12-17T10:55:06.779827",
     "status": "completed"
    },
    "tags": []
   },
   "outputs": [],
   "source": [
    "# Delete space and lower case\n",
    "data['negative_review'] = data['negative_review'].apply(lambda x: x.lower() if x=='No Negative' else x.lower()[1:])\n",
    "data['negative_review'] = data['negative_review'].str.strip()\n",
    "#data['negative_review'] = data['negative_review'].apply(get_negative_reasons)\n",
    "#data['negative_review'].value_counts()"
   ]
  },
  {
   "attachments": {},
   "cell_type": "markdown",
   "id": "566d91f8",
   "metadata": {},
   "source": [
    "#### Separate neutral feedbacks"
   ]
  },
  {
   "cell_type": "code",
   "execution_count": 140,
   "id": "12e68c19",
   "metadata": {},
   "outputs": [],
   "source": [
    "# data['clas_neutral_review'] = data['negative_review'].apply(get_neutral_from_negative)\n",
    "# data['clas_neutral_review'].value_counts().head()"
   ]
  },
  {
   "cell_type": "code",
   "execution_count": 141,
   "id": "940b09c4",
   "metadata": {},
   "outputs": [],
   "source": [
    "blobber = Blobber(analyzer=NaiveBayesAnalyzer())\n",
    "# classification review by NaiveBayesAnalyzer to negative and positive \n",
    "data['clas_neg_review'] = data['negative_review'].apply(lambda x: blobber(x).sentiment.classification)\n",
    "\n",
    "# drop original feature 'negative_review'\n",
    "data.drop(['negative_review'], axis=1, inplace=True)"
   ]
  },
  {
   "cell_type": "markdown",
   "id": "1606973c",
   "metadata": {
    "papermill": {
     "duration": 0.047662,
     "end_time": "2022-12-17T10:55:02.188255",
     "exception": false,
     "start_time": "2022-12-17T10:55:02.140593",
     "status": "completed"
    },
    "tags": []
   },
   "source": [
    "### Positive reviews"
   ]
  },
  {
   "cell_type": "code",
   "execution_count": 142,
   "id": "334fc13d",
   "metadata": {
    "execution": {
     "iopub.execute_input": "2022-12-17T10:55:02.759033Z",
     "iopub.status.busy": "2022-12-17T10:55:02.757546Z",
     "iopub.status.idle": "2022-12-17T10:55:02.798431Z",
     "shell.execute_reply": "2022-12-17T10:55:02.797758Z",
     "shell.execute_reply.started": "2022-12-17T10:45:56.958521Z"
    },
    "papermill": {
     "duration": 0.561314,
     "end_time": "2022-12-17T10:55:02.798586",
     "exception": false,
     "start_time": "2022-12-17T10:55:02.237272",
     "status": "completed"
    },
    "tags": []
   },
   "outputs": [
    {
     "data": {
      "text/plain": [
       "No Positive    35946\n",
       " Location       9222\n",
       " Everything     2284\n",
       " location       1677\n",
       " Nothing        1243\n",
       "Name: positive_review, dtype: int64"
      ]
     },
     "execution_count": 142,
     "metadata": {},
     "output_type": "execute_result"
    }
   ],
   "source": [
    "data['positive_review'].value_counts().head()"
   ]
  },
  {
   "attachments": {},
   "cell_type": "markdown",
   "id": "3ba7e093",
   "metadata": {},
   "source": [
    "As it can be seen, some rows contain spaces prior to first word. Let us delete it"
   ]
  },
  {
   "cell_type": "code",
   "execution_count": 143,
   "id": "97c7181c",
   "metadata": {
    "execution": {
     "iopub.execute_input": "2022-12-17T10:55:02.903803Z",
     "iopub.status.busy": "2022-12-17T10:55:02.903069Z",
     "iopub.status.idle": "2022-12-17T10:55:03.978732Z",
     "shell.execute_reply": "2022-12-17T10:55:03.977973Z",
     "shell.execute_reply.started": "2022-12-17T10:45:57.427141Z"
    },
    "papermill": {
     "duration": 1.130204,
     "end_time": "2022-12-17T10:55:03.978911",
     "exception": false,
     "start_time": "2022-12-17T10:55:02.848707",
     "status": "completed"
    },
    "tags": []
   },
   "outputs": [
    {
     "data": {
      "text/plain": [
       "no positive           35946\n",
       "location              11945\n",
       "everything             3314\n",
       "nothing                1731\n",
       "great location         1687\n",
       "the location           1606\n",
       "good location          1496\n",
       "breakfast               795\n",
       "friendly staff          733\n",
       "excellent location      639\n",
       "Name: positive_review, dtype: int64"
      ]
     },
     "execution_count": 143,
     "metadata": {},
     "output_type": "execute_result"
    }
   ],
   "source": [
    "# Delete space and lower case\n",
    "data['positive_review'] = data['positive_review'].apply(lambda x: x.lower() if x=='No Positive' else x.lower()[1:])\n",
    "\n",
    "data['positive_review'] = data['positive_review'].str.strip()\n",
    "#data['positive_review_encoding'] = data['positive_review'].apply(get_find_reasons)\n",
    "data['positive_review'].value_counts().head(10)"
   ]
  },
  {
   "cell_type": "code",
   "execution_count": 144,
   "id": "24426758",
   "metadata": {
    "execution": {
     "iopub.execute_input": "2022-12-17T10:55:04.092457Z",
     "iopub.status.busy": "2022-12-17T10:55:04.091695Z",
     "iopub.status.idle": "2022-12-17T10:55:06.054936Z",
     "shell.execute_reply": "2022-12-17T10:55:06.055493Z",
     "shell.execute_reply.started": "2022-12-17T10:45:58.482433Z"
    },
    "papermill": {
     "duration": 2.026894,
     "end_time": "2022-12-17T10:55:06.055678",
     "exception": false,
     "start_time": "2022-12-17T10:55:04.028784",
     "status": "completed"
    },
    "tags": []
   },
   "outputs": [],
   "source": [
    "#data['positive_review'] = data['positive_review'].apply(get_positive_reasons)\n",
    "#data['positive_review'].value_counts().head(10)\n",
    "data['clas_pos_review'] = data['positive_review'].apply(lambda x: blobber(x).sentiment.classification)\n",
    "\n",
    "# drop original feature 'positive_review'\n",
    "data.drop(['positive_review'], axis=1, inplace=True)"
   ]
  },
  {
   "cell_type": "code",
   "execution_count": 145,
   "id": "7b3691bc",
   "metadata": {},
   "outputs": [
    {
     "data": {
      "text/plain": [
       "pos    352195\n",
       "neg    163543\n",
       "Name: clas_neg_review, dtype: int64"
      ]
     },
     "metadata": {},
     "output_type": "display_data"
    },
    {
     "name": "stdout",
     "output_type": "stream",
     "text": [
      "\n"
     ]
    },
    {
     "data": {
      "text/plain": [
       "pos    387969\n",
       "neg    127769\n",
       "Name: clas_pos_review, dtype: int64"
      ]
     },
     "metadata": {},
     "output_type": "display_data"
    }
   ],
   "source": [
    "display(data['clas_neg_review'].value_counts())\n",
    "print('')\n",
    "display(data['clas_pos_review'].value_counts())"
   ]
  },
  {
   "cell_type": "markdown",
   "id": "4baa4d8c",
   "metadata": {
    "papermill": {
     "duration": 0.054325,
     "end_time": "2022-12-17T10:55:14.488688",
     "exception": false,
     "start_time": "2022-12-17T10:55:14.434363",
     "status": "completed"
    },
    "tags": []
   },
   "source": [
    "### Reviewer nationality"
   ]
  },
  {
   "cell_type": "code",
   "execution_count": 146,
   "id": "af5ac80a",
   "metadata": {
    "execution": {
     "iopub.execute_input": "2022-12-17T10:55:14.631957Z",
     "iopub.status.busy": "2022-12-17T10:55:14.631168Z",
     "iopub.status.idle": "2022-12-17T10:55:14.643875Z",
     "shell.execute_reply": "2022-12-17T10:55:14.643235Z",
     "shell.execute_reply.started": "2022-12-17T10:46:07.759152Z"
    },
    "papermill": {
     "duration": 0.104464,
     "end_time": "2022-12-17T10:55:14.644048",
     "exception": false,
     "start_time": "2022-12-17T10:55:14.539584",
     "status": "completed"
    },
    "tags": []
   },
   "outputs": [
    {
     "data": {
      "text/plain": [
       "Index([' United Kingdom ', ' United States of America ', ' Australia ',\n",
       "       ' Ireland ', ' United Arab Emirates ', ' Saudi Arabia ',\n",
       "       ' Netherlands ', ' Switzerland ', ' Germany ', ' Canada '],\n",
       "      dtype='object')"
      ]
     },
     "metadata": {},
     "output_type": "display_data"
    },
    {
     "data": {
      "text/plain": [
       "' United Kingdom '"
      ]
     },
     "metadata": {},
     "output_type": "display_data"
    }
   ],
   "source": [
    "display(data['reviewer_nationality'].value_counts().nlargest(10).index)\n",
    "display(data['reviewer_nationality'].iloc[0])"
   ]
  },
  {
   "cell_type": "code",
   "execution_count": 147,
   "id": "d9db51c0",
   "metadata": {
    "execution": {
     "iopub.execute_input": "2022-12-17T10:55:14.760621Z",
     "iopub.status.busy": "2022-12-17T10:55:14.759678Z",
     "iopub.status.idle": "2022-12-17T10:55:23.215187Z",
     "shell.execute_reply": "2022-12-17T10:55:23.215740Z",
     "shell.execute_reply.started": "2022-12-17T10:46:07.811722Z"
    },
    "papermill": {
     "duration": 8.520467,
     "end_time": "2022-12-17T10:55:23.215960",
     "exception": false,
     "start_time": "2022-12-17T10:55:14.695493",
     "status": "completed"
    },
    "tags": []
   },
   "outputs": [
    {
     "data": {
      "text/plain": [
       "United Kingdom              245246\n",
       "other                       120020\n",
       "United States of America     35437\n",
       "Australia                    21686\n",
       "Ireland                      14827\n",
       "Name: reviewer_nationality, dtype: int64"
      ]
     },
     "execution_count": 147,
     "metadata": {},
     "output_type": "execute_result"
    }
   ],
   "source": [
    "# Del spaces at the end of each row if any\n",
    "data['reviewer_nationality'] = data['reviewer_nationality'].apply(lambda x: x[1:-1:1])\n",
    "\n",
    "# Creation of a new feature *same nationality*. \n",
    "data['nationality_same_as_country'] = data.apply(lambda x: 1 if x['reviewer_nationality'] == x['country'] else 0, axis=1).astype('int16')\n",
    "data['nationality_same_as_country'].value_counts()\n",
    "\n",
    "# Feature reduction to 14 most frequent nationalities. The rest are named as 'other'.\n",
    "most_frequent_nationalities = data['reviewer_nationality'].value_counts().nlargest(14).index.to_list()\n",
    "data['reviewer_nationality'] = data['reviewer_nationality'].apply(lambda x: x if x in most_frequent_nationalities else 'other')\n",
    "data['reviewer_nationality'].value_counts().head()"
   ]
  },
  {
   "cell_type": "markdown",
   "id": "d8f3d570",
   "metadata": {
    "papermill": {
     "duration": 0.051522,
     "end_time": "2022-12-17T10:55:24.030146",
     "exception": false,
     "start_time": "2022-12-17T10:55:23.978624",
     "status": "completed"
    },
    "tags": []
   },
   "source": [
    "### Tags"
   ]
  },
  {
   "cell_type": "code",
   "execution_count": 148,
   "id": "06d4a30e",
   "metadata": {
    "papermill": {
     "duration": 0.053588,
     "end_time": "2022-12-17T10:55:24.137598",
     "exception": false,
     "start_time": "2022-12-17T10:55:24.084010",
     "status": "completed"
    },
    "tags": []
   },
   "outputs": [
    {
     "data": {
      "text/plain": [
       "[' Leisure trip ', ' Couple ', ' Double Room ', ' Stayed 1 night ', ' Submitted from a mobile device ']              5101\n",
       "[' Leisure trip ', ' Couple ', ' Standard Double Room ', ' Stayed 1 night ', ' Submitted from a mobile device ']     4931\n",
       "[' Leisure trip ', ' Couple ', ' Superior Double Room ', ' Stayed 1 night ', ' Submitted from a mobile device ']     4366\n",
       "[' Leisure trip ', ' Couple ', ' Deluxe Double Room ', ' Stayed 1 night ', ' Submitted from a mobile device ']       3991\n",
       "[' Leisure trip ', ' Couple ', ' Double Room ', ' Stayed 2 nights ', ' Submitted from a mobile device ']             3291\n",
       "[' Leisure trip ', ' Couple ', ' Superior Double Room ', ' Stayed 2 nights ', ' Submitted from a mobile device ']    3102\n",
       "[' Leisure trip ', ' Couple ', ' Standard Double Room ', ' Stayed 2 nights ', ' Submitted from a mobile device ']    2947\n",
       "[' Leisure trip ', ' Couple ', ' Double Room ', ' Stayed 1 night ']                                                  2906\n",
       "[' Leisure trip ', ' Couple ', ' Standard Double Room ', ' Stayed 1 night ']                                         2620\n",
       "[' Leisure trip ', ' Couple ', ' Deluxe Double Room ', ' Stayed 2 nights ', ' Submitted from a mobile device ']      2362\n",
       "Name: tags, dtype: int64"
      ]
     },
     "execution_count": 148,
     "metadata": {},
     "output_type": "execute_result"
    }
   ],
   "source": [
    "data['tags'].explode().value_counts().nlargest(10)"
   ]
  },
  {
   "attachments": {},
   "cell_type": "markdown",
   "id": "d29566ad",
   "metadata": {},
   "source": [
    "#### Traveller type"
   ]
  },
  {
   "cell_type": "code",
   "execution_count": 149,
   "id": "7f947f9c",
   "metadata": {},
   "outputs": [
    {
     "data": {
      "text/plain": [
       " Couple                        245754\n",
       " Solo traveler                 104060\n",
       " Group                          63649\n",
       " Family with young children     58573\n",
       " Family with older children     25326\n",
       "Name: traveller_type, dtype: int64"
      ]
     },
     "execution_count": 149,
     "metadata": {},
     "output_type": "execute_result"
    }
   ],
   "source": [
    "data['traveller_type'] = data['tags'].apply(get_traveller)\n",
    "data['traveller_type'].value_counts().head()"
   ]
  },
  {
   "cell_type": "code",
   "execution_count": 150,
   "id": "e7d29f96",
   "metadata": {},
   "outputs": [
    {
     "name": "stdout",
     "output_type": "stream",
     "text": [
      "Index([' Couple', ' Solo traveler', ' Group', ' Family with young children',\n",
      "       ' Family with older children', ' Travelers with friends'],\n",
      "      dtype='object')\n"
     ]
    },
    {
     "data": {
      "text/plain": [
       " Couple                        245754\n",
       " Solo traveler                 104060\n",
       " Group                          63649\n",
       " Family with young children     58573\n",
       " Family with older children     25326\n",
       "Name: traveller_type, dtype: int64"
      ]
     },
     "execution_count": 150,
     "metadata": {},
     "output_type": "execute_result"
    }
   ],
   "source": [
    "# Feature reduction to 6 most frequent types\n",
    "popular_travellers_types = data['traveller_type'].value_counts().nlargest(6).index\n",
    "print(popular_travellers_types)\n",
    "\n",
    "data['traveller_type'] = data['traveller_type'].apply(lambda x: x if x in popular_travellers_types else ' Other')\n",
    "data['traveller_type'].value_counts().head()"
   ]
  },
  {
   "attachments": {},
   "cell_type": "markdown",
   "id": "1908612d",
   "metadata": {},
   "source": [
    "#### Trip types"
   ]
  },
  {
   "cell_type": "code",
   "execution_count": 151,
   "id": "46319cb3",
   "metadata": {},
   "outputs": [
    {
     "data": {
      "text/plain": [
       "Leisure trip     416672\n",
       "Business trip     82748\n",
       "Couple             5808\n",
       "Solo traveler      4291\n",
       "Family             3158\n",
       "Name: trip_type, dtype: int64"
      ]
     },
     "execution_count": 151,
     "metadata": {},
     "output_type": "execute_result"
    }
   ],
   "source": [
    "data['trip_type'] = data['tags'].apply(get_trip_type)\n",
    "data['trip_type'].value_counts().head()"
   ]
  },
  {
   "cell_type": "code",
   "execution_count": 157,
   "id": "98c88db2",
   "metadata": {},
   "outputs": [],
   "source": [
    "fig = px.pie(\n",
    "    data,\n",
    "    names='trip_type',\n",
    "    width=400,\n",
    "    height=400,\n",
    ")\n",
    "\n",
    "fig.update_layout(\n",
    "    title=dict(text='Fig.1 - Trip types', x=.5, y=0.1, xanchor='center'),\n",
    ")\n",
    "fig.update_traces(textposition='inside', textinfo='percent+label')\n",
    "#fig.show()\n",
    "\n",
    "fig.write_image('../figures/fig_1.png');"
   ]
  },
  {
   "attachments": {},
   "cell_type": "markdown",
   "id": "2a7b2bf3",
   "metadata": {},
   "source": [
    "<center> <img src = \"../figures/fig_1.png\">"
   ]
  },
  {
   "attachments": {},
   "cell_type": "markdown",
   "id": "70220317",
   "metadata": {},
   "source": [
    "#### Stay duration"
   ]
  },
  {
   "cell_type": "code",
   "execution_count": 158,
   "id": "c3a15667",
   "metadata": {},
   "outputs": [
    {
     "data": {
      "text/plain": [
       "1    193645\n",
       "2    133937\n",
       "3     95821\n",
       "4     47817\n",
       "5     20845\n",
       "Name: stay_length, dtype: int64"
      ]
     },
     "execution_count": 158,
     "metadata": {},
     "output_type": "execute_result"
    }
   ],
   "source": [
    "data['stay_length'] = data['tags'].apply(get_stay_length)\n",
    "#data['stay_length'].value_counts().head()\n",
    "data['stay_length'].value_counts().head()"
   ]
  },
  {
   "cell_type": "code",
   "execution_count": 159,
   "id": "7a8be7fa",
   "metadata": {},
   "outputs": [
    {
     "data": {
      "text/plain": [
       "26    7\n",
       "28    7\n",
       "24    6\n",
       "29    5\n",
       "31    1\n",
       "Name: stay_length, dtype: int64"
      ]
     },
     "execution_count": 159,
     "metadata": {},
     "output_type": "execute_result"
    }
   ],
   "source": [
    "data['stay_length'].value_counts().tail()"
   ]
  },
  {
   "cell_type": "code",
   "execution_count": 160,
   "id": "28c12904",
   "metadata": {},
   "outputs": [],
   "source": [
    "# Feature reduction 10 categories\n",
    "data['stay_length'] = data['stay_length'].apply(lambda x: 10 if x > 9 else x)"
   ]
  },
  {
   "cell_type": "code",
   "execution_count": 214,
   "id": "e4133de7",
   "metadata": {},
   "outputs": [
    {
     "data": {
      "image/png": "[encoded data removed]",
      "text/plain": [
       "<Figure size 600x400 with 1 Axes>"
      ]
     },
     "metadata": {},
     "output_type": "display_data"
    }
   ],
   "source": [
    "fig = plt.figure(figsize=(6, 4))\n",
    "\n",
    "hist = sns.histplot(\n",
    "    data=data,\n",
    "    x='stay_length', \n",
    "    bins=15,\n",
    "    #kde=True,\n",
    ");\n",
    "hist.set(xlabel='Duration, days', ylabel='Nuber of clients')\n",
    "hist.set_title('Fig.2 - Lesure duratiion distribution', y=-0.3, fontsize=14)\n",
    "plt.tight_layout();\n",
    "\n",
    "plt.savefig(f'../figures/fig_2.png')"
   ]
  },
  {
   "attachments": {},
   "cell_type": "markdown",
   "id": "61dbc6b2",
   "metadata": {},
   "source": [
    "#### Room types"
   ]
  },
  {
   "cell_type": "code",
   "execution_count": 162,
   "id": "a512661d",
   "metadata": {},
   "outputs": [
    {
     "data": {
      "text/plain": [
       " Double Room                     34027\n",
       " Standard Double Room            31242\n",
       " Superior Double Room            30460\n",
       " Deluxe Double Room              24001\n",
       " Double or Twin Room             21732\n",
       " Standard Double or Twin Room    16978\n",
       " Classic Double Room             16553\n",
       " Superior Double or Twin Room    13245\n",
       " 2 rooms                         12054\n",
       " Standard Twin Room               9346\n",
       " Single Room                      9239\n",
       " Twin Room                        7950\n",
       " Executive Double Room            6229\n",
       " Classic Double or Twin Room      5985\n",
       " Deluxe Double or Twin Room       5838\n",
       "Name: room_type, dtype: int64"
      ]
     },
     "execution_count": 162,
     "metadata": {},
     "output_type": "execute_result"
    }
   ],
   "source": [
    "data['room_type'] = data['tags'].apply(get_room_type_prep)\n",
    "data['room_type'].value_counts().nlargest(15)"
   ]
  },
  {
   "cell_type": "code",
   "execution_count": 163,
   "id": "bac14307",
   "metadata": {},
   "outputs": [
    {
     "data": {
      "text/plain": [
       "Double Room    293654\n",
       "Family Room    188507\n",
       "Single Room     24305\n",
       "Triple Room      9272\n",
       "Name: room_type, dtype: int64"
      ]
     },
     "execution_count": 163,
     "metadata": {},
     "output_type": "execute_result"
    }
   ],
   "source": [
    "room_types = data['room_type'].astype('str').apply(get_room_type)\n",
    "room_types.value_counts().nlargest(15)"
   ]
  },
  {
   "cell_type": "code",
   "execution_count": 165,
   "id": "47fefe39",
   "metadata": {},
   "outputs": [
    {
     "name": "stdout",
     "output_type": "stream",
     "text": [
      "Index(['Double Room', 'Family Room', 'Single Room', 'Triple Room'], dtype='object')\n"
     ]
    }
   ],
   "source": [
    "# Reduction of types\n",
    "popular_room_types = room_types.value_counts().nlargest(6).index\n",
    "print(popular_room_types)\n",
    "\n",
    "data['room_type'] = room_types.apply(lambda x: x if x in popular_room_types else 'other')\n",
    "\n",
    "# Del original feature 'room_type'\n",
    "data.drop(['room_type'], axis=1, inplace=True)"
   ]
  },
  {
   "cell_type": "code",
   "execution_count": 166,
   "id": "00361e24",
   "metadata": {},
   "outputs": [],
   "source": [
    "# drop original feature\n",
    "data.drop(['tags'], axis=1, inplace=True)"
   ]
  },
  {
   "cell_type": "markdown",
   "id": "f1080f2d",
   "metadata": {
    "papermill": {
     "duration": 0.051635,
     "end_time": "2022-12-17T10:55:14.278880",
     "exception": false,
     "start_time": "2022-12-17T10:55:14.227245",
     "status": "completed"
    },
    "tags": []
   },
   "source": [
    "### review_date"
   ]
  },
  {
   "cell_type": "code",
   "execution_count": 167,
   "id": "fc8cf7eb",
   "metadata": {},
   "outputs": [],
   "source": [
    "# Creation of a new feature\n",
    "data['review_date'] = pd.to_datetime(data['review_date'], errors='coerce', format='%m/%d/%Y')\n",
    "\n",
    "# Get review date\n",
    "data['days_since_review'] = ((data['review_date'].max() - data['review_date'])/np.timedelta64(1,'D')).astype(int)\n",
    "data['review_month'] = data['review_date'].dt.month.astype(int)\n",
    "data['review_day'] = data['review_date'].dt.day.astype(int)\n",
    "data['review_weekday'] = data['review_date'].dt.dayofweek.astype(int)\n",
    "\n",
    "# drop original feature\n",
    "data.drop(['review_date'], axis=1, inplace=True)"
   ]
  },
  {
   "attachments": {},
   "cell_type": "markdown",
   "id": "b12b9306",
   "metadata": {},
   "source": [
    "## Numerical features"
   ]
  },
  {
   "attachments": {},
   "cell_type": "markdown",
   "id": "ac50d215",
   "metadata": {},
   "source": [
    "### Hotels coordinates: 'lat' and 'lng'"
   ]
  },
  {
   "cell_type": "code",
   "execution_count": 168,
   "id": "77a71fb6",
   "metadata": {
    "papermill": {
     "duration": 0.053529,
     "end_time": "2022-12-17T10:55:24.243057",
     "exception": false,
     "start_time": "2022-12-17T10:55:24.189528",
     "status": "completed"
    },
    "tags": []
   },
   "outputs": [
    {
     "name": "stdout",
     "output_type": "stream",
     "text": [
      "Features with missing values, %: \n",
      "lat    0.63\n",
      "lng    0.63\n",
      "dtype: float64\n"
     ]
    }
   ],
   "source": [
    "# Missing values identification\n",
    "cols_null_percent = round(data.isnull().mean() * 100, 2)\n",
    "cols_with_null = cols_null_percent[cols_null_percent > 0].sort_values(ascending=False)\n",
    "print(f\"Features with missing values, %: \\n{cols_with_null}\")"
   ]
  },
  {
   "cell_type": "code",
   "execution_count": 172,
   "id": "ccfa41e3",
   "metadata": {},
   "outputs": [
    {
     "data": {
      "image/png": "[encoded data removed]",
      "text/plain": [
       "<Figure size 500x300 with 2 Axes>"
      ]
     },
     "metadata": {},
     "output_type": "display_data"
    }
   ],
   "source": [
    "colors = ['blue', 'yellow'] \n",
    "fig, ax = plt.subplots(figsize=(5,3))\n",
    "fig.subplots_adjust(left=0.1,\n",
    "                    bottom=0.1,\n",
    "                    right=0.9,\n",
    "                    top=0.9,\n",
    "                    wspace=0.5,\n",
    "                    hspace=0.4)\n",
    "\n",
    "cols = cols_with_null.index\n",
    "fig= sns.heatmap(\n",
    "    data[cols].isnull(),\n",
    "    cmap=sns.color_palette(colors), ax=ax\n",
    ")\n",
    "fig.set_title('Fig.3 - Missing entries', y=-0.25);\n",
    "#ax.set_yticks(range(0, 500000, 100000));"
   ]
  },
  {
   "cell_type": "code",
   "execution_count": 40,
   "id": "2f6092de",
   "metadata": {},
   "outputs": [
    {
     "data": {
      "text/plain": [
       "\"There are: 3 distinct cities: ['Paris', 'Vienna', 'Barcelona']\""
      ]
     },
     "metadata": {},
     "output_type": "display_data"
    }
   ],
   "source": [
    "# addresses with missing entries\n",
    "null_addresses = list(set(data[data['lat'].isnull()]['city']))\n",
    "\n",
    "null_cities = list()\n",
    "for x in null_addresses:\n",
    "    null_cities.append(x) \n",
    "    \n",
    "# set of unique cities\n",
    "distinct_cities=list(set(null_cities))\n",
    "\n",
    "#display(f'Number of missing entries: {len(null_cities)}')\n",
    "display(f'There are: {len(set(null_cities))} distinct cities: {distinct_cities}')"
   ]
  },
  {
   "attachments": {},
   "cell_type": "markdown",
   "id": "8edb91ba",
   "metadata": {},
   "source": [
    "Get city centers by coordinates from Google maps."
   ]
  },
  {
   "cell_type": "code",
   "execution_count": 41,
   "id": "4d263e8f",
   "metadata": {},
   "outputs": [
    {
     "data": {
      "text/plain": [
       "additional_number_of_scoring         0.0\n",
       "average_score                        0.0\n",
       "reviewer_nationality                 0.0\n",
       "review_total_negative_word_counts    0.0\n",
       "total_number_of_reviews              0.0\n",
       "dtype: float64"
      ]
     },
     "metadata": {},
     "output_type": "display_data"
    }
   ],
   "source": [
    "# City center coordinates\n",
    "city_center_coordinates = {\n",
    "    'Vienna': [48.210033, 16.363449],\n",
    "    'Barcelona': [41.390205, 2.154007],\n",
    "    'Paris': [48.864716, 2.349014]\n",
    "}\n",
    "\n",
    "lat_mask = data['lat'].isnull()\n",
    "lng_mask = data['lng'].isnull()\n",
    "\n",
    "for city, coordinates in city_center_coordinates.items():\n",
    "    data.loc[(lat_mask & (data['city'] == city)), 'lat'] = coordinates[0]\n",
    "    data.loc[(lng_mask & (data['city'] == city)), 'lng'] = coordinates[1]\n",
    "    \n",
    "# Get missing entries share by feature\n",
    "display(data.isnull().mean().head())"
   ]
  },
  {
   "attachments": {},
   "cell_type": "markdown",
   "id": "0411195a",
   "metadata": {},
   "source": [
    "## Normalization of humerical features"
   ]
  },
  {
   "cell_type": "code",
   "execution_count": 42,
   "id": "9246773c",
   "metadata": {},
   "outputs": [
    {
     "data": {
      "text/plain": [
       "['additional_number_of_scoring',\n",
       " 'average_score',\n",
       " 'review_total_negative_word_counts',\n",
       " 'total_number_of_reviews',\n",
       " 'review_total_positive_word_counts',\n",
       " 'total_number_of_reviews_reviewer_has_given',\n",
       " 'days_since_review',\n",
       " 'stay_length',\n",
       " 'review_month',\n",
       " 'review_day',\n",
       " 'review_weekday']"
      ]
     },
     "execution_count": 42,
     "metadata": {},
     "output_type": "execute_result"
    }
   ],
   "source": [
    "# Let us exclude following features\n",
    "exclusion = ['lat', 'lng', 'sample', 'nationality_same_as_country', 'reviewer_score']\n",
    "\n",
    "num_features = [s for s in data.columns if data[s].dtypes != 'object' and s not in exclusion]\n",
    "num_features"
   ]
  },
  {
   "cell_type": "code",
   "execution_count": 43,
   "id": "798575e8",
   "metadata": {},
   "outputs": [
    {
     "data": {
      "image/png": "[encoded data removed]",
      "text/plain": [
       "<Figure size 800x500 with 1 Axes>"
      ]
     },
     "metadata": {},
     "output_type": "display_data"
    }
   ],
   "source": [
    "fig = plt.figure(figsize=(8, 5))\n",
    "\n",
    "boxplot = sns.boxplot(data=data[num_features], orient='h')\n",
    "boxplot.set_title('Fig.4 - numerical features distribution', y=-0.2, fontsize=12)\n",
    "boxplot.set_xlabel('Range')\n",
    "boxplot.set_ylabel('Feature')\n",
    "boxplot.grid();"
   ]
  },
  {
   "cell_type": "code",
   "execution_count": 44,
   "id": "23b23311",
   "metadata": {},
   "outputs": [
    {
     "data": {
      "text/html": [
       "<div>\n",
       "<style scoped>\n",
       "    .dataframe tbody tr th:only-of-type {\n",
       "        vertical-align: middle;\n",
       "    }\n",
       "\n",
       "    .dataframe tbody tr th {\n",
       "        vertical-align: top;\n",
       "    }\n",
       "\n",
       "    .dataframe thead th {\n",
       "        text-align: right;\n",
       "    }\n",
       "</style>\n",
       "<table border=\"1\" class=\"dataframe\">\n",
       "  <thead>\n",
       "    <tr style=\"text-align: right;\">\n",
       "      <th></th>\n",
       "      <th>min</th>\n",
       "      <th>mean</th>\n",
       "      <th>max</th>\n",
       "    </tr>\n",
       "  </thead>\n",
       "  <tbody>\n",
       "    <tr>\n",
       "      <th>additional_number_of_scoring</th>\n",
       "      <td>1.0</td>\n",
       "      <td>498.08</td>\n",
       "      <td>2682.0</td>\n",
       "    </tr>\n",
       "    <tr>\n",
       "      <th>average_score</th>\n",
       "      <td>5.2</td>\n",
       "      <td>8.40</td>\n",
       "      <td>9.8</td>\n",
       "    </tr>\n",
       "    <tr>\n",
       "      <th>review_total_negative_word_counts</th>\n",
       "      <td>0.0</td>\n",
       "      <td>18.54</td>\n",
       "      <td>408.0</td>\n",
       "    </tr>\n",
       "    <tr>\n",
       "      <th>total_number_of_reviews</th>\n",
       "      <td>43.0</td>\n",
       "      <td>2743.74</td>\n",
       "      <td>16670.0</td>\n",
       "    </tr>\n",
       "    <tr>\n",
       "      <th>review_total_positive_word_counts</th>\n",
       "      <td>0.0</td>\n",
       "      <td>17.78</td>\n",
       "      <td>395.0</td>\n",
       "    </tr>\n",
       "    <tr>\n",
       "      <th>total_number_of_reviews_reviewer_has_given</th>\n",
       "      <td>1.0</td>\n",
       "      <td>7.17</td>\n",
       "      <td>355.0</td>\n",
       "    </tr>\n",
       "    <tr>\n",
       "      <th>days_since_review</th>\n",
       "      <td>0.0</td>\n",
       "      <td>354.44</td>\n",
       "      <td>730.0</td>\n",
       "    </tr>\n",
       "    <tr>\n",
       "      <th>stay_length</th>\n",
       "      <td>0.0</td>\n",
       "      <td>2.35</td>\n",
       "      <td>10.0</td>\n",
       "    </tr>\n",
       "    <tr>\n",
       "      <th>review_month</th>\n",
       "      <td>1.0</td>\n",
       "      <td>6.49</td>\n",
       "      <td>12.0</td>\n",
       "    </tr>\n",
       "    <tr>\n",
       "      <th>review_day</th>\n",
       "      <td>1.0</td>\n",
       "      <td>15.68</td>\n",
       "      <td>31.0</td>\n",
       "    </tr>\n",
       "    <tr>\n",
       "      <th>review_weekday</th>\n",
       "      <td>0.0</td>\n",
       "      <td>2.72</td>\n",
       "      <td>6.0</td>\n",
       "    </tr>\n",
       "  </tbody>\n",
       "</table>\n",
       "</div>"
      ],
      "text/plain": [
       "                                             min     mean      max\n",
       "additional_number_of_scoring                 1.0   498.08   2682.0\n",
       "average_score                                5.2     8.40      9.8\n",
       "review_total_negative_word_counts            0.0    18.54    408.0\n",
       "total_number_of_reviews                     43.0  2743.74  16670.0\n",
       "review_total_positive_word_counts            0.0    17.78    395.0\n",
       "total_number_of_reviews_reviewer_has_given   1.0     7.17    355.0\n",
       "days_since_review                            0.0   354.44    730.0\n",
       "stay_length                                  0.0     2.35     10.0\n",
       "review_month                                 1.0     6.49     12.0\n",
       "review_day                                   1.0    15.68     31.0\n",
       "review_weekday                               0.0     2.72      6.0"
      ]
     },
     "execution_count": 44,
     "metadata": {},
     "output_type": "execute_result"
    }
   ],
   "source": [
    "data[num_features].agg(['min','mean', 'max']).round(2).T"
   ]
  },
  {
   "attachments": {},
   "cell_type": "markdown",
   "id": "28b36b9f",
   "metadata": {},
   "source": [
    "1 stage"
   ]
  },
  {
   "cell_type": "code",
   "execution_count": 45,
   "id": "f344b535",
   "metadata": {},
   "outputs": [
    {
     "name": "stdout",
     "output_type": "stream",
     "text": [
      "Unique values in features:\n",
      "additional_number_of_scoring: 480\n",
      "average_score: 34\n",
      "review_total_negative_word_counts: 402\n",
      "total_number_of_reviews: 1142\n",
      "review_total_positive_word_counts: 365\n",
      "total_number_of_reviews_reviewer_has_given: 198\n",
      "days_since_review: 731\n",
      "stay_length: 11\n",
      "review_month: 12\n",
      "review_day: 31\n",
      "review_weekday: 7\n"
     ]
    }
   ],
   "source": [
    "# How many unique values contain features\n",
    "print('Unique values in features:')\n",
    "for col in data[num_features].columns.tolist()[:24]:\n",
    "    print(f'{col}: {data[col].nunique()}')"
   ]
  },
  {
   "cell_type": "code",
   "execution_count": 46,
   "id": "8e2ca063",
   "metadata": {},
   "outputs": [],
   "source": [
    "# Initialization of the RobustScaler\n",
    "r_scaler = preprocessing.RobustScaler()\n",
    "\n",
    "# copu dataset\n",
    "data_norm = data[num_features].copy() #\n",
    "\n",
    "# transform and join\n",
    "data_norm_rs = r_scaler.fit_transform(data_norm)\n",
    "data_norm_rs = pd.DataFrame(data_norm_rs, columns=num_features)"
   ]
  },
  {
   "cell_type": "code",
   "execution_count": 47,
   "id": "0b0fad40",
   "metadata": {},
   "outputs": [
    {
     "data": {
      "image/png": "[encoded data removed]",
      "text/plain": [
       "<Figure size 800x500 with 1 Axes>"
      ]
     },
     "metadata": {},
     "output_type": "display_data"
    }
   ],
   "source": [
    "#categorical_columns_names, numerical_columns_names = get_sort_features(data)\n",
    "\n",
    "# # Визуализация\n",
    "# fig, ax = plt.subplots(ncols=1, figsize=(10, 6))\n",
    "\n",
    "# for col in numerical_columns_names:\n",
    "#     sns.kdeplot(data_norm_rs[col], ax=ax)\n",
    "    \n",
    "# ax.set_title('Рис.4 - Normalized features after RobustScaler', y=-0.2, fontsize=12)\n",
    "# ax.legend(numerical_columns_names)\n",
    "# ax.set_xlabel('Признак')\n",
    "# ax.set_ylabel('Значение');\n",
    "\n",
    "fig = plt.figure(figsize=(8, 5))\n",
    "\n",
    "boxplot = sns.boxplot(data=data_norm_rs, orient='h')\n",
    "boxplot.set_title('Fig.5 - Numerical features distribution', y=-0.2, fontsize=12)\n",
    "boxplot.set_xlabel('Range')\n",
    "boxplot.set_ylabel('Feature')\n",
    "boxplot.grid();"
   ]
  },
  {
   "attachments": {},
   "cell_type": "markdown",
   "id": "e1a6e198",
   "metadata": {},
   "source": [
    "Join transformed features to the dataFrame"
   ]
  },
  {
   "cell_type": "code",
   "execution_count": 48,
   "id": "d5371c37",
   "metadata": {},
   "outputs": [
    {
     "data": {
      "text/html": [
       "<div>\n",
       "<style scoped>\n",
       "    .dataframe tbody tr th:only-of-type {\n",
       "        vertical-align: middle;\n",
       "    }\n",
       "\n",
       "    .dataframe tbody tr th {\n",
       "        vertical-align: top;\n",
       "    }\n",
       "\n",
       "    .dataframe thead th {\n",
       "        text-align: right;\n",
       "    }\n",
       "</style>\n",
       "<table border=\"1\" class=\"dataframe\">\n",
       "  <thead>\n",
       "    <tr style=\"text-align: right;\">\n",
       "      <th></th>\n",
       "      <th>reviewer_nationality</th>\n",
       "      <th>lat</th>\n",
       "      <th>lng</th>\n",
       "      <th>sample</th>\n",
       "      <th>reviewer_score</th>\n",
       "      <th>country</th>\n",
       "      <th>city</th>\n",
       "      <th>clas_neg_review</th>\n",
       "      <th>clas_pos_review</th>\n",
       "      <th>nationality_same_as_country</th>\n",
       "      <th>...</th>\n",
       "      <th>average_score</th>\n",
       "      <th>review_total_negative_word_counts</th>\n",
       "      <th>total_number_of_reviews</th>\n",
       "      <th>review_total_positive_word_counts</th>\n",
       "      <th>total_number_of_reviews_reviewer_has_given</th>\n",
       "      <th>days_since_review</th>\n",
       "      <th>stay_length</th>\n",
       "      <th>review_month</th>\n",
       "      <th>review_day</th>\n",
       "      <th>review_weekday</th>\n",
       "    </tr>\n",
       "  </thead>\n",
       "  <tbody>\n",
       "    <tr>\n",
       "      <th>0</th>\n",
       "      <td>United Kingdom</td>\n",
       "      <td>45.533137</td>\n",
       "      <td>9.171102</td>\n",
       "      <td>0</td>\n",
       "      <td>0.0</td>\n",
       "      <td>Italy</td>\n",
       "      <td>Milan</td>\n",
       "      <td>pos</td>\n",
       "      <td>pos</td>\n",
       "      <td>0</td>\n",
       "      <td>...</td>\n",
       "      <td>-0.428571</td>\n",
       "      <td>2.047619</td>\n",
       "      <td>5.928222</td>\n",
       "      <td>3.000000</td>\n",
       "      <td>-0.285714</td>\n",
       "      <td>-0.965909</td>\n",
       "      <td>0.0</td>\n",
       "      <td>0.0</td>\n",
       "      <td>0.333333</td>\n",
       "      <td>0.5</td>\n",
       "    </tr>\n",
       "    <tr>\n",
       "      <th>1</th>\n",
       "      <td>Belgium</td>\n",
       "      <td>52.385649</td>\n",
       "      <td>4.834443</td>\n",
       "      <td>0</td>\n",
       "      <td>0.0</td>\n",
       "      <td>Netherlands</td>\n",
       "      <td>Amsterdam</td>\n",
       "      <td>neg</td>\n",
       "      <td>neg</td>\n",
       "      <td>0</td>\n",
       "      <td>...</td>\n",
       "      <td>0.285714</td>\n",
       "      <td>0.047619</td>\n",
       "      <td>1.176183</td>\n",
       "      <td>-0.647059</td>\n",
       "      <td>0.571429</td>\n",
       "      <td>-0.338068</td>\n",
       "      <td>-0.5</td>\n",
       "      <td>1.0</td>\n",
       "      <td>-0.266667</td>\n",
       "      <td>-0.5</td>\n",
       "    </tr>\n",
       "  </tbody>\n",
       "</table>\n",
       "<p>2 rows × 23 columns</p>\n",
       "</div>"
      ],
      "text/plain": [
       "  reviewer_nationality        lat       lng  sample  reviewer_score  \\\n",
       "0       United Kingdom  45.533137  9.171102       0             0.0   \n",
       "1              Belgium  52.385649  4.834443       0             0.0   \n",
       "\n",
       "       country       city clas_neg_review clas_pos_review  \\\n",
       "0        Italy      Milan             pos             pos   \n",
       "1  Netherlands  Amsterdam             neg             neg   \n",
       "\n",
       "   nationality_same_as_country  ... average_score  \\\n",
       "0                            0  ...     -0.428571   \n",
       "1                            0  ...      0.285714   \n",
       "\n",
       "  review_total_negative_word_counts  total_number_of_reviews  \\\n",
       "0                          2.047619                 5.928222   \n",
       "1                          0.047619                 1.176183   \n",
       "\n",
       "   review_total_positive_word_counts  \\\n",
       "0                           3.000000   \n",
       "1                          -0.647059   \n",
       "\n",
       "   total_number_of_reviews_reviewer_has_given  days_since_review  stay_length  \\\n",
       "0                                   -0.285714          -0.965909          0.0   \n",
       "1                                    0.571429          -0.338068         -0.5   \n",
       "\n",
       "   review_month  review_day  review_weekday  \n",
       "0           0.0    0.333333             0.5  \n",
       "1           1.0   -0.266667            -0.5  \n",
       "\n",
       "[2 rows x 23 columns]"
      ]
     },
     "execution_count": 48,
     "metadata": {},
     "output_type": "execute_result"
    }
   ],
   "source": [
    "data.drop(num_features, axis=1, inplace=True)\n",
    "data = data.join(data_norm_rs)\n",
    "data.head(2)"
   ]
  },
  {
   "attachments": {},
   "cell_type": "markdown",
   "id": "31ba3df9",
   "metadata": {
    "papermill": {
     "duration": 0.052142,
     "end_time": "2022-12-17T10:55:24.348279",
     "exception": false,
     "start_time": "2022-12-17T10:55:24.296137",
     "status": "completed"
    },
    "tags": []
   },
   "source": [
    "## Categorical features encoding"
   ]
  },
  {
   "cell_type": "code",
   "execution_count": 49,
   "id": "19e481a4",
   "metadata": {
    "execution": {
     "iopub.execute_input": "2022-12-17T10:55:24.653231Z",
     "iopub.status.busy": "2022-12-17T10:55:24.652428Z",
     "iopub.status.idle": "2022-12-17T10:55:24.685625Z",
     "shell.execute_reply": "2022-12-17T10:55:24.684621Z",
     "shell.execute_reply.started": "2022-12-17T10:46:16.572726Z"
    },
    "papermill": {
     "duration": 0.285134,
     "end_time": "2022-12-17T10:55:24.685867",
     "exception": false,
     "start_time": "2022-12-17T10:55:24.400733",
     "status": "completed"
    },
    "tags": []
   },
   "outputs": [
    {
     "data": {
      "text/plain": [
       "7"
      ]
     },
     "execution_count": 49,
     "metadata": {},
     "output_type": "execute_result"
    }
   ],
   "source": [
    "cat_features = [s for s in data.columns if data[s].dtypes == 'object']\n",
    "len(cat_features)"
   ]
  },
  {
   "cell_type": "code",
   "execution_count": 50,
   "id": "8e4b3b55",
   "metadata": {
    "execution": {
     "iopub.execute_input": "2022-12-17T10:55:25.132450Z",
     "iopub.status.busy": "2022-12-17T10:55:25.130807Z",
     "iopub.status.idle": "2022-12-17T10:55:25.598152Z",
     "shell.execute_reply": "2022-12-17T10:55:25.598688Z",
     "shell.execute_reply.started": "2022-12-17T10:46:16.881863Z"
    },
    "papermill": {
     "duration": 0.527705,
     "end_time": "2022-12-17T10:55:25.598897",
     "exception": false,
     "start_time": "2022-12-17T10:55:25.071192",
     "status": "completed"
    },
    "tags": []
   },
   "outputs": [
    {
     "data": {
      "text/plain": [
       "Index(['lat', 'lng', 'sample', 'reviewer_score', 'nationality_same_as_country',\n",
       "       'additional_number_of_scoring', 'average_score',\n",
       "       'review_total_negative_word_counts', 'total_number_of_reviews',\n",
       "       'review_total_positive_word_counts',\n",
       "       'total_number_of_reviews_reviewer_has_given', 'days_since_review',\n",
       "       'stay_length', 'review_month', 'review_day', 'review_weekday',\n",
       "       'reviewer_nationality_Australia', 'reviewer_nationality_Belgium',\n",
       "       'reviewer_nationality_Canada', 'reviewer_nationality_France',\n",
       "       'reviewer_nationality_Germany', 'reviewer_nationality_Ireland',\n",
       "       'reviewer_nationality_Israel', 'reviewer_nationality_Italy',\n",
       "       'reviewer_nationality_Netherlands', 'reviewer_nationality_Saudi Arabia',\n",
       "       'reviewer_nationality_Switzerland',\n",
       "       'reviewer_nationality_United Arab Emirates',\n",
       "       'reviewer_nationality_United Kingdom',\n",
       "       'reviewer_nationality_United States of America',\n",
       "       'reviewer_nationality_other', 'country_Austria', 'country_France',\n",
       "       'country_Italy', 'country_Netherlands', 'country_Spain',\n",
       "       'country_United Kingdom', 'city_Amsterdam', 'city_Barcelona',\n",
       "       'city_London', 'city_Milan', 'city_Paris', 'city_Vienna',\n",
       "       'clas_neg_review_neg', 'clas_neg_review_pos', 'clas_pos_review_neg',\n",
       "       'clas_pos_review_pos', 'traveller_type_ Couple',\n",
       "       'traveller_type_ Family with older children',\n",
       "       'traveller_type_ Family with young children', 'traveller_type_ Group',\n",
       "       'traveller_type_ Other', 'traveller_type_ Solo traveler',\n",
       "       'traveller_type_ Travelers with friends', 'trip_type_Business trip',\n",
       "       'trip_type_Couple', 'trip_type_Family', 'trip_type_Group',\n",
       "       'trip_type_Leisure trip', 'trip_type_Solo traveler',\n",
       "       'trip_type_With a pet'],\n",
       "      dtype='object')"
      ]
     },
     "execution_count": 50,
     "metadata": {},
     "output_type": "execute_result"
    }
   ],
   "source": [
    "data = pd.get_dummies(data) #, columns=categorical_columns_names\n",
    "data.columns"
   ]
  },
  {
   "attachments": {},
   "cell_type": "markdown",
   "id": "8fb9009d",
   "metadata": {},
   "source": [
    "## Multicollinearity study"
   ]
  },
  {
   "cell_type": "code",
   "execution_count": 51,
   "id": "458e60e4",
   "metadata": {},
   "outputs": [
    {
     "name": "stdout",
     "output_type": "stream",
     "text": [
      "Features with high correlation coeff:\n",
      "1 lat\n",
      "2 lng\n",
      "3 nationality_same_as_country\n",
      "4 additional_number_of_scoring\n",
      "5 total_number_of_reviews\n",
      "6 reviewer_nationality_United Kingdom\n",
      "7 country_Austria\n",
      "8 country_Spain\n",
      "9 city_Barcelona\n",
      "10 city_Vienna\n",
      "11 clas_neg_review_neg\n",
      "12 clas_neg_review_pos\n",
      "13 clas_pos_review_neg\n",
      "14 clas_pos_review_pos\n",
      "15 trip_type_Business trip\n",
      "16 trip_type_Leisure trip\n"
     ]
    }
   ],
   "source": [
    "# Find features with high correlation power\n",
    "pivot = data.corr()\n",
    "pivot = pivot.drop('sample', axis=0)\n",
    "pivot = pivot.drop('sample', axis=1)\n",
    "\n",
    "for col in pivot:\n",
    "    pivot[col] = pivot[col].apply(lambda x: np.nan if (abs(x) < 0.7 or x == 1) else x)\n",
    "    \n",
    "for col in pivot:\n",
    "    pivot = pivot.dropna(how='all')\n",
    "    pivot = pivot.dropna(how='all', axis='columns')\n",
    "\n",
    "high_correlation_features = list(pivot.columns) # список признаков c высокой корреляцией\n",
    "pivot \n",
    "\n",
    "print('Features with high correlation coeff:')\n",
    "for count, value in enumerate(high_correlation_features, start=1): # list features from 1\n",
    "    print(count, value)"
   ]
  },
  {
   "cell_type": "code",
   "execution_count": 52,
   "id": "3cc3d302",
   "metadata": {},
   "outputs": [
    {
     "data": {
      "image/png": "[encoded data removed]",
      "text/plain": [
       "<Figure size 1200x500 with 2 Axes>"
      ]
     },
     "metadata": {},
     "output_type": "display_data"
    }
   ],
   "source": [
    "fig, ax = plt.subplots(ncols=1, figsize=(12, 5))\n",
    "\n",
    "matrix = np.triu(pivot)  \n",
    "fig = sns.heatmap(round(abs(pivot),2), annot=True,  cmap= 'coolwarm', mask=matrix) #, vmin=-1, vmax=1, center= 0, fmt='.02g',\n",
    "ax.set_title('Fig. 6 - Feature correlation heatmap', y=-0.8, fontsize=12)\n",
    "ax.tick_params(axis='x', rotation=90);"
   ]
  },
  {
   "cell_type": "code",
   "execution_count": 53,
   "id": "c14ae9f0",
   "metadata": {},
   "outputs": [
    {
     "name": "stdout",
     "output_type": "stream",
     "text": [
      "Deleted 16 columns\n"
     ]
    }
   ],
   "source": [
    "# Drop features with high multicorrelation power\n",
    "counter = 0\n",
    "for lower_bound in np.linspace(0.98, 0.7, num=14):\n",
    "    for col in pivot:\n",
    "        if pivot[col].max() > lower_bound or pivot[col].min() < -lower_bound:\n",
    "            #pivot = pivot.drop(col, axis=0)\n",
    "            pivot = pivot.drop(col, axis=1)\n",
    "            #data = data.drop(col, axis=1)\n",
    "            counter += 1\n",
    "            \n",
    "print('Deleted', counter, 'columns')"
   ]
  },
  {
   "cell_type": "code",
   "execution_count": 54,
   "id": "cd1c875b",
   "metadata": {},
   "outputs": [],
   "source": [
    "# fig, ax = plt.subplots(ncols=1, figsize=(30, 25))\n",
    "\n",
    "# matrix = np.triu(data.corr())  \n",
    "# fig = sns.heatmap(round(abs(data.corr()),2), annot=True,  cmap= 'coolwarm', mask=matrix) #, vmin=-1, vmax=1, center= 0, fmt='.02g',\n",
    "# ax.set_title('Рис. 6 - Тепловая карта корреляции переменных', y=-0.15, fontsize=12);"
   ]
  },
  {
   "cell_type": "code",
   "execution_count": 55,
   "id": "efdbaf56",
   "metadata": {},
   "outputs": [
    {
     "data": {
      "text/plain": [
       "1    386803\n",
       "0    128935\n",
       "Name: sample, dtype: int64"
      ]
     },
     "execution_count": 55,
     "metadata": {},
     "output_type": "execute_result"
    }
   ],
   "source": [
    "data['sample'].value_counts()"
   ]
  },
  {
   "attachments": {},
   "cell_type": "markdown",
   "id": "22928e0d",
   "metadata": {
    "papermill": {
     "duration": 0.052673,
     "end_time": "2022-12-17T10:55:25.704723",
     "exception": false,
     "start_time": "2022-12-17T10:55:25.652050",
     "status": "completed"
    },
    "tags": []
   },
   "source": [
    "## Modelling"
   ]
  },
  {
   "cell_type": "code",
   "execution_count": 56,
   "id": "f0cd70cc",
   "metadata": {},
   "outputs": [],
   "source": [
    "data.dtypes.value_counts()\n",
    "\n",
    "# drop object type features if any\n",
    "object_columns = [s for s in data.columns if data[s].dtypes == 'object']\n",
    "data.drop(object_columns, axis = 1, inplace=True)"
   ]
  },
  {
   "cell_type": "code",
   "execution_count": 57,
   "id": "d3b88e73",
   "metadata": {
    "execution": {
     "iopub.execute_input": "2022-12-17T10:55:26.476240Z",
     "iopub.status.busy": "2022-12-17T10:55:26.475477Z",
     "iopub.status.idle": "2022-12-17T10:55:26.673853Z",
     "shell.execute_reply": "2022-12-17T10:55:26.673191Z",
     "shell.execute_reply.started": "2022-12-17T10:46:17.498003Z"
    },
    "papermill": {
     "duration": 0.25886,
     "end_time": "2022-12-17T10:55:26.674019",
     "exception": false,
     "start_time": "2022-12-17T10:55:26.415159",
     "status": "completed"
    },
    "tags": []
   },
   "outputs": [],
   "source": [
    "# Select the test sample\n",
    "train_data = data.query('sample == 1').drop(['sample'], axis=1)\n",
    "test_data = data.query('sample == 0').drop(['sample'], axis=1)\n",
    "\n",
    "X, y  = train_data.drop(['reviewer_score'], axis=1), train_data['reviewer_score'].values  # target feature"
   ]
  },
  {
   "cell_type": "code",
   "execution_count": 215,
   "id": "1813c0b6",
   "metadata": {},
   "outputs": [
    {
     "data": {
      "image/png": "[encoded data removed]",
      "text/plain": [
       "<Figure size 600x400 with 1 Axes>"
      ]
     },
     "metadata": {},
     "output_type": "display_data"
    }
   ],
   "source": [
    "#display(train_data['reviewer_score'].value_counts(normalize=True))\n",
    "\n",
    "fig, ax = plt.subplots(figsize = (6, 4))\n",
    "ax = sns.histplot(data=train_data, x='reviewer_score')\n",
    "ax.set_title('Fig.7 - Score distribution', y=-0.3);\n",
    "plt.tight_layout()\n",
    "\n",
    "plt.savefig('../figures/fig_7.png');"
   ]
  },
  {
   "cell_type": "code",
   "execution_count": 84,
   "id": "6884e95a",
   "metadata": {
    "execution": {
     "iopub.execute_input": "2022-12-17T10:55:26.794393Z",
     "iopub.status.busy": "2022-12-17T10:55:26.793599Z",
     "iopub.status.idle": "2022-12-17T10:55:26.946946Z",
     "shell.execute_reply": "2022-12-17T10:55:26.947463Z",
     "shell.execute_reply.started": "2022-12-17T10:46:17.693686Z"
    },
    "papermill": {
     "duration": 0.214752,
     "end_time": "2022-12-17T10:55:26.947653",
     "exception": false,
     "start_time": "2022-12-17T10:55:26.732901",
     "status": "completed"
    },
    "tags": []
   },
   "outputs": [
    {
     "name": "stdout",
     "output_type": "stream",
     "text": [
      "Train shape: (309442, 59)\n",
      "Valid shape: (38681, 59)\n",
      "Test shape:  (38680, 59)\n"
     ]
    }
   ],
   "source": [
    "# Split data by 3 samples: train, test and valid\n",
    "X_train, X_valid, y_train, y_valid = train_test_split(X, y, stratify=y, test_size=0.2, random_state=random_seed)\n",
    "X_test, X_valid, y_test, y_valid  = train_test_split(X_valid, y_valid, test_size=0.5, random_state=random_seed)\n",
    "\n",
    "# Check samples shapes\n",
    "print('Train shape: {}'.format(X_train.shape))\n",
    "print('Test shape:  {}'.format(X_test.shape))\n",
    "print('Valid shape: {}'.format(X_valid.shape))"
   ]
  },
  {
   "attachments": {},
   "cell_type": "markdown",
   "id": "5f8186a0",
   "metadata": {},
   "source": [
    "### Random forest"
   ]
  },
  {
   "cell_type": "code",
   "execution_count": 98,
   "id": "a6983b92",
   "metadata": {
    "execution": {
     "iopub.execute_input": "2022-12-17T10:55:27.550756Z",
     "iopub.status.busy": "2022-12-17T10:55:27.549990Z",
     "iopub.status.idle": "2022-12-17T10:55:27.553051Z",
     "shell.execute_reply": "2022-12-17T10:55:27.552401Z",
     "shell.execute_reply.started": "2022-12-17T10:46:18.081680Z"
    },
    "papermill": {
     "duration": 0.064719,
     "end_time": "2022-12-17T10:55:27.553197",
     "exception": false,
     "start_time": "2022-12-17T10:55:27.488478",
     "status": "completed"
    },
    "tags": []
   },
   "outputs": [
    {
     "name": "stderr",
     "output_type": "stream",
     "text": [
      "[Parallel(n_jobs=-1)]: Using backend ThreadingBackend with 16 concurrent workers.\n",
      "[Parallel(n_jobs=-1)]: Done  18 tasks      | elapsed:   24.1s\n",
      "[Parallel(n_jobs=-1)]: Done 100 out of 100 | elapsed:  1.4min finished\n"
     ]
    },
    {
     "data": {
      "text/html": [
       "<style>#sk-container-id-3 {color: black;background-color: white;}#sk-container-id-3 pre{padding: 0;}#sk-container-id-3 div.sk-toggleable {background-color: white;}#sk-container-id-3 label.sk-toggleable__label {cursor: pointer;display: block;width: 100%;margin-bottom: 0;padding: 0.3em;box-sizing: border-box;text-align: center;}#sk-container-id-3 label.sk-toggleable__label-arrow:before {content: \"▸\";float: left;margin-right: 0.25em;color: #696969;}#sk-container-id-3 label.sk-toggleable__label-arrow:hover:before {color: black;}#sk-container-id-3 div.sk-estimator:hover label.sk-toggleable__label-arrow:before {color: black;}#sk-container-id-3 div.sk-toggleable__content {max-height: 0;max-width: 0;overflow: hidden;text-align: left;background-color: #f0f8ff;}#sk-container-id-3 div.sk-toggleable__content pre {margin: 0.2em;color: black;border-radius: 0.25em;background-color: #f0f8ff;}#sk-container-id-3 input.sk-toggleable__control:checked~div.sk-toggleable__content {max-height: 200px;max-width: 100%;overflow: auto;}#sk-container-id-3 input.sk-toggleable__control:checked~label.sk-toggleable__label-arrow:before {content: \"▾\";}#sk-container-id-3 div.sk-estimator input.sk-toggleable__control:checked~label.sk-toggleable__label {background-color: #d4ebff;}#sk-container-id-3 div.sk-label input.sk-toggleable__control:checked~label.sk-toggleable__label {background-color: #d4ebff;}#sk-container-id-3 input.sk-hidden--visually {border: 0;clip: rect(1px 1px 1px 1px);clip: rect(1px, 1px, 1px, 1px);height: 1px;margin: -1px;overflow: hidden;padding: 0;position: absolute;width: 1px;}#sk-container-id-3 div.sk-estimator {font-family: monospace;background-color: #f0f8ff;border: 1px dotted black;border-radius: 0.25em;box-sizing: border-box;margin-bottom: 0.5em;}#sk-container-id-3 div.sk-estimator:hover {background-color: #d4ebff;}#sk-container-id-3 div.sk-parallel-item::after {content: \"\";width: 100%;border-bottom: 1px solid gray;flex-grow: 1;}#sk-container-id-3 div.sk-label:hover label.sk-toggleable__label {background-color: #d4ebff;}#sk-container-id-3 div.sk-serial::before {content: \"\";position: absolute;border-left: 1px solid gray;box-sizing: border-box;top: 0;bottom: 0;left: 50%;z-index: 0;}#sk-container-id-3 div.sk-serial {display: flex;flex-direction: column;align-items: center;background-color: white;padding-right: 0.2em;padding-left: 0.2em;position: relative;}#sk-container-id-3 div.sk-item {position: relative;z-index: 1;}#sk-container-id-3 div.sk-parallel {display: flex;align-items: stretch;justify-content: center;background-color: white;position: relative;}#sk-container-id-3 div.sk-item::before, #sk-container-id-3 div.sk-parallel-item::before {content: \"\";position: absolute;border-left: 1px solid gray;box-sizing: border-box;top: 0;bottom: 0;left: 50%;z-index: -1;}#sk-container-id-3 div.sk-parallel-item {display: flex;flex-direction: column;z-index: 1;position: relative;background-color: white;}#sk-container-id-3 div.sk-parallel-item:first-child::after {align-self: flex-end;width: 50%;}#sk-container-id-3 div.sk-parallel-item:last-child::after {align-self: flex-start;width: 50%;}#sk-container-id-3 div.sk-parallel-item:only-child::after {width: 0;}#sk-container-id-3 div.sk-dashed-wrapped {border: 1px dashed gray;margin: 0 0.4em 0.5em 0.4em;box-sizing: border-box;padding-bottom: 0.4em;background-color: white;}#sk-container-id-3 div.sk-label label {font-family: monospace;font-weight: bold;display: inline-block;line-height: 1.2em;}#sk-container-id-3 div.sk-label-container {text-align: center;}#sk-container-id-3 div.sk-container {/* jupyter's `normalize.less` sets `[hidden] { display: none; }` but bootstrap.min.css set `[hidden] { display: none !important; }` so we also need the `!important` here to be able to override the default hidden behavior on the sphinx rendered scikit-learn.org. See: https://github.com/scikit-learn/scikit-learn/issues/21755 */display: inline-block !important;position: relative;}#sk-container-id-3 div.sk-text-repr-fallback {display: none;}</style><div id=\"sk-container-id-3\" class=\"sk-top-container\"><div class=\"sk-text-repr-fallback\"><pre>RandomForestRegressor(n_jobs=-1, random_state=42, verbose=1)</pre><b>In a Jupyter environment, please rerun this cell to show the HTML representation or trust the notebook. <br />On GitHub, the HTML representation is unable to render, please try loading this page with nbviewer.org.</b></div><div class=\"sk-container\" hidden><div class=\"sk-item\"><div class=\"sk-estimator sk-toggleable\"><input class=\"sk-toggleable__control sk-hidden--visually\" id=\"sk-estimator-id-9\" type=\"checkbox\" checked><label for=\"sk-estimator-id-9\" class=\"sk-toggleable__label sk-toggleable__label-arrow\">RandomForestRegressor</label><div class=\"sk-toggleable__content\"><pre>RandomForestRegressor(n_jobs=-1, random_state=42, verbose=1)</pre></div></div></div></div></div>"
      ],
      "text/plain": [
       "RandomForestRegressor(n_jobs=-1, random_state=42, verbose=1)"
      ]
     },
     "execution_count": 98,
     "metadata": {},
     "output_type": "execute_result"
    }
   ],
   "source": [
    "model_rf = RandomForestRegressor(n_estimators=100, \n",
    "                                 verbose=1, n_jobs=-1, \n",
    "                                 random_state=random_seed)\n",
    "\n",
    "#Train model\n",
    "model_rf.fit(X_train, y_train)"
   ]
  },
  {
   "cell_type": "code",
   "execution_count": 100,
   "id": "bd47fd40",
   "metadata": {},
   "outputs": [
    {
     "name": "stderr",
     "output_type": "stream",
     "text": [
      "[Parallel(n_jobs=16)]: Using backend ThreadingBackend with 16 concurrent workers.\n",
      "[Parallel(n_jobs=16)]: Done  18 tasks      | elapsed:    0.0s\n"
     ]
    },
    {
     "name": "stdout",
     "output_type": "stream",
     "text": [
      " MAE: 1.5\n",
      "MAPE: 22.29 %\n"
     ]
    },
    {
     "name": "stderr",
     "output_type": "stream",
     "text": [
      "[Parallel(n_jobs=16)]: Done 100 out of 100 | elapsed:    0.3s finished\n"
     ]
    }
   ],
   "source": [
    "y_pred_rf = model_rf.predict(X_valid[1:])\n",
    "\n",
    "print(' MAE: {:.2}'.format(metrics.mean_absolute_error(y_test, y_pred_rf)))\n",
    "print(f\"MAPE: {round(metrics.mean_absolute_percentage_error(y_test, y_pred_rf)*100, 2)} %\")"
   ]
  },
  {
   "cell_type": "code",
   "execution_count": 68,
   "id": "ca9a9142",
   "metadata": {
    "execution": {
     "iopub.execute_input": "2022-12-17T10:57:18.272587Z",
     "iopub.status.busy": "2022-12-17T10:57:18.271891Z",
     "iopub.status.idle": "2022-12-17T10:57:18.893773Z",
     "shell.execute_reply": "2022-12-17T10:57:18.894327Z",
     "shell.execute_reply.started": "2022-12-17T10:48:03.214524Z"
    },
    "papermill": {
     "duration": 0.685887,
     "end_time": "2022-12-17T10:57:18.894510",
     "exception": false,
     "start_time": "2022-12-17T10:57:18.208623",
     "status": "completed"
    },
    "tags": []
   },
   "outputs": [],
   "source": [
    "# # в RandomForestRegressor есть возможность вывести самые важные признаки для модели\n",
    "# plt.rcParams['figure.figsize'] = (6,6)\n",
    "# feat_importances = pd.Series(model.feature_importances_, index=X.columns)\n",
    "# feat_importances.nlargest(15).plot(kind='barh')"
   ]
  },
  {
   "attachments": {},
   "cell_type": "markdown",
   "id": "e46128a8",
   "metadata": {},
   "source": [
    "#### Save model \n",
    "\n",
    "Saved model is about 320 Mb and it is better not to save it"
   ]
  },
  {
   "cell_type": "code",
   "execution_count": 69,
   "id": "1d3de648",
   "metadata": {},
   "outputs": [],
   "source": [
    "# # Save model to the given path in the pkl format\n",
    "# model_path = config.model_path\n",
    "# full_path = os.path.join(model_path, 'model_rf.pkl')\n",
    "\n",
    "# # with open(full_path, 'wb') as f:\n",
    "# #     pickle.dump(model_rf, f)\n",
    "\n",
    "# with open(full_path, 'wb') as f:\n",
    "#     joblib.dump(model_rf, f, compress=5)"
   ]
  },
  {
   "attachments": {},
   "cell_type": "markdown",
   "id": "6f581dd1",
   "metadata": {},
   "source": [
    "### Model 2. Random forest + cross validation"
   ]
  },
  {
   "cell_type": "code",
   "execution_count": 70,
   "id": "b25a74c9",
   "metadata": {},
   "outputs": [],
   "source": [
    "# % time\n",
    "# param_distributions = {\n",
    "#     'n_estimators': list(range(400, 500, 100)),\n",
    "#     #'criterion': ['squared_error', 'absolute_error'],\n",
    "#     #'max_depth': list(np.linspace(5, 45, 15, dtype=int)),\n",
    "#     #'min_samples_leaf': list(range(3, 12, 3)),\n",
    "#     \"bootstrap\":[True]\n",
    "# }\n",
    "            \n",
    "# random_search_forest = RandomizedSearchCV(\n",
    "#     estimator=ensemble.RandomForestRegressor(random_state=random_seed), \n",
    "#     param_distributions=param_distributions, \n",
    "#     cv=5,\n",
    "#     n_iter = 5, \n",
    "#     n_jobs = -1\n",
    "# )  \n",
    "\n",
    "# random_search_forest.fit(X_train, y_train) \n",
    "\n",
    "# y_train_pred = random_search_forest.predict(X_train)\n",
    "# y_test_pred = random_search_forest.predict(X_test)\n",
    "# print('f1_score for validation sample: {:.2f}'.format(metrics.f1_score(y_test, y_test_pred)))\n",
    "# print(\"Best hyperparameters are: {}\".format(random_search_forest.best_params_))\n",
    "\n",
    "# # save best parameters to a new dict\n",
    "# best_params_rf = random_search_forest.best_params_"
   ]
  },
  {
   "attachments": {},
   "cell_type": "markdown",
   "id": "e8ca9a15",
   "metadata": {},
   "source": [
    "### Model 3. Random forest + optuna"
   ]
  },
  {
   "cell_type": "code",
   "execution_count": 71,
   "id": "bdf6598e",
   "metadata": {},
   "outputs": [],
   "source": [
    "# def optuna_rf(trial):\n",
    "#     # hyperparameters range\n",
    "#     n_estimators = trial.suggest_int('n_estimators', 400, 500, 100)\n",
    "#     #max_depth = trial.suggest_int('max_depth', 30, 50, 10)\n",
    "#     #min_samples_leaf = trial.suggest_int('min_samples_leaf', 4, 12, 3)\n",
    "    \n",
    "#     # create the model\n",
    "#     model = ensemble.RandomForestRegressor(\n",
    "#         n_estimators=n_estimators,\n",
    "#         #max_depth=max_depth,\n",
    "#         #min_samples_leaf=min_samples_leaf,\n",
    "#         #criterion=criterion,\n",
    "#         random_state=random_seed\n",
    "#     )\n",
    "    \n",
    "#     # train model\n",
    "#     model.fit(X_train, y_train)\n",
    "#     score = metrics.mean_absolute_error(y_train, model.predict(X_train)).round(4)\n",
    "\n",
    "#     return score"
   ]
  },
  {
   "cell_type": "code",
   "execution_count": 72,
   "id": "9c8cc7d4",
   "metadata": {},
   "outputs": [],
   "source": [
    "# %%time\n",
    "\n",
    "# # Creation of an instance of optuna class\n",
    "# study = optuna.create_study(study_name=\"RandomForestRegressor\", direction=\"minimize\")\n",
    "\n",
    "# # tyr to find best hyperparameters n_trials times\n",
    "# study.optimize(optuna_rf, n_trials=2)\n",
    "\n",
    "# #clear_output(wait=False)\n",
    "\n",
    "# # Display optimized hyperparameters by optuna\n",
    "# print(\"Best hyperparameters {}\".format(study.best_params))\n",
    "# print(\"Best MAE: {:.2f}\".format(study.best_value))\n",
    "# best_params_opt = study.best_params"
   ]
  },
  {
   "cell_type": "code",
   "execution_count": 73,
   "id": "e8ffd689",
   "metadata": {},
   "outputs": [],
   "source": [
    "#optuna.visualization.plot_optimization_history(study, target_name=\"f1_score\")"
   ]
  },
  {
   "attachments": {},
   "cell_type": "markdown",
   "id": "8708bf87",
   "metadata": {},
   "source": [
    "## Model 4. Stacking"
   ]
  },
  {
   "cell_type": "code",
   "execution_count": 86,
   "id": "005fe63d",
   "metadata": {},
   "outputs": [
    {
     "name": "stderr",
     "output_type": "stream",
     "text": [
      "[Parallel(n_jobs=-1)]: Using backend LokyBackend with 16 concurrent workers.\n",
      "[Parallel(n_jobs=-1)]: Done  18 tasks      | elapsed:   29.5s\n",
      "[Parallel(n_jobs=-1)]: Done 100 out of 100 | elapsed:  1.7min finished\n",
      "[Parallel(n_jobs=-1)]: Using backend LokyBackend with 16 concurrent workers.\n",
      "[Parallel(n_jobs=-1)]: Done  18 tasks      | elapsed:   19.8s\n",
      "[Parallel(n_jobs=-1)]: Done 100 out of 100 | elapsed:  1.2min finished\n",
      "[Parallel(n_jobs=16)]: Using backend ThreadingBackend with 16 concurrent workers.\n",
      "[Parallel(n_jobs=16)]: Done  18 tasks      | elapsed:    0.1s\n",
      "[Parallel(n_jobs=16)]: Done 100 out of 100 | elapsed:    0.5s finished\n",
      "[Parallel(n_jobs=-1)]: Using backend LokyBackend with 16 concurrent workers.\n",
      "[Parallel(n_jobs=-1)]: Done  18 tasks      | elapsed:   21.2s\n",
      "[Parallel(n_jobs=-1)]: Done 100 out of 100 | elapsed:  1.2min finished\n",
      "[Parallel(n_jobs=16)]: Using backend ThreadingBackend with 16 concurrent workers.\n",
      "[Parallel(n_jobs=16)]: Done  18 tasks      | elapsed:    0.0s\n",
      "[Parallel(n_jobs=16)]: Done 100 out of 100 | elapsed:    0.4s finished\n",
      "[Parallel(n_jobs=-1)]: Using backend LokyBackend with 16 concurrent workers.\n",
      "[Parallel(n_jobs=-1)]: Done  18 tasks      | elapsed:   17.6s\n",
      "[Parallel(n_jobs=-1)]: Done 100 out of 100 | elapsed:   59.8s finished\n",
      "[Parallel(n_jobs=16)]: Using backend ThreadingBackend with 16 concurrent workers.\n",
      "[Parallel(n_jobs=16)]: Done  18 tasks      | elapsed:    0.1s\n",
      "[Parallel(n_jobs=16)]: Done 100 out of 100 | elapsed:    0.4s finished\n",
      "[Parallel(n_jobs=-1)]: Using backend LokyBackend with 16 concurrent workers.\n",
      "[Parallel(n_jobs=-1)]: Done  18 tasks      | elapsed:   18.4s\n",
      "[Parallel(n_jobs=-1)]: Done 100 out of 100 | elapsed:  1.0min finished\n",
      "[Parallel(n_jobs=16)]: Using backend ThreadingBackend with 16 concurrent workers.\n",
      "[Parallel(n_jobs=16)]: Done  18 tasks      | elapsed:    0.0s\n",
      "[Parallel(n_jobs=16)]: Done 100 out of 100 | elapsed:    0.4s finished\n",
      "[Parallel(n_jobs=-1)]: Using backend LokyBackend with 16 concurrent workers.\n",
      "[Parallel(n_jobs=-1)]: Done  18 tasks      | elapsed:   17.8s\n",
      "[Parallel(n_jobs=-1)]: Done 100 out of 100 | elapsed:  1.1min finished\n",
      "[Parallel(n_jobs=16)]: Using backend ThreadingBackend with 16 concurrent workers.\n",
      "[Parallel(n_jobs=16)]: Done  18 tasks      | elapsed:    0.1s\n",
      "[Parallel(n_jobs=16)]: Done 100 out of 100 | elapsed:    0.5s finished\n"
     ]
    },
    {
     "data": {
      "text/html": [
       "<style>#sk-container-id-1 {color: black;background-color: white;}#sk-container-id-1 pre{padding: 0;}#sk-container-id-1 div.sk-toggleable {background-color: white;}#sk-container-id-1 label.sk-toggleable__label {cursor: pointer;display: block;width: 100%;margin-bottom: 0;padding: 0.3em;box-sizing: border-box;text-align: center;}#sk-container-id-1 label.sk-toggleable__label-arrow:before {content: \"▸\";float: left;margin-right: 0.25em;color: #696969;}#sk-container-id-1 label.sk-toggleable__label-arrow:hover:before {color: black;}#sk-container-id-1 div.sk-estimator:hover label.sk-toggleable__label-arrow:before {color: black;}#sk-container-id-1 div.sk-toggleable__content {max-height: 0;max-width: 0;overflow: hidden;text-align: left;background-color: #f0f8ff;}#sk-container-id-1 div.sk-toggleable__content pre {margin: 0.2em;color: black;border-radius: 0.25em;background-color: #f0f8ff;}#sk-container-id-1 input.sk-toggleable__control:checked~div.sk-toggleable__content {max-height: 200px;max-width: 100%;overflow: auto;}#sk-container-id-1 input.sk-toggleable__control:checked~label.sk-toggleable__label-arrow:before {content: \"▾\";}#sk-container-id-1 div.sk-estimator input.sk-toggleable__control:checked~label.sk-toggleable__label {background-color: #d4ebff;}#sk-container-id-1 div.sk-label input.sk-toggleable__control:checked~label.sk-toggleable__label {background-color: #d4ebff;}#sk-container-id-1 input.sk-hidden--visually {border: 0;clip: rect(1px 1px 1px 1px);clip: rect(1px, 1px, 1px, 1px);height: 1px;margin: -1px;overflow: hidden;padding: 0;position: absolute;width: 1px;}#sk-container-id-1 div.sk-estimator {font-family: monospace;background-color: #f0f8ff;border: 1px dotted black;border-radius: 0.25em;box-sizing: border-box;margin-bottom: 0.5em;}#sk-container-id-1 div.sk-estimator:hover {background-color: #d4ebff;}#sk-container-id-1 div.sk-parallel-item::after {content: \"\";width: 100%;border-bottom: 1px solid gray;flex-grow: 1;}#sk-container-id-1 div.sk-label:hover label.sk-toggleable__label {background-color: #d4ebff;}#sk-container-id-1 div.sk-serial::before {content: \"\";position: absolute;border-left: 1px solid gray;box-sizing: border-box;top: 0;bottom: 0;left: 50%;z-index: 0;}#sk-container-id-1 div.sk-serial {display: flex;flex-direction: column;align-items: center;background-color: white;padding-right: 0.2em;padding-left: 0.2em;position: relative;}#sk-container-id-1 div.sk-item {position: relative;z-index: 1;}#sk-container-id-1 div.sk-parallel {display: flex;align-items: stretch;justify-content: center;background-color: white;position: relative;}#sk-container-id-1 div.sk-item::before, #sk-container-id-1 div.sk-parallel-item::before {content: \"\";position: absolute;border-left: 1px solid gray;box-sizing: border-box;top: 0;bottom: 0;left: 50%;z-index: -1;}#sk-container-id-1 div.sk-parallel-item {display: flex;flex-direction: column;z-index: 1;position: relative;background-color: white;}#sk-container-id-1 div.sk-parallel-item:first-child::after {align-self: flex-end;width: 50%;}#sk-container-id-1 div.sk-parallel-item:last-child::after {align-self: flex-start;width: 50%;}#sk-container-id-1 div.sk-parallel-item:only-child::after {width: 0;}#sk-container-id-1 div.sk-dashed-wrapped {border: 1px dashed gray;margin: 0 0.4em 0.5em 0.4em;box-sizing: border-box;padding-bottom: 0.4em;background-color: white;}#sk-container-id-1 div.sk-label label {font-family: monospace;font-weight: bold;display: inline-block;line-height: 1.2em;}#sk-container-id-1 div.sk-label-container {text-align: center;}#sk-container-id-1 div.sk-container {/* jupyter's `normalize.less` sets `[hidden] { display: none; }` but bootstrap.min.css set `[hidden] { display: none !important; }` so we also need the `!important` here to be able to override the default hidden behavior on the sphinx rendered scikit-learn.org. See: https://github.com/scikit-learn/scikit-learn/issues/21755 */display: inline-block !important;position: relative;}#sk-container-id-1 div.sk-text-repr-fallback {display: none;}</style><div id=\"sk-container-id-1\" class=\"sk-top-container\"><div class=\"sk-text-repr-fallback\"><pre>StackingRegressor(estimators=[(&#x27;linear&#x27;, LinearRegression()),\n",
       "                              (&#x27;dt&#x27;,\n",
       "                               RandomForestRegressor(n_jobs=-1, random_state=42,\n",
       "                                                     verbose=1))],\n",
       "                  final_estimator=RandomForestRegressor(random_state=42))</pre><b>In a Jupyter environment, please rerun this cell to show the HTML representation or trust the notebook. <br />On GitHub, the HTML representation is unable to render, please try loading this page with nbviewer.org.</b></div><div class=\"sk-container\" hidden><div class=\"sk-item sk-dashed-wrapped\"><div class=\"sk-label-container\"><div class=\"sk-label sk-toggleable\"><input class=\"sk-toggleable__control sk-hidden--visually\" id=\"sk-estimator-id-1\" type=\"checkbox\" ><label for=\"sk-estimator-id-1\" class=\"sk-toggleable__label sk-toggleable__label-arrow\">StackingRegressor</label><div class=\"sk-toggleable__content\"><pre>StackingRegressor(estimators=[(&#x27;linear&#x27;, LinearRegression()),\n",
       "                              (&#x27;dt&#x27;,\n",
       "                               RandomForestRegressor(n_jobs=-1, random_state=42,\n",
       "                                                     verbose=1))],\n",
       "                  final_estimator=RandomForestRegressor(random_state=42))</pre></div></div></div><div class=\"sk-serial\"><div class=\"sk-item\"><div class=\"sk-parallel\"><div class=\"sk-parallel-item\"><div class=\"sk-item\"><div class=\"sk-label-container\"><div class=\"sk-label sk-toggleable\"><label>linear</label></div></div><div class=\"sk-serial\"><div class=\"sk-item\"><div class=\"sk-estimator sk-toggleable\"><input class=\"sk-toggleable__control sk-hidden--visually\" id=\"sk-estimator-id-2\" type=\"checkbox\" ><label for=\"sk-estimator-id-2\" class=\"sk-toggleable__label sk-toggleable__label-arrow\">LinearRegression</label><div class=\"sk-toggleable__content\"><pre>LinearRegression()</pre></div></div></div></div></div></div><div class=\"sk-parallel-item\"><div class=\"sk-item\"><div class=\"sk-label-container\"><div class=\"sk-label sk-toggleable\"><label>dt</label></div></div><div class=\"sk-serial\"><div class=\"sk-item\"><div class=\"sk-estimator sk-toggleable\"><input class=\"sk-toggleable__control sk-hidden--visually\" id=\"sk-estimator-id-3\" type=\"checkbox\" ><label for=\"sk-estimator-id-3\" class=\"sk-toggleable__label sk-toggleable__label-arrow\">RandomForestRegressor</label><div class=\"sk-toggleable__content\"><pre>RandomForestRegressor(n_jobs=-1, random_state=42, verbose=1)</pre></div></div></div></div></div></div></div></div><div class=\"sk-item\"><div class=\"sk-parallel\"><div class=\"sk-parallel-item\"><div class=\"sk-item\"><div class=\"sk-label-container\"><div class=\"sk-label sk-toggleable\"><label>final_estimator</label></div></div><div class=\"sk-serial\"><div class=\"sk-item\"><div class=\"sk-estimator sk-toggleable\"><input class=\"sk-toggleable__control sk-hidden--visually\" id=\"sk-estimator-id-4\" type=\"checkbox\" ><label for=\"sk-estimator-id-4\" class=\"sk-toggleable__label sk-toggleable__label-arrow\">RandomForestRegressor</label><div class=\"sk-toggleable__content\"><pre>RandomForestRegressor(random_state=42)</pre></div></div></div></div></div></div></div></div></div></div></div></div>"
      ],
      "text/plain": [
       "StackingRegressor(estimators=[('linear', LinearRegression()),\n",
       "                              ('dt',\n",
       "                               RandomForestRegressor(n_jobs=-1, random_state=42,\n",
       "                                                     verbose=1))],\n",
       "                  final_estimator=RandomForestRegressor(random_state=42))"
      ]
     },
     "execution_count": 86,
     "metadata": {},
     "output_type": "execute_result"
    }
   ],
   "source": [
    "# Initiate estimators\n",
    "estimators = [\n",
    "    ('linear', LinearRegression()),\n",
    "    ('dt',  RandomForestRegressor(n_estimators=100, verbose=1, n_jobs=-1, random_state=random_seed))\n",
    "]\n",
    "\n",
    "# Create an instance of the stacking class\n",
    "reg = StackingRegressor(\n",
    "    estimators=estimators,\n",
    "    final_estimator=RandomForestRegressor(\n",
    "        n_estimators=100,\n",
    "        random_state=random_seed)\n",
    ")\n",
    "# Training the model\n",
    "reg.fit(X_train, y_train)"
   ]
  },
  {
   "cell_type": "code",
   "execution_count": 97,
   "id": "3bb96528",
   "metadata": {},
   "outputs": [
    {
     "name": "stderr",
     "output_type": "stream",
     "text": [
      "[Parallel(n_jobs=16)]: Using backend ThreadingBackend with 16 concurrent workers.\n",
      "[Parallel(n_jobs=16)]: Done  18 tasks      | elapsed:    0.0s\n",
      "[Parallel(n_jobs=16)]: Done 100 out of 100 | elapsed:    0.3s finished\n"
     ]
    },
    {
     "name": "stdout",
     "output_type": "stream",
     "text": [
      " MAE: 1.6\n",
      "MAPE: 22.75 %\n"
     ]
    }
   ],
   "source": [
    "# get the prediction\n",
    "y_pred_st_lin = reg.predict(X_valid[1:]) #X_test\n",
    "\n",
    "print(' MAE: {:.2}'.format(metrics.mean_absolute_error(y_test, y_pred_st_lin)))\n",
    "print(f\"MAPE: {round(metrics.mean_absolute_percentage_error(y_test, y_pred_st_lin)*100, 2)} %\")"
   ]
  },
  {
   "attachments": {},
   "cell_type": "markdown",
   "id": "ba19e0fd",
   "metadata": {},
   "source": [
    "## Stacking"
   ]
  },
  {
   "cell_type": "code",
   "execution_count": 95,
   "id": "db8b7e64",
   "metadata": {},
   "outputs": [
    {
     "data": {
      "text/html": [
       "<style>#sk-container-id-2 {color: black;background-color: white;}#sk-container-id-2 pre{padding: 0;}#sk-container-id-2 div.sk-toggleable {background-color: white;}#sk-container-id-2 label.sk-toggleable__label {cursor: pointer;display: block;width: 100%;margin-bottom: 0;padding: 0.3em;box-sizing: border-box;text-align: center;}#sk-container-id-2 label.sk-toggleable__label-arrow:before {content: \"▸\";float: left;margin-right: 0.25em;color: #696969;}#sk-container-id-2 label.sk-toggleable__label-arrow:hover:before {color: black;}#sk-container-id-2 div.sk-estimator:hover label.sk-toggleable__label-arrow:before {color: black;}#sk-container-id-2 div.sk-toggleable__content {max-height: 0;max-width: 0;overflow: hidden;text-align: left;background-color: #f0f8ff;}#sk-container-id-2 div.sk-toggleable__content pre {margin: 0.2em;color: black;border-radius: 0.25em;background-color: #f0f8ff;}#sk-container-id-2 input.sk-toggleable__control:checked~div.sk-toggleable__content {max-height: 200px;max-width: 100%;overflow: auto;}#sk-container-id-2 input.sk-toggleable__control:checked~label.sk-toggleable__label-arrow:before {content: \"▾\";}#sk-container-id-2 div.sk-estimator input.sk-toggleable__control:checked~label.sk-toggleable__label {background-color: #d4ebff;}#sk-container-id-2 div.sk-label input.sk-toggleable__control:checked~label.sk-toggleable__label {background-color: #d4ebff;}#sk-container-id-2 input.sk-hidden--visually {border: 0;clip: rect(1px 1px 1px 1px);clip: rect(1px, 1px, 1px, 1px);height: 1px;margin: -1px;overflow: hidden;padding: 0;position: absolute;width: 1px;}#sk-container-id-2 div.sk-estimator {font-family: monospace;background-color: #f0f8ff;border: 1px dotted black;border-radius: 0.25em;box-sizing: border-box;margin-bottom: 0.5em;}#sk-container-id-2 div.sk-estimator:hover {background-color: #d4ebff;}#sk-container-id-2 div.sk-parallel-item::after {content: \"\";width: 100%;border-bottom: 1px solid gray;flex-grow: 1;}#sk-container-id-2 div.sk-label:hover label.sk-toggleable__label {background-color: #d4ebff;}#sk-container-id-2 div.sk-serial::before {content: \"\";position: absolute;border-left: 1px solid gray;box-sizing: border-box;top: 0;bottom: 0;left: 50%;z-index: 0;}#sk-container-id-2 div.sk-serial {display: flex;flex-direction: column;align-items: center;background-color: white;padding-right: 0.2em;padding-left: 0.2em;position: relative;}#sk-container-id-2 div.sk-item {position: relative;z-index: 1;}#sk-container-id-2 div.sk-parallel {display: flex;align-items: stretch;justify-content: center;background-color: white;position: relative;}#sk-container-id-2 div.sk-item::before, #sk-container-id-2 div.sk-parallel-item::before {content: \"\";position: absolute;border-left: 1px solid gray;box-sizing: border-box;top: 0;bottom: 0;left: 50%;z-index: -1;}#sk-container-id-2 div.sk-parallel-item {display: flex;flex-direction: column;z-index: 1;position: relative;background-color: white;}#sk-container-id-2 div.sk-parallel-item:first-child::after {align-self: flex-end;width: 50%;}#sk-container-id-2 div.sk-parallel-item:last-child::after {align-self: flex-start;width: 50%;}#sk-container-id-2 div.sk-parallel-item:only-child::after {width: 0;}#sk-container-id-2 div.sk-dashed-wrapped {border: 1px dashed gray;margin: 0 0.4em 0.5em 0.4em;box-sizing: border-box;padding-bottom: 0.4em;background-color: white;}#sk-container-id-2 div.sk-label label {font-family: monospace;font-weight: bold;display: inline-block;line-height: 1.2em;}#sk-container-id-2 div.sk-label-container {text-align: center;}#sk-container-id-2 div.sk-container {/* jupyter's `normalize.less` sets `[hidden] { display: none; }` but bootstrap.min.css set `[hidden] { display: none !important; }` so we also need the `!important` here to be able to override the default hidden behavior on the sphinx rendered scikit-learn.org. See: https://github.com/scikit-learn/scikit-learn/issues/21755 */display: inline-block !important;position: relative;}#sk-container-id-2 div.sk-text-repr-fallback {display: none;}</style><div id=\"sk-container-id-2\" class=\"sk-top-container\"><div class=\"sk-text-repr-fallback\"><pre>StackingRegressor(estimators=[(&#x27;lr&#x27;, RidgeCV()),\n",
       "                              (&#x27;dt&#x27;, DecisionTreeRegressor(random_state=42))],\n",
       "                  final_estimator=RandomForestRegressor(random_state=42))</pre><b>In a Jupyter environment, please rerun this cell to show the HTML representation or trust the notebook. <br />On GitHub, the HTML representation is unable to render, please try loading this page with nbviewer.org.</b></div><div class=\"sk-container\" hidden><div class=\"sk-item sk-dashed-wrapped\"><div class=\"sk-label-container\"><div class=\"sk-label sk-toggleable\"><input class=\"sk-toggleable__control sk-hidden--visually\" id=\"sk-estimator-id-5\" type=\"checkbox\" ><label for=\"sk-estimator-id-5\" class=\"sk-toggleable__label sk-toggleable__label-arrow\">StackingRegressor</label><div class=\"sk-toggleable__content\"><pre>StackingRegressor(estimators=[(&#x27;lr&#x27;, RidgeCV()),\n",
       "                              (&#x27;dt&#x27;, DecisionTreeRegressor(random_state=42))],\n",
       "                  final_estimator=RandomForestRegressor(random_state=42))</pre></div></div></div><div class=\"sk-serial\"><div class=\"sk-item\"><div class=\"sk-parallel\"><div class=\"sk-parallel-item\"><div class=\"sk-item\"><div class=\"sk-label-container\"><div class=\"sk-label sk-toggleable\"><label>lr</label></div></div><div class=\"sk-serial\"><div class=\"sk-item\"><div class=\"sk-estimator sk-toggleable\"><input class=\"sk-toggleable__control sk-hidden--visually\" id=\"sk-estimator-id-6\" type=\"checkbox\" ><label for=\"sk-estimator-id-6\" class=\"sk-toggleable__label sk-toggleable__label-arrow\">RidgeCV</label><div class=\"sk-toggleable__content\"><pre>RidgeCV()</pre></div></div></div></div></div></div><div class=\"sk-parallel-item\"><div class=\"sk-item\"><div class=\"sk-label-container\"><div class=\"sk-label sk-toggleable\"><label>dt</label></div></div><div class=\"sk-serial\"><div class=\"sk-item\"><div class=\"sk-estimator sk-toggleable\"><input class=\"sk-toggleable__control sk-hidden--visually\" id=\"sk-estimator-id-7\" type=\"checkbox\" ><label for=\"sk-estimator-id-7\" class=\"sk-toggleable__label sk-toggleable__label-arrow\">DecisionTreeRegressor</label><div class=\"sk-toggleable__content\"><pre>DecisionTreeRegressor(random_state=42)</pre></div></div></div></div></div></div></div></div><div class=\"sk-item\"><div class=\"sk-parallel\"><div class=\"sk-parallel-item\"><div class=\"sk-item\"><div class=\"sk-label-container\"><div class=\"sk-label sk-toggleable\"><label>final_estimator</label></div></div><div class=\"sk-serial\"><div class=\"sk-item\"><div class=\"sk-estimator sk-toggleable\"><input class=\"sk-toggleable__control sk-hidden--visually\" id=\"sk-estimator-id-8\" type=\"checkbox\" ><label for=\"sk-estimator-id-8\" class=\"sk-toggleable__label sk-toggleable__label-arrow\">RandomForestRegressor</label><div class=\"sk-toggleable__content\"><pre>RandomForestRegressor(random_state=42)</pre></div></div></div></div></div></div></div></div></div></div></div></div>"
      ],
      "text/plain": [
       "StackingRegressor(estimators=[('lr', RidgeCV()),\n",
       "                              ('dt', DecisionTreeRegressor(random_state=42))],\n",
       "                  final_estimator=RandomForestRegressor(random_state=42))"
      ]
     },
     "execution_count": 95,
     "metadata": {},
     "output_type": "execute_result"
    }
   ],
   "source": [
    "estimators2 = [\n",
    "    ('lr', RidgeCV()),\n",
    "    ('dt',  DecisionTreeRegressor(random_state=random_seed))\n",
    "]\n",
    "\n",
    "# Create an instance of the stacking class\n",
    "model_stacking = StackingRegressor(\n",
    "    estimators=estimators2,\n",
    "    final_estimator=RandomForestRegressor(n_estimators=100, random_state=random_seed)\n",
    ")\n",
    "# Model training\n",
    "model_stacking.fit(X_train, y_train)"
   ]
  },
  {
   "cell_type": "code",
   "execution_count": 96,
   "id": "8b5cf949",
   "metadata": {},
   "outputs": [
    {
     "name": "stdout",
     "output_type": "stream",
     "text": [
      " MAE: 1.6\n",
      "MAPE: 23.03 %\n"
     ]
    }
   ],
   "source": [
    "y_pred_st_r = model_stacking.predict(X_valid[1:])\n",
    "\n",
    "print(' MAE: {:.2}'.format(metrics.mean_absolute_error(y_test, y_pred_st_r)))\n",
    "print(f\"MAPE: {round(metrics.mean_absolute_percentage_error(y_test, y_pred_st_r)*100, 2)} %\")"
   ]
  },
  {
   "attachments": {},
   "cell_type": "markdown",
   "id": "10de00f4",
   "metadata": {},
   "source": [
    "# Submission"
   ]
  },
  {
   "cell_type": "code",
   "execution_count": 79,
   "id": "caa17f58",
   "metadata": {
    "execution": {
     "iopub.execute_input": "2022-12-17T10:57:19.013175Z",
     "iopub.status.busy": "2022-12-17T10:57:19.011725Z",
     "iopub.status.idle": "2022-12-17T10:57:19.040872Z",
     "shell.execute_reply": "2022-12-17T10:57:19.040213Z",
     "shell.execute_reply.started": "2022-12-17T10:48:03.822256Z"
    },
    "papermill": {
     "duration": 0.089603,
     "end_time": "2022-12-17T10:57:19.041025",
     "exception": false,
     "start_time": "2022-12-17T10:57:18.951422",
     "status": "completed"
    },
    "tags": []
   },
   "outputs": [
    {
     "data": {
      "text/html": [
       "<div>\n",
       "<style scoped>\n",
       "    .dataframe tbody tr th:only-of-type {\n",
       "        vertical-align: middle;\n",
       "    }\n",
       "\n",
       "    .dataframe tbody tr th {\n",
       "        vertical-align: top;\n",
       "    }\n",
       "\n",
       "    .dataframe thead th {\n",
       "        text-align: right;\n",
       "    }\n",
       "</style>\n",
       "<table border=\"1\" class=\"dataframe\">\n",
       "  <thead>\n",
       "    <tr style=\"text-align: right;\">\n",
       "      <th></th>\n",
       "      <th>lat</th>\n",
       "      <th>lng</th>\n",
       "      <th>reviewer_score</th>\n",
       "      <th>nationality_same_as_country</th>\n",
       "      <th>review_month</th>\n",
       "      <th>review_day</th>\n",
       "      <th>review_weekday</th>\n",
       "      <th>additional_number_of_scoring</th>\n",
       "      <th>average_score</th>\n",
       "      <th>review_total_negative_word_counts</th>\n",
       "      <th>...</th>\n",
       "      <th>traveller_type_ Other</th>\n",
       "      <th>traveller_type_ Solo traveler</th>\n",
       "      <th>traveller_type_ Travelers with friends</th>\n",
       "      <th>trip_type_Business trip</th>\n",
       "      <th>trip_type_Couple</th>\n",
       "      <th>trip_type_Family</th>\n",
       "      <th>trip_type_Group</th>\n",
       "      <th>trip_type_Leisure trip</th>\n",
       "      <th>trip_type_Solo traveler</th>\n",
       "      <th>trip_type_With a pet</th>\n",
       "    </tr>\n",
       "  </thead>\n",
       "  <tbody>\n",
       "    <tr>\n",
       "      <th>59979</th>\n",
       "      <td>41.381042</td>\n",
       "      <td>2.181429</td>\n",
       "      <td>0.0</td>\n",
       "      <td>0</td>\n",
       "      <td>6</td>\n",
       "      <td>20</td>\n",
       "      <td>0</td>\n",
       "      <td>-0.456212</td>\n",
       "      <td>1.000000</td>\n",
       "      <td>0.380952</td>\n",
       "      <td>...</td>\n",
       "      <td>0</td>\n",
       "      <td>0</td>\n",
       "      <td>0</td>\n",
       "      <td>0</td>\n",
       "      <td>0</td>\n",
       "      <td>0</td>\n",
       "      <td>0</td>\n",
       "      <td>1</td>\n",
       "      <td>0</td>\n",
       "      <td>0</td>\n",
       "    </tr>\n",
       "    <tr>\n",
       "      <th>67026</th>\n",
       "      <td>48.879595</td>\n",
       "      <td>2.328069</td>\n",
       "      <td>0.0</td>\n",
       "      <td>0</td>\n",
       "      <td>5</td>\n",
       "      <td>19</td>\n",
       "      <td>4</td>\n",
       "      <td>-0.543788</td>\n",
       "      <td>0.428571</td>\n",
       "      <td>-0.428571</td>\n",
       "      <td>...</td>\n",
       "      <td>0</td>\n",
       "      <td>0</td>\n",
       "      <td>0</td>\n",
       "      <td>0</td>\n",
       "      <td>0</td>\n",
       "      <td>0</td>\n",
       "      <td>0</td>\n",
       "      <td>1</td>\n",
       "      <td>0</td>\n",
       "      <td>0</td>\n",
       "    </tr>\n",
       "    <tr>\n",
       "      <th>67758</th>\n",
       "      <td>51.513734</td>\n",
       "      <td>-0.108751</td>\n",
       "      <td>0.0</td>\n",
       "      <td>1</td>\n",
       "      <td>2</td>\n",
       "      <td>16</td>\n",
       "      <td>1</td>\n",
       "      <td>0.606925</td>\n",
       "      <td>1.142857</td>\n",
       "      <td>0.238095</td>\n",
       "      <td>...</td>\n",
       "      <td>0</td>\n",
       "      <td>0</td>\n",
       "      <td>0</td>\n",
       "      <td>0</td>\n",
       "      <td>0</td>\n",
       "      <td>0</td>\n",
       "      <td>0</td>\n",
       "      <td>1</td>\n",
       "      <td>0</td>\n",
       "      <td>0</td>\n",
       "    </tr>\n",
       "    <tr>\n",
       "      <th>72344</th>\n",
       "      <td>52.368130</td>\n",
       "      <td>4.844085</td>\n",
       "      <td>0.0</td>\n",
       "      <td>0</td>\n",
       "      <td>11</td>\n",
       "      <td>2</td>\n",
       "      <td>2</td>\n",
       "      <td>1.191446</td>\n",
       "      <td>-0.285714</td>\n",
       "      <td>2.476190</td>\n",
       "      <td>...</td>\n",
       "      <td>0</td>\n",
       "      <td>0</td>\n",
       "      <td>0</td>\n",
       "      <td>0</td>\n",
       "      <td>0</td>\n",
       "      <td>0</td>\n",
       "      <td>0</td>\n",
       "      <td>1</td>\n",
       "      <td>0</td>\n",
       "      <td>0</td>\n",
       "    </tr>\n",
       "    <tr>\n",
       "      <th>110623</th>\n",
       "      <td>51.512974</td>\n",
       "      <td>-0.183743</td>\n",
       "      <td>0.0</td>\n",
       "      <td>0</td>\n",
       "      <td>4</td>\n",
       "      <td>26</td>\n",
       "      <td>1</td>\n",
       "      <td>1.745418</td>\n",
       "      <td>0.142857</td>\n",
       "      <td>-0.333333</td>\n",
       "      <td>...</td>\n",
       "      <td>0</td>\n",
       "      <td>1</td>\n",
       "      <td>0</td>\n",
       "      <td>1</td>\n",
       "      <td>0</td>\n",
       "      <td>0</td>\n",
       "      <td>0</td>\n",
       "      <td>0</td>\n",
       "      <td>0</td>\n",
       "      <td>0</td>\n",
       "    </tr>\n",
       "    <tr>\n",
       "      <th>24721</th>\n",
       "      <td>45.470238</td>\n",
       "      <td>9.195347</td>\n",
       "      <td>0.0</td>\n",
       "      <td>0</td>\n",
       "      <td>6</td>\n",
       "      <td>2</td>\n",
       "      <td>4</td>\n",
       "      <td>-0.474542</td>\n",
       "      <td>1.142857</td>\n",
       "      <td>-0.333333</td>\n",
       "      <td>...</td>\n",
       "      <td>0</td>\n",
       "      <td>0</td>\n",
       "      <td>0</td>\n",
       "      <td>0</td>\n",
       "      <td>0</td>\n",
       "      <td>0</td>\n",
       "      <td>0</td>\n",
       "      <td>1</td>\n",
       "      <td>0</td>\n",
       "      <td>0</td>\n",
       "    </tr>\n",
       "    <tr>\n",
       "      <th>21947</th>\n",
       "      <td>51.512974</td>\n",
       "      <td>-0.183743</td>\n",
       "      <td>0.0</td>\n",
       "      <td>1</td>\n",
       "      <td>6</td>\n",
       "      <td>29</td>\n",
       "      <td>2</td>\n",
       "      <td>1.745418</td>\n",
       "      <td>0.142857</td>\n",
       "      <td>-0.428571</td>\n",
       "      <td>...</td>\n",
       "      <td>0</td>\n",
       "      <td>1</td>\n",
       "      <td>0</td>\n",
       "      <td>1</td>\n",
       "      <td>0</td>\n",
       "      <td>0</td>\n",
       "      <td>0</td>\n",
       "      <td>0</td>\n",
       "      <td>0</td>\n",
       "      <td>0</td>\n",
       "    </tr>\n",
       "    <tr>\n",
       "      <th>106998</th>\n",
       "      <td>52.372707</td>\n",
       "      <td>4.894366</td>\n",
       "      <td>0.0</td>\n",
       "      <td>0</td>\n",
       "      <td>7</td>\n",
       "      <td>8</td>\n",
       "      <td>5</td>\n",
       "      <td>0.863544</td>\n",
       "      <td>0.000000</td>\n",
       "      <td>1.714286</td>\n",
       "      <td>...</td>\n",
       "      <td>0</td>\n",
       "      <td>0</td>\n",
       "      <td>0</td>\n",
       "      <td>0</td>\n",
       "      <td>0</td>\n",
       "      <td>0</td>\n",
       "      <td>0</td>\n",
       "      <td>1</td>\n",
       "      <td>0</td>\n",
       "      <td>0</td>\n",
       "    </tr>\n",
       "    <tr>\n",
       "      <th>116928</th>\n",
       "      <td>51.526535</td>\n",
       "      <td>-0.136168</td>\n",
       "      <td>0.0</td>\n",
       "      <td>1</td>\n",
       "      <td>3</td>\n",
       "      <td>20</td>\n",
       "      <td>0</td>\n",
       "      <td>0.437882</td>\n",
       "      <td>-0.571429</td>\n",
       "      <td>3.000000</td>\n",
       "      <td>...</td>\n",
       "      <td>0</td>\n",
       "      <td>1</td>\n",
       "      <td>0</td>\n",
       "      <td>1</td>\n",
       "      <td>0</td>\n",
       "      <td>0</td>\n",
       "      <td>0</td>\n",
       "      <td>0</td>\n",
       "      <td>0</td>\n",
       "      <td>0</td>\n",
       "    </tr>\n",
       "    <tr>\n",
       "      <th>62027</th>\n",
       "      <td>51.514573</td>\n",
       "      <td>-0.156660</td>\n",
       "      <td>0.0</td>\n",
       "      <td>0</td>\n",
       "      <td>2</td>\n",
       "      <td>27</td>\n",
       "      <td>5</td>\n",
       "      <td>-0.175153</td>\n",
       "      <td>-0.428571</td>\n",
       "      <td>0.666667</td>\n",
       "      <td>...</td>\n",
       "      <td>0</td>\n",
       "      <td>1</td>\n",
       "      <td>0</td>\n",
       "      <td>1</td>\n",
       "      <td>0</td>\n",
       "      <td>0</td>\n",
       "      <td>0</td>\n",
       "      <td>0</td>\n",
       "      <td>0</td>\n",
       "      <td>0</td>\n",
       "    </tr>\n",
       "  </tbody>\n",
       "</table>\n",
       "<p>10 rows × 60 columns</p>\n",
       "</div>"
      ],
      "text/plain": [
       "              lat       lng  reviewer_score  nationality_same_as_country  \\\n",
       "59979   41.381042  2.181429             0.0                            0   \n",
       "67026   48.879595  2.328069             0.0                            0   \n",
       "67758   51.513734 -0.108751             0.0                            1   \n",
       "72344   52.368130  4.844085             0.0                            0   \n",
       "110623  51.512974 -0.183743             0.0                            0   \n",
       "24721   45.470238  9.195347             0.0                            0   \n",
       "21947   51.512974 -0.183743             0.0                            1   \n",
       "106998  52.372707  4.894366             0.0                            0   \n",
       "116928  51.526535 -0.136168             0.0                            1   \n",
       "62027   51.514573 -0.156660             0.0                            0   \n",
       "\n",
       "        review_month  review_day  review_weekday  \\\n",
       "59979              6          20               0   \n",
       "67026              5          19               4   \n",
       "67758              2          16               1   \n",
       "72344             11           2               2   \n",
       "110623             4          26               1   \n",
       "24721              6           2               4   \n",
       "21947              6          29               2   \n",
       "106998             7           8               5   \n",
       "116928             3          20               0   \n",
       "62027              2          27               5   \n",
       "\n",
       "        additional_number_of_scoring  average_score  \\\n",
       "59979                      -0.456212       1.000000   \n",
       "67026                      -0.543788       0.428571   \n",
       "67758                       0.606925       1.142857   \n",
       "72344                       1.191446      -0.285714   \n",
       "110623                      1.745418       0.142857   \n",
       "24721                      -0.474542       1.142857   \n",
       "21947                       1.745418       0.142857   \n",
       "106998                      0.863544       0.000000   \n",
       "116928                      0.437882      -0.571429   \n",
       "62027                      -0.175153      -0.428571   \n",
       "\n",
       "        review_total_negative_word_counts  ...  traveller_type_ Other  \\\n",
       "59979                            0.380952  ...                      0   \n",
       "67026                           -0.428571  ...                      0   \n",
       "67758                            0.238095  ...                      0   \n",
       "72344                            2.476190  ...                      0   \n",
       "110623                          -0.333333  ...                      0   \n",
       "24721                           -0.333333  ...                      0   \n",
       "21947                           -0.428571  ...                      0   \n",
       "106998                           1.714286  ...                      0   \n",
       "116928                           3.000000  ...                      0   \n",
       "62027                            0.666667  ...                      0   \n",
       "\n",
       "        traveller_type_ Solo traveler  traveller_type_ Travelers with friends  \\\n",
       "59979                               0                                       0   \n",
       "67026                               0                                       0   \n",
       "67758                               0                                       0   \n",
       "72344                               0                                       0   \n",
       "110623                              1                                       0   \n",
       "24721                               0                                       0   \n",
       "21947                               1                                       0   \n",
       "106998                              0                                       0   \n",
       "116928                              1                                       0   \n",
       "62027                               1                                       0   \n",
       "\n",
       "        trip_type_Business trip  trip_type_Couple  trip_type_Family  \\\n",
       "59979                         0                 0                 0   \n",
       "67026                         0                 0                 0   \n",
       "67758                         0                 0                 0   \n",
       "72344                         0                 0                 0   \n",
       "110623                        1                 0                 0   \n",
       "24721                         0                 0                 0   \n",
       "21947                         1                 0                 0   \n",
       "106998                        0                 0                 0   \n",
       "116928                        1                 0                 0   \n",
       "62027                         1                 0                 0   \n",
       "\n",
       "        trip_type_Group  trip_type_Leisure trip  trip_type_Solo traveler  \\\n",
       "59979                 0                       1                        0   \n",
       "67026                 0                       1                        0   \n",
       "67758                 0                       1                        0   \n",
       "72344                 0                       1                        0   \n",
       "110623                0                       0                        0   \n",
       "24721                 0                       1                        0   \n",
       "21947                 0                       0                        0   \n",
       "106998                0                       1                        0   \n",
       "116928                0                       0                        0   \n",
       "62027                 0                       0                        0   \n",
       "\n",
       "        trip_type_With a pet  \n",
       "59979                      0  \n",
       "67026                      0  \n",
       "67758                      0  \n",
       "72344                      0  \n",
       "110623                     0  \n",
       "24721                      0  \n",
       "21947                      0  \n",
       "106998                     0  \n",
       "116928                     0  \n",
       "62027                      0  \n",
       "\n",
       "[10 rows x 60 columns]"
      ]
     },
     "execution_count": 79,
     "metadata": {},
     "output_type": "execute_result"
    }
   ],
   "source": [
    "test_data.sample(10)"
   ]
  },
  {
   "cell_type": "code",
   "execution_count": 80,
   "id": "3843b1f4",
   "metadata": {
    "execution": {
     "iopub.execute_input": "2022-12-17T10:57:19.166944Z",
     "iopub.status.busy": "2022-12-17T10:57:19.166118Z",
     "iopub.status.idle": "2022-12-17T10:57:19.173972Z",
     "shell.execute_reply": "2022-12-17T10:57:19.173359Z",
     "shell.execute_reply.started": "2022-12-17T10:48:03.858762Z"
    },
    "papermill": {
     "duration": 0.074935,
     "end_time": "2022-12-17T10:57:19.174127",
     "exception": false,
     "start_time": "2022-12-17T10:57:19.099192",
     "status": "completed"
    },
    "tags": []
   },
   "outputs": [
    {
     "data": {
      "text/html": [
       "<div>\n",
       "<style scoped>\n",
       "    .dataframe tbody tr th:only-of-type {\n",
       "        vertical-align: middle;\n",
       "    }\n",
       "\n",
       "    .dataframe tbody tr th {\n",
       "        vertical-align: top;\n",
       "    }\n",
       "\n",
       "    .dataframe thead th {\n",
       "        text-align: right;\n",
       "    }\n",
       "</style>\n",
       "<table border=\"1\" class=\"dataframe\">\n",
       "  <thead>\n",
       "    <tr style=\"text-align: right;\">\n",
       "      <th></th>\n",
       "      <th>lat</th>\n",
       "      <th>lng</th>\n",
       "      <th>nationality_same_as_country</th>\n",
       "      <th>review_month</th>\n",
       "      <th>review_day</th>\n",
       "      <th>review_weekday</th>\n",
       "      <th>additional_number_of_scoring</th>\n",
       "      <th>average_score</th>\n",
       "      <th>review_total_negative_word_counts</th>\n",
       "      <th>total_number_of_reviews</th>\n",
       "      <th>...</th>\n",
       "      <th>traveller_type_ Other</th>\n",
       "      <th>traveller_type_ Solo traveler</th>\n",
       "      <th>traveller_type_ Travelers with friends</th>\n",
       "      <th>trip_type_Business trip</th>\n",
       "      <th>trip_type_Couple</th>\n",
       "      <th>trip_type_Family</th>\n",
       "      <th>trip_type_Group</th>\n",
       "      <th>trip_type_Leisure trip</th>\n",
       "      <th>trip_type_Solo traveler</th>\n",
       "      <th>trip_type_With a pet</th>\n",
       "    </tr>\n",
       "  </thead>\n",
       "  <tbody>\n",
       "    <tr>\n",
       "      <th>0</th>\n",
       "      <td>45.533137</td>\n",
       "      <td>9.171102</td>\n",
       "      <td>0</td>\n",
       "      <td>7</td>\n",
       "      <td>21</td>\n",
       "      <td>4</td>\n",
       "      <td>1.146640</td>\n",
       "      <td>-0.428571</td>\n",
       "      <td>2.047619</td>\n",
       "      <td>5.928222</td>\n",
       "      <td>...</td>\n",
       "      <td>0</td>\n",
       "      <td>0</td>\n",
       "      <td>0</td>\n",
       "      <td>0</td>\n",
       "      <td>0</td>\n",
       "      <td>0</td>\n",
       "      <td>0</td>\n",
       "      <td>1</td>\n",
       "      <td>0</td>\n",
       "      <td>0</td>\n",
       "    </tr>\n",
       "    <tr>\n",
       "      <th>1</th>\n",
       "      <td>52.385649</td>\n",
       "      <td>4.834443</td>\n",
       "      <td>0</td>\n",
       "      <td>12</td>\n",
       "      <td>12</td>\n",
       "      <td>0</td>\n",
       "      <td>0.551935</td>\n",
       "      <td>0.285714</td>\n",
       "      <td>0.047619</td>\n",
       "      <td>1.176183</td>\n",
       "      <td>...</td>\n",
       "      <td>0</td>\n",
       "      <td>0</td>\n",
       "      <td>0</td>\n",
       "      <td>0</td>\n",
       "      <td>0</td>\n",
       "      <td>0</td>\n",
       "      <td>0</td>\n",
       "      <td>1</td>\n",
       "      <td>0</td>\n",
       "      <td>0</td>\n",
       "    </tr>\n",
       "    <tr>\n",
       "      <th>2</th>\n",
       "      <td>41.393192</td>\n",
       "      <td>2.161520</td>\n",
       "      <td>0</td>\n",
       "      <td>11</td>\n",
       "      <td>26</td>\n",
       "      <td>3</td>\n",
       "      <td>-0.600815</td>\n",
       "      <td>-0.142857</td>\n",
       "      <td>-0.285714</td>\n",
       "      <td>-0.727162</td>\n",
       "      <td>...</td>\n",
       "      <td>0</td>\n",
       "      <td>1</td>\n",
       "      <td>0</td>\n",
       "      <td>1</td>\n",
       "      <td>0</td>\n",
       "      <td>0</td>\n",
       "      <td>0</td>\n",
       "      <td>0</td>\n",
       "      <td>0</td>\n",
       "      <td>0</td>\n",
       "    </tr>\n",
       "    <tr>\n",
       "      <th>3</th>\n",
       "      <td>45.479888</td>\n",
       "      <td>9.196298</td>\n",
       "      <td>0</td>\n",
       "      <td>10</td>\n",
       "      <td>17</td>\n",
       "      <td>5</td>\n",
       "      <td>-0.203666</td>\n",
       "      <td>1.000000</td>\n",
       "      <td>-0.428571</td>\n",
       "      <td>-0.241028</td>\n",
       "      <td>...</td>\n",
       "      <td>0</td>\n",
       "      <td>0</td>\n",
       "      <td>0</td>\n",
       "      <td>0</td>\n",
       "      <td>0</td>\n",
       "      <td>0</td>\n",
       "      <td>0</td>\n",
       "      <td>1</td>\n",
       "      <td>0</td>\n",
       "      <td>0</td>\n",
       "    </tr>\n",
       "    <tr>\n",
       "      <th>4</th>\n",
       "      <td>52.370545</td>\n",
       "      <td>4.888644</td>\n",
       "      <td>0</td>\n",
       "      <td>5</td>\n",
       "      <td>16</td>\n",
       "      <td>0</td>\n",
       "      <td>1.004073</td>\n",
       "      <td>1.000000</td>\n",
       "      <td>-0.428571</td>\n",
       "      <td>1.041191</td>\n",
       "      <td>...</td>\n",
       "      <td>0</td>\n",
       "      <td>1</td>\n",
       "      <td>0</td>\n",
       "      <td>1</td>\n",
       "      <td>0</td>\n",
       "      <td>0</td>\n",
       "      <td>0</td>\n",
       "      <td>0</td>\n",
       "      <td>0</td>\n",
       "      <td>0</td>\n",
       "    </tr>\n",
       "  </tbody>\n",
       "</table>\n",
       "<p>5 rows × 59 columns</p>\n",
       "</div>"
      ],
      "text/plain": [
       "         lat       lng  nationality_same_as_country  review_month  review_day  \\\n",
       "0  45.533137  9.171102                            0             7          21   \n",
       "1  52.385649  4.834443                            0            12          12   \n",
       "2  41.393192  2.161520                            0            11          26   \n",
       "3  45.479888  9.196298                            0            10          17   \n",
       "4  52.370545  4.888644                            0             5          16   \n",
       "\n",
       "   review_weekday  additional_number_of_scoring  average_score  \\\n",
       "0               4                      1.146640      -0.428571   \n",
       "1               0                      0.551935       0.285714   \n",
       "2               3                     -0.600815      -0.142857   \n",
       "3               5                     -0.203666       1.000000   \n",
       "4               0                      1.004073       1.000000   \n",
       "\n",
       "   review_total_negative_word_counts  total_number_of_reviews  ...  \\\n",
       "0                           2.047619                 5.928222  ...   \n",
       "1                           0.047619                 1.176183  ...   \n",
       "2                          -0.285714                -0.727162  ...   \n",
       "3                          -0.428571                -0.241028  ...   \n",
       "4                          -0.428571                 1.041191  ...   \n",
       "\n",
       "   traveller_type_ Other  traveller_type_ Solo traveler  \\\n",
       "0                      0                              0   \n",
       "1                      0                              0   \n",
       "2                      0                              1   \n",
       "3                      0                              0   \n",
       "4                      0                              1   \n",
       "\n",
       "   traveller_type_ Travelers with friends  trip_type_Business trip  \\\n",
       "0                                       0                        0   \n",
       "1                                       0                        0   \n",
       "2                                       0                        1   \n",
       "3                                       0                        0   \n",
       "4                                       0                        1   \n",
       "\n",
       "   trip_type_Couple  trip_type_Family  trip_type_Group  \\\n",
       "0                 0                 0                0   \n",
       "1                 0                 0                0   \n",
       "2                 0                 0                0   \n",
       "3                 0                 0                0   \n",
       "4                 0                 0                0   \n",
       "\n",
       "   trip_type_Leisure trip  trip_type_Solo traveler  trip_type_With a pet  \n",
       "0                       1                        0                     0  \n",
       "1                       1                        0                     0  \n",
       "2                       0                        0                     0  \n",
       "3                       1                        0                     0  \n",
       "4                       0                        0                     0  \n",
       "\n",
       "[5 rows x 59 columns]"
      ]
     },
     "execution_count": 80,
     "metadata": {},
     "output_type": "execute_result"
    }
   ],
   "source": [
    "test_data = test_data.drop(['reviewer_score'], axis=1)\n",
    "test_data.head()"
   ]
  },
  {
   "cell_type": "code",
   "execution_count": 81,
   "id": "786e0036",
   "metadata": {
    "execution": {
     "iopub.execute_input": "2022-12-17T10:57:19.302890Z",
     "iopub.status.busy": "2022-12-17T10:57:19.301953Z",
     "iopub.status.idle": "2022-12-17T10:57:19.306092Z",
     "shell.execute_reply": "2022-12-17T10:57:19.305512Z",
     "shell.execute_reply.started": "2022-12-17T10:48:03.872842Z"
    },
    "papermill": {
     "duration": 0.073649,
     "end_time": "2022-12-17T10:57:19.306247",
     "exception": false,
     "start_time": "2022-12-17T10:57:19.232598",
     "status": "completed"
    },
    "tags": []
   },
   "outputs": [
    {
     "data": {
      "text/html": [
       "<div>\n",
       "<style scoped>\n",
       "    .dataframe tbody tr th:only-of-type {\n",
       "        vertical-align: middle;\n",
       "    }\n",
       "\n",
       "    .dataframe tbody tr th {\n",
       "        vertical-align: top;\n",
       "    }\n",
       "\n",
       "    .dataframe thead th {\n",
       "        text-align: right;\n",
       "    }\n",
       "</style>\n",
       "<table border=\"1\" class=\"dataframe\">\n",
       "  <thead>\n",
       "    <tr style=\"text-align: right;\">\n",
       "      <th></th>\n",
       "      <th>reviewer_score</th>\n",
       "      <th>id</th>\n",
       "    </tr>\n",
       "  </thead>\n",
       "  <tbody>\n",
       "    <tr>\n",
       "      <th>0</th>\n",
       "      <td>1</td>\n",
       "      <td>488440</td>\n",
       "    </tr>\n",
       "    <tr>\n",
       "      <th>1</th>\n",
       "      <td>10</td>\n",
       "      <td>274649</td>\n",
       "    </tr>\n",
       "    <tr>\n",
       "      <th>2</th>\n",
       "      <td>3</td>\n",
       "      <td>374688</td>\n",
       "    </tr>\n",
       "    <tr>\n",
       "      <th>3</th>\n",
       "      <td>10</td>\n",
       "      <td>404352</td>\n",
       "    </tr>\n",
       "    <tr>\n",
       "      <th>4</th>\n",
       "      <td>9</td>\n",
       "      <td>451596</td>\n",
       "    </tr>\n",
       "    <tr>\n",
       "      <th>...</th>\n",
       "      <td>...</td>\n",
       "      <td>...</td>\n",
       "    </tr>\n",
       "    <tr>\n",
       "      <th>128930</th>\n",
       "      <td>7</td>\n",
       "      <td>495812</td>\n",
       "    </tr>\n",
       "    <tr>\n",
       "      <th>128931</th>\n",
       "      <td>1</td>\n",
       "      <td>315577</td>\n",
       "    </tr>\n",
       "    <tr>\n",
       "      <th>128932</th>\n",
       "      <td>3</td>\n",
       "      <td>511968</td>\n",
       "    </tr>\n",
       "    <tr>\n",
       "      <th>128933</th>\n",
       "      <td>6</td>\n",
       "      <td>303386</td>\n",
       "    </tr>\n",
       "    <tr>\n",
       "      <th>128934</th>\n",
       "      <td>5</td>\n",
       "      <td>103157</td>\n",
       "    </tr>\n",
       "  </tbody>\n",
       "</table>\n",
       "<p>128935 rows × 2 columns</p>\n",
       "</div>"
      ],
      "text/plain": [
       "        reviewer_score      id\n",
       "0                    1  488440\n",
       "1                   10  274649\n",
       "2                    3  374688\n",
       "3                   10  404352\n",
       "4                    9  451596\n",
       "...                ...     ...\n",
       "128930               7  495812\n",
       "128931               1  315577\n",
       "128932               3  511968\n",
       "128933               6  303386\n",
       "128934               5  103157\n",
       "\n",
       "[128935 rows x 2 columns]"
      ]
     },
     "execution_count": 81,
     "metadata": {},
     "output_type": "execute_result"
    }
   ],
   "source": [
    "sample_submission.head()"
   ]
  },
  {
   "cell_type": "code",
   "execution_count": 82,
   "id": "0994b26e",
   "metadata": {
    "execution": {
     "iopub.execute_input": "2022-12-17T10:57:19.435920Z",
     "iopub.status.busy": "2022-12-17T10:57:19.434441Z",
     "iopub.status.idle": "2022-12-17T10:57:22.274467Z",
     "shell.execute_reply": "2022-12-17T10:57:22.273532Z",
     "shell.execute_reply.started": "2022-12-17T10:48:03.889925Z"
    },
    "papermill": {
     "duration": 2.908803,
     "end_time": "2022-12-17T10:57:22.274678",
     "exception": false,
     "start_time": "2022-12-17T10:57:19.365875",
     "status": "completed"
    },
    "tags": []
   },
   "outputs": [
    {
     "name": "stderr",
     "output_type": "stream",
     "text": [
      "[Parallel(n_jobs=16)]: Using backend ThreadingBackend with 16 concurrent workers.\n",
      "[Parallel(n_jobs=16)]: Done  18 tasks      | elapsed:    0.6s\n",
      "[Parallel(n_jobs=16)]: Done 100 out of 100 | elapsed:    3.8s finished\n"
     ]
    },
    {
     "data": {
      "text/plain": [
       "array([8.659, 6.762, 8.429, ..., 7.721, 9.624, 7.031])"
      ]
     },
     "execution_count": 82,
     "metadata": {},
     "output_type": "execute_result"
    }
   ],
   "source": [
    "predict_submission = model_rf.predict(test_data)\n",
    "predict_submission"
   ]
  },
  {
   "cell_type": "code",
   "execution_count": 83,
   "id": "bff53ec9",
   "metadata": {},
   "outputs": [
    {
     "data": {
      "text/plain": [
       "array([8.7, 6.8, 8.4, ..., 7.7, 9.6, 7. ])"
      ]
     },
     "execution_count": 83,
     "metadata": {},
     "output_type": "execute_result"
    }
   ],
   "source": [
    "predict_submission = np.round(predict_submission, 1)\n",
    "predict_submission"
   ]
  },
  {
   "cell_type": "code",
   "execution_count": 84,
   "id": "dfd1f104",
   "metadata": {
    "execution": {
     "iopub.execute_input": "2022-12-17T10:57:22.662187Z",
     "iopub.status.busy": "2022-12-17T10:57:22.660949Z",
     "iopub.status.idle": "2022-12-17T10:57:22.950664Z",
     "shell.execute_reply": "2022-12-17T10:57:22.951243Z",
     "shell.execute_reply.started": "2022-12-17T10:48:06.664084Z"
    },
    "papermill": {
     "duration": 0.354252,
     "end_time": "2022-12-17T10:57:22.951470",
     "exception": false,
     "start_time": "2022-12-17T10:57:22.597218",
     "status": "completed"
    },
    "tags": []
   },
   "outputs": [
    {
     "data": {
      "text/html": [
       "<div>\n",
       "<style scoped>\n",
       "    .dataframe tbody tr th:only-of-type {\n",
       "        vertical-align: middle;\n",
       "    }\n",
       "\n",
       "    .dataframe tbody tr th {\n",
       "        vertical-align: top;\n",
       "    }\n",
       "\n",
       "    .dataframe thead th {\n",
       "        text-align: right;\n",
       "    }\n",
       "</style>\n",
       "<table border=\"1\" class=\"dataframe\">\n",
       "  <thead>\n",
       "    <tr style=\"text-align: right;\">\n",
       "      <th></th>\n",
       "      <th>reviewer_score</th>\n",
       "      <th>id</th>\n",
       "    </tr>\n",
       "  </thead>\n",
       "  <tbody>\n",
       "    <tr>\n",
       "      <th>0</th>\n",
       "      <td>8.7</td>\n",
       "      <td>488440</td>\n",
       "    </tr>\n",
       "    <tr>\n",
       "      <th>1</th>\n",
       "      <td>6.8</td>\n",
       "      <td>274649</td>\n",
       "    </tr>\n",
       "  </tbody>\n",
       "</table>\n",
       "</div>"
      ],
      "text/plain": [
       "   reviewer_score      id\n",
       "0             8.7  488440\n",
       "1             6.8  274649"
      ]
     },
     "execution_count": 84,
     "metadata": {},
     "output_type": "execute_result"
    }
   ],
   "source": [
    "sample_submission['reviewer_score'] = predict_submission\n",
    "sample_submission.to_csv('submission_alex_1.csv', index=False)\n",
    "sample_submission.head(2)"
   ]
  },
  {
   "attachments": {},
   "cell_type": "markdown",
   "id": "f3e92f5a",
   "metadata": {},
   "source": [
    "## K-fold method (cross validation)"
   ]
  },
  {
   "cell_type": "code",
   "execution_count": 101,
   "id": "8f9ec6ea",
   "metadata": {},
   "outputs": [
    {
     "name": "stderr",
     "output_type": "stream",
     "text": [
      "[Parallel(n_jobs=-1)]: Using backend LokyBackend with 16 concurrent workers.\n",
      "[Parallel(n_jobs=-1)]: Done  18 tasks      | elapsed:   31.7s\n",
      "[Parallel(n_jobs=-1)]: Done 100 out of 100 | elapsed:  1.7min finished\n",
      "[Parallel(n_jobs=16)]: Using backend ThreadingBackend with 16 concurrent workers.\n",
      "[Parallel(n_jobs=16)]: Done  18 tasks      | elapsed:    0.1s\n",
      "[Parallel(n_jobs=16)]: Done 100 out of 100 | elapsed:    0.8s finished\n",
      "[Parallel(n_jobs=16)]: Using backend ThreadingBackend with 16 concurrent workers.\n",
      "[Parallel(n_jobs=16)]: Done  18 tasks      | elapsed:    0.8s\n",
      "[Parallel(n_jobs=16)]: Done 100 out of 100 | elapsed:    3.4s finished\n",
      "[Parallel(n_jobs=-1)]: Using backend LokyBackend with 16 concurrent workers.\n",
      "[Parallel(n_jobs=-1)]: Done  18 tasks      | elapsed:   25.9s\n",
      "[Parallel(n_jobs=-1)]: Done 100 out of 100 | elapsed:  1.5min finished\n",
      "[Parallel(n_jobs=16)]: Using backend ThreadingBackend with 16 concurrent workers.\n",
      "[Parallel(n_jobs=16)]: Done  18 tasks      | elapsed:    0.1s\n",
      "[Parallel(n_jobs=16)]: Done 100 out of 100 | elapsed:    0.7s finished\n",
      "[Parallel(n_jobs=16)]: Using backend ThreadingBackend with 16 concurrent workers.\n",
      "[Parallel(n_jobs=16)]: Done  18 tasks      | elapsed:    0.7s\n",
      "[Parallel(n_jobs=16)]: Done 100 out of 100 | elapsed:    2.8s finished\n",
      "[Parallel(n_jobs=-1)]: Using backend LokyBackend with 16 concurrent workers.\n",
      "[Parallel(n_jobs=-1)]: Done  18 tasks      | elapsed:   24.8s\n",
      "[Parallel(n_jobs=-1)]: Done 100 out of 100 | elapsed:  1.4min finished\n",
      "[Parallel(n_jobs=16)]: Using backend ThreadingBackend with 16 concurrent workers.\n",
      "[Parallel(n_jobs=16)]: Done  18 tasks      | elapsed:    0.1s\n",
      "[Parallel(n_jobs=16)]: Done 100 out of 100 | elapsed:    0.6s finished\n",
      "[Parallel(n_jobs=16)]: Using backend ThreadingBackend with 16 concurrent workers.\n",
      "[Parallel(n_jobs=16)]: Done  18 tasks      | elapsed:    0.7s\n",
      "[Parallel(n_jobs=16)]: Done 100 out of 100 | elapsed:    2.9s finished\n",
      "[Parallel(n_jobs=-1)]: Using backend LokyBackend with 16 concurrent workers.\n",
      "[Parallel(n_jobs=-1)]: Done  18 tasks      | elapsed:   26.1s\n",
      "[Parallel(n_jobs=-1)]: Done 100 out of 100 | elapsed:  1.4min finished\n",
      "[Parallel(n_jobs=16)]: Using backend ThreadingBackend with 16 concurrent workers.\n",
      "[Parallel(n_jobs=16)]: Done  18 tasks      | elapsed:    0.1s\n",
      "[Parallel(n_jobs=16)]: Done 100 out of 100 | elapsed:    0.6s finished\n",
      "[Parallel(n_jobs=16)]: Using backend ThreadingBackend with 16 concurrent workers.\n",
      "[Parallel(n_jobs=16)]: Done  18 tasks      | elapsed:    0.8s\n",
      "[Parallel(n_jobs=16)]: Done 100 out of 100 | elapsed:    2.9s finished\n",
      "[Parallel(n_jobs=-1)]: Using backend LokyBackend with 16 concurrent workers.\n",
      "[Parallel(n_jobs=-1)]: Done  18 tasks      | elapsed:   23.9s\n",
      "[Parallel(n_jobs=-1)]: Done 100 out of 100 | elapsed:  1.4min finished\n",
      "[Parallel(n_jobs=16)]: Using backend ThreadingBackend with 16 concurrent workers.\n",
      "[Parallel(n_jobs=16)]: Done  18 tasks      | elapsed:    0.1s\n",
      "[Parallel(n_jobs=16)]: Done 100 out of 100 | elapsed:    0.6s finished\n",
      "[Parallel(n_jobs=16)]: Using backend ThreadingBackend with 16 concurrent workers.\n",
      "[Parallel(n_jobs=16)]: Done  18 tasks      | elapsed:    0.7s\n",
      "[Parallel(n_jobs=16)]: Done 100 out of 100 | elapsed:    2.7s finished\n"
     ]
    },
    {
     "data": {
      "text/plain": [
       "{'fit_time': array([105.98539925,  88.56191897,  87.08225226,  84.77181768,\n",
       "         84.31459546]),\n",
       " 'score_time': array([0.9823823 , 0.87721181, 0.77961898, 0.77498746, 0.73522735]),\n",
       " 'test_neg_mean_absolute_error': array([-0.91383814, -0.92204438, -0.92155621, -0.92001177, -0.9221638 ]),\n",
       " 'train_neg_mean_absolute_error': array([-0.34235003, -0.3408752 , -0.34152486, -0.34172378, -0.34081692]),\n",
       " 'test_neg_mean_absolute_percentage_error': array([-0.13169558, -0.13357012, -0.13330004, -0.13298192, -0.13310202]),\n",
       " 'train_neg_mean_absolute_percentage_error': array([-0.04945745, -0.04920456, -0.04930535, -0.049322  , -0.04922604])}"
      ]
     },
     "metadata": {},
     "output_type": "display_data"
    }
   ],
   "source": [
    "# model creation\n",
    "model_rf_cv = RandomForestRegressor(\n",
    "    n_estimators=100, verbose=1, n_jobs=-1, random_state=random_seed)\n",
    " \n",
    "# Cross-validator instance KFold\n",
    "kf = KFold(n_splits=5)\n",
    " \n",
    "# Display metrics for k-fold\n",
    "cv_metrics = cross_validate(\n",
    "    estimator=model_rf_cv, # model\n",
    "    X=X,  \n",
    "    y=y,  \n",
    "    cv=kf, # cross-validator\n",
    "    scoring=('neg_mean_absolute_error','neg_mean_absolute_percentage_error'), # metrics set\n",
    "    return_train_score=True # return metrics for training folds\n",
    ")\n",
    "display(cv_metrics)"
   ]
  },
  {
   "cell_type": "code",
   "execution_count": 106,
   "id": "fe570523",
   "metadata": {},
   "outputs": [
    {
     "data": {
      "text/plain": [
       "dict_keys(['fit_time', 'score_time', 'test_neg_mean_absolute_error', 'train_neg_mean_absolute_error', 'test_neg_mean_absolute_percentage_error', 'train_neg_mean_absolute_percentage_error'])"
      ]
     },
     "execution_count": 106,
     "metadata": {},
     "output_type": "execute_result"
    }
   ],
   "source": [
    "cv_metrics.keys()"
   ]
  },
  {
   "cell_type": "code",
   "execution_count": 103,
   "id": "f3215d3e",
   "metadata": {},
   "outputs": [
    {
     "name": "stdout",
     "output_type": "stream",
     "text": [
      "Train k-fold MAE: -0.34  MAPE: -0.0493\n",
      "Test k-fold MAE: -0.92  MAPE: -0.1329\n"
     ]
    }
   ],
   "source": [
    "# Lets study metrics\n",
    "\n",
    "print('Train k-fold MAE: {:.2f}  MAPE: {:.4f}'.format(\n",
    "    np.mean(cv_metrics['train_neg_mean_absolute_error']), \n",
    "    np.mean(cv_metrics['train_neg_mean_absolute_percentage_error'])))\n",
    "print('Test k-fold MAE: {:.2f}  MAPE: {:.4f}'.format(\n",
    "    np.mean(cv_metrics['test_neg_mean_absolute_error']), \n",
    "    np.mean(cv_metrics['test_neg_mean_absolute_percentage_error'])))"
   ]
  },
  {
   "cell_type": "code",
   "execution_count": 105,
   "id": "f89bc01a",
   "metadata": {
    "execution": {
     "iopub.execute_input": "2022-12-17T10:55:27.687223Z",
     "iopub.status.busy": "2022-12-17T10:55:27.686387Z",
     "iopub.status.idle": "2022-12-17T10:57:18.030935Z",
     "shell.execute_reply": "2022-12-17T10:57:18.030207Z",
     "shell.execute_reply.started": "2022-12-17T10:46:18.090067Z"
    },
    "papermill": {
     "duration": 110.417037,
     "end_time": "2022-12-17T10:57:18.031101",
     "exception": false,
     "start_time": "2022-12-17T10:55:27.614064",
     "status": "completed"
    },
    "tags": []
   },
   "outputs": [
    {
     "name": "stderr",
     "output_type": "stream",
     "text": [
      "[Parallel(n_jobs=-1)]: Using backend ThreadingBackend with 16 concurrent workers.\n",
      "[Parallel(n_jobs=-1)]: Done  18 tasks      | elapsed:   24.0s\n",
      "[Parallel(n_jobs=-1)]: Done 100 out of 100 | elapsed:  1.5min finished\n",
      "[Parallel(n_jobs=16)]: Using backend ThreadingBackend with 16 concurrent workers.\n",
      "[Parallel(n_jobs=16)]: Done  18 tasks      | elapsed:    0.0s\n",
      "[Parallel(n_jobs=16)]: Done 100 out of 100 | elapsed:    0.4s finished\n"
     ]
    }
   ],
   "source": [
    "# Train model\n",
    "model_rf_cv.fit(X_train, y_train)"
   ]
  },
  {
   "cell_type": "code",
   "execution_count": 117,
   "id": "d61dba58",
   "metadata": {},
   "outputs": [
    {
     "name": "stderr",
     "output_type": "stream",
     "text": [
      "[Parallel(n_jobs=16)]: Using backend ThreadingBackend with 16 concurrent workers.\n",
      "[Parallel(n_jobs=16)]: Done  18 tasks      | elapsed:    0.0s\n"
     ]
    },
    {
     "name": "stdout",
     "output_type": "stream",
     "text": [
      " MAE: 1.5\n",
      "MAPE: 22.29 %\n"
     ]
    },
    {
     "name": "stderr",
     "output_type": "stream",
     "text": [
      "[Parallel(n_jobs=16)]: Done 100 out of 100 | elapsed:    0.3s finished\n"
     ]
    }
   ],
   "source": [
    "y_pred_rf_cv = model_rf_cv.predict(X_valid[1:])\n",
    "\n",
    "print(' MAE: {:.2}'.format(metrics.mean_absolute_error(y_test, y_pred_rf_cv)))\n",
    "print(f\"MAPE: {round(metrics.mean_absolute_percentage_error(y_test, y_pred_rf_cv)*100, 2)} %\")"
   ]
  },
  {
   "cell_type": "code",
   "execution_count": 177,
   "id": "bae331ea",
   "metadata": {},
   "outputs": [
    {
     "data": {
      "text/plain": [
       "lat                                              0.041100\n",
       "lng                                              0.041184\n",
       "nationality_same_as_country                      0.003067\n",
       "additional_number_of_scoring                     0.035899\n",
       "average_score                                    0.083880\n",
       "review_total_negative_word_counts                0.252033\n",
       "total_number_of_reviews                          0.037532\n",
       "review_total_positive_word_counts                0.100271\n",
       "total_number_of_reviews_reviewer_has_given       0.033914\n",
       "days_since_review                                0.063296\n",
       "stay_length                                      0.021467\n",
       "review_month                                     0.029870\n",
       "review_day                                       0.047513\n",
       "review_weekday                                   0.025313\n",
       "reviewer_nationality_Australia                   0.002293\n",
       "reviewer_nationality_Belgium                     0.001187\n",
       "reviewer_nationality_Canada                      0.001374\n",
       "reviewer_nationality_France                      0.001591\n",
       "reviewer_nationality_Germany                     0.001564\n",
       "reviewer_nationality_Ireland                     0.002001\n",
       "reviewer_nationality_Israel                      0.001096\n",
       "reviewer_nationality_Italy                       0.001483\n",
       "reviewer_nationality_Netherlands                 0.001485\n",
       "reviewer_nationality_Saudi Arabia                0.002608\n",
       "reviewer_nationality_Switzerland                 0.001631\n",
       "reviewer_nationality_United Arab Emirates        0.003132\n",
       "reviewer_nationality_United Kingdom              0.005574\n",
       "reviewer_nationality_United States of America    0.003655\n",
       "reviewer_nationality_other                       0.005551\n",
       "country_Austria                                  0.000541\n",
       "country_France                                   0.001475\n",
       "country_Italy                                    0.000993\n",
       "country_Netherlands                              0.000661\n",
       "country_Spain                                    0.000736\n",
       "country_United Kingdom                           0.000846\n",
       "city_Amsterdam                                   0.000668\n",
       "city_Barcelona                                   0.000729\n",
       "city_London                                      0.000860\n",
       "city_Milan                                       0.000992\n",
       "city_Paris                                       0.001492\n",
       "city_Vienna                                      0.000544\n",
       "clas_neg_review_neg                              0.004348\n",
       "clas_neg_review_pos                              0.004601\n",
       "clas_pos_review_neg                              0.009745\n",
       "clas_pos_review_pos                              0.078385\n",
       "traveller_type_ Couple                           0.006285\n",
       "traveller_type_ Family with older children       0.002952\n",
       "traveller_type_ Family with young children       0.005129\n",
       "traveller_type_ Group                            0.005144\n",
       "traveller_type_ Other                            0.001330\n",
       "traveller_type_ Solo traveler                    0.005371\n",
       "traveller_type_ Travelers with friends           0.000558\n",
       "trip_type_Business trip                          0.004534\n",
       "trip_type_Couple                                 0.001170\n",
       "trip_type_Family                                 0.001013\n",
       "trip_type_Group                                  0.000492\n",
       "trip_type_Leisure trip                           0.004197\n",
       "trip_type_Solo traveler                          0.001206\n",
       "trip_type_With a pet                             0.000443\n",
       "dtype: float64"
      ]
     },
     "metadata": {},
     "output_type": "display_data"
    }
   ],
   "source": [
    "\n"
   ]
  },
  {
   "cell_type": "code",
   "execution_count": 216,
   "id": "64917a2c",
   "metadata": {},
   "outputs": [
    {
     "data": {
      "image/png": "[encoded data removed]",
      "text/plain": [
       "<Figure size 600x400 with 1 Axes>"
      ]
     },
     "metadata": {},
     "output_type": "display_data"
    }
   ],
   "source": [
    "feat_significance = pd.Series(model_rf_cv.feature_importances_, index=X.columns).sort_values(ascending=False).nlargest(7)\n",
    "fig, ax = plt.subplots(figsize = (6, 4))\n",
    "fig = feat_significance.plot(kind='barh')\n",
    "fig.set_title('Fig.8 - Feature significance', y=-0.3);\n",
    "plt.tight_layout()\n",
    "plt.savefig('../figures/fig_8.png');"
   ]
  },
  {
   "attachments": {},
   "cell_type": "markdown",
   "id": "1cbf5ef4",
   "metadata": {},
   "source": [
    "## Model study"
   ]
  },
  {
   "cell_type": "code",
   "execution_count": 120,
   "id": "523728c5",
   "metadata": {},
   "outputs": [
    {
     "data": {
      "text/plain": [
       "array([7.909, 7.875, 9.356, ..., 7.039, 9.251, 8.704])"
      ]
     },
     "execution_count": 120,
     "metadata": {},
     "output_type": "execute_result"
    }
   ],
   "source": [
    "y_pred_rf_cv"
   ]
  },
  {
   "cell_type": "code",
   "execution_count": 194,
   "id": "3f8fd371",
   "metadata": {},
   "outputs": [],
   "source": [
    "from sklearn.metrics import PredictionErrorDisplay"
   ]
  },
  {
   "cell_type": "code",
   "execution_count": 200,
   "id": "cbc65c63",
   "metadata": {},
   "outputs": [
    {
     "data": {
      "text/plain": [
       "38680"
      ]
     },
     "execution_count": 200,
     "metadata": {},
     "output_type": "execute_result"
    }
   ],
   "source": [
    "len(y_pred_rf_cv)"
   ]
  },
  {
   "cell_type": "code",
   "execution_count": 218,
   "id": "d4f0999b",
   "metadata": {},
   "outputs": [
    {
     "data": {
      "image/png": "[encoded data removed]",
      "text/plain": [
       "<Figure size 800x400 with 2 Axes>"
      ]
     },
     "metadata": {},
     "output_type": "display_data"
    }
   ],
   "source": [
    "fig, ax = plt.subplots(ncols=2, figsize=(8, 4))\n",
    "PredictionErrorDisplay.from_predictions(\n",
    "    y_test,\n",
    "    y_pred=y_pred_rf_cv,\n",
    "    kind=\"actual_vs_predicted\",\n",
    "    subsample=100,\n",
    "    ax=ax[0],\n",
    "    random_state=0,\n",
    ")\n",
    "ax[0].set_title(\"Actual vs. Predicted values\")\n",
    "\n",
    "PredictionErrorDisplay.from_predictions(\n",
    "    y_test,\n",
    "    y_pred=y_pred_rf_cv,\n",
    "    kind=\"residual_vs_predicted\",\n",
    "    subsample=100,\n",
    "    ax=ax[1],\n",
    "    random_state=0,\n",
    ")\n",
    "ax[1].set_title(\"Residuals vs. Predicted Values\")\n",
    "fig.suptitle(\"Fig.9 - Plotting cross-validated predictions\", y=-0.05)\n",
    "plt.tight_layout()\n",
    "\n",
    "plt.savefig('../figures/fig_9.png');"
   ]
  }
 ],
 "metadata": {
  "kernelspec": {
   "display_name": "Python 3.10.7 64-bit",
   "language": "python",
   "name": "python3"
  },
  "language_info": {
   "codemirror_mode": {
    "name": "ipython",
    "version": 3
   },
   "file_extension": ".py",
   "mimetype": "text/x-python",
   "name": "python",
   "nbconvert_exporter": "python",
   "pygments_lexer": "ipython3",
   "version": "3.10.7"
  },
  "papermill": {
   "default_parameters": {},
   "duration": 171.211998,
   "end_time": "2022-12-17T10:57:24.125535",
   "environment_variables": {},
   "exception": null,
   "input_path": "__notebook__.ipynb",
   "output_path": "__notebook__.ipynb",
   "parameters": {},
   "start_time": "2022-12-17T10:54:32.913537",
   "version": "2.3.3"
  },
  "vscode": {
   "interpreter": {
    "hash": "26de051ba29f2982a8de78e945f0abaf191376122a1563185a90213a26c5da77"
   }
  }
 },
 "nbformat": 4,
 "nbformat_minor": 5
}
